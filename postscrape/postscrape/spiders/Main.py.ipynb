{
 "cells": [
  {
   "cell_type": "code",
   "execution_count": 1,
   "metadata": {},
   "outputs": [],
   "source": [
    "import scrapy\n",
    "from scrapy.crawler import CrawlerProcess\n",
    "from scrapy.http import FormRequest\n",
    "import pandas as pd\n"
   ]
  },
  {
   "cell_type": "code",
   "execution_count": 2,
   "metadata": {},
   "outputs": [
    {
     "name": "stdout",
     "output_type": "stream",
     "text": [
      "input the data: gamble\n"
     ]
    },
    {
     "name": "stderr",
     "output_type": "stream",
     "text": [
      "2020-06-06 17:14:53 [scrapy.utils.log] INFO: Scrapy 2.1.0 started (bot: scrapybot)\n",
      "2020-06-06 17:14:53 [scrapy.utils.log] INFO: Versions: lxml 4.5.1.0, libxml2 2.9.10, cssselect 1.1.0, parsel 1.6.0, w3lib 1.22.0, Twisted 20.3.0, Python 3.6.9 (default, Apr 18 2020, 01:56:04) - [GCC 8.4.0], pyOpenSSL 19.1.0 (OpenSSL 1.1.1g  21 Apr 2020), cryptography 2.9.2, Platform Linux-5.3.0-53-generic-x86_64-with-Ubuntu-18.04-bionic\n",
      "2020-06-06 17:14:53 [scrapy.utils.log] DEBUG: Using reactor: twisted.internet.epollreactor.EPollReactor\n",
      "2020-06-06 17:14:53 [scrapy.crawler] INFO: Overridden settings:\n",
      "{}\n",
      "2020-06-06 17:14:53 [scrapy.extensions.telnet] INFO: Telnet Password: 95d5756e6bd00ffa\n",
      "2020-06-06 17:14:53 [scrapy.middleware] INFO: Enabled extensions:\n",
      "['scrapy.extensions.corestats.CoreStats',\n",
      " 'scrapy.extensions.telnet.TelnetConsole',\n",
      " 'scrapy.extensions.memusage.MemoryUsage',\n",
      " 'scrapy.extensions.logstats.LogStats']\n",
      "2020-06-06 17:14:53 [scrapy.middleware] INFO: Enabled downloader middlewares:\n",
      "['scrapy.downloadermiddlewares.httpauth.HttpAuthMiddleware',\n",
      " 'scrapy.downloadermiddlewares.downloadtimeout.DownloadTimeoutMiddleware',\n",
      " 'scrapy.downloadermiddlewares.defaultheaders.DefaultHeadersMiddleware',\n",
      " 'scrapy.downloadermiddlewares.useragent.UserAgentMiddleware',\n",
      " 'scrapy.downloadermiddlewares.retry.RetryMiddleware',\n",
      " 'scrapy.downloadermiddlewares.redirect.MetaRefreshMiddleware',\n",
      " 'scrapy.downloadermiddlewares.httpcompression.HttpCompressionMiddleware',\n",
      " 'scrapy.downloadermiddlewares.redirect.RedirectMiddleware',\n",
      " 'scrapy.downloadermiddlewares.cookies.CookiesMiddleware',\n",
      " 'scrapy.downloadermiddlewares.httpproxy.HttpProxyMiddleware',\n",
      " 'scrapy.downloadermiddlewares.stats.DownloaderStats']\n",
      "2020-06-06 17:14:53 [scrapy.middleware] INFO: Enabled spider middlewares:\n",
      "['scrapy.spidermiddlewares.httperror.HttpErrorMiddleware',\n",
      " 'scrapy.spidermiddlewares.offsite.OffsiteMiddleware',\n",
      " 'scrapy.spidermiddlewares.referer.RefererMiddleware',\n",
      " 'scrapy.spidermiddlewares.urllength.UrlLengthMiddleware',\n",
      " 'scrapy.spidermiddlewares.depth.DepthMiddleware']\n",
      "2020-06-06 17:14:53 [scrapy.middleware] INFO: Enabled item pipelines:\n",
      "[]\n",
      "2020-06-06 17:14:53 [scrapy.core.engine] INFO: Spider opened\n",
      "2020-06-06 17:14:53 [scrapy.extensions.logstats] INFO: Crawled 0 pages (at 0 pages/min), scraped 0 items (at 0 items/min)\n",
      "2020-06-06 17:14:53 [scrapy.extensions.telnet] INFO: Telnet console listening on 127.0.0.1:6023\n",
      "2020-06-06 17:14:53 [scrapy.core.engine] DEBUG: Crawled (200) <GET https://depositonce.tu-berlin.de/> (referer: None)\n",
      "2020-06-06 17:14:54 [scrapy.core.engine] DEBUG: Crawled (200) <GET https://depositonce.tu-berlin.de/simple-search?query=gamble> (referer: https://depositonce.tu-berlin.de/)\n",
      "2020-06-06 17:14:55 [scrapy.core.engine] DEBUG: Crawled (200) <GET https://depositonce.tu-berlin.de/simple-search?query=gamble&sort_by=score&order=desc&rpp=10&etal=0&start=10> (referer: https://depositonce.tu-berlin.de/simple-search?query=gamble)\n",
      "2020-06-06 17:14:57 [scrapy.core.engine] DEBUG: Crawled (200) <GET https://depositonce.tu-berlin.de/simple-search?query=gamble&sort_by=score&order=desc&rpp=10&etal=0&start=20> (referer: https://depositonce.tu-berlin.de/simple-search?query=gamble&sort_by=score&order=desc&rpp=10&etal=0&start=10)\n",
      "2020-06-06 17:14:58 [scrapy.core.engine] DEBUG: Crawled (200) <GET https://depositonce.tu-berlin.de/simple-search?query=gamble&sort_by=score&order=desc&rpp=10&etal=0&start=30> (referer: https://depositonce.tu-berlin.de/simple-search?query=gamble&sort_by=score&order=desc&rpp=10&etal=0&start=20)\n",
      "2020-06-06 17:14:59 [scrapy.core.engine] DEBUG: Crawled (200) <GET https://depositonce.tu-berlin.de/simple-search?query=gamble&sort_by=score&order=desc&rpp=10&etal=0&start=40> (referer: https://depositonce.tu-berlin.de/simple-search?query=gamble&sort_by=score&order=desc&rpp=10&etal=0&start=30)\n",
      "2020-06-06 17:15:00 [scrapy.core.engine] DEBUG: Crawled (200) <GET https://depositonce.tu-berlin.de/simple-search?query=gamble&sort_by=score&order=desc&rpp=10&etal=0&start=50> (referer: https://depositonce.tu-berlin.de/simple-search?query=gamble&sort_by=score&order=desc&rpp=10&etal=0&start=40)\n",
      "2020-06-06 17:15:01 [scrapy.core.engine] DEBUG: Crawled (200) <GET https://depositonce.tu-berlin.de/simple-search?query=gamble&sort_by=score&order=desc&rpp=10&etal=0&start=60> (referer: https://depositonce.tu-berlin.de/simple-search?query=gamble&sort_by=score&order=desc&rpp=10&etal=0&start=50)\n",
      "2020-06-06 17:15:02 [scrapy.core.engine] DEBUG: Crawled (200) <GET https://depositonce.tu-berlin.de/simple-search?query=gamble&sort_by=score&order=desc&rpp=10&etal=0&start=70> (referer: https://depositonce.tu-berlin.de/simple-search?query=gamble&sort_by=score&order=desc&rpp=10&etal=0&start=60)\n",
      "2020-06-06 17:15:04 [scrapy.core.engine] DEBUG: Crawled (200) <GET https://depositonce.tu-berlin.de/simple-search?query=gamble&sort_by=score&order=desc&rpp=10&etal=0&start=80> (referer: https://depositonce.tu-berlin.de/simple-search?query=gamble&sort_by=score&order=desc&rpp=10&etal=0&start=70)\n",
      "2020-06-06 17:15:04 [scrapy.core.engine] DEBUG: Crawled (200) <GET https://depositonce.tu-berlin.de/simple-search?query=gamble&sort_by=score&order=desc&rpp=10&etal=0&start=90> (referer: https://depositonce.tu-berlin.de/simple-search?query=gamble&sort_by=score&order=desc&rpp=10&etal=0&start=80)\n",
      "2020-06-06 17:15:06 [scrapy.core.engine] DEBUG: Crawled (200) <GET https://depositonce.tu-berlin.de/simple-search?query=gamble&sort_by=score&order=desc&rpp=10&etal=0&start=100> (referer: https://depositonce.tu-berlin.de/simple-search?query=gamble&sort_by=score&order=desc&rpp=10&etal=0&start=90)\n",
      "2020-06-06 17:15:07 [scrapy.core.engine] DEBUG: Crawled (200) <GET https://depositonce.tu-berlin.de/simple-search?query=gamble&sort_by=score&order=desc&rpp=10&etal=0&start=110> (referer: https://depositonce.tu-berlin.de/simple-search?query=gamble&sort_by=score&order=desc&rpp=10&etal=0&start=100)\n",
      "2020-06-06 17:15:08 [scrapy.core.engine] DEBUG: Crawled (200) <GET https://depositonce.tu-berlin.de/simple-search?query=gamble&sort_by=score&order=desc&rpp=10&etal=0&start=120> (referer: https://depositonce.tu-berlin.de/simple-search?query=gamble&sort_by=score&order=desc&rpp=10&etal=0&start=110)\n",
      "2020-06-06 17:15:09 [scrapy.core.engine] DEBUG: Crawled (200) <GET https://depositonce.tu-berlin.de/simple-search?query=gamble&sort_by=score&order=desc&rpp=10&etal=0&start=130> (referer: https://depositonce.tu-berlin.de/simple-search?query=gamble&sort_by=score&order=desc&rpp=10&etal=0&start=120)\n",
      "2020-06-06 17:15:09 [scrapy.core.engine] INFO: Closing spider (finished)\n",
      "2020-06-06 17:15:09 [scrapy.statscollectors] INFO: Dumping Scrapy stats:\n",
      "{'downloader/request_bytes': 6627,\n",
      " 'downloader/request_count': 15,\n",
      " 'downloader/request_method_count/GET': 15,\n",
      " 'downloader/response_bytes': 750548,\n",
      " 'downloader/response_count': 15,\n",
      " 'downloader/response_status_count/200': 15,\n",
      " 'elapsed_time_seconds': 16.509531,\n",
      " 'finish_reason': 'finished',\n",
      " 'finish_time': datetime.datetime(2020, 6, 6, 15, 15, 9, 778171),\n",
      " 'log_count/DEBUG': 15,\n",
      " 'log_count/INFO': 10,\n",
      " 'memusage/max': 121303040,\n",
      " 'memusage/startup': 121303040,\n",
      " 'request_depth_max': 14,\n",
      " 'response_received_count': 15,\n",
      " 'scheduler/dequeued': 15,\n",
      " 'scheduler/dequeued/memory': 15,\n",
      " 'scheduler/enqueued': 15,\n",
      " 'scheduler/enqueued/memory': 15,\n",
      " 'start_time': datetime.datetime(2020, 6, 6, 15, 14, 53, 268640)}\n",
      "2020-06-06 17:15:09 [scrapy.core.engine] INFO: Spider closed (finished)\n"
     ]
    },
    {
     "name": "stdout",
     "output_type": "stream",
     "text": [
      "[{'Issue date': None, 'Title': None, 'Author': None}, {'Issue date': '26-Jun-2013', 'Title': 'Pokern um die Zukunft', 'Author': 'Edenhofer, Ottmar'}, {'Issue date': '2017', 'Title': 'On the epistemic potential of virtual realities for the historical sciences. A methodological framework', 'Author': 'Weinzierl, Stefan'}, {'Issue date': '31-Oct-2018', 'Title': 'Tracing Cross Border Web Tracking', 'Author': 'Iordanou, Costas'}, {'Issue date': '21-Feb-2019', 'Title': 'Acquisition of polymorphic uncertain data based on computer tomographic scans and integration in numerical models of adhesive bonds', 'Author': 'Drieschner, Martin'}, {'Issue date': '2017', 'Title': 'The Hôtel Drouot as the stock exchange for art. Financialization of art auctions in the nineteenth century', 'Author': 'Fuchsgruber, Lukas'}, {'Issue date': '2018', 'Title': 'Terahertz magnetic field enhancement in an asymmetric spiral metamaterial', 'Author': 'Polley, Debanjan'}, {'Issue date': '6-May-2011', 'Title': 'Vendor-Managed Inventory for High Value PartsResults from a survey among leading international manufacturing firms', 'Author': 'Franke, Peter D.'}, {'Issue date': '22-Sep-2015', 'Title': 'Modeling multiple valuation systems in human decision making', 'Author': 'Guo, Rong'}, {'Issue date': '24-May-2007', 'Title': 'Developmental Perspectives on Financial Innovation in Forward and Futures Derivatives - A Critical Discussion with Special Consideration of Islamic Banks and Financial Institutions', 'Author': 'Abdelwahab, Osama'}, {'Issue date': '21-Feb-2019', 'Title': 'Parameterization of arbitrary hole shapes using non-destructive testing and resulting stress concentration in a 2D plate with finite dimensions', 'Author': 'Drieschner, Martin'}, {'Issue date': None, 'Title': None, 'Author': None}, {'Issue date': '9-Nov-2018', 'Title': 'From Unidisciplinary to Multidisciplinary Rebound Research: Lessons Learned for Comprehensive Climate and Energy Policies', 'Author': 'Santarius, Tilman'}, {'Issue date': '2020', 'Title': 'Evaluation of different pre-treatments of chromium leather waste and their use in biogas production', 'Author': 'Scaraffuni Gomes, Carolina'}, {'Issue date': '15-Nov-2005', 'Title': 'Analysis of Compositional Conflicts in Component-Based Systems', 'Author': 'Leicher, Andreas'}, {'Issue date': '2019', 'Title': 'Neurobehavioural patterns of alcohol abuse in adolescence', 'Author': 'Matthis, Caroline'}, {'Issue date': '2016', 'Title': 'Potential of bioreactors for attenuation of herbicides and nitrate in drainage waters', 'Author': 'Krause Camilo, Björn'}, {'Issue date': '2017', 'Title': 'The Antisemitism dispositive', 'Author': 'Czollek, Maximilian'}, {'Issue date': '30-Nov-2004', 'Title': \"On the rigorous derivation of a kinetic equation for a chemical reaction taking place in a simple mechanical model system, following Boltzmann's ideas using the 'Stosszahlansatz'\", 'Author': 'Rassy, Tilman'}, {'Issue date': '2015', 'Title': 'Lithium diffusion pathways in 3R-LixTiS2: a combined neutron diffraction and computational study', 'Author': 'Wiedemann, Dennis'}, {'Issue date': '21-Nov-2017', 'Title': 'The Sound of Success: Investigating Cognitive and Behavioral Effects of Motivational Music in Sports', 'Author': 'Elvers, Paul'}, {'Issue date': 'Jan-2018', 'Title': 'Neural mechanisms mediating degrees of strategic uncertainty', 'Author': 'Nagel, Rosemarie'}, {'Issue date': None, 'Title': None, 'Author': None}, {'Issue date': '2-Jun-2014', 'Title': 'Images and messages in the embellishment of metropolitan railway stations (1850-1950)', 'Author': 'Schröder, Asta von'}, {'Issue date': '2016', 'Title': 'Modeling cognitive flexibility in alcohol dependence', 'Author': 'Balta Beylergil, Sinem'}, {'Issue date': '11-Oct-2005', 'Title': 'Thermal Properties of Gas-Hydrate-Bearing Sediments and Effects of Phase Transitions on the Transport of Heat Deduced from Temperature Logging at Mallik, NWT, Canada', 'Author': 'Henninges, Jan'}, {'Issue date': '7-Jan-2010', 'Title': 'Profil zeigen III: Gründerinnen und Gründer der TU Berlin', 'Author': None}, {'Issue date': '4-Jan-2011', 'Title': 'Indigenous Knowledge and Land Use Planning - An Example from a Mountainous Region in Rural Northern China', 'Author': 'Janz, Karin'}, {'Issue date': '16-Jun-2015', 'Title': 'Ionic co-assembly in mixtures of polysaccharides and surfactants', 'Author': 'Chiappisi, Leonardo'}, {'Issue date': '17-Apr-2017', 'Title': 'Dorsolateral prefrontal cortex contributes to the impaired behavioral adaptation in alcohol dependence', 'Author': 'Beylergil, Sinem Balta'}, {'Issue date': '14-Apr-2010', 'Title': 'Participatory Planning in Municipal Development in Thailand', 'Author': 'Chaowarat, Pondej'}, {'Issue date': '13-Sep-2011', 'Title': 'Employee Entrepreneurship: When Do Inventors Found a Spin Off? Why Have Most Spin-Off Founders Worked Previously for Small Companies?', 'Author': 'Lindenmann, Simon'}, {'Issue date': '3-Mar-2004', 'Title': 'Ursachenanalyse der PM10-Immission in urbanen Gebieten am Beispiel der Stadt Berlin', 'Author': 'Hainsch, Andreas'}, {'Issue date': None, 'Title': None, 'Author': None}, {'Issue date': '2019', 'Title': 'Crowdsourcing as a guardian of transparency, privacy, and anti-discrimination in a personalized web', 'Author': 'Iordanou, Kostas'}, {'Issue date': '2-Oct-2008', 'Title': 'Entwicklung der geburtshilflichen Versorgung – am Beispiel geburtshilflicher Interventionsraten 1984-1999 in Niedersachsen', 'Author': 'Schwarz, Clarissa'}, {'Issue date': '8-Nov-2005', 'Title': 'Aufbau einer Kernkühlstufe zur Untersuchung der kondensierten Materie bei ultratiefen Temperaturen und hohen Magnetfeldern', 'Author': 'Nuzha, Hasan'}, {'Issue date': '2017', 'Title': 'Impacts of fast water infiltration in fault zones  and water extraction on land subsidence', 'Author': 'Martinez Noguez, Abraham Isaac'}, {'Issue date': '25-Oct-2019', 'Title': 'Is the Hyporheic Zone Relevant beyond the Scientific Community?', 'Author': 'Lewandowski, Jörg'}, {'Issue date': '2016', 'Title': 'The social space of conflict', 'Author': 'Iliopoulou, Eirini'}, {'Issue date': '18-Nov-2005', 'Title': 'Clustering and Prototype Based Classification', 'Author': 'Seo, Sambu'}, {'Issue date': '26-Apr-2007', 'Title': 'Analysis and control of complex growth phenomena in physics and biology', 'Author': 'Block, Michael'}, {'Issue date': '23-Oct-2013', 'Title': 'Geodynamic evolution of the central-eastern Bayuda Desert Basement, Sudan', 'Author': 'Evuk, David'}, {'Issue date': '2016', 'Title': 'Transportmanagement in der schnelldrehenden Konsumgüterindustrie', 'Author': 'Figiel, Anna'}, {'Issue date': None, 'Title': None, 'Author': None}, {'Issue date': '9-Mar-2015', 'Title': 'Machine learning techniques for neurotechnology with applications for healthy users and patients', 'Author': 'Höhne, Johannes'}, {'Issue date': '14-Aug-2014', 'Title': 'High pressure-low temperature induced structures in dairy foams and protein model systems', 'Author': 'Volkert, Marcus'}, {'Issue date': '17-Oct-2000', 'Title': 'Chemische Charakterisierung von Alkylethoxylaten', 'Author': 'Asmussen, Corinna'}, {'Issue date': '10-Jun-2002', 'Title': 'Elektrische und strukturelle Eigenschaften gebondeter Halbleiterstrukturen', 'Author': 'Reznicek, Alexander'}, {'Issue date': '11-Nov-2015', 'Title': 'Perceived security and usage of a mobile payment application', 'Author': 'Sieger, Hanul'}, {'Issue date': '17-Dec-2001', 'Title': 'Nuyoricans: die Puertoricaner in New York und ihr Beitrag zur amerikanischen Literatur', 'Author': 'Mansfeldt, Stefan'}, {'Issue date': '23-Dec-2011', 'Title': 'A Technical and Economic Framework for End-to-End Realization of the User-Centric Telecommunication Paradigm', 'Author': 'Khan, Manzoor Ahmed'}, {'Issue date': '2016', 'Title': 'Entwicklung eines Gestaltungsmodells zur Berücksichtigung von Nachhaltigkeit bei der Ausschreibung und Vergabe logistischer Leistungen im Straßengüterverkehr', 'Author': 'Wutke, Sebastian'}, {'Issue date': '2019', 'Title': 'Open Innovation in der Logistik – Entwicklung eines Gestaltungsmodells zum Aufbau eines offenen Innovationsmanagements in logistischen Dienstleistungsuntermnehmen', 'Author': 'Reipert, Jan'}, {'Issue date': '3-Jul-2007', 'Title': 'Einfluss von Arsenverbindungen auf die Funktion der DNA-Reparaturproteine Fpg, XPA und PARP-1', 'Author': 'Walter, Ingo'}, {'Issue date': None, 'Title': None, 'Author': None}, {'Issue date': '18-Apr-2015', 'Title': 'Oxidative activation of methane over MgO based catalysts', 'Author': 'Schwach, Pierre'}, {'Issue date': '2016', 'Title': 'The influence of different types of water on the water distribution and the swelling behavior of polyelectrolyte multilayers', 'Author': 'Zerball, Maximilian'}, {'Issue date': '4-Aug-2015', 'Title': 'Characterization of nonlinear distortions in fiber optical transmission systems with mode-division multiplexing', 'Author': 'Rademacher, Georg Friedrich'}, {'Issue date': '8-Apr-2014', 'Title': 'RF-MEMS Switch Module in a 0.25 µm SiGe:C BiCMOS Process', 'Author': 'Kaynak, Mehmet'}, {'Issue date': '27-Feb-2002', 'Title': 'Phytotoxische Wirkungen von gelöster organischer Substanz (DOM) mit Paraquat, 2,4-D und Naphthalin', 'Author': 'Andersohn, Cornelia'}, {'Issue date': '16-Oct-2015', 'Title': 'Studies on cell junctions in an ex vivo human lung infection model', 'Author': 'Peter, Andrea'}, {'Issue date': '2018', 'Title': 'Experiments in risk, insurance and development', 'Author': 'Serwaah-Panin, Amma'}, {'Issue date': '2018', 'Title': 'Scanning tunneling microscopy study of strong metal-support interaction in iron oxide based model catalysts', 'Author': 'Zhang, Ke'}, {'Issue date': '2019', 'Title': 'Schätzung der Krankheitslast („Disease burden“) durch infektiöse und nicht-infektiöse Ursachen in Bezug auf Lebensmittel tierischen Ursprungs', 'Author': 'Lackner, Julia'}, {'Issue date': '2020', 'Title': 'Characterization of battery anode materials by X-ray and electron-based imaging techniques', 'Author': 'Dong, Kang'}, {'Issue date': None, 'Title': None, 'Author': None}, {'Issue date': '2019', 'Title': 'Causes, effects and solutions of operational problems in wastewater systems due to nonwoven wet wipes', 'Author': 'Mitchell, Raja-Louisa'}, {'Issue date': '15-Feb-2012', 'Title': 'The Identity of Luxury Brands', 'Author': 'Heine, Klaus'}, {'Issue date': '3-Nov-2009', 'Title': 'Polyhedral aspects of cardinality constrained combinatorial optimization problems', 'Author': 'Stephan, Rüdiger'}, {'Issue date': '2018', 'Title': 'Geschäftsmodellinnovationen in der Energiewirtschaft', 'Author': 'Dizdarevic, Husein'}, {'Issue date': '2019', 'Title': 'Entwicklung eines anwendungsorientierten Gestaltungsansatzes zur Geschäftsmodellinnovation mithilfe von smarten Produkt-Service-Systemen', 'Author': 'Mittag, Peter'}, {'Issue date': '7-Mar-2008', 'Title': 'Instrumentelle und auswertemethodische Arbeiten zur Wechselstromgeoelektrik.', 'Author': 'Radic, Tino'}, {'Issue date': '17-Nov-2015', 'Title': 'Verhaltenswirksame Gestaltung von Müdigkeitswarnungen im Fahrzeug', 'Author': 'Dreßler, Annika'}, {'Issue date': '2017', 'Title': 'Offering “more”? How store owners and their businesses build neighborhood social life', 'Author': 'Steigemann, Anna Marie'}, {'Issue date': '5-Dec-2012', 'Title': 'Die Auswirkungen von Corporate Social Responsibility und Organisationsstolz auf Mitarbeiter im Kundenkontakt', 'Author': 'Rhein, Miriam Katharina'}, {'Issue date': 'Feb-2019', 'Title': 'The Places Where Community Is Practiced', 'Author': 'Steigemann, Anna'}, {'Issue date': None, 'Title': None, 'Author': None}, {'Issue date': '4-Jan-2008', 'Title': 'Mobile Business - Schaffung eines Bewusstseins für mobile Potenziale im Geschäftsprozesskontext', 'Author': 'Scherz, Marian'}, {'Issue date': '6-Nov-2008', 'Title': \"Nickel-mediated bond activation of small alkanes and of molecular oxygen - Ligand effects and the role of the metal's formal oxidation state\", 'Author': 'Schlangen, Maria'}, {'Issue date': '23-Jul-2008', 'Title': 'Kontrolle ist gut, Vertrauen ist besser. Die Bedeutung von Vertrauen in Beratungssituationen am Beispiel der Anlageberatung', 'Author': 'Belting, Julia'}, {'Issue date': '22-Sep-2006', 'Title': 'Monte Carlo Simulation of stacked Quantum Dot Arrays', 'Author': 'Kunert, Roland'}, {'Issue date': '10-Nov-2011', 'Title': 'Aktive Schwingungskontrolle einer Spannbandbrücke mit pneumatischen Aktuatoren', 'Author': 'Bleicher, Achim'}, {'Issue date': '4-Nov-2009', 'Title': 'Etablierung eines nicht-radioaktiven Inzisionstests zur Messung der DNA-Reparaturkapazität gegenüber oxidativen DNA-Schäden und der Einfluss von Kupfer und Cadmium', 'Author': 'Hamann, Ingrit'}, {'Issue date': '3-Mar-2015', 'Title': 'Die Modulation von CD4 + T-Zellen durch Lebersinusendothelzellen', 'Author': 'Rudolph, Christine'}, {'Issue date': '1-Mar-2013', 'Title': 'Collective and critical effects in bosonic transport', 'Author': 'Vogl, Malte'}, {'Issue date': '30-Mar-2011', 'Title': 'Die transkriptionelle Regulation des Angiotensin-AT2-Rezeptorgens und des AT2R-binding-Protein-Gens', 'Author': 'Reinemund, Jana'}, {'Issue date': '12-May-2011', 'Title': 'Triply-Bonded Dimolybdenum(III) Hexaalkoxides Towards Model Catalysts', 'Author': 'Ma, Jian-Gong'}, {'Issue date': None, 'Title': None, 'Author': None}, {'Issue date': '8-Sep-2010', 'Title': 'Environmentally orientated research on solid household waste management in Khanty-Mansiysk Autonomous Okrug – Ugra', 'Author': 'Kaazke, Julia'}, {'Issue date': '13-Mar-2013', 'Title': 'Gaseous Oxo-Clusters as Model Systems for C-H Bond Activation and Oxidation Processes – Towards a Better Understanding of Catalytic Mechanisms', 'Author': 'Dietl, Nicolas Paul Richard'}, {'Issue date': '12-Apr-2012', 'Title': 'Mechanistic Studies on Metal-Mediated Bond-Activation Reactions in Gaseous Ions', 'Author': 'Butschke, Burkhard'}, {'Issue date': '2016', 'Title': 'A selection of stochastic processes emanating from natural sciences', 'Author': 'Wilke Berenguer, Maite Isabel'}, {'Issue date': '2-Sep-2003', 'Title': 'Untersuchungen zu Analytik und Verhalten natürlicher vegetabiler Gerbstoffe in Abwässern der Lederherstellung', 'Author': 'Zywicki, Britta'}, {'Issue date': '17-Jan-2014', 'Title': 'Der Einsatz kontrafaktischer Gedanken  beim Erwerb komplexer Fertigkeiten', 'Author': 'Lassalle, Ruth'}, {'Issue date': '15-Apr-2015', 'Title': 'Distributed resource allocation in wireless networks', 'Author': 'Maghsudi, Setareh'}, {'Issue date': '19-Aug-2015', 'Title': 'Der enterohepatische Kreislauf von T-Lymphozyten für die Entwicklung einer immunvermittelten Cholangitis bei chronisch entzündlichen Darmerkrankungen', 'Author': 'Seidel, Daniel'}, {'Issue date': '2017', 'Title': 'Towards successful business models of cloud service providers through cooperation-based solutions', 'Author': 'Labes, Stine'}, {'Issue date': '2017', 'Title': 'Challenges of the Energiewende from a policy analysis perspective', 'Author': 'Joas, Fabian'}, {'Issue date': None, 'Title': None, 'Author': None}, {'Issue date': '2017', 'Title': 'Automatic detection and assessment of swallowing based on bioimpedance and electromyography measurements', 'Author': 'Nahrstaedt, Holger'}, {'Issue date': '2017', 'Title': 'Assessment of household energy access: the Progress out of Energy Poverty Index (PEPI) toolkit for the microfinance sector', 'Author': 'Realpe Carrillo, Natalia'}, {'Issue date': '2018', 'Title': 'Stammesspezifische Unterschiede in der analgetischen Wirkung von Buprenorphin bei der Maus', 'Author': 'Rudeck, Juliane'}, {'Issue date': '2017', 'Title': 'Interfacial properties of saponins from Quillaja saponaria Molina and their functionality in dispersed systems', 'Author': 'Böttcher, Sandra'}, {'Issue date': '2019', 'Title': 'Response anomalies in discrete choice experiments for environmental valuation', 'Author': 'Oehlmann, Malte'}, {'Issue date': '2019', 'Title': 'Prozessierung und Anwendung SiO2 basierter Lichtleiter für die optische UVC-Gassensorik', 'Author': 'Elmlinger, Philipp Simon'}, {'Issue date': '2019', 'Title': 'Information flow in stochastic optimal control and a stochastic representation theorem for Meyer-measurable processes', 'Author': 'Beßlich, David'}, {'Issue date': '3-Apr-2008', 'Title': 'Die wirtschaftliche und kulturelle Wirkung nationaler europäischer Filmförderpolitik am Beispiel von Deutschland und Großbritannien', 'Author': 'Schuenemann, Ingo'}, {'Issue date': '14-Jul-2010', 'Title': 'Verfahren für die Systembewertung und Ableitung der Optimierungspotenziale für Entsorgungssysteme am Beispiel eines polnischen Zweckverbandes', 'Author': 'Kapsa, Karolina'}, {'Issue date': '19-Jul-2005', 'Title': 'Wozu all das Theater?', 'Author': 'Ronke, Astrid'}, {'Issue date': None, 'Title': None, 'Author': None}, {'Issue date': '15-Feb-2010', 'Title': 'Methods for Evaluation of Waste Management in Thailand in Consideration of Policy, Environmental Impact and  Economics', 'Author': 'Chanchampee, Poonsak'}, {'Issue date': '16-Oct-2014', 'Title': 'Unraveling the paradox of external knowledge sourcing in an era of open innovation, appropriation, and organizational learning', 'Author': 'Lorenz, Annika'}, {'Issue date': '2018', 'Title': '3 Essays on art ecommerce in the light of western commercial art markets', 'Author': 'Bayer, Katharina'}, {'Issue date': '2019', 'Title': 'Efficient implementation of advanced molecularly-based equation of state models out of the documentation level', 'Author': 'Merchan Restrepo, Victor Alejandro'}, {'Issue date': '2019', 'Title': 'Three essays on the economics of merger control', 'Author': 'Affeldt, Pauline Luise'}, {'Issue date': '2019', 'Title': 'Direct utilization of methane: from mechanism understanding to process optimization', 'Author': 'Parishan, Samira'}, {'Issue date': '2019', 'Title': 'Röntgenabsorptionsspektroskopie im Labor', 'Author': 'Schlesiger, Christopher Philip'}, {'Issue date': '23-Mar-2009', 'Title': 'Sustainability Management in Clean Development Mechanism (CDM) Project Activities', 'Author': 'Müller-Pelzer, Felicia'}, {'Issue date': '4-Nov-2009', 'Title': 'Culture and Information Security - Outsourcing IT Services in China', 'Author': 'Glaser, Timo'}, {'Issue date': '18-Nov-2009', 'Title': 'Music Out of Nothing? A Rigorous Approach to Algorithmic Composition by Iannis Xenakis', 'Author': 'Hoffmann, Peter'}, {'Issue date': None, 'Title': None, 'Author': None}, {'Issue date': '7-May-2010', 'Title': 'Determinanten der Innovationsadoptionsabsicht bei chinesischen Konsumenten - Eine theoretische und empirische Analyse am Beispiel einer Smartphone-Innovation', 'Author': 'Götze, Franziska'}, {'Issue date': '15-Feb-2011', 'Title': 'System Biology of Aging -- Exploring the System Nature of Aging employing Reliability Theory', 'Author': 'Mao, Lei'}, {'Issue date': '3-Aug-2011', 'Title': 'Towards a suitable health insurance system in Syria: Options and the necessary procedures before implementation, based on qualitative analysis and international experiences', 'Author': 'Mershed, Mania'}, {'Issue date': '24-Jul-2014', 'Title': 'Sozio-ökonomische Einflüsse auf das Bildungswesen im Iran', 'Author': 'Azabdaftari, Davood'}, {'Issue date': '2-Oct-2008', 'Title': 'Die Struktur der Handgesten im indischen Tanz nach dem „Nāṭya-Śāstra“ des Bharata (NŚBh)', 'Author': 'Müller, Biliana'}, {'Issue date': '27-Jan-2006', 'Title': 'The Invention of the Historic City - Building the Past in East Berlin 1970-1990', 'Author': 'Urban, Florian'}, {'Issue date': '2017', 'Title': 'Reforming the European Union Emissions Trading System (EU ETS)', 'Author': 'Grosjean, Godefroy'}, {'Issue date': '2-Oct-2015', 'Title': 'Evolution of lower crustal rocks', 'Author': 'Karmakar, Shreya'}, {'Issue date': '2017', 'Title': 'Medical image analysis of gastric cancer in digital histopathology: methods, applications and challenges', 'Author': 'Sharma, Harshita'}, {'Issue date': '2016', 'Title': 'Präferenzmuster von Investoren bei Immobilieninvestitionsentscheidungen', 'Author': 'Petersen, Peer'}, {'Issue date': None, 'Title': None, 'Author': None}, {'Issue date': '2017', 'Title': 'Präferenzmuster von Investoren bei Immobilieninvestitionsentscheidungen', 'Author': 'Petersen, Peer'}, {'Issue date': '25-Aug-2010', 'Title': 'Determinanten für Gesundheit und Krankheit in regionaler Perspektive – Analyse zum Einfluss von Sozioökonomie, Umwelt sowie medizinischer Versorgung auf den Gesundheitszustand der Bevölkerung', 'Author': 'Latzitis, Ninon'}, {'Issue date': '2015', 'Title': 'Innovating in public', 'Author': 'Schulte-Römer, Nona'}, {'Issue date': '5-Jul-2001', 'Title': 'Traditional agroforestry and ecological, social, and economic sustainability on small tropical islands', 'Author': 'Stubenvoll, Stefan'}, {'Issue date': '28-Aug-2007', 'Title': 'Information Dynamics - Informationen, deren Auswirkungen und Managemenent in Wertschöpfungsketten', 'Author': 'Tangermann, Ole'}, {'Issue date': '14-Oct-2005', 'Title': 'Altersvorsorge: Theorie und Empirie zur Förderung freiwilligen Vorsorgesparens', 'Author': 'Leinert, Johannes'}, {'Issue date': '2020', 'Title': 'Erwerb und Anwendung kausalen Wissens', 'Author': 'Drewitz, Uwe'}, {'Issue date': '2016', 'Title': 'The economics of vehicle CO2 emissions standards and fuel economy regulations', 'Author': 'Elmer, Carl-Friedrich'}, {'Issue date': '28-Dec-2004', 'Title': 'Methodologische Aspekte der Organisationsmodellierung in der Wirtschaftsinformatik', 'Author': 'Wyssusek, Boris'}, {'Issue date': '2019', 'Title': 'Valuing wastes', 'Author': 'Krause, Ariane'}, {'Issue date': None, 'Title': None, 'Author': None}, {'Issue date': '2016', 'Title': 'Share of open access journal articles published by Berlin authors from 2013 to 2015: data', 'Author': 'Voigt, Michaela'}, {'Issue date': '2-Sep-2003', 'Title': 'Eintrags- und Wirkungspfade von Schwermetallen und Arsen in Flußaue-Systemen am Beispiel der Mulde zwischen Bitterfeld/Wolfen und Dessau, Sachsen-Anhalt', 'Author': 'Brandt, Oliver'}, {'Issue date': '2018', 'Title': 'Share of open access journal articles published by Berlin authors from 2016: data', 'Author': 'Voigt, Michaela'}, {'Issue date': '3-Apr-2007', 'Title': 'DIE KLIMA- UND UMWELTGESCHICHTE DER SÜDCHINESISCHEN YANGTZE PLATTFORM IM NEOPROTEROZOIKUM UND FRÜHEN KAMBRIUM:HYDROTHERMAL AKTIVE, DICHTESTRATIFIZIERTE EPIKONTINENTALBECKEN, DER SCHLÜSSEL ZUM VERSTÄNDNIS DER „KAMBRISCHEN EXPLOSION“?', 'Author': 'Wallis, Eckart'}, {'Issue date': '2019', 'Title': 'Share of open access journal articles published by Berlin authors from 2017: data', 'Author': 'Voigt, Michaela'}]\n"
     ]
    }
   ],
   "source": [
    "class PostsSpider(scrapy.Spider):\n",
    "    name = \"posts\"\n",
    "    \n",
    "\n",
    "    start_urls = [\n",
    "        'https://depositonce.tu-berlin.de/'\n",
    "    ]\n",
    "\n",
    "    def __init__(self, query):\n",
    "        self.query = query\n",
    "        self.arr=[]\n",
    "        \n",
    "\n",
    "    def parse(self, response):\n",
    "        return FormRequest.from_response(response,\n",
    "                                         formdata={'query': self.query},\n",
    "                                         callback=self.search_result\n",
    "                                         )\n",
    "    \n",
    "    \n",
    "        \n",
    "    \n",
    "\n",
    "    def search_result(self, response):\n",
    "        \n",
    "        for post in response.css('.table tr'):\n",
    "            \n",
    "            self.arr.append(\n",
    "                {\n",
    "                    'Issue date' : post.css('td:nth-child(2)::text').get(),\n",
    "                    'Title' : post.css('td:nth-child(3) a::text').get(),\n",
    "                    'Author' : post.css('td:nth-child(4) a::text').get()\n",
    "                }\n",
    "            \n",
    "            )\n",
    "            \n",
    "        next_page = response.css('.pagination li:last-child a::attr(href)').get()\n",
    "        if next_page is not None:\n",
    "            next_page = response.urljoin(next_page)\n",
    "            yield scrapy.Request(next_page, callback = self.search_result)\n",
    "        else:\n",
    "            \n",
    "            df = pd.DataFrame(self.arr)\n",
    "            yield df\n",
    "             \n",
    "            \n",
    "   \n",
    "            \n",
    "\n",
    "        \n",
    "\n",
    "def main(params):\n",
    "    process = CrawlerProcess()\n",
    "    process.crawl(PostsSpider, query = params)\n",
    "    \n",
    "    process.start()\n",
    "    \n",
    "\n",
    "g = input(\"input the data: \")\n",
    "main(g)       "
   ]
  },
  {
   "cell_type": "code",
   "execution_count": null,
   "metadata": {
    "scrolled": true
   },
   "outputs": [],
   "source": [
    "\n"
   ]
  },
  {
   "cell_type": "code",
   "execution_count": null,
   "metadata": {},
   "outputs": [],
   "source": []
  },
  {
   "cell_type": "code",
   "execution_count": null,
   "metadata": {},
   "outputs": [],
   "source": []
  }
 ],
 "metadata": {
  "kernelspec": {
   "display_name": "Python 3",
   "language": "python",
   "name": "python3"
  },
  "language_info": {
   "codemirror_mode": {
    "name": "ipython",
    "version": 3
   },
   "file_extension": ".py",
   "mimetype": "text/x-python",
   "name": "python",
   "nbconvert_exporter": "python",
   "pygments_lexer": "ipython3",
   "version": "3.6.9"
  }
 },
 "nbformat": 4,
 "nbformat_minor": 2
}
