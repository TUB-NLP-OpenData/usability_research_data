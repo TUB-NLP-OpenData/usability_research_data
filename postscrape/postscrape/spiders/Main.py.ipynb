{
 "cells": [
  {
   "cell_type": "code",
   "execution_count": 1,
   "metadata": {},
   "outputs": [],
   "source": [
    "import scrapy\n",
    "from scrapy.crawler import CrawlerProcess\n",
    "from scrapy.http import FormRequest\n",
    "import pandas as pd\n"
   ]
  },
  {
   "cell_type": "code",
   "execution_count": 2,
   "metadata": {},
   "outputs": [
    {
     "name": "stdout",
     "output_type": "stream",
     "text": [
      "input the data: gps\n"
     ]
    },
    {
     "name": "stderr",
     "output_type": "stream",
     "text": [
      "2020-06-06 13:33:52 [scrapy.utils.log] INFO: Scrapy 2.1.0 started (bot: scrapybot)\n",
      "2020-06-06 13:33:52 [scrapy.utils.log] INFO: Versions: lxml 4.5.1.0, libxml2 2.9.10, cssselect 1.1.0, parsel 1.6.0, w3lib 1.22.0, Twisted 20.3.0, Python 3.6.9 (default, Apr 18 2020, 01:56:04) - [GCC 8.4.0], pyOpenSSL 19.1.0 (OpenSSL 1.1.1g  21 Apr 2020), cryptography 2.9.2, Platform Linux-5.3.0-53-generic-x86_64-with-Ubuntu-18.04-bionic\n",
      "2020-06-06 13:33:52 [scrapy.utils.log] DEBUG: Using reactor: twisted.internet.epollreactor.EPollReactor\n",
      "2020-06-06 13:33:52 [scrapy.crawler] INFO: Overridden settings:\n",
      "{}\n",
      "2020-06-06 13:33:52 [scrapy.extensions.telnet] INFO: Telnet Password: e46dd50db40f811f\n",
      "2020-06-06 13:33:52 [scrapy.middleware] INFO: Enabled extensions:\n",
      "['scrapy.extensions.corestats.CoreStats',\n",
      " 'scrapy.extensions.telnet.TelnetConsole',\n",
      " 'scrapy.extensions.memusage.MemoryUsage',\n",
      " 'scrapy.extensions.logstats.LogStats']\n",
      "2020-06-06 13:33:52 [scrapy.middleware] INFO: Enabled downloader middlewares:\n",
      "['scrapy.downloadermiddlewares.httpauth.HttpAuthMiddleware',\n",
      " 'scrapy.downloadermiddlewares.downloadtimeout.DownloadTimeoutMiddleware',\n",
      " 'scrapy.downloadermiddlewares.defaultheaders.DefaultHeadersMiddleware',\n",
      " 'scrapy.downloadermiddlewares.useragent.UserAgentMiddleware',\n",
      " 'scrapy.downloadermiddlewares.retry.RetryMiddleware',\n",
      " 'scrapy.downloadermiddlewares.redirect.MetaRefreshMiddleware',\n",
      " 'scrapy.downloadermiddlewares.httpcompression.HttpCompressionMiddleware',\n",
      " 'scrapy.downloadermiddlewares.redirect.RedirectMiddleware',\n",
      " 'scrapy.downloadermiddlewares.cookies.CookiesMiddleware',\n",
      " 'scrapy.downloadermiddlewares.httpproxy.HttpProxyMiddleware',\n",
      " 'scrapy.downloadermiddlewares.stats.DownloaderStats']\n",
      "2020-06-06 13:33:52 [scrapy.middleware] INFO: Enabled spider middlewares:\n",
      "['scrapy.spidermiddlewares.httperror.HttpErrorMiddleware',\n",
      " 'scrapy.spidermiddlewares.offsite.OffsiteMiddleware',\n",
      " 'scrapy.spidermiddlewares.referer.RefererMiddleware',\n",
      " 'scrapy.spidermiddlewares.urllength.UrlLengthMiddleware',\n",
      " 'scrapy.spidermiddlewares.depth.DepthMiddleware']\n",
      "2020-06-06 13:33:52 [scrapy.middleware] INFO: Enabled item pipelines:\n",
      "[]\n",
      "2020-06-06 13:33:52 [scrapy.core.engine] INFO: Spider opened\n",
      "2020-06-06 13:33:52 [scrapy.extensions.logstats] INFO: Crawled 0 pages (at 0 pages/min), scraped 0 items (at 0 items/min)\n",
      "2020-06-06 13:33:52 [scrapy.extensions.telnet] INFO: Telnet console listening on 127.0.0.1:6023\n",
      "2020-06-06 13:33:52 [scrapy.core.engine] DEBUG: Crawled (200) <GET https://depositonce.tu-berlin.de/> (referer: None)\n",
      "2020-06-06 13:33:53 [scrapy.core.engine] DEBUG: Crawled (200) <GET https://depositonce.tu-berlin.de/simple-search?query=gps> (referer: https://depositonce.tu-berlin.de/)\n"
     ]
    },
    {
     "name": "stdout",
     "output_type": "stream",
     "text": [
      "                  Author   Issue date  \\\n",
      "0                   None         None   \n",
      "1          John, Steffen         2016   \n",
      "2            Mai, Enrico   4-Mar-2005   \n",
      "3   Przestrzelski, Paweł         2016   \n",
      "4           Li, Xingxing  21-Aug-2015   \n",
      "5        Shangguan, Ming   8-Jul-2014   \n",
      "6   Beckheinrich, Jamila         2016   \n",
      "7            Lu, Cuixian         2016   \n",
      "8         Moreno, Marcos  12-Aug-2010   \n",
      "9                Xu, Yan         2016   \n",
      "10         Wang, Jungang  15-May-2019   \n",
      "\n",
      "                                                Title  \n",
      "0                                                None  \n",
      "1   Deriving incline for street networks from volu...  \n",
      "2   Spektrale Untersuchung GPS-ähnlicher Orbits un...  \n",
      "3   The integrated use of GPS/GLONASS observations...  \n",
      "4   Real-time high rate GNSS techniques for earthq...  \n",
      "5   Analysis and derivation of the spatial and tem...  \n",
      "6                                   GPS reflectometry  \n",
      "7   Real-time sensing of atmospheric water vapor f...  \n",
      "8   Active deformation in the southern Andes from ...  \n",
      "9   GNSS precise point positioning with applicatio...  \n",
      "10  Retrieving Precipitable Water Vapor From Shipb...  \n"
     ]
    },
    {
     "name": "stderr",
     "output_type": "stream",
     "text": [
      "2020-06-06 13:33:54 [scrapy.core.engine] DEBUG: Crawled (200) <GET https://depositonce.tu-berlin.de/simple-search?query=gps&sort_by=score&order=desc&rpp=10&etal=0&start=10> (referer: https://depositonce.tu-berlin.de/simple-search?query=gps)\n"
     ]
    },
    {
     "name": "stdout",
     "output_type": "stream",
     "text": [
      "                 Author   Issue date  \\\n",
      "0                  None         None   \n",
      "1               Min, Li         2020   \n",
      "2          Tian, Yumiao         2016   \n",
      "3            Zhou, Feng   3-Apr-2017   \n",
      "4     Bischoff, Joschka         2015   \n",
      "5            Jiang, Nan         2019   \n",
      "6   Van den Heede, Koen     Apr-2017   \n",
      "7       Hädrich, Markus         2016   \n",
      "8            Jiang, Nan  25-Apr-2019   \n",
      "9           Wang, Liang  23-Feb-2018   \n",
      "10              Li, Min  25-Apr-2019   \n",
      "\n",
      "                                                Title  \n",
      "0                                                None  \n",
      "1   Multi-GNSS precise position, velocity, and acc...  \n",
      "2   Online estimation of inter-frequency/system ph...  \n",
      "3   The Impact of Estimating High-Resolution Tropo...  \n",
      "4   Analysis of Berlin's taxi services by explorin...  \n",
      "5   GNSS inter-system bias estimation, modeling, a...  \n",
      "6   The 2016 proposal for the reorganisation of ur...  \n",
      "7   A Mobile App for Geolocalized, Dynamic Binaura...  \n",
      "8   Assessment of Different Stochastic Models for ...  \n",
      "9   Validation and Assessment of Multi-GNSS Real-T...  \n",
      "10  Improving the Performance of Multi-GNSS (Globa...  \n"
     ]
    },
    {
     "name": "stderr",
     "output_type": "stream",
     "text": [
      "2020-06-06 13:33:54 [scrapy.core.engine] DEBUG: Crawled (200) <GET https://depositonce.tu-berlin.de/simple-search?query=gps&sort_by=score&order=desc&rpp=10&etal=0&start=20> (referer: https://depositonce.tu-berlin.de/simple-search?query=gps&sort_by=score&order=desc&rpp=10&etal=0&start=10)\n"
     ]
    },
    {
     "name": "stdout",
     "output_type": "stream",
     "text": [
      "                  Author   Issue date  \\\n",
      "0                   None         None   \n",
      "1             He, Kaifei  27-Mar-2015   \n",
      "2       Dahle, Christoph  11-Sep-2019   \n",
      "3             Zheng, Kai  25-Sep-2019   \n",
      "4   Strümpfel, Christoph   5-Jan-2020   \n",
      "5    Balidakis, Kyriakos  20-Jun-2018   \n",
      "6         Jiang, Xinyuan   5-Nov-2019   \n",
      "7                Liu, Li         2019   \n",
      "8         Falck, Carsten         2018   \n",
      "9     Sundmacher, Leonie         2013   \n",
      "10     Schüttpelz, André         2018   \n",
      "\n",
      "                                                Title  \n",
      "0                                                None  \n",
      "1   GNSS kinematic position and velocity determina...  \n",
      "2   The GFZ GRACE RL06 Monthly Gravity Field Time ...  \n",
      "3   Mitigation of Unmodeled Error to Improve the A...  \n",
      "4   Assured Multi-Mode Navigation for Urban Operat...  \n",
      "5   Estimating integrated water vapor trends from ...  \n",
      "6   A Decentralized Processing Schema for Efficien...  \n",
      "7   Frame tie based on VLBI observations to near-f...  \n",
      "8   Preparation of the satellite receiving station...  \n",
      "9   Waiting times in the ambulatory sector - the c...  \n",
      "10  Auslegung und Validierung der Leistungsfähigke...  \n"
     ]
    },
    {
     "name": "stderr",
     "output_type": "stream",
     "text": [
      "2020-06-06 13:33:55 [scrapy.core.engine] DEBUG: Crawled (200) <GET https://depositonce.tu-berlin.de/simple-search?query=gps&sort_by=score&order=desc&rpp=10&etal=0&start=30> (referer: https://depositonce.tu-berlin.de/simple-search?query=gps&sort_by=score&order=desc&rpp=10&etal=0&start=20)\n"
     ]
    },
    {
     "name": "stdout",
     "output_type": "stream",
     "text": [
      "                                Author   Issue date  \\\n",
      "0                                 None         None   \n",
      "1                      Gelze, Johannes   4-Mar-2015   \n",
      "2                    Lorkowski, Stefan  15-Jun-2009   \n",
      "3                      Zilske, Michael         2011   \n",
      "4                       Gramann, Klaus  13-Feb-2017   \n",
      "5   Borgaonkar, Ravishankar Bhaskarrao  24-May-2013   \n",
      "6                      Zilske, Michael         2016   \n",
      "7                         Zus, Florian  21-Mar-2019   \n",
      "8                     Weischede, Frank   9-May-2007   \n",
      "9                        Zhu, Yongchao  12-Jul-2017   \n",
      "10                      Schulz, Holger  10-Aug-2004   \n",
      "\n",
      "                                                Title  \n",
      "0                                                None  \n",
      "1   Entwicklung eines MEMS-basierten  integrierten...  \n",
      "2   Fusion von Verkehrsdaten mit Mikromodellen am ...  \n",
      "3                OpenStreetMap for traffic simulation  \n",
      "4   Modified navigation instructions for spatial n...  \n",
      "5   Security Analysis of Femtocell-Enabled Cellula...  \n",
      "6                                     Freight Traffic  \n",
      "7   Improving GNSS Zenith Wet Delay Interpolation ...  \n",
      "8     Fehlerminimale Navigation lunarer Raumfahrzeuge  \n",
      "9   Sea Ice Detection Based on Differential Delay-...  \n",
      "10  Entwicklung von Verfahrensschutzraum für satel...  \n"
     ]
    },
    {
     "name": "stderr",
     "output_type": "stream",
     "text": [
      "2020-06-06 13:33:56 [scrapy.core.engine] DEBUG: Crawled (200) <GET https://depositonce.tu-berlin.de/simple-search?query=gps&sort_by=score&order=desc&rpp=10&etal=0&start=40> (referer: https://depositonce.tu-berlin.de/simple-search?query=gps&sort_by=score&order=desc&rpp=10&etal=0&start=30)\n"
     ]
    },
    {
     "name": "stdout",
     "output_type": "stream",
     "text": [
      "                 Author   Issue date  \\\n",
      "0                  None         None   \n",
      "1   Balidakis, Kyriakos         2019   \n",
      "2    Ozegowski, Susanne  16-May-2013   \n",
      "3     Gorges, Christian         2017   \n",
      "4      Rusch, Christian   8-May-2012   \n",
      "5         Poese, Ingmar  28-May-2013   \n",
      "6     Donner, Christian         2018   \n",
      "7       Höffken, Stefan  12-May-2009   \n",
      "8         Agarwal, Amit  27-Jun-2019   \n",
      "9          Zus, Florian  28-Dec-2018   \n",
      "10         Kamal, Sumon  20-Jan-2020   \n",
      "\n",
      "                                                Title  \n",
      "0                                                None  \n",
      "1   On the development and impact of propagation d...  \n",
      "2   Regionale Unterschiede in der ambulanten Verso...  \n",
      "3              Customer loads of two-wheeled vehicles  \n",
      "4   Untersuchung der Datensicherheit selbstkonfigu...  \n",
      "5     Towards Collaborative Internet Content Delivery  \n",
      "6   Efficient Bayesian Inference of Sigmoidal Gaus...  \n",
      "7                    Google Earth in der Stadtplanung  \n",
      "8   Calibration of choice model parameters in a tr...  \n",
      "9   Estimating the Impact of Global Navigation Sat...  \n",
      "10  Evaluation of E Layer Dominated Ionosphere Eve...  \n"
     ]
    },
    {
     "name": "stderr",
     "output_type": "stream",
     "text": [
      "2020-06-06 13:33:56 [scrapy.core.engine] DEBUG: Crawled (200) <GET https://depositonce.tu-berlin.de/simple-search?query=gps&sort_by=score&order=desc&rpp=10&etal=0&start=50> (referer: https://depositonce.tu-berlin.de/simple-search?query=gps&sort_by=score&order=desc&rpp=10&etal=0&start=40)\n"
     ]
    },
    {
     "name": "stdout",
     "output_type": "stream",
     "text": [
      "                 Author   Issue date  \\\n",
      "0                  None         None   \n",
      "1         Dörries, René  10-Aug-2004   \n",
      "2         Rechel, Bernd  26-Feb-2016   \n",
      "3          Lu, Xiaofeng         2013   \n",
      "4   Theilig, Max-Marcel   9-Dec-2019   \n",
      "5       Balmer, Michael         2009   \n",
      "6       Chmiela, Stefan         2019   \n",
      "7       Madzak, Matthis         2016   \n",
      "8      Meschede, Thomas         2019   \n",
      "9           Sui, Lichun  12-Jul-2002   \n",
      "10        Paulsen, Mads  21-May-2019   \n",
      "\n",
      "                                                Title  \n",
      "0                                                None  \n",
      "1   Die Entwicklung von Verfahrenskriterien für Pr...  \n",
      "2   Public reporting on quality, waiting times and...  \n",
      "3   A Location Prediction Algorithm for Mobile Com...  \n",
      "4   Employing Environmental Data and Machine Learn...  \n",
      "5        MATSim-T : Architecture and Simulation Times  \n",
      "6   Towards exact molecular dynamics simulations w...  \n",
      "7   High-frequency earth rotation variations deduc...  \n",
      "8   Design automation and performance analysis of ...  \n",
      "9   Analyse von Laserscannerdaten mit digitalen Bi...  \n",
      "10  Large-Scale Assignment of Congested Bicycle Tr...  \n"
     ]
    },
    {
     "name": "stderr",
     "output_type": "stream",
     "text": [
      "2020-06-06 13:33:57 [scrapy.core.engine] DEBUG: Crawled (200) <GET https://depositonce.tu-berlin.de/simple-search?query=gps&sort_by=score&order=desc&rpp=10&etal=0&start=60> (referer: https://depositonce.tu-berlin.de/simple-search?query=gps&sort_by=score&order=desc&rpp=10&etal=0&start=50)\n"
     ]
    },
    {
     "name": "stdout",
     "output_type": "stream",
     "text": [
      "                     Author   Issue date  \\\n",
      "0                      None         None   \n",
      "1         Bender, Max Ernst         2015   \n",
      "2                Nagel, Kai         2015   \n",
      "3             Deva, Bersant         2017   \n",
      "4        Matalqah, Mohammed         2015   \n",
      "5         Victor, Friedhelm         2018   \n",
      "6       Maciejewski, Michał  10-Mar-2016   \n",
      "7   Bischoff, Joschka Felix         2019   \n",
      "8           Gordon, Karsten         2018   \n",
      "9          Seliger, Günther         2003   \n",
      "10        Heinrichs, Robert         2018   \n",
      "\n",
      "                                                Title  \n",
      "0                                                None  \n",
      "1   Using co-authorship networks to map and analys...  \n",
      "2   Analyse der Wirkungen von Straßenbenützungsgeb...  \n",
      "3   STEAM: A Platform for Scalable Spatiotemporal ...  \n",
      "4   Development and experiments with the Ionospekt...  \n",
      "5   Geofences on the Blockchain: Enabling Decentra...  \n",
      "6   Large-scale microscopic simulation of taxi ser...  \n",
      "7   Mobility as a service and the transition to dr...  \n",
      "8   A flexible attitude control system for three-a...  \n",
      "9   Enhanced product functionality with life cycle...  \n",
      "10  Lernen von Sensormesswerten zur Verbesserung v...  \n"
     ]
    },
    {
     "name": "stderr",
     "output_type": "stream",
     "text": [
      "2020-06-06 13:33:58 [scrapy.core.engine] DEBUG: Crawled (200) <GET https://depositonce.tu-berlin.de/simple-search?query=gps&sort_by=score&order=desc&rpp=10&etal=0&start=70> (referer: https://depositonce.tu-berlin.de/simple-search?query=gps&sort_by=score&order=desc&rpp=10&etal=0&start=60)\n"
     ]
    },
    {
     "name": "stdout",
     "output_type": "stream",
     "text": [
      "                  Author   Issue date  \\\n",
      "0                   None         None   \n",
      "1      Bischoff, Joschka  28-Apr-2017   \n",
      "2    Choudhury, Nirmalya         2009   \n",
      "3   Hülsmann, Friederike         2011   \n",
      "4      Asgarimehr, Milad   3-May-2019   \n",
      "5      Gorges, Christian         2018   \n",
      "6          Krcmar, Marko   1-Feb-2011   \n",
      "7        Grau, Sebastian         2019   \n",
      "8     Taubenböck, Hannes         2009   \n",
      "9       Pross, Christoph   6-Sep-2018   \n",
      "10       Joswig, Michael         2001   \n",
      "\n",
      "                                                Title  \n",
      "0                                                None  \n",
      "1   Barrierefreie Taxis für Berlin: Bedarfsermittl...  \n",
      "2                     Panchayat Irrigation Management  \n",
      "3   Towards a multi-agent based modeling approach ...  \n",
      "4   Evaluating Impact of Rain Attenuation on Space...  \n",
      "5   Identifying customer usage profiles of two-whe...  \n",
      "6   Design of CMOS Mixers and Receiver Integration...  \n",
      "7   Contributions to the advance of the integratio...  \n",
      "8   Last-Mile preparation for a potential disaster...  \n",
      "9   Quality and resource efficiency in hospital se...  \n",
      "10     Vertex-facet incidences of unbounded polyhedra  \n"
     ]
    },
    {
     "name": "stderr",
     "output_type": "stream",
     "text": [
      "2020-06-06 13:33:58 [scrapy.core.engine] DEBUG: Crawled (200) <GET https://depositonce.tu-berlin.de/simple-search?query=gps&sort_by=score&order=desc&rpp=10&etal=0&start=80> (referer: https://depositonce.tu-berlin.de/simple-search?query=gps&sort_by=score&order=desc&rpp=10&etal=0&start=70)\n"
     ]
    },
    {
     "name": "stdout",
     "output_type": "stream",
     "text": [
      "                 Author   Issue date  \\\n",
      "0                  None         None   \n",
      "1       Zilske, Michael         2018   \n",
      "2   Rieckenberg, Thomas  22-Apr-2004   \n",
      "3    Behrend, Ferdinand         2017   \n",
      "4     Bischoff, Joschka         2018   \n",
      "5       Ziemke, Dominik         2018   \n",
      "6   Kickhöfer, Benjamin         2016   \n",
      "7     Abu Hanieh, Ahmad         2013   \n",
      "8           Gaal, Peter         2011   \n",
      "9       Ziemke, Dominik         2017   \n",
      "10  Maciejewski, Michał         2017   \n",
      "\n",
      "                                                Title  \n",
      "0                                                None  \n",
      "1        Transparent and versatile traffic simulation  \n",
      "2                   Telematik im Schienengüterverkehr  \n",
      "3                      Advanced Approach Light System  \n",
      "4   Simulation-based optimization of service areas...  \n",
      "5   Bicycle traffic and its interaction with motor...  \n",
      "6                                   Santiago de Chile  \n",
      "7   The role of resource efficiency in engineering...  \n",
      "8     Major challenges ahead for Hungarian healthcare  \n",
      "9   Modeling bicycle traffic in an agent-based tra...  \n",
      "10  Towards a Testbed for Dynamic Vehicle Routing ...  \n"
     ]
    },
    {
     "name": "stderr",
     "output_type": "stream",
     "text": [
      "2020-06-06 13:33:59 [scrapy.core.engine] DEBUG: Crawled (200) <GET https://depositonce.tu-berlin.de/simple-search?query=gps&sort_by=score&order=desc&rpp=10&etal=0&start=90> (referer: https://depositonce.tu-berlin.de/simple-search?query=gps&sort_by=score&order=desc&rpp=10&etal=0&start=80)\n"
     ]
    },
    {
     "name": "stdout",
     "output_type": "stream",
     "text": [
      "                     Author   Issue date  \\\n",
      "0                      None         None   \n",
      "1             Exner, Konrad         2015   \n",
      "2       Maciejewski, Michał         2015   \n",
      "3            Malkin, Zinovy     Dec-2018   \n",
      "4           Behling, Robert         2014   \n",
      "5          Eckardt, Andreas  26-Nov-2002   \n",
      "6            Baumann, Jonas         2017   \n",
      "7   Manolakis, Konstantinos  30-Mar-2015   \n",
      "8            Demirel, Hande   1-Mar-2002   \n",
      "9        Thomsen, Christian         2017   \n",
      "10         Schönemann, René         2016   \n",
      "\n",
      "                                                Title  \n",
      "0                                                None  \n",
      "1   Validation of Product-Service Systems in Virtu...  \n",
      "2   Large-scale Microscopic Simulation of Taxi Ser...  \n",
      "3   On the eve of the 100th anniversary of IAU Com...  \n",
      "4   Robust automated image co-registration of opti...  \n",
      "5   Design und Verifikation der ersten digitalen k...  \n",
      "6   Advanced X-ray analytical methods for the char...  \n",
      "7        Impairments in coordinated cellular networks  \n",
      "8   An Integrated Approach to the Conceptual Data ...  \n",
      "9                             Unsere digitale Zukunft  \n",
      "10  Scheduling rail freight node operations throug...  \n"
     ]
    },
    {
     "name": "stderr",
     "output_type": "stream",
     "text": [
      "2020-06-06 13:34:00 [scrapy.core.engine] DEBUG: Crawled (200) <GET https://depositonce.tu-berlin.de/simple-search?query=gps&sort_by=score&order=desc&rpp=10&etal=0&start=100> (referer: https://depositonce.tu-berlin.de/simple-search?query=gps&sort_by=score&order=desc&rpp=10&etal=0&start=90)\n"
     ]
    },
    {
     "name": "stdout",
     "output_type": "stream",
     "text": [
      "                 Author   Issue date  \\\n",
      "0                  None         None   \n",
      "1           Xu, Jianhui         2017   \n",
      "2   Reiterer, Alexander         2010   \n",
      "3     Gorges, Christian         2018   \n",
      "4      Fischer, Joachim         2013   \n",
      "5      Hoseini, Mostafa   6-Feb-2020   \n",
      "6           Bauer, Sven         2017   \n",
      "7   Maciejewski, Michał         2016   \n",
      "8        Rieser, Marcel         2016   \n",
      "9       Haseleu, Andrea  22-Jul-2003   \n",
      "10     Kolomijeca, Anna  16-Sep-2013   \n",
      "\n",
      "                                                Title  \n",
      "0                                                None  \n",
      "1   Magnetic properties of rare earth zirconate py...  \n",
      "2   Application of artificial intelligence in Geod...  \n",
      "3        Road classification for two-wheeled vehicles  \n",
      "4   From Earthquake Detection to Traffic Surveilla...  \n",
      "5   First evidence of mesoscale ocean eddies signa...  \n",
      "6   Application of one-way laser ranging data to t...  \n",
      "7   An Assignment-Based Approach to Efficient Real...  \n",
      "8                                   Let’s Get Started  \n",
      "9   Materialwissenschaftliche Untersuchung des Dra...  \n",
      "10  An autonomous sea going Raman/SERS instrument ...  \n"
     ]
    },
    {
     "name": "stderr",
     "output_type": "stream",
     "text": [
      "2020-06-06 13:34:00 [scrapy.core.engine] DEBUG: Crawled (200) <GET https://depositonce.tu-berlin.de/simple-search?query=gps&sort_by=score&order=desc&rpp=10&etal=0&start=110> (referer: https://depositonce.tu-berlin.de/simple-search?query=gps&sort_by=score&order=desc&rpp=10&etal=0&start=100)\n"
     ]
    },
    {
     "name": "stdout",
     "output_type": "stream",
     "text": [
      "                 Author   Issue date  \\\n",
      "0                  None         None   \n",
      "1     Schulz, Alexandra  29-Jun-2015   \n",
      "2        Ellner, Janine  20-Dec-2013   \n",
      "3         Kukla, Daniel  14-Feb-2011   \n",
      "4      Vuong, Duong Anh  27-Jul-2011   \n",
      "5     Gruber, Christian  29-Nov-2007   \n",
      "6       Kaschenz, Julia  23-Feb-2006   \n",
      "7   Ergin, Mustafa Onur         2018   \n",
      "8             Zhou, Yun         2017   \n",
      "9          Kraus, Lydia     Jun-2017   \n",
      "10            Wu, Zhilu   8-Jul-2019   \n",
      "\n",
      "                                                Title  \n",
      "0                                                None  \n",
      "1   Batterieelektrische Fahrzeuge im gewerblichen ...  \n",
      "2   Untersuchungen zum Einfluss von Schwefelverbin...  \n",
      "3   Competitive Strategy of Private Equity: Bounda...  \n",
      "4   Comparing the cost-effectiveness of a new hosp...  \n",
      "5   Kugelfunktionen und Analyse heterogener Schwer...  \n",
      "6   Regularisierung unter Berücksichtigung von Res...  \n",
      "7   Relative node position discovery in wireless s...  \n",
      "8   Control yourself: on user control of privacy s...  \n",
      "9   Psychological needs as motivators for security...  \n",
      "10  Validation of 7 Years in-Flight HY-2A Calibrat...  \n"
     ]
    },
    {
     "name": "stderr",
     "output_type": "stream",
     "text": [
      "2020-06-06 13:34:01 [scrapy.core.engine] DEBUG: Crawled (200) <GET https://depositonce.tu-berlin.de/simple-search?query=gps&sort_by=score&order=desc&rpp=10&etal=0&start=120> (referer: https://depositonce.tu-berlin.de/simple-search?query=gps&sort_by=score&order=desc&rpp=10&etal=0&start=110)\n"
     ]
    },
    {
     "name": "stdout",
     "output_type": "stream",
     "text": [
      "                     Author   Issue date  \\\n",
      "0                      None         None   \n",
      "1                      None         2019   \n",
      "2           Zilske, Michael         2014   \n",
      "3   Hrabia, Christopher-Eyk  25-Feb-2019   \n",
      "4       Castell, Martin von  11-Apr-2014   \n",
      "5                 Yu, Ruide  17-Nov-2008   \n",
      "6            Linder, Ulrich   2-Jun-2004   \n",
      "7     Schägner, Jan Philipp  17-Mar-2017   \n",
      "8             Wieland, Marc  28-Nov-2013   \n",
      "9               Suthau, Tim  22-Sep-2006   \n",
      "10             Zseby, Tanja  23-Dec-2005   \n",
      "\n",
      "                                                Title  \n",
      "0                                                None  \n",
      "1                             Jahresbericht 2018/2019  \n",
      "2   Studying the Accuracy of Demand Generation fro...  \n",
      "3   EffFeu Project: Towards Mission-Guided Applica...  \n",
      "4   Analyse der Implementierungs- und Umsetzungsem...  \n",
      "5   Forest development along the former river Aqik...  \n",
      "6   Optimierung von Fahrweisen im spurgeführten Ve...  \n",
      "7   Monitoring recreation across European nature a...  \n",
      "8   Exposure estimation for rapid seismic vulnerab...  \n",
      "9   Augmented Reality - Positionsgenaue Einblendun...  \n",
      "10  Statistical Sampling for Non-Intrusive Measure...  \n"
     ]
    },
    {
     "name": "stderr",
     "output_type": "stream",
     "text": [
      "2020-06-06 13:34:02 [scrapy.core.engine] DEBUG: Crawled (200) <GET https://depositonce.tu-berlin.de/simple-search?query=gps&sort_by=score&order=desc&rpp=10&etal=0&start=130> (referer: https://depositonce.tu-berlin.de/simple-search?query=gps&sort_by=score&order=desc&rpp=10&etal=0&start=120)\n"
     ]
    },
    {
     "name": "stdout",
     "output_type": "stream",
     "text": [
      "                      Author   Issue date  \\\n",
      "0                       None         None   \n",
      "1              Grimm, Martin         2019   \n",
      "2          Steglich, Stephan  27-Nov-2003   \n",
      "3   Rodriguez Garzon, Sandro  19-Dec-2013   \n",
      "4               Guse, Dennis         2017   \n",
      "5          Gorges, Christian         2018   \n",
      "6        Heinrichs, Matthias  21-Jan-2011   \n",
      "7                   Lu, Biao         2019   \n",
      "8            Hammerle, Albin         2016   \n",
      "9             Kaddoura, Ihab         2018   \n",
      "10       Maciejewski, Michał         2016   \n",
      "\n",
      "                                                Title  \n",
      "0                                                None  \n",
      "1   Untersuchungen zur Anwendung von Entfernungsse...  \n",
      "2                          I-centric User Interaction  \n",
      "3   Kontextsensitive Personalisierung automotiver ...  \n",
      "4   Gesture-based user authentication on mobile de...  \n",
      "5   Impact detection using a machine learning appr...  \n",
      "6   Automatische Generierung von 3D-Modellen mitte...  \n",
      "7   Global and regional gravity field recovery by ...  \n",
      "8   Implications of atmospheric conditions for ana...  \n",
      "9   Using real-world traffic incident data in tran...  \n",
      "10       Congestion effects of autonomous taxi fleets  \n"
     ]
    },
    {
     "name": "stderr",
     "output_type": "stream",
     "text": [
      "2020-06-06 13:34:03 [scrapy.core.engine] DEBUG: Crawled (200) <GET https://depositonce.tu-berlin.de/simple-search?query=gps&sort_by=score&order=desc&rpp=10&etal=0&start=140> (referer: https://depositonce.tu-berlin.de/simple-search?query=gps&sort_by=score&order=desc&rpp=10&etal=0&start=130)\n"
     ]
    },
    {
     "name": "stdout",
     "output_type": "stream",
     "text": [
      "                   Author   Issue date  \\\n",
      "0                    None         None   \n",
      "1         Spoden, Melissa   6-Jan-2019   \n",
      "2   Sanchez-Iborra, Ramon  13-Jul-2019   \n",
      "3      Nguyen, Hoang Minh   9-Dec-2019   \n",
      "4     Kickhöfer, Benjamin  16-May-2015   \n",
      "5     Siegmann, Julian B.  24-Apr-2015   \n",
      "6       Bischoff, Joschka         2016   \n",
      "7                    None         2018   \n",
      "8       Schröder, Carolin         2015   \n",
      "9             Liu, Peipei         2019   \n",
      "10        Behling, Robert         2016   \n",
      "\n",
      "                                                Title  \n",
      "0                                                None  \n",
      "1   Amputation rates of the lower limb by amputati...  \n",
      "2   Empowering the Internet of Vehicles with Multi...  \n",
      "3   A Weighted SVM-Based Approach to Tree Species ...  \n",
      "4   Pricing local emission exposure of road traffi...  \n",
      "5   Prozessinnovationen bei Logistikdienstleistung...  \n",
      "6   Electric Taxis in Berlin – Analysis of the Fea...  \n",
      "7                             Jahresbericht 2017/2018  \n",
      "8   Through Space and Time: Using Mobile Apps for ...  \n",
      "9   Study of car-bicycle safety at signalized inte...  \n",
      "10  Derivation of spatiotemporal landslide activit...  \n"
     ]
    },
    {
     "name": "stderr",
     "output_type": "stream",
     "text": [
      "2020-06-06 13:34:03 [scrapy.core.engine] DEBUG: Crawled (200) <GET https://depositonce.tu-berlin.de/simple-search?query=gps&sort_by=score&order=desc&rpp=10&etal=0&start=150> (referer: https://depositonce.tu-berlin.de/simple-search?query=gps&sort_by=score&order=desc&rpp=10&etal=0&start=140)\n"
     ]
    },
    {
     "name": "stdout",
     "output_type": "stream",
     "text": [
      "                     Author   Issue date  \\\n",
      "0                      None         None   \n",
      "1             Zhang, Xudong         2017   \n",
      "2        Simoni, Michele D.   3-Dec-2018   \n",
      "3            Mershed, Mania   3-Aug-2011   \n",
      "4        Ali, Hago Ali Hago  23-Sep-2014   \n",
      "5             Hadidi, Ahmed         2016   \n",
      "6   Vöhringer-Kuhnt, Thomas   3-Mar-2011   \n",
      "7        Carmele, Alexander  28-Feb-2011   \n",
      "8            Sack, Dorothée  20-Sep-2012   \n",
      "9        Struckmann, Verena         2019   \n",
      "10            Jolie, Egbert   4-Apr-2014   \n",
      "\n",
      "                                                Title  \n",
      "0                                                None  \n",
      "1   Comparative study of two dynamics-model-based ...  \n",
      "2   Congestion pricing in a world of self-driving ...  \n",
      "3   Towards a suitable health insurance system in ...  \n",
      "4        Hydrochemical characteristics of groundwater  \n",
      "5           Wadi Bili catchment in the Eastern Desert  \n",
      "6   CarUSE-MI: Die Entwicklung eines Bewertungsins...  \n",
      "7   Theory for strongly coupled quantum dot cavity...  \n",
      "8   MSD: Masterstudium Denkmalpflege an der TU Ber...  \n",
      "9   Multimorbidität – eine Herausforderung für eur...  \n",
      "10  Detection and characterization of permeable fa...  \n"
     ]
    },
    {
     "name": "stderr",
     "output_type": "stream",
     "text": [
      "2020-06-06 13:34:04 [scrapy.core.engine] DEBUG: Crawled (200) <GET https://depositonce.tu-berlin.de/simple-search?query=gps&sort_by=score&order=desc&rpp=10&etal=0&start=160> (referer: https://depositonce.tu-berlin.de/simple-search?query=gps&sort_by=score&order=desc&rpp=10&etal=0&start=150)\n"
     ]
    },
    {
     "name": "stdout",
     "output_type": "stream",
     "text": [
      "                    Author   Issue date  \\\n",
      "0                     None         None   \n",
      "1   Shelton, Jacquelyn Ann         2018   \n",
      "2         Piekarska, Marta         2018   \n",
      "3     Funck, Jürgen Helmut         2018   \n",
      "4            Bach, Vanessa         2018   \n",
      "5          Reichardt, Anne  28-Oct-2014   \n",
      "6           Gilka, Philipp   4-May-2012   \n",
      "7        Truong, Duc Trung         2018   \n",
      "8    Heine, Iris Elisabeth         2017   \n",
      "9         Haseloff, Sandra   4-May-2005   \n",
      "10     Lützenberger, Marco  26-Mar-2015   \n",
      "\n",
      "                                                Title  \n",
      "0                                                None  \n",
      "1   Large-scale approximate EM-style learning and ...  \n",
      "2   On improving privacy and security through user...  \n",
      "3   Synchronous data acquisition with wireless sen...  \n",
      "4   Assessment of abiotic and biotic resource use ...  \n",
      "5            Tissue engineering of human heart valves  \n",
      "6   Wirkungen kooperativer Systeme auf die Sicherheit  \n",
      "7   Stability, voltage performance and power shari...  \n",
      "8   Long-term monitoring of lakes in the northern ...  \n",
      "9          Context Awareness in Information Logistics  \n",
      "10                                   Cause and effect  \n"
     ]
    },
    {
     "name": "stderr",
     "output_type": "stream",
     "text": [
      "2020-06-06 13:34:05 [scrapy.core.engine] DEBUG: Crawled (200) <GET https://depositonce.tu-berlin.de/simple-search?query=gps&sort_by=score&order=desc&rpp=10&etal=0&start=170> (referer: https://depositonce.tu-berlin.de/simple-search?query=gps&sort_by=score&order=desc&rpp=10&etal=0&start=160)\n"
     ]
    },
    {
     "name": "stdout",
     "output_type": "stream",
     "text": [
      "                   Author  Issue date  \\\n",
      "0                    None        None   \n",
      "1       Parasuraman, Raja        2010   \n",
      "2        Kreim, Alexander  6-Oct-2015   \n",
      "3   Bahner, Jennifer Elin  2-Oct-2008   \n",
      "4            Heßler, Axel  1-Feb-2013   \n",
      "5       Brüggemann, Helge  4-Feb-2005   \n",
      "6          Hampicke, Maik        2002   \n",
      "7       Roshandel, Mehran        2017   \n",
      "8          Lämmel, Gregor        2009   \n",
      "9      Chancerel, Perrine        2011   \n",
      "10      Bischoff, Joschka        2017   \n",
      "\n",
      "                                                Title  \n",
      "0                                                None  \n",
      "1   Complacency and Bias in Human Use of Automatio...  \n",
      "2   Modellierung und Parameteroptimierung einer pe...  \n",
      "3   Übersteigertes Vertrauen in Automation: Der Ei...  \n",
      "4   MIAC: Methodology for Intelligent Agents Compo...  \n",
      "5   Methoden zur Detektion von Betriebsstörungen a...  \n",
      "6   Personennotrufsysteme auf Basis menschlicher v...  \n",
      "7   Multi-factor authentication based on movement ...  \n",
      "8   Emergency Preparedness in the Case of a Tsunam...  \n",
      "9   Status of pre-processing of waste electrical a...  \n",
      "10  City-wide shared taxis: a simulation study in ...  \n"
     ]
    },
    {
     "name": "stderr",
     "output_type": "stream",
     "text": [
      "2020-06-06 13:34:05 [scrapy.core.engine] DEBUG: Crawled (200) <GET https://depositonce.tu-berlin.de/simple-search?query=gps&sort_by=score&order=desc&rpp=10&etal=0&start=180> (referer: https://depositonce.tu-berlin.de/simple-search?query=gps&sort_by=score&order=desc&rpp=10&etal=0&start=170)\n"
     ]
    },
    {
     "name": "stdout",
     "output_type": "stream",
     "text": [
      "                        Author   Issue date  \\\n",
      "0                         None         None   \n",
      "1           Struckmann, Verena         2017   \n",
      "2          Saitis, Charalampos  28-Feb-2018   \n",
      "3            Asgarimehr, Milad   6-Nov-2018   \n",
      "4             Schröder, Stefan         2012   \n",
      "5        Uijt de Haag, Maarten  10-Sep-2019   \n",
      "6                Stahn, Roland   7-May-2010   \n",
      "7                Neu, Johannes         2019   \n",
      "8   Alammareen, Ammar Mohammad  25-Jun-2010   \n",
      "9                 Lück, Martin   7-May-2010   \n",
      "10               Zhang, Xudong         2017   \n",
      "\n",
      "                                                Title  \n",
      "0                                                None  \n",
      "1   Integrated Diabetes Care Delivered by Patients...  \n",
      "2   Cognitive Load Assessment from EEG and Periphe...  \n",
      "3   Can GNSS reflectometry detect precipitation ov...  \n",
      "4   Towards a Multi-Agent Logistics and Commercial...  \n",
      "5   sUAS Swarm Navigation using Inertial, Range Ra...  \n",
      "6   Modellbasierte Merkmalsplanung zur objektbezog...  \n",
      "7   Eine ökonomische Analyse isolierter und integr...  \n",
      "8   Groundwater Exploration in Karst Examples for ...  \n",
      "9   Aufbau druckneutraler, autonomer Unterwasserfa...  \n",
      "10  Comparative study of two dynamics-model-based ...  \n"
     ]
    },
    {
     "name": "stderr",
     "output_type": "stream",
     "text": [
      "2020-06-06 13:34:06 [scrapy.core.engine] DEBUG: Crawled (200) <GET https://depositonce.tu-berlin.de/simple-search?query=gps&sort_by=score&order=desc&rpp=10&etal=0&start=190> (referer: https://depositonce.tu-berlin.de/simple-search?query=gps&sort_by=score&order=desc&rpp=10&etal=0&start=180)\n"
     ]
    },
    {
     "name": "stdout",
     "output_type": "stream",
     "text": [
      "                 Author   Issue date  \\\n",
      "0                  None         None   \n",
      "1      Mohammadi, Jafar         2017   \n",
      "2          Rice, Thomas  18-May-2018   \n",
      "3   Wadas, Sonja Halina         2016   \n",
      "4    Struckmann, Verena     Jan-2018   \n",
      "5   Leijten, Fenna R.M.     Jan-2018   \n",
      "6         Agarwal, Amit   5-Jul-2019   \n",
      "7       Richter, Thomas         2017   \n",
      "8        Pham Van, Song   6-Apr-2009   \n",
      "9    Finkelnburg, Roman  24-May-2013   \n",
      "10       Golovko, Darya         2019   \n",
      "\n",
      "                                                Title  \n",
      "0                                                None  \n",
      "1   Security by similarity: information-theoretic ...  \n",
      "2   Revisiting out-of-pocket requirements: trends ...  \n",
      "3   High-resolution shear-wave seismic reflection ...  \n",
      "4   Relevant models and elements of integrated car...  \n",
      "5   The SELFIE framework for integrated care for m...  \n",
      "6   Bicycle superhighway: An environmentally susta...  \n",
      "7   Causes, consequences and countermeasures of ov...  \n",
      "8   Application of Different Model Concepts for Si...  \n",
      "9   Climate variability of Svalbard in the first d...  \n",
      "10  Spatio-temporal analysis of landslide hazard i...  \n"
     ]
    },
    {
     "name": "stderr",
     "output_type": "stream",
     "text": [
      "2020-06-06 13:34:07 [scrapy.core.engine] DEBUG: Crawled (200) <GET https://depositonce.tu-berlin.de/simple-search?query=gps&sort_by=score&order=desc&rpp=10&etal=0&start=200> (referer: https://depositonce.tu-berlin.de/simple-search?query=gps&sort_by=score&order=desc&rpp=10&etal=0&start=190)\n"
     ]
    },
    {
     "name": "stdout",
     "output_type": "stream",
     "text": [
      "                         Author   Issue date  \\\n",
      "0                          None         None   \n",
      "1               Balz, Christian  14-Oct-2015   \n",
      "2   Al-Zaghameem, Abdullah Odeh   8-Oct-2012   \n",
      "3                 Fabre, Claude  25-Nov-2009   \n",
      "4                   Ikels, Leif   1-Feb-2011   \n",
      "5               Leser, Cornelia  16-May-2003   \n",
      "6             Busacker, Torsten   3-May-2005   \n",
      "7                Yildiz, Mürsel  10-Dec-2013   \n",
      "8                 Böhning, Peer  14-Jun-2006   \n",
      "9                Wujanz, Daniel         2016   \n",
      "10           Fathejalali, Arman         2017   \n",
      "\n",
      "                                                Title  \n",
      "0                                                None  \n",
      "1   Investigation of low dimensional and frustrate...  \n",
      "2   Extending the Object Teams Programming Model i...  \n",
      "3                       Möbius structures on surfaces  \n",
      "4   Bodenwasserhaushalt einer Salzgraswiese der Vo...  \n",
      "5   Entwicklung operationell einsatzfähiger Method...  \n",
      "6   Steigerung der Flughafen-Kapazität durch Model...  \n",
      "7   A user facilitated autonomous load balancing f...  \n",
      "8        Akustische Lokalisierung von Wirbelschleppen  \n",
      "9   Terrestrial laser scanning for geodetic deform...  \n",
      "10  Enhancing citizen engagement in urban planning...  \n"
     ]
    },
    {
     "name": "stderr",
     "output_type": "stream",
     "text": [
      "2020-06-06 13:34:07 [scrapy.core.engine] DEBUG: Crawled (200) <GET https://depositonce.tu-berlin.de/simple-search?query=gps&sort_by=score&order=desc&rpp=10&etal=0&start=210> (referer: https://depositonce.tu-berlin.de/simple-search?query=gps&sort_by=score&order=desc&rpp=10&etal=0&start=200)\n"
     ]
    },
    {
     "name": "stdout",
     "output_type": "stream",
     "text": [
      "                Author   Issue date  \\\n",
      "0                 None         None   \n",
      "1         Arar, Bassem         2019   \n",
      "2    Donner, Christian         2019   \n",
      "3   Chakrabarti, Romon  21-Aug-2015   \n",
      "4     Gielsdorf, Frank  11-Aug-2005   \n",
      "5          Kolbe, Jens         2017   \n",
      "6       Baier, Natalie  16-Jan-2015   \n",
      "7     Angwafo, Nchewah  23-Jun-2006   \n",
      "8       Rethmeier, Kay  15-Jun-2006   \n",
      "9      Vogeler, Stefan  26-Aug-2008   \n",
      "10         Golde, Nico  10-Nov-2014   \n",
      "\n",
      "                                                Title  \n",
      "0                                                None  \n",
      "1   GaAs-based components for photonic integrated ...  \n",
      "2   Bayesian inference of inhomogeneous point proc...  \n",
      "3   Abhandlungen über den Nutzen, den Aufbau und d...  \n",
      "4   Ausgleichungsrechnung und raumbezogene Informa...  \n",
      "5   Enhancing the understanding of urban economics...  \n",
      "6   Review zu den Perspektiven der ländlichen Vers...  \n",
      "7   Towards Conformal Antennas for miniaturized Au...  \n",
      "8   Neue Auskoppelverfahren und Sensoren zur Vor-O...  \n",
      "9                       Supply Chain Event Management  \n",
      "10  On the impact of modified cellular radio equip...  \n"
     ]
    },
    {
     "name": "stderr",
     "output_type": "stream",
     "text": [
      "2020-06-06 13:34:08 [scrapy.core.engine] DEBUG: Crawled (200) <GET https://depositonce.tu-berlin.de/simple-search?query=gps&sort_by=score&order=desc&rpp=10&etal=0&start=220> (referer: https://depositonce.tu-berlin.de/simple-search?query=gps&sort_by=score&order=desc&rpp=10&etal=0&start=210)\n"
     ]
    },
    {
     "name": "stdout",
     "output_type": "stream",
     "text": [
      "                     Author   Issue date  \\\n",
      "0                      None         None   \n",
      "1          Hundt, Christine  11-Jan-2012   \n",
      "2                Zhang, Tao   3-Dec-2014   \n",
      "3             Hansen, Katja  29-Aug-2012   \n",
      "4      Kunze Susemihl, Alex  27-May-2015   \n",
      "5             Mahrin, Bernd         2016   \n",
      "6   Gomes dos Santos, Jessé         2017   \n",
      "7             Zhang, Xudong   8-Feb-2017   \n",
      "8       Heinze, G. Wolfgang         2006   \n",
      "9            Lange, Carsten         2015   \n",
      "10             Saeed, Adnan         2018   \n",
      "\n",
      "                                                Title  \n",
      "0                                                None  \n",
      "1   Optimized Aspect Execution Mechanisms inside V...  \n",
      "2   Low power CMOS RF-transceiver circuits for K-b...  \n",
      "3   Novel Machine Learning Methods for Computation...  \n",
      "4        Optimal population coding of dynamic stimuli  \n",
      "5   Digitalisierung, Berufsbildung und kooperative...  \n",
      "6   Radio over fibre techniques for backhaul and f...  \n",
      "7   A hierarchical estimator development for estim...  \n",
      "8   Kurskorrektur – Eine Ortsbestimmung der Raumor...  \n",
      "9   Model-based design for restoration of a small ...  \n",
      "10  Precise 3-D localization and simulation of top...  \n"
     ]
    },
    {
     "name": "stderr",
     "output_type": "stream",
     "text": [
      "2020-06-06 13:34:09 [scrapy.core.engine] DEBUG: Crawled (200) <GET https://depositonce.tu-berlin.de/simple-search?query=gps&sort_by=score&order=desc&rpp=10&etal=0&start=230> (referer: https://depositonce.tu-berlin.de/simple-search?query=gps&sort_by=score&order=desc&rpp=10&etal=0&start=220)\n"
     ]
    },
    {
     "name": "stdout",
     "output_type": "stream",
     "text": [
      "                      Author   Issue date  \\\n",
      "0                       None         None   \n",
      "1              Rieger, Isaak         2015   \n",
      "2                  Huang, H.   6-Oct-2015   \n",
      "3            Lambrecht, Jens         2013   \n",
      "4      Shrivastav, Gaurav P.   3-Jan-2019   \n",
      "5       Carpentieri, Gerardo  21-Jan-2020   \n",
      "6       Nielsen, Sven-Martin  25-Apr-2001   \n",
      "7              Bach, Vanessa  18-Jan-2017   \n",
      "8                       None     Mar-2016   \n",
      "9              Bach, Vanessa         2017   \n",
      "10  Scheihing, Konstantin W.  26-Dec-2017   \n",
      "\n",
      "                                                Title  \n",
      "0                                                None  \n",
      "1   Drivers of carbon sequestration by biomass com...  \n",
      "2   Receiver function imaging of the mantle transi...  \n",
      "3   Spatial Programming for Industrial Robots thro...  \n",
      "4   Anomalous transport of magnetic colloids in a ...  \n",
      "5   Multimodal Accessibility to Primary Health Ser...  \n",
      "6   Beiträge des Verkehrssystem-Managements zum st...  \n",
      "7   Assessing the availability of terrestrial biot...  \n",
      "8   TU intern: die Hochschulzeitung der Technische...  \n",
      "9   Assessing the Availability of Terrestrial Biot...  \n",
      "10  Reassessing Hydrological Processes That Contro...  \n"
     ]
    },
    {
     "name": "stderr",
     "output_type": "stream",
     "text": [
      "2020-06-06 13:34:09 [scrapy.core.engine] DEBUG: Crawled (200) <GET https://depositonce.tu-berlin.de/simple-search?query=gps&sort_by=score&order=desc&rpp=10&etal=0&start=240> (referer: https://depositonce.tu-berlin.de/simple-search?query=gps&sort_by=score&order=desc&rpp=10&etal=0&start=230)\n"
     ]
    },
    {
     "name": "stdout",
     "output_type": "stream",
     "text": [
      "                              Author   Issue date  \\\n",
      "0                               None         None   \n",
      "1                Ginneken, Ewout van  10-Dec-2010   \n",
      "2                   Schroeter, Timon  25-Nov-2009   \n",
      "3           Realpe Carrillo, Natalia         2017   \n",
      "4                   Sedaghati, Elyar         2018   \n",
      "5                       Kraus, Lydia         2017   \n",
      "6                     Zillmann, Erik  16-Sep-2005   \n",
      "7                        Hummel, Jan         2017   \n",
      "8                     Ermel, Claudia  24-Aug-2006   \n",
      "9              Schägner, Jan Philipp         2019   \n",
      "10  Ginneken, Ewout Johan Marius van  15-Apr-2009   \n",
      "\n",
      "                                                Title  \n",
      "0                                                None  \n",
      "1   Implications of future EU policy on the provis...  \n",
      "2   Machine Learning in Drug Discovery and Drug De...  \n",
      "3   Assessment of household energy access: the Pro...  \n",
      "4                               Exploring alien skies  \n",
      "5   User experience with mobile security and priva...  \n",
      "6   Versuch der Lokalisierung und Interpretation v...  \n",
      "7   Automatisierte Vermessung und Charakterisierun...  \n",
      "8   Simulation and Animation of Visual Languages b...  \n",
      "9   Spatially explicit assessment of recreational ...  \n",
      "10  Implications of future EU policy on the provis...  \n"
     ]
    },
    {
     "name": "stderr",
     "output_type": "stream",
     "text": [
      "2020-06-06 13:34:10 [scrapy.core.engine] DEBUG: Crawled (200) <GET https://depositonce.tu-berlin.de/simple-search?query=gps&sort_by=score&order=desc&rpp=10&etal=0&start=250> (referer: https://depositonce.tu-berlin.de/simple-search?query=gps&sort_by=score&order=desc&rpp=10&etal=0&start=240)\n"
     ]
    },
    {
     "name": "stdout",
     "output_type": "stream",
     "text": [
      "                  Author   Issue date  \\\n",
      "0                   None         None   \n",
      "1        Hölz, Sebastian  21-Sep-2007   \n",
      "2     Chancerel, Perrine  25-Mar-2010   \n",
      "3      Rietdorf, Andreas  17-Feb-2005   \n",
      "4     Grudzien, Waldemar  22-Nov-2002   \n",
      "5   Briesemeister, Linda   9-Nov-2001   \n",
      "6          Graff, Daniel         2017   \n",
      "7    Dirmeier, Alexander  20-Mar-2013   \n",
      "8         Nieland, Simon         2017   \n",
      "9         Blasch, Gerald         2017   \n",
      "10           Li, Xiaohan         2019   \n",
      "\n",
      "                                                Title  \n",
      "0                                                None  \n",
      "1   Geophysical and Geoscientific Investigations i...  \n",
      "2   Substance flow analysis of the recycling of sm...  \n",
      "3   Automatisierte Auswertung und Kalibrierung von...  \n",
      "4   Beitrag zur Steigerung der Nutzenproduktivität...  \n",
      "5   Group membership and communication in highly m...  \n",
      "6    Programming and managing swarms of mobile robots  \n",
      "7   Particular timelike flows in global Lorentzian...  \n",
      "8   Interoperability of geo-information in remote ...  \n",
      "9   Multitemporal soil pattern analysis for organi...  \n",
      "10          Prediction of driver lane-change behavior  \n"
     ]
    },
    {
     "name": "stderr",
     "output_type": "stream",
     "text": [
      "2020-06-06 13:34:11 [scrapy.core.engine] DEBUG: Crawled (200) <GET https://depositonce.tu-berlin.de/simple-search?query=gps&sort_by=score&order=desc&rpp=10&etal=0&start=260> (referer: https://depositonce.tu-berlin.de/simple-search?query=gps&sort_by=score&order=desc&rpp=10&etal=0&start=250)\n"
     ]
    },
    {
     "name": "stdout",
     "output_type": "stream",
     "text": [
      "                            Author   Issue date  \\\n",
      "0                             None         None   \n",
      "1                  Eppner, Clemens         2019   \n",
      "2                     Shi, Shuying  24-Jul-2009   \n",
      "3                   Schaal, Markus   7-Jun-2004   \n",
      "4   Wientzek-Fleischmann, Angelika   3-Jun-2014   \n",
      "5                  Rieger, Andreas  28-Jul-2011   \n",
      "6            Moyo Oliveros, Manuel  28-May-2014   \n",
      "7                  Lohrmann, Björn         2016   \n",
      "8                  Limmer, Steffen         2019   \n",
      "9                   Pfeffer, Heiko  30-Mar-2010   \n",
      "10                    Döge, Norman         2016   \n",
      "\n",
      "                                                Title  \n",
      "0                                                None  \n",
      "1   Robot grasping by exploiting compliance and en...  \n",
      "2       Transceiver Design for Multiuser MIMO Systems  \n",
      "3       Notification agents for mobile route guidance  \n",
      "4          Physical activity and chronic disease risk  \n",
      "5   Framework for Building Situation-Aware Ubiquit...  \n",
      "6   Calibration of public transit routing for mult...  \n",
      "7   Massively parallel stream processing with late...  \n",
      "8            Distributed and sparse signal processing  \n",
      "9   An underlay system for dynamic and distributab...  \n",
      "10  Elektrifizierungspotential kommerzieller Kraft...  \n"
     ]
    },
    {
     "name": "stderr",
     "output_type": "stream",
     "text": [
      "2020-06-06 13:34:11 [scrapy.core.engine] DEBUG: Crawled (200) <GET https://depositonce.tu-berlin.de/simple-search?query=gps&sort_by=score&order=desc&rpp=10&etal=0&start=270> (referer: https://depositonce.tu-berlin.de/simple-search?query=gps&sort_by=score&order=desc&rpp=10&etal=0&start=260)\n"
     ]
    },
    {
     "name": "stdout",
     "output_type": "stream",
     "text": [
      "                   Author   Issue date  \\\n",
      "0                    None         None   \n",
      "1           Frick, Annett   2-Jan-2007   \n",
      "2          Gienau, Tobias         2018   \n",
      "3          Lippke, Roland  18-Nov-2009   \n",
      "4        Siegmann, Julian  24-Oct-2013   \n",
      "5        Ronczka, Mathias         2016   \n",
      "6                    None     Jan-2016   \n",
      "7                    None     Nov-2011   \n",
      "8                    None     Nov-2016   \n",
      "9   Lippe, Moritz von der  24-Mar-2020   \n",
      "10           Gauss, Boris  11-Apr-2008   \n",
      "\n",
      "                                                Title  \n",
      "0                                                None  \n",
      "1   Beiträge höchstauflösender Satellitenfernerkun...  \n",
      "2               Energieeffiziente Gärrestaufbereitung  \n",
      "3   Folien als transparente Elemente in der Fassad...  \n",
      "4       Technologien und Innovationen in der Logistik  \n",
      "5   Saltwater detection and monitoring using metal...  \n",
      "6   TU intern: die Hochschulzeitung der Technische...  \n",
      "7   TU intern: die Hochschulzeitung der Technische...  \n",
      "8   TU intern: die Hochschulzeitung der Technische...  \n",
      "9   CityScapeLab Berlin: A Research Platform for U...  \n",
      "10  Evaluation von Situational Risk Assessment Sys...  \n"
     ]
    },
    {
     "name": "stderr",
     "output_type": "stream",
     "text": [
      "2020-06-06 13:34:12 [scrapy.core.engine] DEBUG: Crawled (200) <GET https://depositonce.tu-berlin.de/simple-search?query=gps&sort_by=score&order=desc&rpp=10&etal=0&start=280> (referer: https://depositonce.tu-berlin.de/simple-search?query=gps&sort_by=score&order=desc&rpp=10&etal=0&start=270)\n"
     ]
    },
    {
     "name": "stdout",
     "output_type": "stream",
     "text": [
      "                     Author   Issue date  \\\n",
      "0                      None         None   \n",
      "1         Negard, Nils-Otto  18-Dec-2009   \n",
      "2   Schmidt, Aubrey-Derrick  21-Jul-2011   \n",
      "3            Bohge, Mathias  28-Dec-2010   \n",
      "4              Figiel, Anna         2016   \n",
      "5             Ullah, Shahid         2016   \n",
      "6          Häusler, Florian         2016   \n",
      "7               Heiden, Uta  17-Feb-2004   \n",
      "8            Ngo Quynh, Thu  17-Dec-2003   \n",
      "9         Kasparick, Martin         2016   \n",
      "10           Blasch, Gerald         2015   \n",
      "\n",
      "                                                Title  \n",
      "0                                                None  \n",
      "1   Controlled FES-assisted gait training for hemi...  \n",
      "2                     Detection of Smartphone Malware  \n",
      "3   Dynamic Resource Allocation in Packet-Oriented...  \n",
      "4   Transportmanagement in der schnelldrehenden Ko...  \n",
      "5           Seismic hazard assessment in Central Asia  \n",
      "6   Topics in feedback control for ITS application...  \n",
      "7   Analyse hyperspektraler Flugzeugscannerdaten z...  \n",
      "8   The Influence of Proportional Jitter Schedulin...  \n",
      "9           Towards self-organizing wireless networks  \n",
      "10  Organic matter modeling at the landscape scale...  \n"
     ]
    },
    {
     "name": "stderr",
     "output_type": "stream",
     "text": [
      "2020-06-06 13:34:13 [scrapy.core.engine] DEBUG: Crawled (200) <GET https://depositonce.tu-berlin.de/simple-search?query=gps&sort_by=score&order=desc&rpp=10&etal=0&start=290> (referer: https://depositonce.tu-berlin.de/simple-search?query=gps&sort_by=score&order=desc&rpp=10&etal=0&start=280)\n"
     ]
    },
    {
     "name": "stdout",
     "output_type": "stream",
     "text": [
      "                      Author   Issue date  \\\n",
      "0                       None         None   \n",
      "1      Pieper, Ute Elisabeth   6-Feb-2003   \n",
      "2      Mwaura, Daniel Waweru         2018   \n",
      "3      Heine, Iris Elisabeth         2015   \n",
      "4                Fay, Tu-Anh         2019   \n",
      "5          Prezenski, Sabine   4-Aug-2017   \n",
      "6        Zellmann, Christoph         2018   \n",
      "7   Harfenmeister, Katharina   2-Jul-2019   \n",
      "8               Plesa, A.-C.  21-Nov-2016   \n",
      "9           Seeliger, Martin  20-Sep-2018   \n",
      "10        Struckmann, Verena  22-Nov-2017   \n",
      "\n",
      "                                                Title  \n",
      "0                                                None  \n",
      "1    Flottenmanagementmodell für die Gefahrgutbranche  \n",
      "2   Exploration and optimized siting of geothermal...  \n",
      "3   Reconstruction of lake level changes of ground...  \n",
      "4   Methodischer Technologievergleich von Systemko...  \n",
      "5   A Cognitive Modeling Approach to Strategy Form...  \n",
      "6   Development of an aircraft noise emission mode...  \n",
      "7   Analyzing Temporal and Spatial Characteristics...  \n",
      "8   How large are present-day heat flux variations...  \n",
      "9   Using a Multi-Proxy Approach to Detect and Dat...  \n",
      "10  How to strengthen financing mechanism to promo...  \n"
     ]
    },
    {
     "name": "stderr",
     "output_type": "stream",
     "text": [
      "2020-06-06 13:34:14 [scrapy.core.engine] DEBUG: Crawled (200) <GET https://depositonce.tu-berlin.de/simple-search?query=gps&sort_by=score&order=desc&rpp=10&etal=0&start=300> (referer: https://depositonce.tu-berlin.de/simple-search?query=gps&sort_by=score&order=desc&rpp=10&etal=0&start=290)\n"
     ]
    },
    {
     "name": "stdout",
     "output_type": "stream",
     "text": [
      "                      Author   Issue date  \\\n",
      "0                       None         None   \n",
      "1          Protzmann, Robert         2018   \n",
      "2        Hese, Sören Mathias   2-May-2002   \n",
      "3           Nickisch, Hannes  22-Oct-2010   \n",
      "4        Wadas, Sonja Halina         2018   \n",
      "5   Minkov, Nikolay Mihaylov         2020   \n",
      "6               Nagel, Claus  12-Aug-2014   \n",
      "7                Mai, Enrico   1-Mar-2011   \n",
      "8     Fiedler-Volmer, Rainer  24-Nov-1999   \n",
      "9            Nettmann, Edith   2-Jun-2010   \n",
      "10             Hoffmann, Udo         2016   \n",
      "\n",
      "                                                Title  \n",
      "0                                                None  \n",
      "1         V2X communication in heterogeneous networks  \n",
      "2   Entwicklung und Anwendung geostatistischer Ver...  \n",
      "3   Bayesian Inference and Experimental Design for...  \n",
      "4   High-resolution shear wave reflection seismics...  \n",
      "5   Communication of environmental product informa...  \n",
      "6   Spatio-semantic modelling of indoor environmen...  \n",
      "7   Numerische Integration von Satellitenbahnen mi...  \n",
      "8   Der Es Safya Graben im Nordsudan - Geologie un...  \n",
      "9   Monitoring der methanbildenden Mikroflora in P...  \n",
      "10  Intersection graphs and geometric objects in t...  \n"
     ]
    },
    {
     "name": "stderr",
     "output_type": "stream",
     "text": [
      "2020-06-06 13:34:14 [scrapy.core.engine] DEBUG: Crawled (200) <GET https://depositonce.tu-berlin.de/simple-search?query=gps&sort_by=score&order=desc&rpp=10&etal=0&start=310> (referer: https://depositonce.tu-berlin.de/simple-search?query=gps&sort_by=score&order=desc&rpp=10&etal=0&start=300)\n"
     ]
    },
    {
     "name": "stdout",
     "output_type": "stream",
     "text": [
      "                    Author   Issue date  \\\n",
      "0                     None         None   \n",
      "1           Lämmel, Gregor  26-Oct-2011   \n",
      "2         Mischnick, David  28-Nov-2013   \n",
      "3   Hoehenwarter, Wolfgang  13-Apr-2007   \n",
      "4       Salustowicz, Rafal  15-Apr-2003   \n",
      "5   Wefelscheid, Cornelius  21-Jun-2013   \n",
      "6          Wepiwé, Giscard  10-Jul-2006   \n",
      "7      Biermann, Alexandra  13-Jan-2014   \n",
      "8                     None  16-Nov-2015   \n",
      "9         Mulliner, Collin  17-Feb-2012   \n",
      "10         Tucek, Johannes  20-Dec-2006   \n",
      "\n",
      "                                                Title  \n",
      "0                                                None  \n",
      "1   Escaping the Tsunami: Evacuation Strategies fo...  \n",
      "2   Aussetz- und Bergevorrichtung für das  autonom...  \n",
      "3   Proteomic Variability of the Eye Lens and its ...  \n",
      "4         Probabilistic Incremental Program Evolution  \n",
      "5   Monocular Camera Path Estimation Cross-linking...  \n",
      "6     HiPeer: An Evolutionary Approach to P2P Systems  \n",
      "7   Beatmungsfälle und Beatmungsdauer in deutschen...  \n",
      "8   ALAN 2013 – First International Conference on ...  \n",
      "9   On the Impact of the Cellular Modem on the Sec...  \n",
      "10  Verbesserung der Richtungsstabilisierung von i...  \n"
     ]
    },
    {
     "name": "stderr",
     "output_type": "stream",
     "text": [
      "2020-06-06 13:34:15 [scrapy.core.engine] DEBUG: Crawled (200) <GET https://depositonce.tu-berlin.de/simple-search?query=gps&sort_by=score&order=desc&rpp=10&etal=0&start=320> (referer: https://depositonce.tu-berlin.de/simple-search?query=gps&sort_by=score&order=desc&rpp=10&etal=0&start=310)\n"
     ]
    },
    {
     "name": "stdout",
     "output_type": "stream",
     "text": [
      "                 Author   Issue date  \\\n",
      "0                  None         None   \n",
      "1                  None         2017   \n",
      "2       Koehn, Cristina         2017   \n",
      "3     Boxberger, Tobias         2018   \n",
      "4       Spoden, Melissa         2019   \n",
      "5       Steller, Marcel         2020   \n",
      "6                  None  17-Jan-2012   \n",
      "7    Hauer, Jan-Hinrich  15-Apr-2014   \n",
      "8                  None     Mar-2012   \n",
      "9   Heinze, G. Wolfgang         2001   \n",
      "10                 None     Jun-2016   \n",
      "\n",
      "                                                Title  \n",
      "0                                                None  \n",
      "1   Guidance manual – a compilation of actor-relev...  \n",
      "2   Qualitätsmanagement in der ambulanten Gesundhe...  \n",
      "3   A comparison of different seismological and ge...  \n",
      "4   Gesetzliche Mengensteuerung stationärer Leistu...  \n",
      "5   „Einsteigen, bitte?“ Die Entwicklung der Fahrg...  \n",
      "6   Profil zeigen IV: Gründerinnen und Gründer der...  \n",
      "7   Towards reliable communication in low-power wi...  \n",
      "8   TU intern: die Hochschulzeitung der Technische...  \n",
      "9          Freizeitverkehr als Chance für Deutschland  \n",
      "10  TU intern: die Hochschulzeitung der Technische...  \n"
     ]
    },
    {
     "name": "stderr",
     "output_type": "stream",
     "text": [
      "2020-06-06 13:34:16 [scrapy.core.engine] DEBUG: Crawled (200) <GET https://depositonce.tu-berlin.de/simple-search?query=gps&sort_by=score&order=desc&rpp=10&etal=0&start=330> (referer: https://depositonce.tu-berlin.de/simple-search?query=gps&sort_by=score&order=desc&rpp=10&etal=0&start=320)\n"
     ]
    },
    {
     "name": "stdout",
     "output_type": "stream",
     "text": [
      "                   Author   Issue date  \\\n",
      "0                    None         None   \n",
      "1        Nugmanova, Assel  11-Sep-2019   \n",
      "2        Bhat, Chandra R.  14-Mar-2016   \n",
      "3                    None     Mar-2017   \n",
      "4            Kim, Hyun Ok  28-Sep-2007   \n",
      "5              Hoog, Sven  20-Dec-2005   \n",
      "6         Junglen, Sandra  26-Sep-2007   \n",
      "7             Din, George  18-Mar-2009   \n",
      "8      Serdar Asan, Seyda   4-Nov-2009   \n",
      "9   Illenberger, Johannes  24-Sep-2012   \n",
      "10        Kalisch, Dennis  28-Jun-2012   \n",
      "\n",
      "                                                Title  \n",
      "0                                                None  \n",
      "1   Effectiveness of Ring Roads in Reducing Traffi...  \n",
      "2   Incorporating a multiple discrete-continuous o...  \n",
      "3   TU intern: die Hochschulzeitung der Technische...  \n",
      "4   Beitrag sehr hochauflösender Satellitenfernerk...  \n",
      "5   Ein Beitrag zur dynamischen Analyse der hydroe...  \n",
      "6   Untersuchungen zur Vektor- und Arbovirenpräval...  \n",
      "7   A Performance Test Design Method and its Imple...  \n",
      "8   A Methodology Based on Theory of Constraints’ ...  \n",
      "9    Social Networks and Cooperative Travel Behaviour  \n",
      "10  Recreational use of protected areas in Germany...  \n"
     ]
    },
    {
     "name": "stderr",
     "output_type": "stream",
     "text": [
      "2020-06-06 13:34:16 [scrapy.core.engine] DEBUG: Crawled (200) <GET https://depositonce.tu-berlin.de/simple-search?query=gps&sort_by=score&order=desc&rpp=10&etal=0&start=340> (referer: https://depositonce.tu-berlin.de/simple-search?query=gps&sort_by=score&order=desc&rpp=10&etal=0&start=330)\n"
     ]
    },
    {
     "name": "stdout",
     "output_type": "stream",
     "text": [
      "                           Author   Issue date  \\\n",
      "0                            None         None   \n",
      "1             Pietschmann, Nicole  21-Mar-2014   \n",
      "2                Burschil, Thomas  22-Dec-2014   \n",
      "3                      Holm, Olaf  23-Dec-2011   \n",
      "4   Carlson, Emma Maria Elisabeth  24-Apr-2007   \n",
      "5        Elmangoush, Asma Abdalla         2016   \n",
      "6                       Tang, Hui  11-Feb-2015   \n",
      "7                 Lyszczan, Peter  28-Feb-2012   \n",
      "8                 Lambrecht, Jens  23-Dec-2014   \n",
      "9                   Ebner, Adrian  28-Nov-2014   \n",
      "10               Spengler, Daniel  16-Jan-2014   \n",
      "\n",
      "                                                Title  \n",
      "0                                                None  \n",
      "1               Selen und Knochen? Selen und Knochen!  \n",
      "2   Geophysical characterization of the Föhr islan...  \n",
      "3   Entwicklung und Anwendung eines Verfahrens zur...  \n",
      "4   QoS in distributed wireless 802.11-based multi...  \n",
      "5   Application-derived communication protocol sel...  \n",
      "6   Measurements and data analysis in relation to ...  \n",
      "7   Shear Load Transfer and Relaxation in Bolted J...  \n",
      "8   Natürlich-räumliche Industrieroboterprogrammie...  \n",
      "9   Referenzszenarien als Grundlage für die Entwic...  \n",
      "10  Charakterisierung von Getreidearten aus hypers...  \n"
     ]
    },
    {
     "name": "stderr",
     "output_type": "stream",
     "text": [
      "2020-06-06 13:34:17 [scrapy.core.engine] DEBUG: Crawled (200) <GET https://depositonce.tu-berlin.de/simple-search?query=gps&sort_by=score&order=desc&rpp=10&etal=0&start=350> (referer: https://depositonce.tu-berlin.de/simple-search?query=gps&sort_by=score&order=desc&rpp=10&etal=0&start=340)\n"
     ]
    },
    {
     "name": "stdout",
     "output_type": "stream",
     "text": [
      "                        Author   Issue date  \\\n",
      "0                         None         None   \n",
      "1              Bertard, Thomas  19-Dec-2013   \n",
      "2                Kaynar, Kerem         2017   \n",
      "3         Altwasser, Sebastian         2018   \n",
      "4            Schröder, Patrick         2018   \n",
      "5               Gräbener, Sven         2017   \n",
      "6                         None     May-2011   \n",
      "7                Opoku, Daniel         2019   \n",
      "8   Colwill, Simon Christopher         2019   \n",
      "9        Visengeriyeva, Larysa         2020   \n",
      "10              Keßler, Martin  24-Sep-2012   \n",
      "\n",
      "                                                Title  \n",
      "0                                                None  \n",
      "1   Methodik zur Optimierung von Angeboten im Schi...  \n",
      "2   Distributed log analysis for scenario-based de...  \n",
      "3   Möglichkeiten und Grenzen von Modellstoffsyste...  \n",
      "4   Entwicklung eines Frühwarnsystems zur Steigeru...  \n",
      "5   Methodische Entwicklung und Bewertung von Elek...  \n",
      "6   TU intern: die Hochschulzeitung der Technische...  \n",
      "7   Mobile phone-based health interventions for im...  \n",
      "8   Reading Patina: Learning from the contextual c...  \n",
      "9   Advancing data curation with metadata and stat...  \n",
      "10  Gestaltung von Logistiknetzwerken für die huma...  \n"
     ]
    },
    {
     "name": "stderr",
     "output_type": "stream",
     "text": [
      "2020-06-06 13:34:18 [scrapy.core.engine] DEBUG: Crawled (200) <GET https://depositonce.tu-berlin.de/simple-search?query=gps&sort_by=score&order=desc&rpp=10&etal=0&start=360> (referer: https://depositonce.tu-berlin.de/simple-search?query=gps&sort_by=score&order=desc&rpp=10&etal=0&start=350)\n"
     ]
    },
    {
     "name": "stdout",
     "output_type": "stream",
     "text": [
      "                        Author   Issue date  \\\n",
      "0                         None         None   \n",
      "1             Biberger, Julian         2017   \n",
      "2               Weicker, Tonio         2019   \n",
      "3                         None  13-Sep-2019   \n",
      "4               Rößler, Robert   2-Sep-2014   \n",
      "5   Colwill, Simon Christopher         2019   \n",
      "6              Richter, Markus  21-Aug-2013   \n",
      "7              Alamouri, Ahmed  22-Feb-2011   \n",
      "8               Hoffmann, Anja  14-Jan-2009   \n",
      "9                Koch, Daniela  17-Nov-2015   \n",
      "10          Arbanowski, Stefan  27-Nov-2003   \n",
      "\n",
      "                                                Title  \n",
      "0                                                None  \n",
      "1   Tribologisch induzierte Oberflächenveränderung...  \n",
      "2   Russian cities in motion: the Marshrutka as a ...  \n",
      "3                             31. Forum Bauinformatik  \n",
      "4   Transparente leitfähige Oxide (TCO) in Siliziu...  \n",
      "5   Reading Patina: Catalogue of weak points and v...  \n",
      "6      Nutzenoptimierter RFID-Einsatz in der Logistik  \n",
      "7   Generation of a 3D city model of Baalbek/Leban...  \n",
      "8   Biologische Funktionsfähigkeit und Dynamik des...  \n",
      "9   mHealth in der Prävention und Therapie von Adi...  \n",
      "10                           I-Centric Communications  \n"
     ]
    },
    {
     "name": "stderr",
     "output_type": "stream",
     "text": [
      "2020-06-06 13:34:18 [scrapy.core.engine] DEBUG: Crawled (200) <GET https://depositonce.tu-berlin.de/simple-search?query=gps&sort_by=score&order=desc&rpp=10&etal=0&start=370> (referer: https://depositonce.tu-berlin.de/simple-search?query=gps&sort_by=score&order=desc&rpp=10&etal=0&start=360)\n"
     ]
    },
    {
     "name": "stdout",
     "output_type": "stream",
     "text": [
      "                        Author   Issue date  \\\n",
      "0                         None         None   \n",
      "1                 Hodzic, Anes  15-Nov-2004   \n",
      "2                 Lemić, Filip         2018   \n",
      "3   Nanga-Me-Abengmoni, Léonel         2019   \n",
      "4            Hutterer, Florian         2019   \n",
      "5              Köring, Dietmar         2019   \n",
      "6                         None     Apr-2010   \n",
      "7                         None     Jan-2010   \n",
      "8                         None     Apr-2012   \n",
      "9                         None     Oct-2010   \n",
      "10                    Chen, Yu   4-Mar-2013   \n",
      "\n",
      "                                                Title  \n",
      "0                                                None  \n",
      "1   Investigation of high bit rate optical transmi...  \n",
      "2   Enhanced location information and its applicat...  \n",
      "3   M-Learning in dem fernen Land Kamerun: Chancen...  \n",
      "4   Globale Urbanisierungstrends und Zukunft des W...  \n",
      "5                           Conscious city laboratory  \n",
      "6   TU intern: die Hochschulzeitung der Technische...  \n",
      "7   TU intern: die Hochschulzeitung der Technische...  \n",
      "8   TU intern: die Hochschulzeitung der Technische...  \n",
      "9   TU intern: die Hochschulzeitung der Technische...  \n",
      "10  Adding a comprehensive Calibration Methodology...  \n"
     ]
    },
    {
     "name": "stderr",
     "output_type": "stream",
     "text": [
      "2020-06-06 13:34:19 [scrapy.core.engine] DEBUG: Crawled (200) <GET https://depositonce.tu-berlin.de/simple-search?query=gps&sort_by=score&order=desc&rpp=10&etal=0&start=380> (referer: https://depositonce.tu-berlin.de/simple-search?query=gps&sort_by=score&order=desc&rpp=10&etal=0&start=370)\n"
     ]
    },
    {
     "name": "stdout",
     "output_type": "stream",
     "text": [
      "                       Author   Issue date  \\\n",
      "0                        None         None   \n",
      "1                        None         2015   \n",
      "2             Busse, Reinhard  16-Jun-2015   \n",
      "3            Hartmann, Ulrich  28-Nov-2005   \n",
      "4                        None     Jun-2012   \n",
      "5                  Milev, Ivo  20-Jun-2001   \n",
      "6            Nukman, Mochamad  28-Mar-2014   \n",
      "7   Azhdast, Mohammad Hossein         2018   \n",
      "8       Weber, Simon Nikolaus  21-Feb-2018   \n",
      "9                        None     Nov-2017   \n",
      "10                Massow, Kay  20-Mar-2018   \n",
      "\n",
      "                                                Title  \n",
      "0                                                None  \n",
      "1                           Trends in Neuroergonomics  \n",
      "2   Arzneimittelversorgung in der GKV und 15 ander...  \n",
      "3   Neue Erkenntnisse zur Simulation der Reibkorro...  \n",
      "4   TU intern: die Hochschulzeitung der Technische...  \n",
      "5   Integrierte Modelle zur Physikalischen Interpr...  \n",
      "6   Geothermal exploration involving structural ge...  \n",
      "7   Adhesion mechanism between laser sputtered mat...  \n",
      "8   Learning place cells, grid cells and invarianc...  \n",
      "9   TU intern: die Hochschulzeitung der Technische...  \n",
      "10  A rapid prototyping environment for cooperativ...  \n"
     ]
    },
    {
     "name": "stderr",
     "output_type": "stream",
     "text": [
      "2020-06-06 13:34:20 [scrapy.core.engine] DEBUG: Crawled (200) <GET https://depositonce.tu-berlin.de/simple-search?query=gps&sort_by=score&order=desc&rpp=10&etal=0&start=390> (referer: https://depositonce.tu-berlin.de/simple-search?query=gps&sort_by=score&order=desc&rpp=10&etal=0&start=380)\n"
     ]
    },
    {
     "name": "stdout",
     "output_type": "stream",
     "text": [
      "                  Author   Issue date  \\\n",
      "0                   None         None   \n",
      "1                   None     Sep-2017   \n",
      "2         Scherz, Marian   4-Jan-2008   \n",
      "3       Lindberg, Thomas   9-Mar-2012   \n",
      "4       Hoene, Christian  31-Mar-2006   \n",
      "5            Popp, Almut  12-Mar-2008   \n",
      "6   Niedermayer, Michael  10-Dec-2010   \n",
      "7       Abusubaih, Murad   9-Oct-2009   \n",
      "8       Handziski, Vlado  14-Mar-2011   \n",
      "9            Enge, Felix  16-Jun-2010   \n",
      "10          Thiede, Carl  31-Mar-2011   \n",
      "\n",
      "                                                Title  \n",
      "0                                                None  \n",
      "1   TU intern: die Hochschulzeitung der Technische...  \n",
      "2   Mobile Business - Schaffung eines Bewusstseins...  \n",
      "3   Entwicklung einer ABK-Metapher für gruppierte ...  \n",
      "4              Internet Telephony over Wireless Links  \n",
      "5   Produktion und Freisetzung von L-Glycerol-3-Ph...  \n",
      "6   Methoden zur Kostenoptimierung von drahtlosen ...  \n",
      "7              Cognitive Wireless Local Area Networks  \n",
      "8   Double-Anchored Software Architecture for Wire...  \n",
      "9   Muster in Prozessen der Bauablaufplanung. Ein ...  \n",
      "10  Druckneutrale Sensoren und Aktoren für den Dau...  \n"
     ]
    },
    {
     "name": "stderr",
     "output_type": "stream",
     "text": [
      "2020-06-06 13:34:20 [scrapy.core.engine] DEBUG: Crawled (200) <GET https://depositonce.tu-berlin.de/simple-search?query=gps&sort_by=score&order=desc&rpp=10&etal=0&start=400> (referer: https://depositonce.tu-berlin.de/simple-search?query=gps&sort_by=score&order=desc&rpp=10&etal=0&start=390)\n"
     ]
    },
    {
     "name": "stdout",
     "output_type": "stream",
     "text": [
      "                    Author   Issue date  \\\n",
      "0                     None         None   \n",
      "1   Enkurie, Dawit Lebenie  25-Oct-2010   \n",
      "2          Laudenbach, Jan  15-Jan-2014   \n",
      "3          Hoffmann, Felix   4-Mar-2015   \n",
      "4          Gschrey, Manuel         2015   \n",
      "5             Nies, Daniel  10-Apr-2012   \n",
      "6         Grether, Dominik  20-Jun-2014   \n",
      "7          Dussel, Michael  16-Jun-2005   \n",
      "8         Dehnert, Juliane  10-Sep-2003   \n",
      "9        Grosse, Christine  17-Sep-2003   \n",
      "10     Schmuntzsch, Ulrike  25-Nov-2014   \n",
      "\n",
      "                                                Title  \n",
      "0                                                None  \n",
      "1   Adigrat Sandstone in Northern and Central Ethi...  \n",
      "2   Raman spectroscopy of single-walled carbon nan...  \n",
      "3   Routing and internet gateway selection in aero...  \n",
      "4   In-situ Kathodolumineszenzlithographie zur Her...  \n",
      "5   Entwicklung eines Prüfverfahrens zur laserindu...  \n",
      "6   Extension of a multi-agent transport simulatio...  \n",
      "7   Hydrotektonik und Grundwasserdynamik im rezent...  \n",
      "8                 A methodology for workflow modeling  \n",
      "9   Verkehrsabhängige Betriebsführung bei Stadtsch...  \n",
      "10  Entwicklung und Evaluation des Konzepts der mu...  \n"
     ]
    },
    {
     "name": "stderr",
     "output_type": "stream",
     "text": [
      "2020-06-06 13:34:21 [scrapy.core.engine] DEBUG: Crawled (200) <GET https://depositonce.tu-berlin.de/simple-search?query=gps&sort_by=score&order=desc&rpp=10&etal=0&start=410> (referer: https://depositonce.tu-berlin.de/simple-search?query=gps&sort_by=score&order=desc&rpp=10&etal=0&start=400)\n"
     ]
    },
    {
     "name": "stdout",
     "output_type": "stream",
     "text": [
      "                     Author   Issue date  \\\n",
      "0                      None         None   \n",
      "1      Hildebrand, Kristian   7-Jul-2014   \n",
      "2          Großmann, Jürgen   5-Aug-2014   \n",
      "3         Maghsudi, Setareh  15-Apr-2015   \n",
      "4       Lauterbach, Andreas   4-Dec-2013   \n",
      "5   Nickel, Julia Christine  24-Sep-2014   \n",
      "6    Weiler, Richard Jürgen         2016   \n",
      "7                      None         2017   \n",
      "8   Saucken, Anna-Maria von         2017   \n",
      "9   Masmoudi Jabri, Khaoula         2019   \n",
      "10         Petrovic, Bojana         2018   \n",
      "\n",
      "                                                Title  \n",
      "0                                                None  \n",
      "1                        Digital fabrication of shape  \n",
      "2                  Testing hybrid systems with TTCN-3  \n",
      "3   Distributed resource allocation in wireless ne...  \n",
      "4   Skalierungseffekte in der Aeroakustik von Hoch...  \n",
      "5   Investigation of the activity and formation of...  \n",
      "6   Channel investigation of outdoor millimeter-wa...  \n",
      "7   Manual de diretrizes – uma compilação de conte...  \n",
      "8   Prospektiv-Nutzergerechte Softwaregestaltung i...  \n",
      "9   Contribution to the optimization of biological...  \n",
      "10        Studying soil-structure interaction effects  \n"
     ]
    },
    {
     "name": "stderr",
     "output_type": "stream",
     "text": [
      "2020-06-06 13:34:22 [scrapy.core.engine] DEBUG: Crawled (200) <GET https://depositonce.tu-berlin.de/simple-search?query=gps&sort_by=score&order=desc&rpp=10&etal=0&start=420> (referer: https://depositonce.tu-berlin.de/simple-search?query=gps&sort_by=score&order=desc&rpp=10&etal=0&start=410)\n"
     ]
    },
    {
     "name": "stdout",
     "output_type": "stream",
     "text": [
      "                      Author Issue date  \\\n",
      "0                       None       None   \n",
      "1   Scheihing, Konstantin W.       2018   \n",
      "2              Horne, Jannic       2019   \n",
      "3           Pertiller, Armin       2019   \n",
      "4        Kamel Hassan, Sarah       2019   \n",
      "5         Scheucher, Manfred       2020   \n",
      "6           Iordanou, Kostas       2019   \n",
      "7                 Ding, Feng       2018   \n",
      "8                  Li, Yilin       2019   \n",
      "9                Slama, Dirk       2019   \n",
      "10       Clemens, Konstantin       2020   \n",
      "\n",
      "                                                Title  \n",
      "0                                                None  \n",
      "1    Water resources management in the Atacama Desert  \n",
      "2           The sustainability impact of new ventures  \n",
      "3          Markierungslicht in der Straßenbeleuchtung  \n",
      "4   Enzymatic Synthesis of alpha-D-Pentofuranose -...  \n",
      "5                         Points, lines, and circles:  \n",
      "6   Crowdsourcing as a guardian of transparency, p...  \n",
      "7   Developing e-commerce logistics in cross-borde...  \n",
      "8   Efficient data delivery in 5G mobile communica...  \n",
      "9   IgniteWorx: Design and evaluation of a system-...  \n",
      "10                             Geocoding user queries  \n"
     ]
    },
    {
     "name": "stderr",
     "output_type": "stream",
     "text": [
      "2020-06-06 13:34:23 [scrapy.core.engine] DEBUG: Crawled (200) <GET https://depositonce.tu-berlin.de/simple-search?query=gps&sort_by=score&order=desc&rpp=10&etal=0&start=430> (referer: https://depositonce.tu-berlin.de/simple-search?query=gps&sort_by=score&order=desc&rpp=10&etal=0&start=420)\n"
     ]
    },
    {
     "name": "stdout",
     "output_type": "stream",
     "text": [
      "                          Author   Issue date  \\\n",
      "0                           None         None   \n",
      "1      Schwarz, Jennifer Rebecca  19-Dec-2012   \n",
      "2                 Sack, Dorothée  25-Sep-2012   \n",
      "3                 Werner, Silvia   1-Aug-2001   \n",
      "4             Popov, Valentin L.     Apr-2019   \n",
      "5           Kautz, Clemens Kolja         2019   \n",
      "6            Tcholtchev, Nikolay         2019   \n",
      "7        Emara, Ahmed Abdelrazek  17-Oct-2011   \n",
      "8                Bießmann, Felix  13-Jan-2012   \n",
      "9   Pienkowski, Dariusz Zbigniew  17-Jun-2005   \n",
      "10                Fabis, Radomir  11-Oct-2006   \n",
      "\n",
      "                                                Title  \n",
      "0                                                None  \n",
      "1   Humanitäre Logistik für die Versorgungsproblem...  \n",
      "2   MSD: Masterstudium Denkmalpflege an der TU Ber...  \n",
      "3   Environmental Knowledge and Resource Managemen...  \n",
      "4                       Handbook of contact mechanics  \n",
      "5   Methodische Entwicklung einer modularen Lasers...  \n",
      "6   Scalable and efficient distributed self-healin...  \n",
      "7   Interactions of Flow Field and Combustion Char...  \n",
      "8    Data-driven analysis for multimodal neuroimaging  \n",
      "9   CMOS Low-Noise Amplifier Design for Reconfigur...  \n",
      "10    Beitrag zum Energiemanagement in Kfz-Bordnetzen  \n"
     ]
    },
    {
     "name": "stderr",
     "output_type": "stream",
     "text": [
      "2020-06-06 13:34:23 [scrapy.core.engine] DEBUG: Crawled (200) <GET https://depositonce.tu-berlin.de/simple-search?query=gps&sort_by=score&order=desc&rpp=10&etal=0&start=440> (referer: https://depositonce.tu-berlin.de/simple-search?query=gps&sort_by=score&order=desc&rpp=10&etal=0&start=430)\n"
     ]
    },
    {
     "name": "stdout",
     "output_type": "stream",
     "text": [
      "                       Author   Issue date  \\\n",
      "0                        None         None   \n",
      "1              Wustrow, Sören  19-Oct-2009   \n",
      "2                        None         2016   \n",
      "3   Hamed, Hamed Basher Osman  28-Apr-2015   \n",
      "4     Alibrahim, Mohammad Ali         2016   \n",
      "5           Rhie, Hyoung-Seub  23-Dec-2003   \n",
      "6               Mautz, Rainer  20-Feb-2001   \n",
      "7                Oehm, Stefan         2016   \n",
      "8            Schiöberg, Doris  23-May-2014   \n",
      "9                        None         2017   \n",
      "10             Vetter, Julian         2017   \n",
      "\n",
      "                                                Title  \n",
      "0                                                None  \n",
      "1   Möglichkeiten und Grenzen der Modellierung des...  \n",
      "2   Beware of smart people! Redefining the smart c...  \n",
      "3       Pleistocene reefs of the Red Sea coast, Sudan  \n",
      "4   Geological mapping of Eastern Syria by using r...  \n",
      "5   Femtosekunden Elektronen- und Spindynamik in d...  \n",
      "6   Zur Lösung nichtlinearer Ausgleichungsprobleme...  \n",
      "7   Adaptation of E. coli towards tryptophan analo...  \n",
      "8   From online social network usage to the design...  \n",
      "9               Bauforschung und Denkmalpflege 1.2017  \n",
      "10  Strengthening system security on the ARMv7 pro...  \n"
     ]
    },
    {
     "name": "stderr",
     "output_type": "stream",
     "text": [
      "2020-06-06 13:34:24 [scrapy.core.engine] DEBUG: Crawled (200) <GET https://depositonce.tu-berlin.de/simple-search?query=gps&sort_by=score&order=desc&rpp=10&etal=0&start=450> (referer: https://depositonce.tu-berlin.de/simple-search?query=gps&sort_by=score&order=desc&rpp=10&etal=0&start=440)\n"
     ]
    },
    {
     "name": "stdout",
     "output_type": "stream",
     "text": [
      "                   Author   Issue date  \\\n",
      "0                    None         None   \n",
      "1        Rautschke, Felix         2019   \n",
      "2                    None     Sep-2016   \n",
      "3         Buscher, Martin         2019   \n",
      "4   Herrero Ortega, Sonia         2019   \n",
      "5             König, Jens  27-May-2009   \n",
      "6      Toker, Ahmet Cihat  22-Mar-2011   \n",
      "7          Goldmann, Lutz   2-Feb-2010   \n",
      "8          Winkler, Irene         2016   \n",
      "9      Lakes, Tobia Maike  18-Oct-2006   \n",
      "10        Al-Hazmi, Yahya         2016   \n",
      "\n",
      "                                                Title  \n",
      "0                                                None  \n",
      "1   Schaltungsentwurf und Aufbautechnologie hochef...  \n",
      "2   TU intern: die Hochschulzeitung der Technische...  \n",
      "3   Investigations on the current and future use o...  \n",
      "4   Greenhouse gas formation and flux across bound...  \n",
      "5   Herstellung und Einsatz CVD-diamantbeschichtet...  \n",
      "6   User Facilitated Real-Time Inter-Operator Reso...  \n",
      "7   Towards an Universal Person Description Framew...  \n",
      "8   On the extraction, classification and causal a...  \n",
      "9   Beitrag des Informationsmanagements für den Ei...  \n",
      "10  Unification of monitoring interfaces of federa...  \n"
     ]
    },
    {
     "name": "stderr",
     "output_type": "stream",
     "text": [
      "2020-06-06 13:34:25 [scrapy.core.engine] DEBUG: Crawled (200) <GET https://depositonce.tu-berlin.de/simple-search?query=gps&sort_by=score&order=desc&rpp=10&etal=0&start=460> (referer: https://depositonce.tu-berlin.de/simple-search?query=gps&sort_by=score&order=desc&rpp=10&etal=0&start=450)\n"
     ]
    },
    {
     "name": "stdout",
     "output_type": "stream",
     "text": [
      "                       Author   Issue date  \\\n",
      "0                        None         None   \n",
      "1             Hamann, Bettina  16-Mar-2007   \n",
      "2            Maussion, Fabien  11-Mar-2014   \n",
      "3          Preradović, Oliver   8-Oct-2013   \n",
      "4   Huber, Stefanie Anneliese   4-Apr-2012   \n",
      "5               Hüske, Fabian         2016   \n",
      "6        Dieguez Alonso, Alba         2015   \n",
      "7                 Munk, Peter         2016   \n",
      "8            Wiethölter, Sven  21-Jul-2014   \n",
      "9              Waldherr, Ruth         2018   \n",
      "10             Jaeschke, Lina         2018   \n",
      "\n",
      "                                                Title  \n",
      "0                                                None  \n",
      "1   Ökologische und sozioökonomische Entwicklungen...  \n",
      "2             A new atmospheric dataset for High Asia  \n",
      "3   Gestaltung eines autonomen Unterwasserfahrzeug...  \n",
      "4   Optimierung des Funktionsumfanges von Airport ...  \n",
      "5   Specification and optimization of analytical d...  \n",
      "6   Fixed-bed biomass pyrolysis: mechanisms and bi...  \n",
      "7   A software fault-tolerance mechanism for mixed...  \n",
      "8   Support of resource-aware vertical handovers i...  \n",
      "9   The role of contextual factors for breastfeedi...  \n",
      "10  Application of multiday 24h-accelerometry in e...  \n"
     ]
    },
    {
     "name": "stderr",
     "output_type": "stream",
     "text": [
      "2020-06-06 13:34:26 [scrapy.core.engine] DEBUG: Crawled (200) <GET https://depositonce.tu-berlin.de/simple-search?query=gps&sort_by=score&order=desc&rpp=10&etal=0&start=470> (referer: https://depositonce.tu-berlin.de/simple-search?query=gps&sort_by=score&order=desc&rpp=10&etal=0&start=460)\n"
     ]
    },
    {
     "name": "stdout",
     "output_type": "stream",
     "text": [
      "                       Author   Issue date  \\\n",
      "0                        None         None   \n",
      "1          Krauß, Christopher         2018   \n",
      "2               Haas, Michael         2019   \n",
      "3               Kuck, Joachim         2019   \n",
      "4               Mohamed, Heba         2019   \n",
      "5            Bassbouss, Louay         2020   \n",
      "6                   Lu, Yanfu         2020   \n",
      "7   Afonso-Cortes, Ilka-Maria   2-May-2001   \n",
      "8          Karrer-Gauß, Katja  23-Apr-2012   \n",
      "9              Shu, Felix Che  13-Mar-2000   \n",
      "10         Hannebauer, Markus  17-Dec-2001   \n",
      "\n",
      "                                                Title  \n",
      "0                                                None  \n",
      "1   Time-dependent recommender systems for the pre...  \n",
      "2   Towards time- and state-dependent seismic risk...  \n",
      "3   Medikamentöse Behandlung von Heimbewohnern mit...  \n",
      "4   Chemoenzymatic synthesis of nucleoside analogs...  \n",
      "5   Concepts and models for creating distributed m...  \n",
      "6   Fehleranalysestrategien für digitale Dienste i...  \n",
      "7   Hydrogeochemische Untersuchungen und Bestimmun...  \n",
      "8   Prospektive Bewertung von Systemen zur Müdigke...  \n",
      "9   The growth rate of random polynomials defined ...  \n",
      "10  Autonomous Dynamic Reconfiguration in Collabor...  \n"
     ]
    },
    {
     "name": "stderr",
     "output_type": "stream",
     "text": [
      "2020-06-06 13:34:26 [scrapy.core.engine] DEBUG: Crawled (200) <GET https://depositonce.tu-berlin.de/simple-search?query=gps&sort_by=score&order=desc&rpp=10&etal=0&start=480> (referer: https://depositonce.tu-berlin.de/simple-search?query=gps&sort_by=score&order=desc&rpp=10&etal=0&start=470)\n"
     ]
    },
    {
     "name": "stdout",
     "output_type": "stream",
     "text": [
      "                   Author   Issue date  \\\n",
      "0                    None         None   \n",
      "1                    None  26-Nov-2013   \n",
      "2         Theorell, Töres  18-Aug-2011   \n",
      "3        Pross, Christoph         2017   \n",
      "4         Schmidt, Jürgen         2018   \n",
      "5   Müller, Claudia Agnes  22-Apr-2015   \n",
      "6              Seo, Sambu  18-Nov-2005   \n",
      "7         Becken, Michael  28-Oct-2005   \n",
      "8        Kietzer, Barbara  19-Dec-2007   \n",
      "9           Eichhorn, Jan   5-Mar-2007   \n",
      "10            Keiser, Jan   6-Oct-2008   \n",
      "\n",
      "                                                Title  \n",
      "0                                                None  \n",
      "1                            Parameter des Entwerfens  \n",
      "2   Development of Macro Level Indicators of Restr...  \n",
      "3   Qualitätstransparenz in Deutschland und deren ...  \n",
      "4   Detektion der Reaktionsbereitschaft beim hocha...  \n",
      "5                                 Forschendes Theater  \n",
      "6       Clustering and Prototype Based Classification  \n",
      "7   Properties of magnetotelluric transfer functio...  \n",
      "8   Aufklärung der Bodenverlagerung durch Bearbeit...  \n",
      "9   Applications of Kernel Machines to Structured ...  \n",
      "10  MIAS: Management Infrastruktur für agentenbasi...  \n"
     ]
    },
    {
     "name": "stderr",
     "output_type": "stream",
     "text": [
      "2020-06-06 13:34:27 [scrapy.core.engine] DEBUG: Crawled (200) <GET https://depositonce.tu-berlin.de/simple-search?query=gps&sort_by=score&order=desc&rpp=10&etal=0&start=490> (referer: https://depositonce.tu-berlin.de/simple-search?query=gps&sort_by=score&order=desc&rpp=10&etal=0&start=480)\n"
     ]
    },
    {
     "name": "stdout",
     "output_type": "stream",
     "text": [
      "                     Author   Issue date  \\\n",
      "0                      None         None   \n",
      "1          Hermann, Carsten   7-Feb-2007   \n",
      "2         Gleißner, Philipp  13-Jan-2011   \n",
      "3           Schankat, Mirko  29-May-2009   \n",
      "4          Dressler, Daniel  24-Sep-2012   \n",
      "5           Bether, Carsten   1-Dec-2008   \n",
      "6          Wiederhold, Olaf  12-May-2011   \n",
      "7            Fricke, Nicola  17-Jul-2009   \n",
      "8   Markou, Maria Alexander  15-Feb-2012   \n",
      "9             Maier, Gregor   9-Sep-2010   \n",
      "10      Lahidjanian, Daniel  25-May-2011   \n",
      "\n",
      "                                                Title  \n",
      "0                                                None  \n",
      "1   Einsatz integrierter Transformatoren in HF-Emp...  \n",
      "2   Petrogenesis of anorthosites of the Mesoproter...  \n",
      "3   DiaTrans – A Multi-Component Model for Density...  \n",
      "4   Network Flow Problems Arising From Evacuation ...  \n",
      "5   Software Service Composition in Next Generatio...  \n",
      "6   Regelung abgelöster Strömungen in hoch belaste...  \n",
      "7   Gestaltung zeit- und sicherheitskritischer War...  \n",
      "8   New media and economy: The rising of the atten...  \n",
      "9   Residential Broadband Internet Traffic: Charac...  \n",
      "10  Effekte einer Atmosphärendruck-Plasmabehandlun...  \n"
     ]
    },
    {
     "name": "stderr",
     "output_type": "stream",
     "text": [
      "2020-06-06 13:34:28 [scrapy.core.engine] DEBUG: Crawled (200) <GET https://depositonce.tu-berlin.de/simple-search?query=gps&sort_by=score&order=desc&rpp=10&etal=0&start=500> (referer: https://depositonce.tu-berlin.de/simple-search?query=gps&sort_by=score&order=desc&rpp=10&etal=0&start=490)\n"
     ]
    },
    {
     "name": "stdout",
     "output_type": "stream",
     "text": [
      "                       Author   Issue date  \\\n",
      "0                        None         None   \n",
      "1               Loth, Andreas  14-Aug-2014   \n",
      "2               Rein, Stephan  14-Jun-2010   \n",
      "3   Cordero Gonzalez, Zorabel  14-Apr-2011   \n",
      "4               Haufe, Stefan  10-Jan-2012   \n",
      "5                 Evuk, David  23-Oct-2013   \n",
      "6             Müller, Stephan   4-May-2012   \n",
      "7           Büttner, Philippe  29-Jul-2014   \n",
      "8          Lehmann, Christian  27-Sep-2013   \n",
      "9            Neumann, Andreas   4-Jul-2014   \n",
      "10           Spiegel, Timo U.         2016   \n",
      "\n",
      "                                                Title  \n",
      "0                                                None  \n",
      "1   Entwicklung von Verfahren und Applikatoren für...  \n",
      "2   Low Complexity Text and Image Compression for ...  \n",
      "3   Vitamin E intake and cardiovascular diseases i...  \n",
      "4            Towards EEG source connectivity analysis  \n",
      "5   Geodynamic evolution of the central-eastern Ba...  \n",
      "6   Makroskopische Verkehrsmodellierung mit der Ei...  \n",
      "7            Kausales Schließen in komplexen Systemen  \n",
      "8   Neue Perspektiven für Ultra-Hochleistungsbeton...  \n",
      "9   A paratransit-inspired evolutionary process fo...  \n",
      "10  Technologieorientiertes Service Engineering in...  \n"
     ]
    },
    {
     "name": "stderr",
     "output_type": "stream",
     "text": [
      "2020-06-06 13:34:29 [scrapy.core.engine] DEBUG: Crawled (200) <GET https://depositonce.tu-berlin.de/simple-search?query=gps&sort_by=score&order=desc&rpp=10&etal=0&start=510> (referer: https://depositonce.tu-berlin.de/simple-search?query=gps&sort_by=score&order=desc&rpp=10&etal=0&start=500)\n"
     ]
    },
    {
     "name": "stdout",
     "output_type": "stream",
     "text": [
      "                 Author   Issue date  \\\n",
      "0                  None         None   \n",
      "1      Winterfeld, Jens   2-Aug-2001   \n",
      "2     Wziontek, Hartmut  11-Mar-2004   \n",
      "3     Schneider, Fabian  14-Jul-2010   \n",
      "4   Richter, Philipp M.  26-Aug-2015   \n",
      "5     Brüning, Matthias         2016   \n",
      "6        Kliem, Andreas   1-Jul-2015   \n",
      "7         Schokry, Abed   8-Mar-2006   \n",
      "8        Fricke, Stefan  10-Jan-2001   \n",
      "9     Wagner, Roland M.  19-Jun-2003   \n",
      "10  Schelter, Sebastian         2016   \n",
      "\n",
      "                                                Title  \n",
      "0                                                None  \n",
      "1   Einflüsse der Reibdauerbeanspruchung auf die T...  \n",
      "2   Zur Parametrisierung radialsymmetrischer Dicht...  \n",
      "3   Analysis of New Trends in the Web from a Netwo...  \n",
      "4                          Trade and climate policies  \n",
      "5   Modellieren, Stabilisieren und Manövrieren ein...  \n",
      "6                            Cooperative Device Cloud  \n",
      "7   Ganzheitliche Gestaltung von Arbeitssystemen i...  \n",
      "8   Werkzeuggestützte Entwicklung kooperativer Age...  \n",
      "9   A model for the digital representation and tra...  \n",
      "10  Scaling data mining in massively parallel data...  \n"
     ]
    },
    {
     "name": "stderr",
     "output_type": "stream",
     "text": [
      "2020-06-06 13:34:29 [scrapy.core.engine] DEBUG: Crawled (200) <GET https://depositonce.tu-berlin.de/simple-search?query=gps&sort_by=score&order=desc&rpp=10&etal=0&start=520> (referer: https://depositonce.tu-berlin.de/simple-search?query=gps&sort_by=score&order=desc&rpp=10&etal=0&start=510)\n"
     ]
    },
    {
     "name": "stdout",
     "output_type": "stream",
     "text": [
      "                       Author   Issue date  \\\n",
      "0                        None         None   \n",
      "1       Corici, Marius Iulian   3-Jun-2014   \n",
      "2           Helfmeier, Kilian         2017   \n",
      "3            Schüppel, Fabian  24-Aug-2015   \n",
      "4   Graf-Rosenfellner, Markus         2016   \n",
      "5              Lienen, Tobias         2016   \n",
      "6              Walter, Marcus         2017   \n",
      "7            Neumann, Carsten         2017   \n",
      "8             Schmid, Michael         2019   \n",
      "9       Sherzad, Abdul Rahman         2018   \n",
      "10                       None         2018   \n",
      "\n",
      "                                                Title  \n",
      "0                                                None  \n",
      "1   Self-adaptable IP control in carrier grade mob...  \n",
      "2   Entwicklung, Aufbau und Evaluation eines kabel...  \n",
      "3   Optimierung des Heiz- und Klimakonzepts zur Re...  \n",
      "4    Soil organic matter in riparian floodplain soils  \n",
      "5   Zusammenhänge zwischen Prozessstörungen und de...  \n",
      "6   Kooperative Fahrzeugführungsregelung für assis...  \n",
      "7   Spatial nature conservation monitoring on the ...  \n",
      "8   CFD-basierte evolutions­strategische Black-Box...  \n",
      "9   Shaping the selection of fields of study in Af...  \n",
      "10  Proceedings of the 3rd International Mobile Br...  \n"
     ]
    },
    {
     "name": "stderr",
     "output_type": "stream",
     "text": [
      "2020-06-06 13:34:30 [scrapy.core.engine] DEBUG: Crawled (200) <GET https://depositonce.tu-berlin.de/simple-search?query=gps&sort_by=score&order=desc&rpp=10&etal=0&start=530> (referer: https://depositonce.tu-berlin.de/simple-search?query=gps&sort_by=score&order=desc&rpp=10&etal=0&start=520)\n"
     ]
    },
    {
     "name": "stdout",
     "output_type": "stream",
     "text": [
      "                       Author   Issue date  \\\n",
      "0                        None         None   \n",
      "1               Berger, Sarah         2019   \n",
      "2    Murauer, Cornelia Sophie         2019   \n",
      "3          Pollakis, Emmanuel         2017   \n",
      "4      Fürstmann, Paul Günter         2018   \n",
      "5   Peña Fernández, Juan José         2018   \n",
      "6             Pflugradt, Maik         2018   \n",
      "7    Elmlinger, Philipp Simon         2019   \n",
      "8           Adelberg, Stephan         2019   \n",
      "9              Aufmkolk, Fine  25-Nov-2013   \n",
      "10     Ritter, Markus Raimund         2019   \n",
      "\n",
      "                                                Title  \n",
      "0                                                None  \n",
      "1   Analyse der Hyperinflammation im Verlauf der m...  \n",
      "2   Full shift usage of smart glasses in order pic...  \n",
      "3     Towards energy aware wireless network operation  \n",
      "4   Einsatzverhalten und Leistungsbedarfe untersch...  \n",
      "5                       The compressible starting jet  \n",
      "6   Enabling continuous blood pressure estimation ...  \n",
      "7   Prozessierung und Anwendung SiO2 basierter Lic...  \n",
      "8   Virtuelle Prototypen für die Fahrzeugapplikati...  \n",
      "9                            Entwurfsbasiert Forschen  \n",
      "10  An extended modal approach for nonlinear aeroe...  \n"
     ]
    },
    {
     "name": "stderr",
     "output_type": "stream",
     "text": [
      "2020-06-06 13:34:31 [scrapy.core.engine] DEBUG: Crawled (200) <GET https://depositonce.tu-berlin.de/simple-search?query=gps&sort_by=score&order=desc&rpp=10&etal=0&start=540> (referer: https://depositonce.tu-berlin.de/simple-search?query=gps&sort_by=score&order=desc&rpp=10&etal=0&start=530)\n"
     ]
    },
    {
     "name": "stdout",
     "output_type": "stream",
     "text": [
      "                    Author   Issue date  \\\n",
      "0                     None         None   \n",
      "1             Traub, Jonas         2019   \n",
      "2          Zerbe, Johannes         2019   \n",
      "3        Prezenski, Sabine         2019   \n",
      "4   Lühmann, Alexander von         2018   \n",
      "5      Borchert, Anna-Gret         2019   \n",
      "6        Menn, Jan Philipp         2019   \n",
      "7   Mirahmadi, Marjansadat         2020   \n",
      "8    Malissiovas, Georgios         2019   \n",
      "9       Weber-Lucks, Theda  30-Oct-2008   \n",
      "10           Brzank, Petra  21-Feb-2012   \n",
      "\n",
      "                                                Title  \n",
      "0                                                None  \n",
      "1   Demand-based data stream gathering, processing...  \n",
      "2   Innovative Wickeltechnologien für Statorspulen...  \n",
      "3             Interactive learning of dynamic systems  \n",
      "4   Multimodal instrumentation and methods for neu...  \n",
      "5   Aktive Schwingungstilgung der horizontalen Sch...  \n",
      "6   Lernerzentrierte digitale Werkzeuge zur Montag...  \n",
      "7   Spectra and dynamics of driven linear quantum ...  \n",
      "8   New nonlinear adjustment approaches for applic...  \n",
      "9                                       Körperstimmen  \n",
      "10  Hilfesuchverhalten im Kontext von Partnergewal...  \n"
     ]
    },
    {
     "name": "stderr",
     "output_type": "stream",
     "text": [
      "2020-06-06 13:34:31 [scrapy.core.engine] DEBUG: Crawled (200) <GET https://depositonce.tu-berlin.de/simple-search?query=gps&sort_by=score&order=desc&rpp=10&etal=0&start=550> (referer: https://depositonce.tu-berlin.de/simple-search?query=gps&sort_by=score&order=desc&rpp=10&etal=0&start=540)\n"
     ]
    },
    {
     "name": "stdout",
     "output_type": "stream",
     "text": [
      "                           Author   Issue date  \\\n",
      "0                            None         None   \n",
      "1         Fernandez Milan, Blanca         2016   \n",
      "2                   Rothmann, Lea         2019   \n",
      "3                  Krause, Oliver  17-Jun-2005   \n",
      "4               Lehmann, Matthias  12-Feb-2007   \n",
      "5                    Wulf, Jochen   8-Feb-2012   \n",
      "6                  Herter, Stefan   5-Aug-2010   \n",
      "7      Strebl-Schneider, Scarlett   9-Aug-2010   \n",
      "8                  Rothe, Stephan   5-Aug-2014   \n",
      "9                 Albrecht, Marco   9-Dec-2011   \n",
      "10  Vouffo Feudjio, Alain-Georges  14-Jul-2011   \n",
      "\n",
      "                                                Title  \n",
      "0                                                None  \n",
      "1                   Making urban policies sustainable  \n",
      "2                                Aisthetik der Städte  \n",
      "3                              Performance Management  \n",
      "4   Einsatzplanung von Fahrerlosen Transportsystem...  \n",
      "5   Analysis and design of value production strate...  \n",
      "6   Spanbildung und Randzonenbeeinflussung beim Dr...  \n",
      "7   Herstellung von Convenience-Erzeugnissen aus S...  \n",
      "8   Entwicklung eines Verfahrens zur Steigerung de...  \n",
      "9   Global Transcriptome Analysis of the Human Pat...  \n",
      "10  A Methodology For Pattern-Oriented Model-Drive...  \n"
     ]
    },
    {
     "name": "stderr",
     "output_type": "stream",
     "text": [
      "2020-06-06 13:34:32 [scrapy.core.engine] DEBUG: Crawled (200) <GET https://depositonce.tu-berlin.de/simple-search?query=gps&sort_by=score&order=desc&rpp=10&etal=0&start=560> (referer: https://depositonce.tu-berlin.de/simple-search?query=gps&sort_by=score&order=desc&rpp=10&etal=0&start=550)\n"
     ]
    },
    {
     "name": "stdout",
     "output_type": "stream",
     "text": [
      "                     Author   Issue date  \\\n",
      "0                      None         None   \n",
      "1          Zierke, Benedikt  30-Sep-2010   \n",
      "2          Kurth, Daniel J.         2016   \n",
      "3   Toland, Alexandra Regan  24-Sep-2015   \n",
      "4                      None         2016   \n",
      "5            Sack, Dorothée  27-May-2013   \n",
      "6           Festag, Andreas   8-Jul-2003   \n",
      "7           Mueller, Julius  16-Oct-2014   \n",
      "8            Juling, Markus         2016   \n",
      "9            Sesseler, Ralf   7-Mar-2002   \n",
      "10          Leppich, Jürgen   8-Jun-2000   \n",
      "\n",
      "                                                Title  \n",
      "0                                                None  \n",
      "1   Sichere Gestaltung von Landstraßen durch defin...  \n",
      "2   Generation Unverbindlich: Entscheidungsvorgäng...  \n",
      "3                                            Soil art  \n",
      "4         Wertschätzung – Kommunikation – Kooperation  \n",
      "5   MSD: Masterstudium Denkmalpflege an der TU Ber...  \n",
      "6            Mobility support in IP Cellular Networks  \n",
      "7   Flexible cross layer optimization for fixed an...  \n",
      "8   Rückgeführte Volumenstrommessung mittels ortsa...  \n",
      "9   Eine modulare Architektur für dienstbasierte I...  \n",
      "10  Aufbau eines Experten- und Informationssystems...  \n"
     ]
    },
    {
     "name": "stderr",
     "output_type": "stream",
     "text": [
      "2020-06-06 13:34:33 [scrapy.core.engine] DEBUG: Crawled (200) <GET https://depositonce.tu-berlin.de/simple-search?query=gps&sort_by=score&order=desc&rpp=10&etal=0&start=570> (referer: https://depositonce.tu-berlin.de/simple-search?query=gps&sort_by=score&order=desc&rpp=10&etal=0&start=560)\n"
     ]
    },
    {
     "name": "stdout",
     "output_type": "stream",
     "text": [
      "                         Author   Issue date  \\\n",
      "0                          None         None   \n",
      "1               Russ, Alexander  26-Aug-2015   \n",
      "2      Palacios Neffke, Jens C.         2017   \n",
      "3                Thiele, Julius         2019   \n",
      "4              Rüsch, Franziska         2018   \n",
      "5                Peter, Michael         2017   \n",
      "6   Schumacher, Bastian Clemens         2020   \n",
      "7                 Cho, Moonsung         2020   \n",
      "8                Cramer, Thomas  11-Nov-2004   \n",
      "9                  Neitzel, Ira  14-Jul-2011   \n",
      "10             Neufert, Nikolai  28-Jan-2014   \n",
      "\n",
      "                                                Title  \n",
      "0                                                None  \n",
      "1   Regionalisierung des Wasser- und Kohlenstoffha...  \n",
      "2   Contribution to the development of technology-...  \n",
      "3   Mobiles Ganganalysesystem zur Bewertung der pr...  \n",
      "4                  Zukunftskonzept virtuelle Kupplung  \n",
      "5   Measurement, characterization and modeling of ...  \n",
      "6   Beitrag zur Einarbeitung in ereignisdiskrete S...  \n",
      "7   Suspension of a point-mass-loaded filament in ...  \n",
      "8   Multivariate Herkunftsanalyse von Marmor auf p...  \n",
      "9   Numerical analysis of PDE constrained optimal ...  \n",
      "10  Der \"eEducation Berlin Masterplan\" als Planung...  \n"
     ]
    },
    {
     "name": "stderr",
     "output_type": "stream",
     "text": [
      "2020-06-06 13:34:34 [scrapy.core.engine] DEBUG: Crawled (200) <GET https://depositonce.tu-berlin.de/simple-search?query=gps&sort_by=score&order=desc&rpp=10&etal=0&start=580> (referer: https://depositonce.tu-berlin.de/simple-search?query=gps&sort_by=score&order=desc&rpp=10&etal=0&start=570)\n"
     ]
    },
    {
     "name": "stdout",
     "output_type": "stream",
     "text": [
      "                             Author   Issue date  \\\n",
      "0                              None         None   \n",
      "1                   AlBrahim, Sabah  13-Dec-2013   \n",
      "2                    Sachs, Joachim  24-Mar-2009   \n",
      "3                              None  16-Feb-2015   \n",
      "4                 Stößel, Christian  27-Sep-2012   \n",
      "5               Khan, Manzoor Ahmed  23-Dec-2011   \n",
      "6                Hildebrandt, Jonas         2016   \n",
      "7                    Wannous, Manal   2-Feb-2015   \n",
      "8               Gherardelli, Carlos  13-Mar-2002   \n",
      "9   Simoes, Jose Miguel de Oliveira  17-Oct-2012   \n",
      "10              Lehmann, Annekatrin  19-Jun-2013   \n",
      "\n",
      "                                                Title  \n",
      "0                                                None  \n",
      "1         Zur Einrichtung von Nationalparks in Syrien  \n",
      "2   Integration and Management of Multiple Radio A...  \n",
      "3   Innovating Energy Access for Remote Areas: Dis...  \n",
      "4   Gestural Interfaces for Elderly Users - Help o...  \n",
      "5   A Technical and Economic Framework for End-to-...  \n",
      "6   Bereitstellung von Ladeinfrastruktur für Elekt...  \n",
      "7   Beitrag zum Wasserressourcenmanagement am Beis...  \n",
      "8   Exergoökonomische Analyse und Bewertung von Sc...  \n",
      "9   Key Enablers for User-Centric Advertising acro...  \n",
      "10  Lebenszyklusbasierte Nachhaltigkeitsanalyse vo...  \n"
     ]
    },
    {
     "name": "stderr",
     "output_type": "stream",
     "text": [
      "2020-06-06 13:34:34 [scrapy.core.engine] DEBUG: Crawled (200) <GET https://depositonce.tu-berlin.de/simple-search?query=gps&sort_by=score&order=desc&rpp=10&etal=0&start=590> (referer: https://depositonce.tu-berlin.de/simple-search?query=gps&sort_by=score&order=desc&rpp=10&etal=0&start=580)\n"
     ]
    },
    {
     "name": "stdout",
     "output_type": "stream",
     "text": [
      "                        Author   Issue date  \\\n",
      "0                         None         None   \n",
      "1                         None     Apr-2014   \n",
      "2           Reitter, Christian  17-Dec-2001   \n",
      "3               Georgi, Steven         2017   \n",
      "4     Bronner, Friedrich Georg         2018   \n",
      "5             Schmidt, Bertram         2019   \n",
      "6        Meyer-Brügel, Wolfram         2019   \n",
      "7                 Reipert, Jan         2019   \n",
      "8   Konieczek-Woger, Magdalena         2020   \n",
      "9               Bell, Jennifer  18-Jun-2012   \n",
      "10   Brecht, Marc Torsten Jörg  22-Mar-2002   \n",
      "\n",
      "                                                Title  \n",
      "0                                                None  \n",
      "1   TU intern: die Hochschulzeitung der Technische...  \n",
      "2       Beanspruchung der Autofahrers durch Monotonie  \n",
      "3   Experimentelle Untersuchungen zur Verformungsa...  \n",
      "4                WHWP - Walter Höllerer bei WikiPedia  \n",
      "5                          Neutrophile Eisenbakterien  \n",
      "6   Präzisere Echtzeit-Flugsimulation kleiner Nutz...  \n",
      "7   Open Innovation in der Logistik – Entwicklung ...  \n",
      "8   Achtung: Smart! – Möglichkeiten und Grenzen de...  \n",
      "9      Ästhetische Wahrnehmung des Tempelhofer Feldes  \n",
      "10  Hochfeld- und Puls-EPR-Untersuchungen an den K...  \n"
     ]
    },
    {
     "name": "stderr",
     "output_type": "stream",
     "text": [
      "2020-06-06 13:34:35 [scrapy.core.engine] DEBUG: Crawled (200) <GET https://depositonce.tu-berlin.de/simple-search?query=gps&sort_by=score&order=desc&rpp=10&etal=0&start=600> (referer: https://depositonce.tu-berlin.de/simple-search?query=gps&sort_by=score&order=desc&rpp=10&etal=0&start=590)\n"
     ]
    },
    {
     "name": "stdout",
     "output_type": "stream",
     "text": [
      "                       Author   Issue date  \\\n",
      "0                        None         None   \n",
      "1                        None   7-Feb-2014   \n",
      "2     Jain, Brijnesh Johannes  26-May-2006   \n",
      "3                        None  27-Jan-2014   \n",
      "4         Gellert, Torsten J.  11-May-2015   \n",
      "5              Hasenbein, Uwe  26-Oct-2006   \n",
      "6          Stubenvoll, Stefan   5-Jul-2001   \n",
      "7            Böhmer, Wendelin         2017   \n",
      "8               Schwabe, Lars  14-Feb-2006   \n",
      "9   Daschiel, Herbert Andreas   2-Aug-2004   \n",
      "10        Disselhoff, Tilmann         2018   \n",
      "\n",
      "                                                Title  \n",
      "0                                                None  \n",
      "1   Grundlagen und Anwendungen der Mensch-Maschine...  \n",
      "2                 Structural Neural Learning Machines  \n",
      "3                                Innovative solutions  \n",
      "4                      Scheduling rail mounted cranes  \n",
      "5   Praxiswissen in der akutstationären Schlaganfa...  \n",
      "6   Traditional agroforestry and ecological, socia...  \n",
      "7   Representation and generalization in autonomou...  \n",
      "8   Adaptivity of Sensory Representations in the A...  \n",
      "9   Advanced Methods for Image Information Mining ...  \n",
      "10  Die Rolle der nicht-hoheitlichen Flächensicher...  \n"
     ]
    },
    {
     "name": "stderr",
     "output_type": "stream",
     "text": [
      "2020-06-06 13:34:37 [scrapy.core.engine] DEBUG: Crawled (200) <GET https://depositonce.tu-berlin.de/simple-search?query=gps&sort_by=score&order=desc&rpp=10&etal=0&start=610> (referer: https://depositonce.tu-berlin.de/simple-search?query=gps&sort_by=score&order=desc&rpp=10&etal=0&start=600)\n",
      "2020-06-06 13:34:38 [scrapy.core.engine] INFO: Closing spider (finished)\n",
      "2020-06-06 13:34:38 [scrapy.statscollectors] INFO: Dumping Scrapy stats:\n",
      "{'downloader/request_bytes': 28866,\n",
      " 'downloader/request_count': 63,\n",
      " 'downloader/request_method_count/GET': 63,\n",
      " 'downloader/response_bytes': 3398285,\n",
      " 'downloader/response_count': 63,\n",
      " 'downloader/response_status_count/200': 63,\n",
      " 'elapsed_time_seconds': 45.861072,\n",
      " 'finish_reason': 'finished',\n",
      " 'finish_time': datetime.datetime(2020, 6, 6, 11, 34, 38, 116485),\n",
      " 'log_count/DEBUG': 63,\n",
      " 'log_count/INFO': 10,\n",
      " 'memusage/max': 121552896,\n",
      " 'memusage/startup': 121552896,\n",
      " 'request_depth_max': 62,\n",
      " 'response_received_count': 63,\n",
      " 'scheduler/dequeued': 63,\n",
      " 'scheduler/dequeued/memory': 63,\n",
      " 'scheduler/enqueued': 63,\n",
      " 'scheduler/enqueued/memory': 63,\n",
      " 'start_time': datetime.datetime(2020, 6, 6, 11, 33, 52, 255413)}\n",
      "2020-06-06 13:34:38 [scrapy.core.engine] INFO: Spider closed (finished)\n"
     ]
    },
    {
     "name": "stdout",
     "output_type": "stream",
     "text": [
      "              Author   Issue date  \\\n",
      "0               None         None   \n",
      "1     Kulawik, Bernd   9-Aug-2002   \n",
      "2    Voigt, Michaela         2019   \n",
      "3  Ringwelski, Georg  20-Feb-2003   \n",
      "4     Graepel, Thore   8-Nov-2002   \n",
      "5      Fitzek, Frank  23-Jul-2002   \n",
      "6      Lange, Sabine   3-Nov-2010   \n",
      "7               None  16-Nov-2009   \n",
      "8    Voigt, Michaela         2016   \n",
      "9    Voigt, Michaela         2018   \n",
      "\n",
      "                                               Title  \n",
      "0                                               None  \n",
      "1  Die Zeichnungen im Codex Destailleur D (HDZ 41...  \n",
      "2  Share of open access journal articles publishe...  \n",
      "3                        Asynchrones Constraintlösen  \n",
      "4   PAC-Bayesian Pattern Classification with kernels  \n",
      "5  Quality of Service Support for Multimedia Serv...  \n",
      "6  Proteomische Methoden zur Charakterisierung vo...  \n",
      "7  Vorlesungsverzeichnis der Technischen Universi...  \n",
      "8  Share of open access journal articles publishe...  \n",
      "9  Share of open access journal articles publishe...  \n"
     ]
    }
   ],
   "source": [
    "class PostsSpider(scrapy.Spider):\n",
    "    name = \"posts\"\n",
    "\n",
    "    start_urls = [\n",
    "        'https://depositonce.tu-berlin.de/'\n",
    "    ]\n",
    "\n",
    "    def __init__(self, query):\n",
    "        self.query = query\n",
    "\n",
    "    def parse(self, response):\n",
    "        return FormRequest.from_response(response,\n",
    "                                         formdata={'query': self.query},\n",
    "                                         callback=self.search_result\n",
    "                                         )\n",
    "    \n",
    "    \n",
    "    def parseIntoFilter(self,response):\n",
    "        \n",
    "    \n",
    "\n",
    "    def search_result(self, response):\n",
    "        d=[]\n",
    "        for post in response.css('.table tr'):\n",
    "            \n",
    "            d.append(\n",
    "                {\n",
    "                    'Issue date' : post.css('td:nth-child(2)::text').get(),\n",
    "                    'Title' : post.css('td:nth-child(3) a::text').get(),\n",
    "                    'Author' : post.css('td:nth-child(4) a::text').get()\n",
    "                }\n",
    "            \n",
    "            )\n",
    "            \n",
    "        next_page = response.css('.pagination li:last-child a::attr(href)').get()\n",
    "        if next_page is not None:\n",
    "            next_page = response.urljoin(next_page)\n",
    "            yield scrapy.Request(next_page, callback = self.search_result)\n",
    "        df = pd.DataFrame(d)\n",
    "        print(df)     \n",
    "            \n",
    "   \n",
    "            \n",
    "\n",
    "        \n",
    "\n",
    "def main(params):\n",
    "    process = CrawlerProcess()\n",
    "    process.crawl(PostsSpider, query = params)\n",
    "    \n",
    "    process.start()\n",
    "    \n",
    "\n",
    "g = input(\"input the data: \")\n",
    "main(g)       "
   ]
  },
  {
   "cell_type": "code",
   "execution_count": null,
   "metadata": {
    "scrolled": true
   },
   "outputs": [],
   "source": [
    "\n"
   ]
  },
  {
   "cell_type": "code",
   "execution_count": null,
   "metadata": {},
   "outputs": [],
   "source": []
  },
  {
   "cell_type": "code",
   "execution_count": null,
   "metadata": {},
   "outputs": [],
   "source": []
  }
 ],
 "metadata": {
  "kernelspec": {
   "display_name": "Python 3",
   "language": "python",
   "name": "python3"
  },
  "language_info": {
   "codemirror_mode": {
    "name": "ipython",
    "version": 3
   },
   "file_extension": ".py",
   "mimetype": "text/x-python",
   "name": "python",
   "nbconvert_exporter": "python",
   "pygments_lexer": "ipython3",
   "version": "3.6.9"
  }
 },
 "nbformat": 4,
 "nbformat_minor": 2
}
