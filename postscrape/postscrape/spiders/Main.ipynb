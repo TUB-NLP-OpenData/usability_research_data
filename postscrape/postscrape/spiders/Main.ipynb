{
 "cells": [
  {
   "cell_type": "code",
   "execution_count": 1,
   "metadata": {},
   "outputs": [],
   "source": [
    "import scrapy\n",
    "from scrapy.crawler import CrawlerProcess\n",
    "from scrapy.http import FormRequest\n",
    "import pandas as pd\n"
   ]
  },
  {
   "cell_type": "markdown",
   "metadata": {},
   "source": [
    "class PostsSpider(scrapy.Spider):\n",
    "    name = \"posts\"\n",
    "    \n",
    "\n",
    "    start_urls = [\n",
    "        'https://depositonce.tu-berlin.de/'\n",
    "    ]\n",
    "\n",
    "    def __init__(self, query):\n",
    "        self.query = query\n",
    "        self.arr=[]\n",
    "        \n",
    "\n",
    "    def parse(self, response):\n",
    "        return FormRequest.from_response(response,\n",
    "                                         formdata={'query': self.query},\n",
    "                                         callback=self.search_result\n",
    "                                         )\n",
    "    \n",
    "    \n",
    "    \n",
    "    def choose(self, args):\n",
    "        x = input(\"choose: \")\n",
    "        print(args[1])\n",
    "        \n",
    "        \n",
    "    \n",
    "\n",
    "    def search_result(self, response):\n",
    "        \n",
    "        for post in response.css('.table tr:not(:first-child)'):\n",
    "            \n",
    "            self.arr.append(\n",
    "                {\n",
    "                    'Issue date' : post.css('td:nth-child(2)::text').get(),\n",
    "                    'Title' : post.css('td:nth-child(3) a::text').get(),\n",
    "                    'Author' : post.css('td:nth-child(4) a::text').get()\n",
    "                }\n",
    "            \n",
    "            )\n",
    "            \n",
    "        next_page = response.css('.pagination li:last-child a::attr(href)').get()\n",
    "        if next_page is not None:\n",
    "            next_page = response.urljoin(next_page)\n",
    "            yield scrapy.Request(next_page, callback = self.search_result)\n",
    "        else:\n",
    "            \n",
    "            df = pd.DataFrame(self.arr)\n",
    "            print(df)\n",
    "            self.choose(self.arr)\n",
    "             \n",
    "            \n",
    "   \n",
    "            \n",
    "\n",
    "        \n",
    "\n",
    "def main(params):\n",
    "    process = CrawlerProcess()\n",
    "    process.crawl(PostsSpider, query = params)\n",
    "    \n",
    "    process.start()\n",
    "    \n",
    "\n",
    "g = input(\"input the data: \")\n",
    "main(g)       "
   ]
  },
  {
   "cell_type": "code",
   "execution_count": null,
   "metadata": {
    "scrolled": true
   },
   "outputs": [],
   "source": [
    "\n"
   ]
  },
  {
   "cell_type": "code",
   "execution_count": null,
   "metadata": {},
   "outputs": [],
   "source": []
  },
  {
   "cell_type": "code",
   "execution_count": null,
   "metadata": {},
   "outputs": [],
   "source": []
  }
 ],
 "metadata": {
  "kernelspec": {
   "display_name": "Python 3",
   "language": "python",
   "name": "python3"
  },
  "language_info": {
   "codemirror_mode": {
    "name": "ipython",
    "version": 3
   },
   "file_extension": ".py",
   "mimetype": "text/x-python",
   "name": "python",
   "nbconvert_exporter": "python",
   "pygments_lexer": "ipython3",
   "version": "3.6.9"
  }
 },
 "nbformat": 4,
 "nbformat_minor": 2
}
