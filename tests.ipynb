{
 "cells": [
  {
   "cell_type": "code",
   "execution_count": 2,
   "metadata": {},
   "outputs": [
    {
     "ename": "TypeError",
     "evalue": "search() got an unexpected keyword argument 'format'",
     "output_type": "error",
     "traceback": [
      "\u001B[0;31m---------------------------------------------------------------------------\u001B[0m",
      "\u001B[0;31mTypeError\u001B[0m                                 Traceback (most recent call last)",
      "\u001B[0;32m<ipython-input-2-d21fe4d65ba0>\u001B[0m in \u001B[0;36m<module>\u001B[0;34m\u001B[0m\n\u001B[1;32m      1\u001B[0m \u001B[0;32mimport\u001B[0m \u001B[0mredu\u001B[0m\u001B[0;34m\u001B[0m\u001B[0;34m\u001B[0m\u001B[0m\n\u001B[0;32m----> 2\u001B[0;31m \u001B[0mredu\u001B[0m\u001B[0;34m.\u001B[0m\u001B[0msearch\u001B[0m\u001B[0;34m(\u001B[0m\u001B[0;34m\"csv\"\u001B[0m\u001B[0;34m,\u001B[0m \u001B[0mformat\u001B[0m\u001B[0;34m=\u001B[0m\u001B[0;34m\".csv\"\u001B[0m\u001B[0;34m)\u001B[0m\u001B[0;34m\u001B[0m\u001B[0;34m\u001B[0m\u001B[0m\n\u001B[0m",
      "\u001B[0;31mTypeError\u001B[0m: search() got an unexpected keyword argument 'format'"
     ]
    }
   ],
   "source": [
    "import redu\n",
    "redu.search(\"csv\", format=\".csv\")\n"
   ]
  },
  {
   "cell_type": "code",
   "execution_count": 1,
   "metadata": {
    "pycharm": {
     "name": "#%%\n"
    },
    "tags": []
   },
   "outputs": [
    {
     "name": "stderr",
     "output_type": "stream",
     "text": [
      "In /home/lord_tristan/.local/lib/python3.6/site-packages/matplotlib/mpl-data/stylelib/_classic_test.mplstyle: \n",
      "The text.latex.preview rcparam was deprecated in Matplotlib 3.3 and will be removed two minor releases later.\n",
      "In /home/lord_tristan/.local/lib/python3.6/site-packages/matplotlib/mpl-data/stylelib/_classic_test.mplstyle: \n",
      "The mathtext.fallback_to_cm rcparam was deprecated in Matplotlib 3.3 and will be removed two minor releases later.\n",
      "In /home/lord_tristan/.local/lib/python3.6/site-packages/matplotlib/mpl-data/stylelib/_classic_test.mplstyle: Support for setting the 'mathtext.fallback_to_cm' rcParam is deprecated since 3.3 and will be removed two minor releases later; use 'mathtext.fallback : 'cm' instead.\n",
      "In /home/lord_tristan/.local/lib/python3.6/site-packages/matplotlib/mpl-data/stylelib/_classic_test.mplstyle: \n",
      "The validate_bool_maybe_none function was deprecated in Matplotlib 3.3 and will be removed two minor releases later.\n",
      "In /home/lord_tristan/.local/lib/python3.6/site-packages/matplotlib/mpl-data/stylelib/_classic_test.mplstyle: \n",
      "The savefig.jpeg_quality rcparam was deprecated in Matplotlib 3.3 and will be removed two minor releases later.\n",
      "In /home/lord_tristan/.local/lib/python3.6/site-packages/matplotlib/mpl-data/stylelib/_classic_test.mplstyle: \n",
      "The keymap.all_axes rcparam was deprecated in Matplotlib 3.3 and will be removed two minor releases later.\n",
      "In /home/lord_tristan/.local/lib/python3.6/site-packages/matplotlib/mpl-data/stylelib/_classic_test.mplstyle: \n",
      "The animation.avconv_path rcparam was deprecated in Matplotlib 3.3 and will be removed two minor releases later.\n",
      "In /home/lord_tristan/.local/lib/python3.6/site-packages/matplotlib/mpl-data/stylelib/_classic_test.mplstyle: \n",
      "The animation.avconv_args rcparam was deprecated in Matplotlib 3.3 and will be removed two minor releases later.\n"
     ]
    },
    {
     "name": "stdout",
     "output_type": "stream",
     "text": [
      "<redu.utils.Dataset object at 0x7f0d10ae02b0>\n",
      "<redu.utils.Dataset object at 0x7f0d10ae02e8>\n",
      "<redu.utils.Dataset object at 0x7f0d10ae0320>\n",
      "<redu.utils.Dataset object at 0x7f0d10ae0390>\n",
      "<redu.utils.Dataset object at 0x7f0d10ae03c8>\n",
      "<redu.utils.Dataset object at 0x7f0d10ae0400>\n",
      "<redu.utils.Dataset object at 0x7f0d10ae0438>\n",
      "<redu.utils.Dataset object at 0x7f0d10ae0470>\n",
      "<redu.utils.Dataset object at 0x7f0d10ae04a8>\n",
      "<redu.utils.Dataset object at 0x7f0d10ae04e0>\n",
      "<redu.utils.Dataset object at 0x7f0d10ae0518>\n",
      "<redu.utils.Dataset object at 0x7f0d10ae0550>\n",
      "<redu.utils.Dataset object at 0x7f0d10ae0588>\n",
      "<redu.utils.Dataset object at 0x7f0d10ae05c0>\n",
      "<redu.utils.Dataset object at 0x7f0d10ae0358>\n",
      "<redu.utils.Dataset object at 0x7f0d10ae0630>\n",
      "<redu.utils.Dataset object at 0x7f0d10ae0668>\n",
      "<redu.utils.Dataset object at 0x7f0d10ae06a0>\n",
      "<redu.utils.Dataset object at 0x7f0d10ae05f8>\n",
      "<redu.utils.Dataset object at 0x7f0d10ae0710>\n",
      "<redu.utils.Dataset object at 0x7f0d10ae0748>\n",
      "<redu.utils.Dataset object at 0x7f0d10ae0780>\n",
      "<redu.utils.Dataset object at 0x7f0d10ae07b8>\n",
      "<redu.utils.Dataset object at 0x7f0d10ae07f0>\n",
      "<redu.utils.Dataset object at 0x7f0d10ae0828>\n",
      "<redu.utils.Dataset object at 0x7f0d10ae0860>\n",
      "<redu.utils.Dataset object at 0x7f0d10ae0898>\n",
      "<redu.utils.Dataset object at 0x7f0d10ae08d0>\n",
      "<redu.utils.Dataset object at 0x7f0d10ae0908>\n",
      "<redu.utils.Dataset object at 0x7f0d10ae0940>\n",
      "<redu.utils.Dataset object at 0x7f0d10ae0978>\n",
      "<redu.utils.Dataset object at 0x7f0d10ae09b0>\n",
      "<redu.utils.Dataset object at 0x7f0d10ae09e8>\n",
      "<redu.utils.Dataset object at 0x7f0d10ae0a20>\n",
      "<redu.utils.Dataset object at 0x7f0d10ae0a58>\n",
      "<redu.utils.Dataset object at 0x7f0d10ae0a90>\n",
      "<redu.utils.Dataset object at 0x7f0d10ae0ac8>\n",
      "<redu.utils.Dataset object at 0x7f0d10ae0b00>\n",
      "<redu.utils.Dataset object at 0x7f0d10ae0b38>\n",
      "<redu.utils.Dataset object at 0x7f0d10ae0b70>\n",
      "<redu.utils.Dataset object at 0x7f0d10ae0ba8>\n",
      "<redu.utils.Dataset object at 0x7f0d10ae0be0>\n",
      "<redu.utils.Dataset object at 0x7f0d10ae0c18>\n",
      "<redu.utils.Dataset object at 0x7f0d10ae0c50>\n",
      "<redu.utils.Dataset object at 0x7f0d10ae0c88>\n",
      "<redu.utils.Dataset object at 0x7f0d10ae0cc0>\n",
      "<redu.utils.Dataset object at 0x7f0d10ae0cf8>\n",
      "<redu.utils.Dataset object at 0x7f0d10ae0d30>\n",
      "<redu.utils.Dataset object at 0x7f0d10ae0d68>\n",
      "<redu.utils.Dataset object at 0x7f0d10ae0da0>\n",
      "<redu.utils.Dataset object at 0x7f0d10ae0dd8>\n",
      "<redu.utils.Dataset object at 0x7f0d10ae0e10>\n",
      "<redu.utils.Dataset object at 0x7f0d10ae0e48>\n",
      "<redu.utils.Dataset object at 0x7f0d10ae0e80>\n",
      "<redu.utils.Dataset object at 0x7f0d10ae0eb8>\n",
      "<redu.utils.Dataset object at 0x7f0d10ae0ef0>\n",
      "<redu.utils.Dataset object at 0x7f0d10ae0f28>\n",
      "<redu.utils.Dataset object at 0x7f0d10ae0f60>\n",
      "<redu.utils.Dataset object at 0x7f0d10ae0f98>\n",
      "<redu.utils.Dataset object at 0x7f0d10ae0fd0>\n",
      "<redu.utils.Dataset object at 0x7f0d10aea048>\n",
      "<redu.utils.Dataset object at 0x7f0d10aea080>\n",
      "<redu.utils.Dataset object at 0x7f0d10aea0b8>\n",
      "<redu.utils.Dataset object at 0x7f0d10aea0f0>\n",
      "<redu.utils.Dataset object at 0x7f0d10aea128>\n",
      "<redu.utils.Dataset object at 0x7f0d10aea160>\n",
      "<redu.utils.Dataset object at 0x7f0d10aea198>\n",
      "<redu.utils.Dataset object at 0x7f0d10aea1d0>\n",
      "<redu.utils.Dataset object at 0x7f0d10aea208>\n",
      "<redu.utils.Dataset object at 0x7f0d10aea240>\n",
      "<redu.utils.Dataset object at 0x7f0d10aea278>\n",
      "<redu.utils.Dataset object at 0x7f0d10aea2b0>\n",
      "<redu.utils.Dataset object at 0x7f0d10aea2e8>\n",
      "<redu.utils.Dataset object at 0x7f0d10aea320>\n",
      "<redu.utils.Dataset object at 0x7f0d10aea358>\n",
      "<redu.utils.Dataset object at 0x7f0d10aea390>\n",
      "<redu.utils.Dataset object at 0x7f0d10aea3c8>\n",
      "<redu.utils.Dataset object at 0x7f0d10aea400>\n",
      "<redu.utils.Dataset object at 0x7f0d10aea438>\n",
      "<redu.utils.Dataset object at 0x7f0d10aea470>\n",
      "<redu.utils.Dataset object at 0x7f0d10aea4a8>\n",
      "<redu.utils.Dataset object at 0x7f0d10aea4e0>\n",
      "<redu.utils.Dataset object at 0x7f0d10aea518>\n",
      "<redu.utils.Dataset object at 0x7f0d10aea550>\n",
      "<redu.utils.Dataset object at 0x7f0d10aea588>\n",
      "<redu.utils.Dataset object at 0x7f0d10ae06d8>\n",
      "<redu.utils.Dataset object at 0x7f0d10aea5f8>\n",
      "<redu.utils.Dataset object at 0x7f0d10aea630>\n",
      "<redu.utils.Dataset object at 0x7f0d10aea668>\n",
      "<redu.utils.Dataset object at 0x7f0d10aea6a0>\n",
      "<redu.utils.Dataset object at 0x7f0d10aea6d8>\n",
      "<redu.utils.Dataset object at 0x7f0d10aea710>\n",
      "<redu.utils.Dataset object at 0x7f0d10aea748>\n",
      "<redu.utils.Dataset object at 0x7f0d10aea5c0>\n",
      "<redu.utils.Dataset object at 0x7f0d10aea7b8>\n",
      "<redu.utils.Dataset object at 0x7f0d10aea7f0>\n",
      "<redu.utils.Dataset object at 0x7f0d10aea828>\n",
      "<redu.utils.Dataset object at 0x7f0d10aea860>\n",
      "<redu.utils.Dataset object at 0x7f0d10aea898>\n",
      "<redu.utils.Dataset object at 0x7f0d10aea8d0>\n",
      "<redu.utils.Dataset object at 0x7f0d10aea908>\n",
      "<redu.utils.Dataset object at 0x7f0d10aea940>\n",
      "<redu.utils.Dataset object at 0x7f0d10aea978>\n",
      "<redu.utils.Dataset object at 0x7f0d10aea9b0>\n",
      "<redu.utils.Dataset object at 0x7f0d10aea9e8>\n",
      "<redu.utils.Dataset object at 0x7f0d10aea780>\n",
      "<redu.utils.Dataset object at 0x7f0d10aeaa20>\n",
      "<redu.utils.Dataset object at 0x7f0d10aeaa90>\n",
      "<redu.utils.Dataset object at 0x7f0d10aeaac8>\n",
      "<redu.utils.Dataset object at 0x7f0d10aeab00>\n",
      "<redu.utils.Dataset object at 0x7f0d10aeab38>\n",
      "<redu.utils.Dataset object at 0x7f0d10aeab70>\n",
      "<redu.utils.Dataset object at 0x7f0d10aeaba8>\n",
      "<redu.utils.Dataset object at 0x7f0d10aeabe0>\n",
      "<redu.utils.Dataset object at 0x7f0d10aeac18>\n",
      "<redu.utils.Dataset object at 0x7f0d10aeac50>\n",
      "<redu.utils.Dataset object at 0x7f0d10aeac88>\n",
      "<redu.utils.Dataset object at 0x7f0d10aeacc0>\n",
      "<redu.utils.Dataset object at 0x7f0d10aeaa58>\n",
      "<redu.utils.Dataset object at 0x7f0d10aead30>\n",
      "<redu.utils.Dataset object at 0x7f0d10aead68>\n",
      "<redu.utils.Dataset object at 0x7f0d10aeada0>\n",
      "<redu.utils.Dataset object at 0x7f0d10aeadd8>\n",
      "<redu.utils.Dataset object at 0x7f0d10aeacf8>\n",
      "<redu.utils.Dataset object at 0x7f0d10aeae48>\n",
      "<redu.utils.Dataset object at 0x7f0d10aeae80>\n",
      "<redu.utils.Dataset object at 0x7f0d10aeaeb8>\n",
      "<redu.utils.Dataset object at 0x7f0d10aeaef0>\n",
      "<redu.utils.Dataset object at 0x7f0d10aeaf28>\n",
      "<redu.utils.Dataset object at 0x7f0d10aeaf60>\n",
      "<redu.utils.Dataset object at 0x7f0d10aeaf98>\n",
      "<redu.utils.Dataset object at 0x7f0d10aeafd0>\n",
      "<redu.utils.Dataset object at 0x7f0d10af2048>\n",
      "<redu.utils.Dataset object at 0x7f0d10af2080>\n",
      "<redu.utils.Dataset object at 0x7f0d10af20b8>\n",
      "<redu.utils.Dataset object at 0x7f0d10af20f0>\n",
      "<redu.utils.Dataset object at 0x7f0d10af2128>\n",
      "<redu.utils.Dataset object at 0x7f0d10af2160>\n",
      "<redu.utils.Dataset object at 0x7f0d10af2198>\n",
      "<redu.utils.Dataset object at 0x7f0d10af21d0>\n",
      "<redu.utils.Dataset object at 0x7f0d10af2208>\n",
      "<redu.utils.Dataset object at 0x7f0d10af2240>\n",
      "<redu.utils.Dataset object at 0x7f0d10af2278>\n",
      "<redu.utils.Dataset object at 0x7f0d10af22b0>\n",
      "<redu.utils.Dataset object at 0x7f0d10af22e8>\n",
      "<redu.utils.Dataset object at 0x7f0d10af2320>\n",
      "<redu.utils.Dataset object at 0x7f0d10af2358>\n",
      "<redu.utils.Dataset object at 0x7f0d10af2390>\n",
      "<redu.utils.Dataset object at 0x7f0d10af23c8>\n",
      "<redu.utils.Dataset object at 0x7f0d10af2400>\n",
      "<redu.utils.Dataset object at 0x7f0d10af2438>\n",
      "<redu.utils.Dataset object at 0x7f0d10af2470>\n",
      "<redu.utils.Dataset object at 0x7f0d10af24a8>\n",
      "<redu.utils.Dataset object at 0x7f0d10af24e0>\n",
      "<redu.utils.Dataset object at 0x7f0d10af2518>\n",
      "<redu.utils.Dataset object at 0x7f0d10af2550>\n",
      "<redu.utils.Dataset object at 0x7f0d10af2588>\n",
      "<redu.utils.Dataset object at 0x7f0d10af25c0>\n",
      "<redu.utils.Dataset object at 0x7f0d10af25f8>\n",
      "<redu.utils.Dataset object at 0x7f0d10af2630>\n",
      "<redu.utils.Dataset object at 0x7f0d10af2668>\n",
      "<redu.utils.Dataset object at 0x7f0d10af26a0>\n",
      "<redu.utils.Dataset object at 0x7f0d10af26d8>\n",
      "<redu.utils.Dataset object at 0x7f0d10af2710>\n"
     ]
    },
    {
     "data": {
      "text/html": [
       "<div>\n",
       "<style scoped>\n",
       "    .dataframe tbody tr th:only-of-type {\n",
       "        vertical-align: middle;\n",
       "    }\n",
       "\n",
       "    .dataframe tbody tr th {\n",
       "        vertical-align: top;\n",
       "    }\n",
       "\n",
       "    .dataframe thead th {\n",
       "        text-align: right;\n",
       "    }\n",
       "</style>\n",
       "<table border=\"1\" class=\"dataframe\">\n",
       "  <thead>\n",
       "    <tr style=\"text-align: right;\">\n",
       "      <th></th>\n",
       "      <th>time</th>\n",
       "      <th>temperature</th>\n",
       "      <th>humidity</th>\n",
       "      <th>dewpoint</th>\n",
       "    </tr>\n",
       "  </thead>\n",
       "  <tbody>\n",
       "    <tr>\n",
       "      <th>0</th>\n",
       "      <td>2018-07-13 15:00:00</td>\n",
       "      <td>30.0</td>\n",
       "      <td>44.5</td>\n",
       "      <td>16.5</td>\n",
       "    </tr>\n",
       "    <tr>\n",
       "      <th>1</th>\n",
       "      <td>2018-07-13 15:10:00</td>\n",
       "      <td>30.0</td>\n",
       "      <td>46.5</td>\n",
       "      <td>17.2</td>\n",
       "    </tr>\n",
       "    <tr>\n",
       "      <th>2</th>\n",
       "      <td>2018-07-13 15:20:00</td>\n",
       "      <td>30.5</td>\n",
       "      <td>46.5</td>\n",
       "      <td>17.7</td>\n",
       "    </tr>\n",
       "    <tr>\n",
       "      <th>3</th>\n",
       "      <td>2018-07-13 15:30:00</td>\n",
       "      <td>30.5</td>\n",
       "      <td>45.5</td>\n",
       "      <td>17.3</td>\n",
       "    </tr>\n",
       "    <tr>\n",
       "      <th>4</th>\n",
       "      <td>2018-07-13 15:40:00</td>\n",
       "      <td>31.0</td>\n",
       "      <td>42.5</td>\n",
       "      <td>16.7</td>\n",
       "    </tr>\n",
       "  </tbody>\n",
       "</table>\n",
       "</div>"
      ],
      "text/plain": [
       "                  time  temperature  humidity  dewpoint\n",
       "0  2018-07-13 15:00:00         30.0      44.5      16.5\n",
       "1  2018-07-13 15:10:00         30.0      46.5      17.2\n",
       "2  2018-07-13 15:20:00         30.5      46.5      17.7\n",
       "3  2018-07-13 15:30:00         30.5      45.5      17.3\n",
       "4  2018-07-13 15:40:00         31.0      42.5      16.7"
      ]
     },
     "execution_count": 1,
     "metadata": {},
     "output_type": "execute_result"
    }
   ],
   "source": [
    "import redu\n",
    "redu.repository(\"11303/10989.2\").datasets()[0].preview()"
   ]
  },
  {
   "cell_type": "code",
   "execution_count": null,
   "outputs": [],
   "source": [],
   "metadata": {
    "collapsed": false,
    "pycharm": {
     "name": "#%%\n"
    }
   }
  },
  {
   "cell_type": "code",
   "execution_count": null,
   "metadata": {
    "pycharm": {
     "name": "#%%\n"
    }
   },
   "outputs": [],
   "source": []
  },
  {
   "cell_type": "code",
   "execution_count": null,
   "metadata": {
    "pycharm": {
     "name": "#%%\n"
    }
   },
   "outputs": [],
   "source": []
  },
  {
   "cell_type": "code",
   "execution_count": null,
   "metadata": {
    "pycharm": {
     "name": "#%%\n"
    }
   },
   "outputs": [],
   "source": []
  },
  {
   "cell_type": "code",
   "execution_count": null,
   "metadata": {
    "pycharm": {
     "name": "#%%\n"
    }
   },
   "outputs": [],
   "source": []
  },
  {
   "cell_type": "code",
   "execution_count": null,
   "metadata": {},
   "outputs": [],
   "source": []
  }
 ],
 "metadata": {
  "file_extension": ".py",
  "kernelspec": {
   "display_name": "Python 3",
   "language": "python",
   "name": "python3"
  },
  "language_info": {
   "codemirror_mode": {
    "name": "ipython",
    "version": 3
   },
   "file_extension": ".py",
   "mimetype": "text/x-python",
   "name": "python",
   "nbconvert_exporter": "python",
   "pygments_lexer": "ipython3",
   "version": "3.6.9"
  },
  "mimetype": "text/x-python",
  "name": "python",
  "npconvert_exporter": "python",
  "pygments_lexer": "ipython3",
  "version": 3
 },
 "nbformat": 4,
 "nbformat_minor": 2
}