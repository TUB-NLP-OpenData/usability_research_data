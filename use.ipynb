{
 "metadata": {
  "language_info": {
   "codemirror_mode": {
    "name": "ipython",
    "version": 3
   },
   "file_extension": ".py",
   "mimetype": "text/x-python",
   "name": "python",
   "nbconvert_exporter": "python",
   "pygments_lexer": "ipython3",
   "version": 3
  },
  "orig_nbformat": 2,
  "kernelspec": {
   "name": "python_defaultSpec_1596633695654",
   "display_name": "Python 3.8.2 64-bit"
  }
 },
 "nbformat": 4,
 "nbformat_minor": 2,
 "cells": [
  {
   "cell_type": "code",
   "execution_count": 1,
   "metadata": {
    "tags": []
   },
   "outputs": [
    {
     "output_type": "execute_result",
     "data": {
      "text/plain": "            id                    server language  \\\n5   11303/8547  depositonce.tu-berlin.de       en   \n2   11303/6572  depositonce.tu-berlin.de       en   \n3   11303/6485  depositonce.tu-berlin.de       en   \n7   11303/9588  depositonce.tu-berlin.de       en   \n8  11303/10318  depositonce.tu-berlin.de       en   \n9   11303/7096  depositonce.tu-berlin.de       en   \n0   11303/7658  depositonce.tu-berlin.de       en   \n4  11303/10983  depositonce.tu-berlin.de       en   \n6   11303/3971  depositonce.tu-berlin.de       en   \n1   11303/3442  depositonce.tu-berlin.de       en   \n\n                                               title  \\\n5  Indicators on the Impacts of Climate Change on...   \n2  Direct and indirect climate change impacts in ...   \n3  Multi-level reinforcement in European climate ...   \n7  Climate Change in Afghanistan Deduced from Rea...   \n8  Climate and Decay: The impact of the urban cli...   \n9  At the frontiers of integrated assessment of c...   \n0  The impact of high-end climate change on agric...   \n4  From Planning to Implementation? The Role of C...   \n6  Attitudes on Climate Change and Energy Consump...   \n1  Uncertainty & Learning in Global Climate Analysis   \n\n                      author  year     files  \n5            Schliep, Rainer  2018  1 PDFs,   \n2        Stevanović, Miodrag  2017  1 PDFs,   \n3            Jänicke, Martin  2017  1 PDFs,   \n7             Aich, Valentin  2017  1 PDFs,   \n8             Colwill, Simon  2017  1 PDFs,   \n9  Schultes, Anselm Johannes  2017  1 PDFs,   \n0        Stevanović, Miodrag  2016  1 PDFs,   \n4            Mahlkow, Nicole  2016  1 PDFs,   \n6           Schröder, Sabine  2013  1 PDFs,   \n1          Lorenz, Alexander  2012  1 PDFs,   ",
      "text/html": "<div>\n<style scoped>\n    .dataframe tbody tr th:only-of-type {\n        vertical-align: middle;\n    }\n\n    .dataframe tbody tr th {\n        vertical-align: top;\n    }\n\n    .dataframe thead th {\n        text-align: right;\n    }\n</style>\n<table border=\"1\" class=\"dataframe\">\n  <thead>\n    <tr style=\"text-align: right;\">\n      <th></th>\n      <th>id</th>\n      <th>server</th>\n      <th>language</th>\n      <th>title</th>\n      <th>author</th>\n      <th>year</th>\n      <th>files</th>\n    </tr>\n  </thead>\n  <tbody>\n    <tr>\n      <th>5</th>\n      <td>11303/8547</td>\n      <td>depositonce.tu-berlin.de</td>\n      <td>en</td>\n      <td>Indicators on the Impacts of Climate Change on...</td>\n      <td>Schliep, Rainer</td>\n      <td>2018</td>\n      <td>1 PDFs,</td>\n    </tr>\n    <tr>\n      <th>2</th>\n      <td>11303/6572</td>\n      <td>depositonce.tu-berlin.de</td>\n      <td>en</td>\n      <td>Direct and indirect climate change impacts in ...</td>\n      <td>Stevanović, Miodrag</td>\n      <td>2017</td>\n      <td>1 PDFs,</td>\n    </tr>\n    <tr>\n      <th>3</th>\n      <td>11303/6485</td>\n      <td>depositonce.tu-berlin.de</td>\n      <td>en</td>\n      <td>Multi-level reinforcement in European climate ...</td>\n      <td>Jänicke, Martin</td>\n      <td>2017</td>\n      <td>1 PDFs,</td>\n    </tr>\n    <tr>\n      <th>7</th>\n      <td>11303/9588</td>\n      <td>depositonce.tu-berlin.de</td>\n      <td>en</td>\n      <td>Climate Change in Afghanistan Deduced from Rea...</td>\n      <td>Aich, Valentin</td>\n      <td>2017</td>\n      <td>1 PDFs,</td>\n    </tr>\n    <tr>\n      <th>8</th>\n      <td>11303/10318</td>\n      <td>depositonce.tu-berlin.de</td>\n      <td>en</td>\n      <td>Climate and Decay: The impact of the urban cli...</td>\n      <td>Colwill, Simon</td>\n      <td>2017</td>\n      <td>1 PDFs,</td>\n    </tr>\n    <tr>\n      <th>9</th>\n      <td>11303/7096</td>\n      <td>depositonce.tu-berlin.de</td>\n      <td>en</td>\n      <td>At the frontiers of integrated assessment of c...</td>\n      <td>Schultes, Anselm Johannes</td>\n      <td>2017</td>\n      <td>1 PDFs,</td>\n    </tr>\n    <tr>\n      <th>0</th>\n      <td>11303/7658</td>\n      <td>depositonce.tu-berlin.de</td>\n      <td>en</td>\n      <td>The impact of high-end climate change on agric...</td>\n      <td>Stevanović, Miodrag</td>\n      <td>2016</td>\n      <td>1 PDFs,</td>\n    </tr>\n    <tr>\n      <th>4</th>\n      <td>11303/10983</td>\n      <td>depositonce.tu-berlin.de</td>\n      <td>en</td>\n      <td>From Planning to Implementation? The Role of C...</td>\n      <td>Mahlkow, Nicole</td>\n      <td>2016</td>\n      <td>1 PDFs,</td>\n    </tr>\n    <tr>\n      <th>6</th>\n      <td>11303/3971</td>\n      <td>depositonce.tu-berlin.de</td>\n      <td>en</td>\n      <td>Attitudes on Climate Change and Energy Consump...</td>\n      <td>Schröder, Sabine</td>\n      <td>2013</td>\n      <td>1 PDFs,</td>\n    </tr>\n    <tr>\n      <th>1</th>\n      <td>11303/3442</td>\n      <td>depositonce.tu-berlin.de</td>\n      <td>en</td>\n      <td>Uncertainty &amp; Learning in Global Climate Analysis</td>\n      <td>Lorenz, Alexander</td>\n      <td>2012</td>\n      <td>1 PDFs,</td>\n    </tr>\n  </tbody>\n</table>\n</div>"
     },
     "metadata": {},
     "execution_count": 1
    }
   ],
   "source": [
    "import bop\n",
    "bop.search(\"climate change\", translate_to=\"EN\")"
   ]
  },
  {
   "cell_type": "code",
   "execution_count": null,
   "metadata": {},
   "outputs": [],
   "source": []
  },
  {
   "cell_type": "code",
   "execution_count": null,
   "metadata": {},
   "outputs": [],
   "source": []
  },
  {
   "cell_type": "code",
   "execution_count": null,
   "metadata": {},
   "outputs": [],
   "source": []
  },
  {
   "cell_type": "code",
   "execution_count": 15,
   "metadata": {
    "tags": []
   },
   "outputs": [
    {
     "output_type": "stream",
     "name": "stdout",
     "text": "https://sol.sbc.org.br/index.php/eniac/article/view/10471\nhttps://sol.sbc.org.br/index.php/eniac/article/view/9267\nhttps://sol.sbc.org.br/index.php/eniac/article/view/9268\nhttps://sol.sbc.org.br/index.php/eniac/article/view/9269\nhttps://sol.sbc.org.br/index.php/eniac/article/view/9270\nhttps://sol.sbc.org.br/index.php/eniac/article/view/9271\nhttps://sol.sbc.org.br/index.php/eniac/article/view/9272\nhttps://sol.sbc.org.br/index.php/eniac/article/view/9273\nhttps://sol.sbc.org.br/index.php/eniac/article/view/9274\nhttps://sol.sbc.org.br/index.php/eniac/article/view/9275\nhttps://sol.sbc.org.br/index.php/eniac/article/view/9276\nhttps://sol.sbc.org.br/index.php/eniac/article/view/9277\nhttps://sol.sbc.org.br/index.php/eniac/article/view/9278\nhttps://sol.sbc.org.br/index.php/eniac/article/view/9279\nhttps://sol.sbc.org.br/index.php/eniac/article/view/9280\nhttps://sol.sbc.org.br/index.php/eniac/article/view/9281\nhttps://sol.sbc.org.br/index.php/eniac/article/view/9282\nhttps://sol.sbc.org.br/index.php/eniac/article/view/9283\nhttps://sol.sbc.org.br/index.php/eniac/article/view/9284\nhttps://sol.sbc.org.br/index.php/eniac/article/view/9285\nhttps://sol.sbc.org.br/index.php/eniac/article/view/9286\nhttps://sol.sbc.org.br/index.php/eniac/article/view/9287\nhttps://sol.sbc.org.br/index.php/eniac/article/view/9288\nhttps://sol.sbc.org.br/index.php/eniac/article/view/9289\nhttps://sol.sbc.org.br/index.php/eniac/article/view/9290\nhttps://sol.sbc.org.br/index.php/eniac/article/view/9291\nhttps://sol.sbc.org.br/index.php/eniac/article/view/9292\nhttps://sol.sbc.org.br/index.php/eniac/article/view/9293\nhttps://sol.sbc.org.br/index.php/eniac/article/view/9294\nhttps://sol.sbc.org.br/index.php/eniac/article/view/9295\nhttps://sol.sbc.org.br/index.php/eniac/article/view/9296\nhttps://sol.sbc.org.br/index.php/eniac/article/view/9297\nhttps://sol.sbc.org.br/index.php/eniac/article/view/9298\nhttps://sol.sbc.org.br/index.php/eniac/article/view/9299\nhttps://sol.sbc.org.br/index.php/eniac/article/view/9300\nhttps://sol.sbc.org.br/index.php/eniac/article/view/9301\nhttps://sol.sbc.org.br/index.php/eniac/article/view/9302\nhttps://sol.sbc.org.br/index.php/eniac/article/view/9303\nhttps://sol.sbc.org.br/index.php/eniac/article/view/9304\nhttps://sol.sbc.org.br/index.php/eniac/article/view/9305\nhttps://sol.sbc.org.br/index.php/eniac/article/view/9306\nhttps://sol.sbc.org.br/index.php/eniac/article/view/9307\nhttps://sol.sbc.org.br/index.php/eniac/article/view/9308\nhttps://sol.sbc.org.br/index.php/eniac/article/view/9309\nhttps://sol.sbc.org.br/index.php/eniac/article/view/9310\nhttps://sol.sbc.org.br/index.php/eniac/article/view/9311\nhttps://sol.sbc.org.br/index.php/eniac/article/view/9312\nhttps://sol.sbc.org.br/index.php/eniac/article/view/9313\nhttps://sol.sbc.org.br/index.php/eniac/article/view/9314\nhttps://sol.sbc.org.br/index.php/eniac/article/view/9315\nhttps://sol.sbc.org.br/index.php/eniac/article/view/9316\nhttps://sol.sbc.org.br/index.php/eniac/article/view/9317\nhttps://sol.sbc.org.br/index.php/eniac/article/view/9318\nhttps://sol.sbc.org.br/index.php/eniac/article/view/9319\nhttps://sol.sbc.org.br/index.php/eniac/article/view/9320\nhttps://sol.sbc.org.br/index.php/eniac/article/view/9321\nhttps://sol.sbc.org.br/index.php/eniac/article/view/9322\nhttps://sol.sbc.org.br/index.php/eniac/article/view/9323\nhttps://sol.sbc.org.br/index.php/eniac/article/view/9324\nhttps://sol.sbc.org.br/index.php/eniac/article/view/9325\nhttps://sol.sbc.org.br/index.php/eniac/article/view/9326\nhttps://sol.sbc.org.br/index.php/eniac/article/view/9327\nhttps://sol.sbc.org.br/index.php/eniac/article/view/9328\nhttps://sol.sbc.org.br/index.php/eniac/article/view/9329\nhttps://sol.sbc.org.br/index.php/eniac/article/view/9330\nhttps://sol.sbc.org.br/index.php/eniac/article/view/9331\nhttps://sol.sbc.org.br/index.php/eniac/article/view/9332\nhttps://sol.sbc.org.br/index.php/eniac/article/view/9333\nhttps://sol.sbc.org.br/index.php/eniac/article/view/9334\nhttps://sol.sbc.org.br/index.php/eniac/article/view/9335\nhttps://sol.sbc.org.br/index.php/eniac/article/view/9336\nhttps://sol.sbc.org.br/index.php/eniac/article/view/9337\nhttps://sol.sbc.org.br/index.php/eniac/article/view/9338\nhttps://sol.sbc.org.br/index.php/eniac/article/view/9339\nhttps://sol.sbc.org.br/index.php/eniac/article/view/9340\nhttps://sol.sbc.org.br/index.php/eniac/article/view/9341\nhttps://sol.sbc.org.br/index.php/eniac/article/view/9342\nhttps://sol.sbc.org.br/index.php/eniac/article/view/9343\nhttps://sol.sbc.org.br/index.php/eniac/article/view/9344\nhttps://sol.sbc.org.br/index.php/eniac/article/view/9345\nhttps://sol.sbc.org.br/index.php/eniac/article/view/9346\nhttps://sol.sbc.org.br/index.php/eniac/article/view/9347\nhttps://sol.sbc.org.br/index.php/eniac/article/view/9348\nhttps://sol.sbc.org.br/index.php/eniac/article/view/9349\nhttps://sol.sbc.org.br/index.php/eniac/article/view/9350\nhttps://sol.sbc.org.br/index.php/eniac/article/view/9351\nhttps://sol.sbc.org.br/index.php/eniac/article/view/9352\nhttps://sol.sbc.org.br/index.php/eniac/article/view/9353\nhttps://sol.sbc.org.br/index.php/eniac/article/view/9354\nhttps://sol.sbc.org.br/index.php/eniac/article/view/9355\nhttps://sol.sbc.org.br/index.php/eniac/article/view/9356\nhttps://sol.sbc.org.br/index.php/eniac/article/view/9357\nhttps://sol.sbc.org.br/index.php/eniac/article/view/9358\nhttps://sol.sbc.org.br/index.php/eniac/article/view/9359\n"
    }
   ],
   "source": []
  },
  {
   "cell_type": "code",
   "execution_count": null,
   "metadata": {},
   "outputs": [],
   "source": []
  },
  {
   "cell_type": "code",
   "execution_count": null,
   "metadata": {},
   "outputs": [],
   "source": []
  },
  {
   "cell_type": "code",
   "execution_count": null,
   "metadata": {},
   "outputs": [],
   "source": []
  },
  {
   "cell_type": "code",
   "execution_count": null,
   "metadata": {},
   "outputs": [],
   "source": []
  },
  {
   "cell_type": "code",
   "execution_count": null,
   "metadata": {},
   "outputs": [],
   "source": []
  },
  {
   "cell_type": "code",
   "execution_count": null,
   "metadata": {},
   "outputs": [],
   "source": []
  },
  {
   "cell_type": "code",
   "execution_count": null,
   "metadata": {},
   "outputs": [],
   "source": [
    "import pandas as pd\n",
    "pd.DataFrame"
   ]
  },
  {
   "cell_type": "code",
   "execution_count": null,
   "metadata": {},
   "outputs": [],
   "source": []
  },
  {
   "cell_type": "code",
   "execution_count": null,
   "metadata": {},
   "outputs": [],
   "source": []
  },
  {
   "cell_type": "code",
   "execution_count": null,
   "metadata": {},
   "outputs": [],
   "source": []
  },
  {
   "cell_type": "code",
   "execution_count": null,
   "metadata": {},
   "outputs": [],
   "source": []
  },
  {
   "cell_type": "code",
   "execution_count": null,
   "metadata": {},
   "outputs": [],
   "source": []
  },
  {
   "cell_type": "code",
   "execution_count": null,
   "metadata": {},
   "outputs": [],
   "source": []
  },
  {
   "cell_type": "code",
   "execution_count": null,
   "metadata": {},
   "outputs": [],
   "source": []
  },
  {
   "cell_type": "code",
   "execution_count": null,
   "metadata": {},
   "outputs": [],
   "source": []
  },
  {
   "cell_type": "code",
   "execution_count": null,
   "metadata": {},
   "outputs": [],
   "source": []
  },
  {
   "cell_type": "code",
   "execution_count": null,
   "metadata": {},
   "outputs": [],
   "source": []
  },
  {
   "cell_type": "code",
   "execution_count": null,
   "metadata": {},
   "outputs": [],
   "source": []
  },
  {
   "cell_type": "code",
   "execution_count": null,
   "metadata": {},
   "outputs": [],
   "source": []
  },
  {
   "cell_type": "code",
   "execution_count": null,
   "metadata": {},
   "outputs": [],
   "source": []
  },
  {
   "cell_type": "code",
   "execution_count": 6,
   "metadata": {
    "tags": []
   },
   "outputs": [
    {
     "output_type": "execute_result",
     "data": {
      "text/plain": "['https://depositonce.tu-berlin.de//bitstream/11303/8738/9/OABerlin_2017_data-description.pdf',\n 'https://depositonce.tu-berlin.de//bitstream/11303/8738/5/OABerlin2017_data.xlsx',\n 'https://depositonce.tu-berlin.de//bitstream/11303/8738/4/OABerlin2017_data.csv',\n 'https://depositonce.tu-berlin.de//bitstream/11303/8738/7/OABerlin2017_data_repositories.xlsx',\n 'https://depositonce.tu-berlin.de//bitstream/11303/8738/6/OABerlin2017_data_repositories.csv',\n 'https://depositonce.tu-berlin.de//bitstream/11303/8738/8/OABerlin2017_data_results.xlsx',\n 'https://depositonce.tu-berlin.de//bitstream/11303/8738/10/doaj.txt']"
     },
     "metadata": {},
     "execution_count": 6
    }
   ],
   "source": []
  },
  {
   "cell_type": "code",
   "execution_count": null,
   "metadata": {},
   "outputs": [],
   "source": []
  },
  {
   "cell_type": "code",
   "execution_count": null,
   "metadata": {},
   "outputs": [],
   "source": []
  },
  {
   "cell_type": "code",
   "execution_count": null,
   "metadata": {},
   "outputs": [],
   "source": []
  },
  {
   "cell_type": "code",
   "execution_count": null,
   "metadata": {},
   "outputs": [],
   "source": []
  },
  {
   "cell_type": "code",
   "execution_count": null,
   "metadata": {},
   "outputs": [],
   "source": []
  }
 ]
}