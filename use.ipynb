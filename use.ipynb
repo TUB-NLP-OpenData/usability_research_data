{
 "metadata": {
  "language_info": {
   "codemirror_mode": {
    "name": "ipython",
    "version": 3
   },
   "file_extension": ".py",
   "mimetype": "text/x-python",
   "name": "python",
   "nbconvert_exporter": "python",
   "pygments_lexer": "ipython3",
   "version": 3
  },
  "orig_nbformat": 2,
  "kernelspec": {
   "name": "python_defaultSpec_1596633695654",
   "display_name": "Python 3.8.2 64-bit"
  }
 },
 "nbformat": 4,
 "nbformat_minor": 2,
 "cells": [
  {
   "cell_type": "code",
   "execution_count": 2,
   "metadata": {
    "tags": []
   },
   "outputs": [
    {
     "output_type": "execute_result",
     "data": {
      "text/plain": "            id                    server language  \\\n0   11303/5342  depositonce.tu-berlin.de       en   \n1   11303/1219  depositonce.tu-berlin.de       de   \n2   11303/6660  depositonce.tu-berlin.de       en   \n3   11303/4882  depositonce.tu-berlin.de       en   \n4   11303/4375  depositonce.tu-berlin.de       en   \n5   11303/6103  depositonce.tu-berlin.de       en   \n6   11303/5979  depositonce.tu-berlin.de       en   \n7   11303/2837  depositonce.tu-berlin.de       en   \n8   11303/5918  depositonce.tu-berlin.de       en   \n9  11303/10669  depositonce.tu-berlin.de       en   \n\n                                               title                author  \\\n0  Derivando inclinação para redes de ruas a part...         John, Steffen   \n1  Investigação espectral de órbitas do tipo GPS ...           Mai, Enrico   \n2  O uso integrado de observações GPS / GLONASS n...  Przestrzelski, Paweł   \n3  Técnicas GNSS de alta taxa em tempo real para ...          Li, Xingxing   \n4  Análise e derivação da distribuição espacial e...       Shangguan, Ming   \n5                                  Refletometria GPS  Beckheinrich, Jamila   \n6  Detecção em tempo real do vapor de água atmosf...           Lu, Cuixian   \n7  Deformação ativa nos Andes do sul a partir de ...        Moreno, Marcos   \n8  Posicionamento preciso do ponto GNSS com aplic...               Xu, Yan   \n9  Recuperando Vapor de Água Precipitável de Obse...         Wang, Jungang   \n\n         year              files  \n0        2016           1 PDFs,   \n1  2005-03-04           1 PDFs,   \n2        2016           1 PDFs,   \n3  2015-08-21           1 PDFs,   \n4  2014-07-08           1 PDFs,   \n5        2016           1 PDFs,   \n6        2016           1 PDFs,   \n7  2010-08-12           1 PDFs,   \n8        2016           1 PDFs,   \n9  2019-05-15  1 PDFs, 1 DOCXs,   ",
      "text/html": "<div>\n<style scoped>\n    .dataframe tbody tr th:only-of-type {\n        vertical-align: middle;\n    }\n\n    .dataframe tbody tr th {\n        vertical-align: top;\n    }\n\n    .dataframe thead th {\n        text-align: right;\n    }\n</style>\n<table border=\"1\" class=\"dataframe\">\n  <thead>\n    <tr style=\"text-align: right;\">\n      <th></th>\n      <th>id</th>\n      <th>server</th>\n      <th>language</th>\n      <th>title</th>\n      <th>author</th>\n      <th>year</th>\n      <th>files</th>\n    </tr>\n  </thead>\n  <tbody>\n    <tr>\n      <th>0</th>\n      <td>11303/5342</td>\n      <td>depositonce.tu-berlin.de</td>\n      <td>en</td>\n      <td>Derivando inclinação para redes de ruas a part...</td>\n      <td>John, Steffen</td>\n      <td>2016</td>\n      <td>1 PDFs,</td>\n    </tr>\n    <tr>\n      <th>1</th>\n      <td>11303/1219</td>\n      <td>depositonce.tu-berlin.de</td>\n      <td>de</td>\n      <td>Investigação espectral de órbitas do tipo GPS ...</td>\n      <td>Mai, Enrico</td>\n      <td>2005-03-04</td>\n      <td>1 PDFs,</td>\n    </tr>\n    <tr>\n      <th>2</th>\n      <td>11303/6660</td>\n      <td>depositonce.tu-berlin.de</td>\n      <td>en</td>\n      <td>O uso integrado de observações GPS / GLONASS n...</td>\n      <td>Przestrzelski, Paweł</td>\n      <td>2016</td>\n      <td>1 PDFs,</td>\n    </tr>\n    <tr>\n      <th>3</th>\n      <td>11303/4882</td>\n      <td>depositonce.tu-berlin.de</td>\n      <td>en</td>\n      <td>Técnicas GNSS de alta taxa em tempo real para ...</td>\n      <td>Li, Xingxing</td>\n      <td>2015-08-21</td>\n      <td>1 PDFs,</td>\n    </tr>\n    <tr>\n      <th>4</th>\n      <td>11303/4375</td>\n      <td>depositonce.tu-berlin.de</td>\n      <td>en</td>\n      <td>Análise e derivação da distribuição espacial e...</td>\n      <td>Shangguan, Ming</td>\n      <td>2014-07-08</td>\n      <td>1 PDFs,</td>\n    </tr>\n    <tr>\n      <th>5</th>\n      <td>11303/6103</td>\n      <td>depositonce.tu-berlin.de</td>\n      <td>en</td>\n      <td>Refletometria GPS</td>\n      <td>Beckheinrich, Jamila</td>\n      <td>2016</td>\n      <td>1 PDFs,</td>\n    </tr>\n    <tr>\n      <th>6</th>\n      <td>11303/5979</td>\n      <td>depositonce.tu-berlin.de</td>\n      <td>en</td>\n      <td>Detecção em tempo real do vapor de água atmosf...</td>\n      <td>Lu, Cuixian</td>\n      <td>2016</td>\n      <td>1 PDFs,</td>\n    </tr>\n    <tr>\n      <th>7</th>\n      <td>11303/2837</td>\n      <td>depositonce.tu-berlin.de</td>\n      <td>en</td>\n      <td>Deformação ativa nos Andes do sul a partir de ...</td>\n      <td>Moreno, Marcos</td>\n      <td>2010-08-12</td>\n      <td>1 PDFs,</td>\n    </tr>\n    <tr>\n      <th>8</th>\n      <td>11303/5918</td>\n      <td>depositonce.tu-berlin.de</td>\n      <td>en</td>\n      <td>Posicionamento preciso do ponto GNSS com aplic...</td>\n      <td>Xu, Yan</td>\n      <td>2016</td>\n      <td>1 PDFs,</td>\n    </tr>\n    <tr>\n      <th>9</th>\n      <td>11303/10669</td>\n      <td>depositonce.tu-berlin.de</td>\n      <td>en</td>\n      <td>Recuperando Vapor de Água Precipitável de Obse...</td>\n      <td>Wang, Jungang</td>\n      <td>2019-05-15</td>\n      <td>1 PDFs, 1 DOCXs,</td>\n    </tr>\n  </tbody>\n</table>\n</div>"
     },
     "metadata": {},
     "execution_count": 2
    }
   ],
   "source": [
    "import redu\n",
    "redu.search(\"gps\",  translate_to=\"PT\")"
   ]
  },
  {
   "cell_type": "code",
   "execution_count": null,
   "metadata": {},
   "outputs": [],
   "source": []
  },
  {
   "cell_type": "code",
   "execution_count": null,
   "metadata": {},
   "outputs": [],
   "source": []
  },
  {
   "cell_type": "code",
   "execution_count": null,
   "metadata": {},
   "outputs": [],
   "source": []
  },
  {
   "cell_type": "code",
   "execution_count": null,
   "metadata": {},
   "outputs": [],
   "source": []
  },
  {
   "cell_type": "code",
   "execution_count": null,
   "metadata": {},
   "outputs": [],
   "source": []
  },
  {
   "cell_type": "code",
   "execution_count": null,
   "metadata": {},
   "outputs": [],
   "source": []
  },
  {
   "cell_type": "code",
   "execution_count": null,
   "metadata": {},
   "outputs": [],
   "source": []
  },
  {
   "cell_type": "code",
   "execution_count": null,
   "metadata": {},
   "outputs": [],
   "source": []
  },
  {
   "cell_type": "code",
   "execution_count": null,
   "metadata": {},
   "outputs": [],
   "source": []
  },
  {
   "cell_type": "code",
   "execution_count": null,
   "metadata": {},
   "outputs": [],
   "source": []
  },
  {
   "cell_type": "code",
   "execution_count": null,
   "metadata": {},
   "outputs": [],
   "source": []
  },
  {
   "cell_type": "code",
   "execution_count": null,
   "metadata": {},
   "outputs": [],
   "source": []
  },
  {
   "cell_type": "code",
   "execution_count": null,
   "metadata": {},
   "outputs": [],
   "source": []
  },
  {
   "cell_type": "code",
   "execution_count": null,
   "metadata": {},
   "outputs": [],
   "source": []
  },
  {
   "cell_type": "code",
   "execution_count": 6,
   "metadata": {
    "tags": []
   },
   "outputs": [
    {
     "output_type": "execute_result",
     "data": {
      "text/plain": "['https://depositonce.tu-berlin.de//bitstream/11303/8738/9/OABerlin_2017_data-description.pdf',\n 'https://depositonce.tu-berlin.de//bitstream/11303/8738/5/OABerlin2017_data.xlsx',\n 'https://depositonce.tu-berlin.de//bitstream/11303/8738/4/OABerlin2017_data.csv',\n 'https://depositonce.tu-berlin.de//bitstream/11303/8738/7/OABerlin2017_data_repositories.xlsx',\n 'https://depositonce.tu-berlin.de//bitstream/11303/8738/6/OABerlin2017_data_repositories.csv',\n 'https://depositonce.tu-berlin.de//bitstream/11303/8738/8/OABerlin2017_data_results.xlsx',\n 'https://depositonce.tu-berlin.de//bitstream/11303/8738/10/doaj.txt']"
     },
     "metadata": {},
     "execution_count": 6
    }
   ],
   "source": []
  },
  {
   "cell_type": "code",
   "execution_count": null,
   "metadata": {},
   "outputs": [],
   "source": []
  },
  {
   "cell_type": "code",
   "execution_count": null,
   "metadata": {},
   "outputs": [],
   "source": []
  },
  {
   "cell_type": "code",
   "execution_count": null,
   "metadata": {},
   "outputs": [],
   "source": []
  },
  {
   "cell_type": "code",
   "execution_count": null,
   "metadata": {},
   "outputs": [],
   "source": []
  },
  {
   "cell_type": "code",
   "execution_count": null,
   "metadata": {},
   "outputs": [],
   "source": []
  }
 ]
}