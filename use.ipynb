{
 "cells": [
  {
   "cell_type": "code",
   "execution_count": null,
   "metadata": {
    "tags": []
   },
   "outputs": [],
   "source": [
    "import bop\n",
    "bop.search(\"Medizin\", translate_to=\"EN\")"
   ]
  },
  {
   "cell_type": "code",
   "execution_count": null,
   "metadata": {},
   "outputs": [],
   "source": [
    "import bop"
   ]
  },
  {
   "cell_type": "code",
   "execution_count": null,
   "metadata": {},
   "outputs": [],
   "source": [
    "bop.repository(\"11303/10989.2\").datasets()[0].preview()"
   ]
  },
  {
   "cell_type": "code",
   "execution_count": null,
   "metadata": {},
   "outputs": [],
   "source": [
    "bop.repository(\"11303/10989.2\")"
   ]
  },
  {
   "cell_type": "code",
   "execution_count": null,
   "metadata": {
    "tags": []
   },
   "outputs": [],
   "source": [
    "import bop\n",
    "bop.repository(\"11303/10989.2\").datasets()[0].describe()"
   ]
  },
  {
   "cell_type": "code",
   "execution_count": null,
   "metadata": {},
   "outputs": [],
   "source": [
    "import redu\n",
    "redu.search(\"Temperature  and  Humidity  in  Gardens\")"
   ]
  },
  {
   "cell_type": "code",
   "execution_count": null,
   "metadata": {},
   "outputs": [],
   "source": [
    "import bopi\n",
    "bopi.repository(\"11303/10989.2\").download(\"./download\")"
   ]
  },
  {
   "cell_type": "code",
   "execution_count": null,
   "metadata": {},
   "outputs": [],
   "source": []
  },
  {
   "cell_type": "code",
   "execution_count": null,
   "metadata": {},
   "outputs": [],
   "source": [
    "import bop\n",
    "bop.search(\"Temperature  and  Humidity  in  Gardens\")"
   ]
  },
  {
   "cell_type": "code",
   "execution_count": null,
   "metadata": {},
   "outputs": [],
   "source": [
    "import bop\n",
    "bop.search(\"Temperature  and  Humidity  in  Gardens\",repo=\"Refubium\")"
   ]
  },
  {
   "cell_type": "code",
   "execution_count": null,
   "metadata": {},
   "outputs": [],
   "source": [
    "import bop_refubium\n",
    "bop_refubium.search(\"Temperature  and  Humidity  in  Gardens\")"
   ]
  },
  {
   "cell_type": "code",
   "execution_count": null,
   "metadata": {},
   "outputs": [],
   "source": [
    "import pandas as pd\n",
    "import bop\n",
    "bop.search(\"climate change\")[\"author\"].value_counts()"
   ]
  },
  {
   "cell_type": "code",
   "execution_count": null,
   "metadata": {},
   "outputs": [],
   "source": [
    "import bop\n",
    "authors=[]\n",
    "for author in bop.search(\"climate change\"):\n",
    "    authors.append(author)\n",
    "    \n"
   ]
  },
  {
   "cell_type": "code",
   "execution_count": 1,
   "metadata": {},
   "outputs": [
    {
     "name": "stderr",
     "output_type": "stream",
     "text": [
      "In /home/lord_tristan/.local/lib/python3.6/site-packages/matplotlib/mpl-data/stylelib/_classic_test.mplstyle: \n",
      "The text.latex.preview rcparam was deprecated in Matplotlib 3.3 and will be removed two minor releases later.\n",
      "In /home/lord_tristan/.local/lib/python3.6/site-packages/matplotlib/mpl-data/stylelib/_classic_test.mplstyle: \n",
      "The mathtext.fallback_to_cm rcparam was deprecated in Matplotlib 3.3 and will be removed two minor releases later.\n",
      "In /home/lord_tristan/.local/lib/python3.6/site-packages/matplotlib/mpl-data/stylelib/_classic_test.mplstyle: Support for setting the 'mathtext.fallback_to_cm' rcParam is deprecated since 3.3 and will be removed two minor releases later; use 'mathtext.fallback : 'cm' instead.\n",
      "In /home/lord_tristan/.local/lib/python3.6/site-packages/matplotlib/mpl-data/stylelib/_classic_test.mplstyle: \n",
      "The validate_bool_maybe_none function was deprecated in Matplotlib 3.3 and will be removed two minor releases later.\n",
      "In /home/lord_tristan/.local/lib/python3.6/site-packages/matplotlib/mpl-data/stylelib/_classic_test.mplstyle: \n",
      "The savefig.jpeg_quality rcparam was deprecated in Matplotlib 3.3 and will be removed two minor releases later.\n",
      "In /home/lord_tristan/.local/lib/python3.6/site-packages/matplotlib/mpl-data/stylelib/_classic_test.mplstyle: \n",
      "The keymap.all_axes rcparam was deprecated in Matplotlib 3.3 and will be removed two minor releases later.\n",
      "In /home/lord_tristan/.local/lib/python3.6/site-packages/matplotlib/mpl-data/stylelib/_classic_test.mplstyle: \n",
      "The animation.avconv_path rcparam was deprecated in Matplotlib 3.3 and will be removed two minor releases later.\n",
      "In /home/lord_tristan/.local/lib/python3.6/site-packages/matplotlib/mpl-data/stylelib/_classic_test.mplstyle: \n",
      "The animation.avconv_args rcparam was deprecated in Matplotlib 3.3 and will be removed two minor releases later.\n"
     ]
    }
   ],
   "source": [
    "import redu"
   ]
  },
  {
   "cell_type": "code",
   "execution_count": null,
   "metadata": {},
   "outputs": [],
   "source": [
    "redu.search(\"Android\", detailed=True)"
   ]
  },
  {
   "cell_type": "code",
   "execution_count": 2,
   "metadata": {},
   "outputs": [
    {
     "data": {
      "text/html": [
       "<div>\n",
       "<style scoped>\n",
       "    .dataframe tbody tr th:only-of-type {\n",
       "        vertical-align: middle;\n",
       "    }\n",
       "\n",
       "    .dataframe tbody tr th {\n",
       "        vertical-align: top;\n",
       "    }\n",
       "\n",
       "    .dataframe thead th {\n",
       "        text-align: right;\n",
       "    }\n",
       "</style>\n",
       "<table border=\"1\" class=\"dataframe\">\n",
       "  <thead>\n",
       "    <tr style=\"text-align: right;\">\n",
       "      <th></th>\n",
       "      <th>App Vendor ID</th>\n",
       "      <th>Operating system</th>\n",
       "      <th>App store category</th>\n",
       "      <th>Vendor's domicile</th>\n",
       "      <th>Account registration</th>\n",
       "      <th>Request language</th>\n",
       "      <th>R1: Response duration (in days)</th>\n",
       "      <th>R1: Assigned codes</th>\n",
       "      <th>R1: Dummy response status</th>\n",
       "      <th>R1: TLS encryption</th>\n",
       "      <th>...</th>\n",
       "      <th>R2: Response duration (in days)</th>\n",
       "      <th>R2: Assigned codes</th>\n",
       "      <th>R2: TLS encryption</th>\n",
       "      <th>R3: App still exists</th>\n",
       "      <th>R3: User account still exists</th>\n",
       "      <th>R3: Response duration (in days)</th>\n",
       "      <th>R3: Assigned codes</th>\n",
       "      <th>R3: Reminder response status</th>\n",
       "      <th>R3: Dummy response status</th>\n",
       "      <th>R3: TLS encryption</th>\n",
       "    </tr>\n",
       "  </thead>\n",
       "  <tbody>\n",
       "    <tr>\n",
       "      <th>0</th>\n",
       "      <td>A1</td>\n",
       "      <td>iOS</td>\n",
       "      <td>Business</td>\n",
       "      <td>Germany</td>\n",
       "      <td>vie email</td>\n",
       "      <td>German</td>\n",
       "      <td>5.0</td>\n",
       "      <td>de data ds1 dt4</td>\n",
       "      <td>NaN</td>\n",
       "      <td>yes</td>\n",
       "      <td>...</td>\n",
       "      <td>NaN</td>\n",
       "      <td>NOREPLY</td>\n",
       "      <td>NaN</td>\n",
       "      <td>yes</td>\n",
       "      <td>yes</td>\n",
       "      <td>2.0</td>\n",
       "      <td>de data ds1 dt7 uod</td>\n",
       "      <td>NaN</td>\n",
       "      <td>NaN</td>\n",
       "      <td>yes</td>\n",
       "    </tr>\n",
       "    <tr>\n",
       "      <th>1</th>\n",
       "      <td>A2</td>\n",
       "      <td>iOS</td>\n",
       "      <td>Business</td>\n",
       "      <td>outside the EU</td>\n",
       "      <td>vie email</td>\n",
       "      <td>English</td>\n",
       "      <td>1.0</td>\n",
       "      <td>en nds stor</td>\n",
       "      <td>NaN</td>\n",
       "      <td>no</td>\n",
       "      <td>...</td>\n",
       "      <td>1.0</td>\n",
       "      <td>en data dt8</td>\n",
       "      <td>yes</td>\n",
       "      <td>yes</td>\n",
       "      <td>yes</td>\n",
       "      <td>2.0</td>\n",
       "      <td>de f2 f3 nd1</td>\n",
       "      <td>NaN</td>\n",
       "      <td>NaN</td>\n",
       "      <td>yes</td>\n",
       "    </tr>\n",
       "    <tr>\n",
       "      <th>2</th>\n",
       "      <td>A3</td>\n",
       "      <td>iOS</td>\n",
       "      <td>Business</td>\n",
       "      <td>Germany</td>\n",
       "      <td>vie email</td>\n",
       "      <td>German</td>\n",
       "      <td>1.0</td>\n",
       "      <td>de f2 nd1</td>\n",
       "      <td>NaN</td>\n",
       "      <td>yes</td>\n",
       "      <td>...</td>\n",
       "      <td>1.0</td>\n",
       "      <td>de data dt8 uod</td>\n",
       "      <td>yes</td>\n",
       "      <td>yes</td>\n",
       "      <td>yes</td>\n",
       "      <td>2.0</td>\n",
       "      <td>de data dt8 uod</td>\n",
       "      <td>NaN</td>\n",
       "      <td>NaN</td>\n",
       "      <td>yes</td>\n",
       "    </tr>\n",
       "    <tr>\n",
       "      <th>3</th>\n",
       "      <td>A4</td>\n",
       "      <td>iOS</td>\n",
       "      <td>Business</td>\n",
       "      <td>Germany</td>\n",
       "      <td>vie email</td>\n",
       "      <td>German</td>\n",
       "      <td>15.0</td>\n",
       "      <td>de data ds1 dt4 uod</td>\n",
       "      <td>NaN</td>\n",
       "      <td>yes</td>\n",
       "      <td>...</td>\n",
       "      <td>2.0</td>\n",
       "      <td>de data dt4 p2 uod</td>\n",
       "      <td>yes</td>\n",
       "      <td>yes</td>\n",
       "      <td>yes</td>\n",
       "      <td>2.0</td>\n",
       "      <td>de authS data ds1 dt2 tra</td>\n",
       "      <td>NaN</td>\n",
       "      <td>NaN</td>\n",
       "      <td>yes</td>\n",
       "    </tr>\n",
       "    <tr>\n",
       "      <th>4</th>\n",
       "      <td>A5</td>\n",
       "      <td>iOS</td>\n",
       "      <td>Business</td>\n",
       "      <td>outside the EU</td>\n",
       "      <td>vie email</td>\n",
       "      <td>German</td>\n",
       "      <td>2.0</td>\n",
       "      <td>de unrel</td>\n",
       "      <td>NaN</td>\n",
       "      <td>yes</td>\n",
       "      <td>...</td>\n",
       "      <td>1.0</td>\n",
       "      <td>en authS bfa data dt2</td>\n",
       "      <td>yes</td>\n",
       "      <td>yes</td>\n",
       "      <td>yes</td>\n",
       "      <td>2.0</td>\n",
       "      <td>en data ds1 dt1 dt5 exp p2 pw tra</td>\n",
       "      <td>NaN</td>\n",
       "      <td>NaN</td>\n",
       "      <td>yes</td>\n",
       "    </tr>\n",
       "    <tr>\n",
       "      <th>...</th>\n",
       "      <td>...</td>\n",
       "      <td>...</td>\n",
       "      <td>...</td>\n",
       "      <td>...</td>\n",
       "      <td>...</td>\n",
       "      <td>...</td>\n",
       "      <td>...</td>\n",
       "      <td>...</td>\n",
       "      <td>...</td>\n",
       "      <td>...</td>\n",
       "      <td>...</td>\n",
       "      <td>...</td>\n",
       "      <td>...</td>\n",
       "      <td>...</td>\n",
       "      <td>...</td>\n",
       "      <td>...</td>\n",
       "      <td>...</td>\n",
       "      <td>...</td>\n",
       "      <td>...</td>\n",
       "      <td>...</td>\n",
       "      <td>...</td>\n",
       "    </tr>\n",
       "    <tr>\n",
       "      <th>220</th>\n",
       "      <td>A221</td>\n",
       "      <td>Android</td>\n",
       "      <td>Widgets</td>\n",
       "      <td>outside the EU</td>\n",
       "      <td>via Facebook</td>\n",
       "      <td>English</td>\n",
       "      <td>NaN</td>\n",
       "      <td>NOREPLY</td>\n",
       "      <td>no reply</td>\n",
       "      <td>NaN</td>\n",
       "      <td>...</td>\n",
       "      <td>NaN</td>\n",
       "      <td>NOREPLY</td>\n",
       "      <td>NaN</td>\n",
       "      <td>yes</td>\n",
       "      <td>no</td>\n",
       "      <td>NaN</td>\n",
       "      <td>NOREPLY</td>\n",
       "      <td>no reply</td>\n",
       "      <td>no reply</td>\n",
       "      <td>NaN</td>\n",
       "    </tr>\n",
       "    <tr>\n",
       "      <th>221</th>\n",
       "      <td>A222</td>\n",
       "      <td>Android</td>\n",
       "      <td>Widgets</td>\n",
       "      <td>outside the EU</td>\n",
       "      <td>vie email</td>\n",
       "      <td>German</td>\n",
       "      <td>1.0</td>\n",
       "      <td>de stor</td>\n",
       "      <td>NaN</td>\n",
       "      <td>yes</td>\n",
       "      <td>...</td>\n",
       "      <td>1.0</td>\n",
       "      <td>de p1</td>\n",
       "      <td>yes</td>\n",
       "      <td>yes</td>\n",
       "      <td>yes</td>\n",
       "      <td>1.0</td>\n",
       "      <td>de data ds2 dt2 dt4 exp pw</td>\n",
       "      <td>NaN</td>\n",
       "      <td>NaN</td>\n",
       "      <td>yes</td>\n",
       "    </tr>\n",
       "    <tr>\n",
       "      <th>222</th>\n",
       "      <td>A223</td>\n",
       "      <td>Android</td>\n",
       "      <td>Widgets</td>\n",
       "      <td>Germany</td>\n",
       "      <td>vie email</td>\n",
       "      <td>German</td>\n",
       "      <td>1.0</td>\n",
       "      <td>de nds p1</td>\n",
       "      <td>NaN</td>\n",
       "      <td>yes</td>\n",
       "      <td>...</td>\n",
       "      <td>1.0</td>\n",
       "      <td>de data dt8</td>\n",
       "      <td>yes</td>\n",
       "      <td>yes</td>\n",
       "      <td>yes</td>\n",
       "      <td>2.0</td>\n",
       "      <td>de data dt8 nds</td>\n",
       "      <td>NaN</td>\n",
       "      <td>NaN</td>\n",
       "      <td>yes</td>\n",
       "    </tr>\n",
       "    <tr>\n",
       "      <th>223</th>\n",
       "      <td>A224</td>\n",
       "      <td>Android</td>\n",
       "      <td>Widgets</td>\n",
       "      <td>outside the EU</td>\n",
       "      <td>via Google</td>\n",
       "      <td>German</td>\n",
       "      <td>4.0</td>\n",
       "      <td>en stor</td>\n",
       "      <td>NaN</td>\n",
       "      <td>yes</td>\n",
       "      <td>...</td>\n",
       "      <td>1.0</td>\n",
       "      <td>en nd1</td>\n",
       "      <td>yes</td>\n",
       "      <td>yes</td>\n",
       "      <td>no</td>\n",
       "      <td>5.0</td>\n",
       "      <td>en nd1</td>\n",
       "      <td>NaN</td>\n",
       "      <td>NaN</td>\n",
       "      <td>yes</td>\n",
       "    </tr>\n",
       "    <tr>\n",
       "      <th>224</th>\n",
       "      <td>A225</td>\n",
       "      <td>Android</td>\n",
       "      <td>Widgets</td>\n",
       "      <td>Germany</td>\n",
       "      <td>vie email</td>\n",
       "      <td>German</td>\n",
       "      <td>19.0</td>\n",
       "      <td>de authIN data dt4 pw</td>\n",
       "      <td>NaN</td>\n",
       "      <td>yes</td>\n",
       "      <td>...</td>\n",
       "      <td>11.0</td>\n",
       "      <td>en data dt10</td>\n",
       "      <td>yes</td>\n",
       "      <td>yes</td>\n",
       "      <td>yes</td>\n",
       "      <td>2.0</td>\n",
       "      <td>de p4 stor</td>\n",
       "      <td>NaN</td>\n",
       "      <td>NaN</td>\n",
       "      <td>yes</td>\n",
       "    </tr>\n",
       "  </tbody>\n",
       "</table>\n",
       "<p>225 rows × 22 columns</p>\n",
       "</div>"
      ],
      "text/plain": [
       "    App Vendor ID Operating system App store category Vendor's domicile  \\\n",
       "0              A1              iOS           Business           Germany   \n",
       "1              A2              iOS           Business    outside the EU   \n",
       "2              A3              iOS           Business           Germany   \n",
       "3              A4              iOS           Business           Germany   \n",
       "4              A5              iOS           Business    outside the EU   \n",
       "..            ...              ...                ...               ...   \n",
       "220          A221          Android            Widgets    outside the EU   \n",
       "221          A222          Android            Widgets    outside the EU   \n",
       "222          A223          Android            Widgets           Germany   \n",
       "223          A224          Android            Widgets    outside the EU   \n",
       "224          A225          Android            Widgets           Germany   \n",
       "\n",
       "    Account registration Request language  R1: Response duration (in days)  \\\n",
       "0              vie email           German                              5.0   \n",
       "1              vie email          English                              1.0   \n",
       "2              vie email           German                              1.0   \n",
       "3              vie email           German                             15.0   \n",
       "4              vie email           German                              2.0   \n",
       "..                   ...              ...                              ...   \n",
       "220         via Facebook          English                              NaN   \n",
       "221            vie email           German                              1.0   \n",
       "222            vie email           German                              1.0   \n",
       "223           via Google           German                              4.0   \n",
       "224            vie email           German                             19.0   \n",
       "\n",
       "        R1: Assigned codes R1: Dummy response status R1: TLS encryption  ...  \\\n",
       "0          de data ds1 dt4                       NaN                yes  ...   \n",
       "1              en nds stor                       NaN                 no  ...   \n",
       "2                de f2 nd1                       NaN                yes  ...   \n",
       "3      de data ds1 dt4 uod                       NaN                yes  ...   \n",
       "4                 de unrel                       NaN                yes  ...   \n",
       "..                     ...                       ...                ...  ...   \n",
       "220                NOREPLY                  no reply                NaN  ...   \n",
       "221                de stor                       NaN                yes  ...   \n",
       "222              de nds p1                       NaN                yes  ...   \n",
       "223                en stor                       NaN                yes  ...   \n",
       "224  de authIN data dt4 pw                       NaN                yes  ...   \n",
       "\n",
       "    R2: Response duration (in days)     R2: Assigned codes  \\\n",
       "0                               NaN                NOREPLY   \n",
       "1                               1.0            en data dt8   \n",
       "2                               1.0        de data dt8 uod   \n",
       "3                               2.0     de data dt4 p2 uod   \n",
       "4                               1.0  en authS bfa data dt2   \n",
       "..                              ...                    ...   \n",
       "220                             NaN                NOREPLY   \n",
       "221                             1.0                  de p1   \n",
       "222                             1.0            de data dt8   \n",
       "223                             1.0                 en nd1   \n",
       "224                            11.0           en data dt10   \n",
       "\n",
       "     R2: TLS encryption R3: App still exists R3: User account still exists  \\\n",
       "0                   NaN                  yes                           yes   \n",
       "1                   yes                  yes                           yes   \n",
       "2                   yes                  yes                           yes   \n",
       "3                   yes                  yes                           yes   \n",
       "4                   yes                  yes                           yes   \n",
       "..                  ...                  ...                           ...   \n",
       "220                 NaN                  yes                            no   \n",
       "221                 yes                  yes                           yes   \n",
       "222                 yes                  yes                           yes   \n",
       "223                 yes                  yes                            no   \n",
       "224                 yes                  yes                           yes   \n",
       "\n",
       "    R3: Response duration (in days)                 R3: Assigned codes  \\\n",
       "0                               2.0                de data ds1 dt7 uod   \n",
       "1                               2.0                       de f2 f3 nd1   \n",
       "2                               2.0                    de data dt8 uod   \n",
       "3                               2.0          de authS data ds1 dt2 tra   \n",
       "4                               2.0  en data ds1 dt1 dt5 exp p2 pw tra   \n",
       "..                              ...                                ...   \n",
       "220                             NaN                            NOREPLY   \n",
       "221                             1.0         de data ds2 dt2 dt4 exp pw   \n",
       "222                             2.0                    de data dt8 nds   \n",
       "223                             5.0                             en nd1   \n",
       "224                             2.0                         de p4 stor   \n",
       "\n",
       "     R3: Reminder response status R3: Dummy response status R3: TLS encryption  \n",
       "0                             NaN                       NaN                yes  \n",
       "1                             NaN                       NaN                yes  \n",
       "2                             NaN                       NaN                yes  \n",
       "3                             NaN                       NaN                yes  \n",
       "4                             NaN                       NaN                yes  \n",
       "..                            ...                       ...                ...  \n",
       "220                      no reply                  no reply                NaN  \n",
       "221                           NaN                       NaN                yes  \n",
       "222                           NaN                       NaN                yes  \n",
       "223                           NaN                       NaN                yes  \n",
       "224                           NaN                       NaN                yes  \n",
       "\n",
       "[225 rows x 22 columns]"
      ]
     },
     "execution_count": 2,
     "metadata": {},
     "output_type": "execute_result"
    }
   ],
   "source": [
    "redu.repository(\"11303/11457\").datasets().get(\"app vendor SAR data.csv\")"
   ]
  },
  {
   "cell_type": "code",
   "execution_count": null,
   "metadata": {},
   "outputs": [],
   "source": [
    "redu.repository(\"11303/11457\").datasets().get(\"app vendor SAR data.csv\").preview()"
   ]
  },
  {
   "cell_type": "code",
   "execution_count": null,
   "metadata": {},
   "outputs": [],
   "source": [
    "redu.repository(\"11303/10989.2\").datasets().get(\"Xb.csv\").describe()"
   ]
  },
  {
   "cell_type": "code",
   "execution_count": null,
   "metadata": {},
   "outputs": [],
   "source": [
    "redu.repository(\"11303/11457\").datasets().get(\"app vendor SAR data.csv\").download(\"./data\")"
   ]
  },
  {
   "cell_type": "code",
   "execution_count": 3,
   "metadata": {},
   "outputs": [
    {
     "data": {
      "text/plain": [
       "\",App Vendor ID,Operating system,App store category,Vendor's domicile,Account registration,Request language,R1: Response duration (in days),R1: Assigned codes,R1: Dummy response status,R1: TLS encryption,R2: App still exists,R2: User account still exists,R2: Response duration (in days),R2: Assigned codes,R2: TLS encryption,R3: App still exists,R3: User account still exists,R3: Response duration (in days),R3: Assigned codes,R3: Reminder response status,R3: Dummy response status,R3: TLS encryption\\n0,A1,iOS,Business,Germany,vie email,German,5.0,de data ds1 dt4,,yes,yes,yes,,NOREPLY,,yes,yes,2.0,de data ds1 dt7 uod,,,yes\\n1,A2,iOS,Business,outside the EU,vie email,English,1.0,en nds stor,,no,yes,yes,1.0,en data dt8,yes,yes,yes,2.0,de f2 f3 nd1,,,yes\\n2,A3,iOS,Business,Germany,vie email,German,1.0,de f2 nd1,,yes,yes,yes,1.0,de data dt8 uod,yes,yes,yes,2.0,de data dt8 uod,,,yes\\n3,A4,iOS,Business,Germany,vie email,German,15.0,de data ds1 dt4 uod,,yes,yes,yes,2.0,de data dt4 p2 uod,yes,yes,yes,2.0,de authS data ds1 dt2 tra,,,yes\\n4,A5,iOS,Business,outside the EU,vie email,German,2.0,de unrel,,yes,yes,yes,1.0,en authS bfa data dt2,yes,yes,yes,2.0,en data ds1 dt1 dt5 exp p2 pw tra,,,yes\\n5,A6,iOS,Cataloge,Germany,vie email,German,,NOREPLY,responded,yes,yes,yes,7.0,de data dt7,yes,no,no,,UNREACHABLE,,,\\n6,A7,iOS,Cataloge,outside the EU,vie email,English,1.0,en ds1 stor tra,,yes,no,no,1.0,en dis nd1,yes,no,no,,NOREPLY,no reply,responded,yes\\n7,A8,iOS,Cataloge,outside the EU,vie email,English,1.0,en unrel,,no,yes,yes,1.0,en authS bfa data dt1 uod,yes,yes,yes,0.0,en authS data dt2 uod,,,yes\\n8,A9,iOS,Cataloge,Germany,vie email,German,5.0,de nds p1,,yes,yes,yes,1.0,de unrel,yes,yes,yes,0.0,de nds p1,,,yes\\n9,A10,iOS,Cataloge,outside the EU,vie email,English,1.0,en unrel,,yes,yes,yes,1.0,en f2 nd1,yes,yes,yes,0.0,en p1,,,yes\\n10,A11,iOS,Education,EU (except Germany),vie email,German,1.0,de nds p1 uod,,yes,yes,yes,1.0,en data dt8,yes,yes,yes,0.0,en ds1 p7 stor tra uod,,,yes\\n11,A12,iOS,Education,Germany,vie email,German,2.0,de nds stor uod,,yes,yes,yes,2.0,de dt7 p1 uod,yes,yes,no,5.0,de del ds1 f4 nd1,,,yes\\n12,A13,iOS,Education,outside the EU,vie email,English,1.0,en unrel,,yes,yes,yes,9.0,en data dt4 uod,yes,yes,yes,2.0,en data dt4 pw,,,yes\\n13,A14,iOS,Education,Germany,vie email,German,1.0,de p1,,yes,yes,yes,2.0,de data dt1 exp p2,yes,yes,yes,2.0,de data ds1 dt1 exp p2,,,yes\\n14,A15,iOS,Education,outside the EU,vie email,German,,NOREPLY,no reply,,yes,yes,5.0,de data dt8,yes,yes,yes,0.0,en data dt1 p2,,,yes\\n15,A16,iOS,Entertainment,outside the EU,vie email,German,1.0,de ds1,,yes,yes,yes,1.0,de data dt10,yes,no,no,0.0,de unrel,,,yes\\n16,A17,iOS,Entertainment,outside the EU,option not available,German,,NOREPLY,no reply,,yes,,9.0,de nd2,yes,no,,,NOREPLY,no reply,no reply,\\n17,A18,iOS,Entertainment,Germany,vie email,German,1.0,de f2 nd1,,yes,yes,yes,1.0,de f2 nd1,yes,yes,yes,3.0,de data ds1 dt4 p2 tra uod,,,yes\\n18,A19,iOS,Entertainment,Germany,vie email,German,,NOREPLY,responded,yes,yes,yes,,NOREPLY,,no,no,,UNREACHABLE,,,\\n19,A20,iOS,Entertainment,outside the EU,via Facebook,German,,NOREPLY,no reply,,no,no,,NOREPLY,,no,no,,UNREACHABLE,,,\\n20,A21,iOS,Finance,Germany,vie email,German,1.0,de p5,,no,yes,yes,14.0,de data dt4 nds,no,yes,yes,9.0,de data dt4 nds,,,yes\\n21,A22,iOS,Finance,Germany,vie email,German,1.0,de f2 nd1,,yes,yes,no,1.0,de nd1,yes,yes,no,1.0,en unrel,,,yes\\n22,A23,iOS,Finance,outside the EU,vie email,German,1.0,de p1,,yes,yes,yes,1.0,de f2 nd1,yes,yes,yes,0.0,de p1,,,yes\\n23,A24,iOS,Finance,EU (except Germany),vie email,German,1.0,de nds p1,,yes,yes,yes,4.0,en authS data dt2,yes,yes,yes,2.0,de authS data dt2 uod,,,yes\\n24,A25,iOS,Finance,Germany,vie email,German,10.0,de p5,,yes,no,no,1.0,en dis nd1 nds,yes,no,no,,UNREACHABLE,,,\\n25,A26,iOS,Food,EU (except Germany),vie email,English,3.0,en nds stor,,yes,yes,yes,,NOREPLY,,yes,yes,0.0,en data dt1 nds,,,yes\\n26,A27,iOS,Food,Germany,vie email,German,6.0,de data dt3 nds pw,,yes,no,no,,NOREPLY,,no,no,,NOREPLY,no reply,no reply,\\n27,A28,iOS,Food,Germany,vie email,German,2.0,de nds stor,,yes,yes,no,4.0,de nd1,yes,yes,no,5.0,de nd1,,,yes\\n28,A29,iOS,Food,Germany,vie email,German,3.0,de unrel,,yes,yes,yes,14.0,de data dt8,yes,yes,yes,0.0,de p7 stor,,,yes\\n29,A30,iOS,Food,Germany,vie email,German,2.0,de data ds4 dt8,,yes,yes,yes,,NOREPLY,,yes,yes,,UNREACHABLE,,,\\n30,A31,iOS,Games,EU (except Germany),vie email,German,1.0,de stor,,no,yes,yes,9.0,en f2 nd1,no,yes,yes,0.0,de en chgl,,,no\\n31,A32,iOS,Games,EU (except Germany),via Facebook,English,0.0,en unrel,,yes,yes,yes,,NOREPLY,,yes,yes,,NOREPLY,no reply,no reply,\\n32,A33,iOS,Games,EU (except Germany),vie email,English,1.0,en unrel,,no,yes,yes,7.0,en data dt1 uod,yes,yes,yes,2.0,en f3 p1 p7,,,yes\\n33,A34,iOS,Games,outside the EU,via Facebook,English,15.0,en p1,,yes,yes,yes,8.0,en f2 nd1,yes,yes,yes,2.0,en f2 f5 nd1,,,yes\\n34,A35,iOS,Games,outside the EU,via Facebook,English,,NOREPLY,no reply,,yes,yes,,NOREPLY,,yes,yes,,NOREPLY,no reply,no reply,\\n35,A36,iOS,Lifestyle,outside the EU,via Facebook,English,,NOREPLY,responded,yes,yes,no,2.0,en nd1,yes,yes,no,,NOREPLY,no reply,no reply,\\n36,A37,iOS,Lifestyle,outside the EU,vie email,German,12.0,de ds1 p1,,yes,yes,yes,1.0,en data dt7,yes,yes,yes,0.0,de data ds5 dt8 uod,,,yes\\n37,A38,iOS,Lifestyle,EU (except Germany),vie email,German,1.0,de authIN data dt4,,yes,no,no,,UNREACHABLE,,no,no,,UNREACHABLE,,,\\n38,A39,iOS,Lifestyle,Germany,vie email,German,9.0,de ds1 tra,,yes,yes,yes,7.0,de data dt8 uod,yes,yes,yes,27.0,de data ds3 dt8,,,yes\\n39,A40,iOS,Lifestyle,Germany,vie email,German,1.0,de unrel,,yes,yes,yes,3.0,de data dt7 nds uod,yes,yes,yes,2.0,de data dt8 nds,,,yes\\n40,A41,iOS,Medical,Germany,vie email,German,1.0,de unrel,,yes,yes,yes,2.0,de data dt7 pw uod,yes,yes,yes,2.0,de data dt8 nds pw uod,,,yes\\n41,A42,iOS,Medical,Germany,vie email,German,1.0,de nds stor,,yes,yes,no,1.0,de nd2,yes,yes,no,0.0,de nd2 nds,,,yes\\n42,A43,iOS,Medical,Germany,option not available,German,1.0,de nd2,,yes,yes,,2.0,de nd2,yes,yes,,0.0,de nd2,,,yes\\n43,A44,iOS,Medical,Germany,vie email,German,1.0,de authIN data dt8,,yes,yes,yes,11.0,de data dt8 uod,yes,yes,yes,2.0,de authS data dt4 p2,,,yes\\n44,A45,iOS,Medical,outside the EU,vie email,English,2.0,en ds2 stor tra,,yes,yes,yes,3.0,en authS data dt2,yes,yes,yes,11.0,en authS data ds1 dt2 uod,,,yes\\n45,A46,iOS,Health,outside the EU,vie email,German,,NOREPLY,no reply,,yes,yes,2.0,en f2 nd1,yes,yes,yes,3.0,en f2 nd1,,,yes\\n46,A47,iOS,Health,EU (except Germany),vie email,German,1.0,de unrel,,yes,yes,yes,2.0,en data dt8 f1,yes,yes,yes,4.0,en authS data dt4 stor,,,yes\\n47,A48,iOS,Health,outside the EU,vie email,English,1.0,en data dt4 nds,,yes,yes,yes,1.0,en data dt4,yes,yes,yes,0.0,en unrel,,,yes\\n48,A49,iOS,Health,EU (except Germany),vie email,German,1.0,de nds p1,,yes,yes,yes,1.0,de data dt7,yes,yes,no,1.0,de nd1,,,yes\\n49,A50,iOS,Health,Germany,vie email,German,1.0,de ds2 stor,,yes,yes,yes,1.0,de data dt8 uod,yes,yes,yes,,NOREPLY,responded,,\\n50,A51,iOS,Navigation,EU (except Germany),vie email,German,1.0,en unrel,,yes,yes,yes,,NOREPLY,,yes,yes,0.0,de en chgl data dt3 p2,,,yes\\n51,A52,iOS,Navigation,Germany,vie email,German,1.0,de data ds1 dt8 tra,,yes,yes,yes,1.0,de data dt8,yes,yes,yes,,NOREPLY,no reply,responded,yes\\n52,A53,iOS,Navigation,outside the EU,vie email,English,1.0,en data dt8,,yes,no,no,6.0,en data dt8,yes,no,no,,NOREPLY,no reply,no reply,\\n53,A54,iOS,Navigation,Germany,vie email,German,8.0,de ds3 p1 tra,,yes,yes,yes,14.0,de data dt8 uod,yes,yes,yes,,NOREPLY,no reply,responded,yes\\n54,A55,iOS,Navigation,outside the EU,vie email,German,1.0,en unrel,,yes,yes,yes,7.0,en f2 nd1,yes,yes,yes,0.0,en authS data dt1 p2 uod,,,yes\\n55,A56,iOS,Music,outside the EU,vie email,English,1.0,en unrel,,yes,yes,yes,1.0,en data dt8,yes,yes,yes,3.0,en data dt6 exp pw,,,yes\\n56,A57,iOS,Music,outside the EU,vie email,English,,NOREPLY,no reply,,yes,yes,,NOREPLY,,yes,yes,,NOREPLY,responded,,\\n57,A58,iOS,Music,Germany,via Facebook,German,6.0,de nds stor,,yes,yes,yes,14.0,de f2 nd1,yes,yes,no,7.0,de nd2 nds,,,yes\\n58,A59,iOS,Music,outside the EU,vie email,English,,NOREPLY,no reply,,yes,yes,16.0,en f3,yes,yes,yes,,NOREPLY,no reply,responded,yes\\n59,A60,iOS,Music,outside the EU,vie email,English,1.0,en data ds2 dt8,,yes,yes,yes,2.0,en data dt4 uod,yes,yes,yes,5.0,en data dt4 exp,,,yes\\n60,A61,iOS,News,EU (except Germany),vie email,German,6.0,de data dt3,,yes,yes,yes,2.0,de data dt7,yes,yes,yes,4.0,de data dt3 nds p2,,,yes\\n61,A62,iOS,News,EU (except Germany),vie email,German,1.0,de nds p1,,yes,yes,yes,1.0,de data dt7 uod,yes,no,no,0.0,de dis nd1,,,yes\\n62,A63,iOS,News,outside the EU,vie email,English,,NOREPLY,no reply,,yes,yes,0.0,en unrel,yes,yes,yes,0.0,en unrel,,,yes\\n63,A64,iOS,News,Germany,vie email,German,1.0,de ds1 tra,,yes,yes,no,1.0,de nd2,yes,yes,no,27.0,de nd1,,,yes\\n64,A65,iOS,News,Germany,vie email,German,,NOREPLY,no reply,,yes,yes,14.0,de data dt8 uod,yes,yes,yes,,NOREPLY,responded,,\\n65,A66,iOS,Photo,outside the EU,vie email,English,2.0,en unrel,,yes,yes,yes,2.0,en unrel,yes,yes,no,,NOREPLY,no reply,no reply,\\n66,A67,iOS,Photo,outside the EU,vie email,English,1.0,en nds p1,,yes,yes,yes,1.0,en data dt7,yes,yes,yes,0.0,en uod,,,yes\\n67,A68,iOS,Photo,outside the EU,via Google,English,,NOREPLY,no reply,,yes,yes,1.0,en p1,yes,yes,no,4.0,en nd1,,,yes\\n68,A69,Android,Social,Germany,vie email,German,1.0,de authS data dt2,,no,yes,yes,1.0,de data dt8 p2 uod,yes,yes,yes,0.0,de data ds4 dt8 p2 tra uod,,,yes\\n69,A70,iOS,Photo,outside the EU,vie email,English,1.0,en nds p1,,yes,yes,yes,2.0,en authS data dt3 p2,yes,yes,yes,2.0,en data dt8 nds,,,yes\\n70,A71,iOS,Photo,outside the EU,vie email,German,2.0,en unrel,,yes,yes,yes,1.0,en authIN data dt8,yes,yes,yes,1.0,en data ds4 dt8,,,yes\\n71,A72,iOS,Productivity,Germany,vie email,German,1.0,de authIN data dt8,,yes,yes,yes,10.0,de data dt9,yes,yes,no,,NOREPLY,no reply,responded,yes\\n72,A73,iOS,Productivity,outside the EU,vie email,English,1.0,en nds p1,,yes,yes,yes,,NOREPLY,,yes,yes,0.0,en p1,,,yes\\n73,A74,iOS,Productivity,EU (except Germany),vie email,German,,NOREPLY,responded,yes,yes,yes,2.0,de data dt1 uod,yes,yes,yes,0.0,de data dt1 p2 uod,,,yes\\n74,A75,iOS,Productivity,Germany,vie email,German,2.0,de data dt4 nds,,no,yes,no,,NOREPLY,,yes,no,0.0,de nd1,,,yes\\n75,A76,iOS,Productivity,EU (except Germany),vie email,English,2.0,en stor,,yes,yes,yes,,NOREPLY,,yes,yes,,NOREPLY,no reply,no reply,\\n76,A77,iOS,Reference,Germany,vie email,German,1.0,de ds1 stor tra,,yes,yes,yes,7.0,de data dt7 p2,yes,yes,yes,36.0,de data dt8 nds p2,,,yes\\n77,A78,iOS,Reference,outside the EU,via Facebook,German,,NOREPLY,no reply,,yes,no,,NOREPLY,,yes,no,,NOREPLY,no reply,no reply,\\n78,A79,iOS,Reference,outside the EU,vie email,English,,NOREPLY,no reply,,no,no,,NOREPLY,,no,no,,NOREPLY,no reply,no reply,\\n79,A80,iOS,Reference,outside the EU,vie email,German,,NOREPLY,no reply,,yes,yes,,NOREPLY,,yes,yes,,NOREPLY,no reply,no reply,\\n80,A81,iOS,Reference,Germany,vie email,German,2.0,de data ds1 dt4 tra,,yes,yes,yes,1.0,de authID data dt10,yes,yes,yes,9.0,en authID data dt4 nds,,,yes\\n81,A82,iOS,SocialNetworking,outside the EU,vie email,English,1.0,en unrel,,yes,yes,yes,,NOREPLY,,yes,yes,4.0,en nds p1 uod,,,yes\\n82,A83,iOS,SocialNetworking,EU (except Germany),vie email,German,1.0,de nds p1,,yes,yes,yes,4.0,de f2 nd1,yes,yes,yes,,NOREPLY,responded,,\\n83,A84,iOS,SocialNetworking,outside the EU,vie email,German,1.0,en p1,,yes,yes,no,2.0,en nd1,yes,yes,no,10.0,en nd1,,,yes\\n84,A85,iOS,SocialNetworking,outside the EU,vie email,German,0.0,en unrel,,yes,yes,yes,0.0,en unrel,yes,yes,yes,4.0,en data dt1 dt4 dt5,,,yes\\n85,A86,iOS,SocialNetworking,outside the EU,vie email,German,2.0,de data ds1 dt1,,yes,yes,yes,3.0,en data dt1,yes,yes,yes,2.0,de unrel,,,yes\\n86,A87,iOS,Sports,EU (except Germany),vie email,German,1.0,de p1,,no,yes,yes,1.0,en p1,no,yes,yes,3.0,en p6,,,no\\n87,A88,iOS,Sports,outside the EU,vie email,English,1.0,en unrel,,no,yes,yes,0.0,en unrel,yes,yes,yes,0.0,en unrel,,,yes\\n88,A89,iOS,Sports,outside the EU,vie email,English,1.0,en unrel,,no,yes,yes,4.0,en p3,yes,yes,yes,5.0,en f2 nd1,,,yes\\n89,A90,iOS,Sports,outside the EU,vie email,English,14.0,en unrel,,yes,yes,yes,3.0,en data dt8,yes,yes,yes,,NOREPLY,responded,,\\n90,A91,iOS,Sports,outside the EU,vie email,English,1.0,en unrel,,yes,yes,yes,17.0,en data dt8 uod,yes,yes,yes,,NOREPLY,no reply,no reply,\\n91,A92,iOS,Travel,EU (except Germany),via Facebook,German,,NOREPLY,no reply,,yes,yes,,NOREPLY,,yes,yes,,NOREPLY,no reply,no reply,\\n92,A93,iOS,Travel,EU (except Germany),vie email,English,,NOREPLY,responded,yes,yes,no,1.0,en data del desp dt8 p2,yes,yes,no,28.0,en nd2 nds,,,yes\\n93,A94,iOS,Travel,EU (except Germany),vie email,German,1.0,en f2 nd1 nds,,yes,yes,yes,2.0,en authID data dt4,yes,yes,yes,0.0,en authID data ds1 dt1 dt4 p2 tra,,,yes\\n94,A95,iOS,Travel,Germany,vie email,German,5.0,de data dt8 p2,,yes,yes,yes,9.0,de data dt8 uod,yes,yes,yes,0.0,de data dt7 nds,,,yes\\n95,A96,iOS,Travel,Germany,vie email,German,1.0,de data dt8 nds,,yes,yes,yes,9.0,de p1,yes,yes,yes,0.0,de p1,,,yes\\n96,A97,iOS,Utility,outside the EU,vie email,English,1.0,de nds p1,,yes,yes,yes,1.0,de p1 uod,yes,yes,yes,2.0,de data dt8 nds uod,,,yes\\n97,A98,iOS,Utility,Germany,vie email,German,,NOREPLY,responded,yes,yes,yes,2.0,de data dt5 p2,yes,yes,yes,19.0,en data dt4 p2 uod,,,yes\\n98,A99,iOS,Utility,EU (except Germany),vie email,German,0.0,en unrel,,yes,yes,no,2.0,en nd1,yes,no,no,,NOREPLY,no reply,no reply,\\n99,A100,iOS,Utility,EU (except Germany),vie email,German,1.0,de data ds2 dt7,,yes,yes,yes,1.0,de p7 stor,yes,yes,yes,2.0,de data dt4,,,yes\\n100,A101,iOS,Utility,EU (except Germany),vie email,German,,NOREPLY,no reply,,yes,yes,1.0,en data dt7 uod,yes,yes,yes,3.0,en authS data dt1 dt2 uod,,,yes\\n101,A102,iOS,Weather,Germany,vie email,German,1.0,de unrel,,yes,yes,yes,1.0,de f3,yes,yes,yes,1.0,de data dt8 nds uod,,,yes\\n102,A103,iOS,Weather,EU (except Germany),vie email,English,1.0,en p1,,yes,yes,yes,1.0,en data dt8 uod,yes,yes,yes,3.0,en data dt8 nds uod,,,yes\\n103,A104,iOS,Weather,outside the EU,vie email,English,1.0,en unrel,,yes,yes,yes,1.0,en data dt7 uod,yes,yes,yes,4.0,en data dt5 nds uod,,,yes\\n104,A105,iOS,Weather,EU (except Germany),vie email,English,,NOREPLY,no reply,,yes,yes,1.0,en p1,yes,yes,yes,39.0,en stor uod,,,yes\\n105,A106,iOS,Weather,Germany,vie email,German,1.0,de stor,,yes,yes,no,10.0,de nd1,yes,no,no,1.0,de dis nd1 nds,,,yes\\n106,A107,Android,Books,Germany,vie email,German,2.0,de data ds2 dt8 p2,,yes,yes,yes,8.0,de data dt10 nds uod,yes,yes,yes,5.0,de data ds3 dt4,,,yes\\n107,A108,Android,Books,outside the EU,vie email,German,2.0,en unrel,,yes,yes,no,1.0,en nd1,yes,yes,no,27.0,fgn p4,,,yes\\n108,A109,Android,Books,Germany,vie email,German,9.0,de nds p1,,yes,yes,yes,14.0,de data dt4 uod,yes,yes,yes,2.0,de data dt2 exp pw,,,yes\\n109,A110,Android,Books,Germany,vie email,German,1.0,de unrel,,yes,yes,yes,1.0,de data dt8 uod,yes,yes,yes,2.0,de data dt1 dt7 nds,,,yes\\n110,A111,Android,Books,Germany,vie email,German,,NOREPLY,no reply,,yes,yes,,UNREACHABLE,,yes,yes,,UNREACHABLE,,,\\n111,A112,Android,Business,EU (except Germany),vie email,German,9.0,de data dt8,,yes,yes,yes,29.0,en data dt8 uod,yes,yes,yes,0.0,en data dt8 uod,,,yes\\n112,A113,Android,Business,Germany,vie email,German,,NOREPLY,no reply,,yes,yes,4.0,en authIN data dt7,yes,yes,yes,2.0,en nds p1 uod,,,yes\\n113,A114,Android,Business,outside the EU,via Google,German,1.0,en nd2 nds,,yes,yes,no,1.0,en nd2,yes,yes,no,,NOREPLY,responded,,\\n114,A115,Android,Business,Germany,vie email,German,2.0,de data dt8,,yes,yes,yes,2.0,de data dt8,yes,yes,yes,9.0,de data ds5 dt8,,,yes\\n115,A116,Android,Business,EU (except Germany),vie email,German,,NOREPLY,responded,yes,no,no,,NOREPLY,,no,no,,NOREPLY,no reply,responded,yes\\n116,A117,Android,Comics,outside the EU,via Google,English,,NOREPLY,no reply,,yes,yes,,NOREPLY,,yes,yes,,NOREPLY,no reply,no reply,\\n117,A118,Android,Comics,outside the EU,vie email,German,1.0,en unrel,,yes,yes,no,1.0,en nd2,yes,yes,no,0.0,en f3 p5,,,yes\\n118,A119,Android,Medical,outside the EU,via Google,English,1.0,en ds4 p1 tra,,yes,yes,yes,1.0,en authO data dt3 nds,yes,yes,yes,3.0,en authID data ds1 dt3 p2,,,yes\\n119,A120,Android,Comics,outside the EU,vie email,English,1.0,en unrel,,yes,yes,yes,1.0,en unrel,yes,yes,yes,2.0,en p4 stor,,,yes\\n120,A121,Android,Comics,outside the EU,vie email,English,,NOREPLY,no reply,,yes,yes,,NOREPLY,,yes,yes,,NOREPLY,no reply,no reply,\\n121,A122,Android,Comics,Germany,vie email,German,,NOREPLY,responded,yes,yes,yes,3.0,de data dt1 p2,yes,no,no,,UNREACHABLE,,,\\n122,A123,Android,Communication,unknown,vie email,English,1.0,en nd2,,yes,yes,no,,NOREPLY,,yes,no,0.0,en nd2,,,yes\\n123,A124,Android,Communication,unknown,via Google,German,1.0,de unrel,,yes,yes,no,1.0,en nd1,yes,yes,no,,NOREPLY,responded,,\\n124,A125,Android,Communication,outside the EU,via Google,German,3.0,en unrel,,yes,yes,yes,3.0,en data dt1 dt3 p2 uod,yes,yes,yes,0.0,en data dt1 nds p2 uod,,,yes\\n125,A126,Android,Communication,outside the EU,via Google,English,0.0,en unrel,,no,yes,yes,1.0,en f2 nd1,yes,yes,yes,0.0,en f3,,,no\\n126,A127,Android,Communication,Germany,option not available,German,,NOREPLY,responded,yes,no,,1.0,de dis nd1,no,no,,34.0,de f5,,,yes\\n127,A128,Android,Education,Germany,vie email,German,6.0,de nds p1,,yes,yes,no,14.0,de data desp dt8,yes,yes,no,5.0,de unrel,,,yes\\n128,A129,Android,Education,outside the EU,via Google,German,1.0,de unrel,,yes,yes,yes,,NOREPLY,,yes,yes,,NOREPLY,no reply,no reply,\\n129,A130,Android,Education,outside the EU,vie email,German,13.0,en nds stor,,yes,yes,yes,1.0,en unrel,yes,yes,no,0.0,en nd1,,,yes\\n130,A131,Android,Education,Germany,vie email,German,1.0,de unrel,,yes,yes,yes,7.0,de data dt8 uod,yes,yes,yes,2.0,de data ds3 dt8 uod,,,yes\\n131,A132,Android,Education,EU (except Germany),vie email,English,8.0,en ds3 stor tra,,yes,yes,yes,7.0,en data dt8 p2,yes,yes,yes,2.0,en authS data ds1 dt1 dt3 p2 tra uod,,,yes\\n132,A133,Android,Entertainment,Germany,vie email,German,0.0,de unrel,,yes,yes,no,1.0,de data del desp dt7,yes,yes,no,0.0,de unrel,,,yes\\n133,A134,Android,Entertainment,Germany,vie email,German,,NOREPLY,responded,yes,yes,yes,14.0,de data dt1,yes,yes,yes,27.0,de data ds3 dt6,,,yes\\n134,A135,Android,Entertainment,outside the EU,via Google,English,1.0,en unrel,,yes,yes,no,1.0,en nd1,yes,yes,no,0.0,en nd1,,,yes\\n135,A136,Android,Entertainment,outside the EU,via Facebook,English,1.0,en unrel,,yes,yes,no,,NOREPLY,,yes,no,,NOREPLY,no reply,no reply,\\n136,A137,Android,Entertainment,Germany,option not available,German,1.0,de p3,,no,yes,,1.0,de nd1,yes,yes,,2.0,de nd1,,,yes\\n137,A138,Android,Family,EU (except Germany),via Facebook,English,12.0,en stor,,yes,yes,yes,3.0,en f2 nd1,yes,yes,yes,2.0,en authS data ds2 dt5 p2 tra,,,yes\\n138,A139,Android,Family,outside the EU,via Facebook,English,2.0,en p1,,no,yes,no,,NOREPLY,,no,no,,NOREPLY,no reply,no reply,\\n139,A140,Android,Family,outside the EU,via Google,German,25.0,de unrel,,yes,yes,yes,5.0,en p6,yes,yes,yes,,NOREPLY,responded,,\\n140,A141,Android,Family,outside the EU,vie email,English,1.0,en nds p1,,yes,yes,yes,1.0,en p1,yes,yes,yes,3.0,en data dt8,,,yes\\n141,A142,Android,Family,outside the EU,via Facebook,English,0.0,en unrel,,yes,yes,yes,1.0,en f2 nd1,yes,yes,yes,6.0,en f2 nd1,,,yes\\n142,A143,Android,Finance,Germany,via Facebook,German,1.0,de unrel,,yes,yes,yes,11.0,de data dt8,yes,yes,yes,0.0,de data ds5 dt3 exp,,,yes\\n143,A144,Android,Finance,Germany,option not available,German,6.0,en nd1,,yes,yes,,1.0,en nd1,yes,yes,,,NOREPLY,responded,,\\n144,A145,Android,Finance,outside the EU,vie email,English,1.0,en nds stor,,no,yes,yes,1.0,en data dt1 p2 uod,yes,yes,yes,2.0,en authS data dt1 nds uod,,,yes\\n145,A146,Android,Finance,EU (except Germany),vie email,English,1.0,en nds p1,,yes,yes,yes,1.0,en data dt2,yes,yes,yes,0.0,en p7 stor,,,yes\\n146,A147,Android,Finance,outside the EU,vie email,English,,NOREPLY,no reply,,yes,yes,,NOREPLY,,yes,yes,,NOREPLY,no reply,no reply,\\n147,A148,Android,Games,Germany,vie email,German,5.0,de ds1 p1,,no,yes,yes,1.0,de data dt1 dt4 p2 uod,yes,yes,yes,3.0,de data dt1 dt4 dt5 p2,,,no\\n148,A149,Android,Games,outside the EU,via Google,English,1.0,fgn p4,,no,yes,yes,1.0,fgn p4,yes,yes,yes,0.0,fgn p4,,,yes\\n149,A150,Android,Games,outside the EU,via Google,German,1.0,en unrel,,yes,yes,no,1.0,en nd2,yes,yes,no,1.0,en p4,,,yes\\n150,A151,Android,Games,outside the EU,via Facebook,English,1.0,en f2 nd1 nds,,no,yes,no,1.0,en unrel,no,yes,no,0.0,en f5 p4,,,yes\\n151,A152,Android,Games,EU (except Germany),via Facebook,English,,UNREACHABLE,,yes,yes,yes,16.0,en data dt2,yes,yes,yes,3.0,de authS data dt3 dt5 p2,,,yes\\n152,A153,Android,Health,EU (except Germany),via Google,German,1.0,en ds3 f2 nd1 tra,,yes,yes,no,1.0,en nd1,yes,yes,no,0.0,en nd1,,,yes\\n153,A154,Android,Health,Germany,vie email,German,8.0,de unrel,,yes,yes,no,2.0,de dis f2 nd1,yes,yes,no,8.0,de dis f2 nd1 nds,,,yes\\n154,A155,Android,Health,outside the EU,vie email,English,1.0,en unrel,,yes,yes,yes,,UNREACHABLE,,yes,yes,4.0,en authS data dt2 uod,,,yes\\n155,A156,Android,Health,outside the EU,vie email,German,1.0,de data dt4 nds,,yes,yes,yes,2.0,de authID data dt4,yes,yes,yes,0.0,en unrel,,,yes\\n156,A157,Android,Health,outside the EU,vie email,German,,NOREPLY,no reply,,yes,yes,1.0,en authS bfa data dt4,yes,yes,yes,0.0,en p4,,,yes\\n157,A158,Android,Lifestyle,Germany,vie email,German,2.0,de data ds4 dt8 f1,,yes,yes,yes,3.0,de data dt8 nds uod,yes,yes,yes,0.0,de data dt4,,,yes\\n158,A159,Android,Lifestyle,outside the EU,via Google,English,1.0,en p1,,yes,yes,yes,2.0,en data dt9 p2,yes,yes,yes,10.0,en data ds3 dt1 p2 pw,,,yes\\n159,A160,Android,Lifestyle,Germany,vie email,German,,NOREPLY,no reply,,yes,yes,15.0,de data dt4,yes,yes,yes,1.0,de data ds3 dt4 pw,,,yes\\n160,A161,Android,Lifestyle,EU (except Germany),vie email,English,,NOREPLY,responded,yes,yes,no,1.0,en del nd1,yes,yes,no,1.0,en nd1,,,yes\\n161,A162,Android,Lifestyle,outside the EU,via Facebook,English,2.0,en nds stor,,yes,yes,no,2.0,en nd2,yes,yes,no,2.0,de nd1,,,yes\\n162,A163,Android,Media,outside the EU,via Google,German,1.0,en unrel,,yes,yes,yes,1.0,de authID data dt8 uod,yes,yes,yes,,NOREPLY,no reply,no reply,\\n163,A164,Android,Media,EU (except Germany),via Facebook,German,1.0,en p1,,no,yes,yes,0.0,en unrel,no,yes,yes,0.0,en unrel,,,no\\n164,A165,Android,Media,outside the EU,option not available,German,1.0,de p4,,yes,yes,,11.0,en nd2,yes,yes,,6.0,de nd2,,,yes\\n165,A166,Android,Media,EU (except Germany),vie email,German,20.0,de data dt8 p2,,yes,yes,yes,1.0,de data dt8,yes,yes,yes,0.0,de data ds3 dt8 tra,,,yes\\n166,A167,Android,Media,outside the EU,vie email,English,,NOREPLY,no reply,,yes,no,,NOREPLY,,yes,no,,NOREPLY,no reply,no reply,\\n167,A168,Android,Medical,Germany,vie email,German,9.0,de stor,,yes,yes,yes,8.0,de data dt8,yes,yes,yes,13.0,de data ds1 dt4,,,yes\\n168,A169,Android,Medical,unknown,vie email,German,1.0,de ds1 f2 nd1 tra,,yes,yes,no,1.0,en nd2,yes,yes,no,,NOREPLY,no reply,responded,yes\\n169,A170,Android,Medical,outside the EU,vie email,English,1.0,en nds p1,,yes,yes,yes,1.0,en p1,yes,yes,yes,6.0,en data dt8 nds uod,,,yes\\n170,A171,Android,Medical,Germany,via Facebook,German,,NOREPLY,responded,yes,no,no,,NOREPLY,,no,no,,NOREPLY,no reply,no reply,\\n171,A172,Android,Music,outside the EU,via Google,English,,NOREPLY,no reply,,yes,yes,5.0,en p1 uod,yes,yes,yes,0.0,en p1,,,yes\\n172,A173,Android,Music,EU (except Germany),vie email,German,1.0,de data dt8 f1 nds uod,,yes,yes,yes,1.0,en data dt8,yes,yes,yes,2.0,de authS data dt5,,,yes\\n173,A174,Android,Music,EU (except Germany),vie email,German,1.0,de nds p1,,yes,yes,yes,3.0,en f2 nd1,yes,yes,yes,1.0,de en authS chgl data dt3,,,yes\\n174,A175,Android,Music,EU (except Germany),via Google,German,,NOREPLY,no reply,,yes,yes,,NOREPLY,,yes,yes,,NOREPLY,responded,,\\n175,A176,Android,Music,Germany,vie email,German,,NOREPLY,responded,yes,yes,yes,1.0,de f2 nd1,yes,yes,yes,,NOREPLY,no reply,responded,yes\\n176,A177,Android,News,EU (except Germany),vie email,German,0.0,en unrel,,yes,yes,no,,UNREACHABLE,,no,no,9.0,en dis nd1,,,yes\\n177,A178,Android,News,Germany,via Facebook,German,,NOREPLY,no reply,,yes,no,7.0,de unrel,yes,yes,no,7.0,de p6,,,yes\\n178,A179,Android,News,Germany,vie email,German,5.0,de f2 nd1,,yes,yes,yes,10.0,de data dt4,yes,yes,yes,0.0,de data ds2 dt4,,,yes\\n179,A180,Android,News,Germany,vie email,German,7.0,de data ds5 dt8 tra,,yes,yes,yes,8.0,de data dt8,yes,yes,yes,9.0,de data dt8 nds uod,,,yes\\n180,A181,Android,News,outside the EU,vie email,English,1.0,en p6,,yes,yes,no,2.0,en nd2,yes,yes,no,1.0,en unrel,,,yes\\n181,A182,Android,Photography,outside the EU,vie email,German,1.0,en unrel,,yes,yes,no,,NOREPLY,,yes,no,,NOREPLY,no reply,no reply,\\n182,A183,Android,Photography ,outside the EU,via Google,English,36.0,en unrel,,no,yes,yes,10.0,en data dt4 pw,yes,yes,yes,7.0,en data ds5 dt4 exp pw,,,yes\\n183,A184,Android,Photography ,outside the EU,vie email,English,,NOREPLY,no reply,,yes,no,1.0,de nd1,yes,yes,no,,NOREPLY,no reply,no reply,\\n184,A185,Android,Photography ,outside the EU,vie email,English,4.0,en nds p1,,yes,yes,yes,3.0,en p1,yes,yes,yes,34.0,en data dt1,,,yes\\n185,A186,Android,Photography ,outside the EU,via Google,English,1.0,en stor,,yes,yes,yes,1.0,en stor uod,yes,yes,yes,,NOREPLY,no reply,no reply,\\n186,A187,Android,Productivity,outside the EU,via Google,German,2.0,en stor,,yes,yes,yes,,NOREPLY,,yes,yes,5.0,en unrel,,,yes\\n187,A188,Android,Productivity,Germany,vie email,German,1.0,de unrel,,no,yes,yes,1.0,de data dt9,yes,yes,yes,2.0,de data ds2 dt4 f4,,,yes\\n188,A189,Android,Productivity,outside the EU,option not available,German,1.0,de p4,,yes,yes,,1.0,en nd2,yes,yes,,0.0,de nd2,,,yes\\n189,A190,Android,Productivity,unknown,option not available,German,2.0,de nd1 nds,,yes,yes,,0.0,en nd1,yes,yes,,6.0,en nd1,,,yes\\n190,A191,Android,Productivity,Germany,vie email,German,44.0,de stor,,yes,yes,yes,,NOREPLY,,yes,yes,3.0,en unrel,,,yes\\n191,A192,Android,Shopping,Germany,vie email,German,3.0,de unrel,,yes,yes,yes,1.0,de authS data dt4,yes,yes,yes,0.0,de unrel,,,yes\\n192,A193,Android,Shopping,EU (except Germany),vie email,German,1.0,de nds p1,,yes,yes,yes,1.0,de data dt8,yes,yes,yes,0.0,de data dt8,,,yes\\n193,A194,Android,Shopping,Germany,vie email,German,14.0,de ds1 f2 nd1 tra,,yes,yes,yes,1.0,de data dt7 dt9,yes,yes,yes,16.0,de data ds2 dt9,,,yes\\n194,A195,Android,Shopping,Germany,vie email,German,1.0,de ds1 p1,,yes,yes,yes,10.0,de data dt8 uod,yes,yes,yes,2.0,de dis f2 nd1 nds,,,yes\\n195,A196,Android,Shopping,unknown,vie email,German,1.0,de nds p1 uod,,yes,yes,yes,1.0,de data dt8 nds,yes,yes,yes,3.0,de data dt8 nds uod,,,yes\\n196,A197,Android,Social,EU (except Germany),vie email,German,,NOREPLY,no reply,,yes,yes,,NOREPLY,,yes,yes,2.0,de data dt8 nds uod,,,yes\\n197,A198,Android,Social,Germany,vie email,German,27.0,de p1,,yes,yes,yes,,UNREACHABLE,,yes,yes,,NOREPLY,no reply,no reply,\\n198,A199,Android,Social,outside the EU,vie email,German,0.0,de unrel,,no,yes,yes,14.0,en authID data dt4 exp pw,yes,yes,yes,1.0,en unrel,,,yes\\n199,A200,Android,Social,outside the EU,vie email,English,,NOREPLY,no reply,,yes,no,,UNREACHABLE,,yes,no,,UNREACHABLE,,,\\n200,A201,Android,Sports,unknown,vie email,English,,NOREPLY,no reply,,yes,yes,1.0,en f2 nd1,yes,yes,yes,0.0,fgn p4,,,yes\\n201,A202,Android,Sports,outside the EU,via Facebook,English,,NOREPLY,no reply,,yes,yes,0.0,en p3,yes,yes,yes,3.0,en p6 stor,,,yes\\n202,A203,Android,Sports,unknown,vie email,English,1.0,en unrel,,yes,yes,yes,1.0,en f2 nd1,yes,yes,yes,0.0,en unrel,,,yes\\n203,A204,Android,Sports,Germany,vie email,German,15.0,de data dt4 nds uod,,yes,yes,yes,1.0,de data dt4 uod,yes,yes,yes,,NOREPLY,no reply,no reply,\\n204,A205,Android,Sports,unknown,via Google,German,1.0,de data dt8,,yes,yes,yes,1.0,de data dt8,yes,yes,yes,0.0,en f2 nd1,,,yes\\n205,A206,Android,Tools,outside the EU,vie email,English,,NOREPLY,responded,yes,yes,yes,4.0,en f2 nd1,yes,yes,yes,2.0,en authS data dt2 nds,,,yes\\n206,A207,Android,Tools,outside the EU,vie email,German,8.0,de unrel,,yes,yes,yes,,NOREPLY,,yes,yes,0.0,en unrel,,,yes\\n207,A208,Android,Tools,EU (except Germany),vie email,English,,NOREPLY,no reply,,yes,yes,2.0,de f2 nd1,yes,yes,yes,3.0,en authID data dt1,,,yes\\n208,A209,Android,Tools,outside the EU,vie email,English,1.0,en unrel,,yes,yes,no,1.0,en del nd1,yes,yes,no,3.0,en nd1,,,yes\\n209,A210,Android,Tools,outside the EU,via Google,German,2.0,de nd2 nds,,yes,yes,no,1.0,de nd2,yes,yes,no,1.0,de nd2,,,yes\\n210,A211,Android,Transportation,Germany,vie email,German,,NOREPLY,responded,yes,yes,yes,14.0,de data dt8 nds,yes,yes,yes,0.0,de data ds3 dt4 pw,,,yes\\n211,A212,Android,Transportation,EU (except Germany),vie email,English,1.0,en data dt4 nds,,yes,yes,yes,7.0,de data dt3 nds p2 uod,yes,yes,yes,,NOREPLY,responded,,\\n212,A213,Android,Transportation,Germany,vie email,German,41.0,de data dt4 nds,,yes,yes,yes,1.0,de data dt9 uod,yes,yes,yes,2.0,de data ds5 dt9 f4 uod,,,yes\\n213,A214,Android,Transportation,EU (except Germany),via Facebook,German,2.0,de unrel,,yes,yes,yes,4.0,de data dt8 uod,yes,yes,yes,5.0,de data dt8 nds uod,,,yes\\n214,A215,Android,Transportation,EU (except Germany),vie email,English,1.0,en nds p1,,yes,yes,no,1.0,en dis f2 nd1,yes,no,no,,NOREPLY,responded,,\\n215,A216,Android,Travel,outside the EU,vie email,English,1.0,en f2 nd1,,yes,yes,yes,,NOREPLY,,yes,yes,0.0,en f2 nd1,,,yes\\n216,A217,Android,Travel,Germany,vie email,German,1.0,de unrel,,no,yes,yes,7.0,de f2 nd1,yes,yes,yes,10.0,de f2 nd1,,,yes\\n217,A218,Android,Travel,Germany,vie email,German,1.0,de nds p1,,yes,yes,yes,1.0,de data dt8 uod,yes,yes,yes,2.0,de data dt8,,,yes\\n218,A219,Android,Travel,Germany,vie email,German,19.0,de p1,,no,yes,yes,4.0,de data dt7 uod,yes,yes,yes,4.0,de data dt8 nds uod,,,yes\\n219,A220,Android,Travel,Germany,vie email,German,1.0,de f2 nd1,,yes,yes,yes,1.0,de data dt8 uod,yes,yes,yes,2.0,de data dt8 nds uod,,,yes\\n220,A221,Android,Widgets,outside the EU,via Facebook,English,,NOREPLY,no reply,,yes,no,,NOREPLY,,yes,no,,NOREPLY,no reply,no reply,\\n221,A222,Android,Widgets,outside the EU,vie email,German,1.0,de stor,,yes,yes,yes,1.0,de p1,yes,yes,yes,1.0,de data ds2 dt2 dt4 exp pw,,,yes\\n222,A223,Android,Widgets,Germany,vie email,German,1.0,de nds p1,,yes,yes,yes,1.0,de data dt8,yes,yes,yes,2.0,de data dt8 nds,,,yes\\n223,A224,Android,Widgets,outside the EU,via Google,German,4.0,en stor,,yes,yes,no,1.0,en nd1,yes,yes,no,5.0,en nd1,,,yes\\n224,A225,Android,Widgets,Germany,vie email,German,19.0,de authIN data dt4 pw,,yes,yes,yes,11.0,en data dt10,yes,yes,yes,2.0,de p4 stor,,,yes\\n\""
      ]
     },
     "execution_count": 3,
     "metadata": {},
     "output_type": "execute_result"
    }
   ],
   "source": [
    "redu.repository(\"11303/11457\").datasets().get(\"app vendor SAR data.csv\").to_csv()"
   ]
  },
  {
   "cell_type": "code",
   "execution_count": 4,
   "metadata": {},
   "outputs": [],
   "source": [
    "a = redu.repository(\"11303/11457\").datasets().get(\"app vendor SAR data.csv\").to_json()"
   ]
  },
  {
   "cell_type": "code",
   "execution_count": 5,
   "metadata": {},
   "outputs": [
    {
     "data": {
      "text/plain": [
       "'{\"App Vendor ID\":{\"0\":\"A1\",\"1\":\"A2\",\"2\":\"A3\",\"3\":\"A4\",\"4\":\"A5\",\"5\":\"A6\",\"6\":\"A7\",\"7\":\"A8\",\"8\":\"A9\",\"9\":\"A10\",\"10\":\"A11\",\"11\":\"A12\",\"12\":\"A13\",\"13\":\"A14\",\"14\":\"A15\",\"15\":\"A16\",\"16\":\"A17\",\"17\":\"A18\",\"18\":\"A19\",\"19\":\"A20\",\"20\":\"A21\",\"21\":\"A22\",\"22\":\"A23\",\"23\":\"A24\",\"24\":\"A25\",\"25\":\"A26\",\"26\":\"A27\",\"27\":\"A28\",\"28\":\"A29\",\"29\":\"A30\",\"30\":\"A31\",\"31\":\"A32\",\"32\":\"A33\",\"33\":\"A34\",\"34\":\"A35\",\"35\":\"A36\",\"36\":\"A37\",\"37\":\"A38\",\"38\":\"A39\",\"39\":\"A40\",\"40\":\"A41\",\"41\":\"A42\",\"42\":\"A43\",\"43\":\"A44\",\"44\":\"A45\",\"45\":\"A46\",\"46\":\"A47\",\"47\":\"A48\",\"48\":\"A49\",\"49\":\"A50\",\"50\":\"A51\",\"51\":\"A52\",\"52\":\"A53\",\"53\":\"A54\",\"54\":\"A55\",\"55\":\"A56\",\"56\":\"A57\",\"57\":\"A58\",\"58\":\"A59\",\"59\":\"A60\",\"60\":\"A61\",\"61\":\"A62\",\"62\":\"A63\",\"63\":\"A64\",\"64\":\"A65\",\"65\":\"A66\",\"66\":\"A67\",\"67\":\"A68\",\"68\":\"A69\",\"69\":\"A70\",\"70\":\"A71\",\"71\":\"A72\",\"72\":\"A73\",\"73\":\"A74\",\"74\":\"A75\",\"75\":\"A76\",\"76\":\"A77\",\"77\":\"A78\",\"78\":\"A79\",\"79\":\"A80\",\"80\":\"A81\",\"81\":\"A82\",\"82\":\"A83\",\"83\":\"A84\",\"84\":\"A85\",\"85\":\"A86\",\"86\":\"A87\",\"87\":\"A88\",\"88\":\"A89\",\"89\":\"A90\",\"90\":\"A91\",\"91\":\"A92\",\"92\":\"A93\",\"93\":\"A94\",\"94\":\"A95\",\"95\":\"A96\",\"96\":\"A97\",\"97\":\"A98\",\"98\":\"A99\",\"99\":\"A100\",\"100\":\"A101\",\"101\":\"A102\",\"102\":\"A103\",\"103\":\"A104\",\"104\":\"A105\",\"105\":\"A106\",\"106\":\"A107\",\"107\":\"A108\",\"108\":\"A109\",\"109\":\"A110\",\"110\":\"A111\",\"111\":\"A112\",\"112\":\"A113\",\"113\":\"A114\",\"114\":\"A115\",\"115\":\"A116\",\"116\":\"A117\",\"117\":\"A118\",\"118\":\"A119\",\"119\":\"A120\",\"120\":\"A121\",\"121\":\"A122\",\"122\":\"A123\",\"123\":\"A124\",\"124\":\"A125\",\"125\":\"A126\",\"126\":\"A127\",\"127\":\"A128\",\"128\":\"A129\",\"129\":\"A130\",\"130\":\"A131\",\"131\":\"A132\",\"132\":\"A133\",\"133\":\"A134\",\"134\":\"A135\",\"135\":\"A136\",\"136\":\"A137\",\"137\":\"A138\",\"138\":\"A139\",\"139\":\"A140\",\"140\":\"A141\",\"141\":\"A142\",\"142\":\"A143\",\"143\":\"A144\",\"144\":\"A145\",\"145\":\"A146\",\"146\":\"A147\",\"147\":\"A148\",\"148\":\"A149\",\"149\":\"A150\",\"150\":\"A151\",\"151\":\"A152\",\"152\":\"A153\",\"153\":\"A154\",\"154\":\"A155\",\"155\":\"A156\",\"156\":\"A157\",\"157\":\"A158\",\"158\":\"A159\",\"159\":\"A160\",\"160\":\"A161\",\"161\":\"A162\",\"162\":\"A163\",\"163\":\"A164\",\"164\":\"A165\",\"165\":\"A166\",\"166\":\"A167\",\"167\":\"A168\",\"168\":\"A169\",\"169\":\"A170\",\"170\":\"A171\",\"171\":\"A172\",\"172\":\"A173\",\"173\":\"A174\",\"174\":\"A175\",\"175\":\"A176\",\"176\":\"A177\",\"177\":\"A178\",\"178\":\"A179\",\"179\":\"A180\",\"180\":\"A181\",\"181\":\"A182\",\"182\":\"A183\",\"183\":\"A184\",\"184\":\"A185\",\"185\":\"A186\",\"186\":\"A187\",\"187\":\"A188\",\"188\":\"A189\",\"189\":\"A190\",\"190\":\"A191\",\"191\":\"A192\",\"192\":\"A193\",\"193\":\"A194\",\"194\":\"A195\",\"195\":\"A196\",\"196\":\"A197\",\"197\":\"A198\",\"198\":\"A199\",\"199\":\"A200\",\"200\":\"A201\",\"201\":\"A202\",\"202\":\"A203\",\"203\":\"A204\",\"204\":\"A205\",\"205\":\"A206\",\"206\":\"A207\",\"207\":\"A208\",\"208\":\"A209\",\"209\":\"A210\",\"210\":\"A211\",\"211\":\"A212\",\"212\":\"A213\",\"213\":\"A214\",\"214\":\"A215\",\"215\":\"A216\",\"216\":\"A217\",\"217\":\"A218\",\"218\":\"A219\",\"219\":\"A220\",\"220\":\"A221\",\"221\":\"A222\",\"222\":\"A223\",\"223\":\"A224\",\"224\":\"A225\"},\"Operating system\":{\"0\":\"iOS\",\"1\":\"iOS\",\"2\":\"iOS\",\"3\":\"iOS\",\"4\":\"iOS\",\"5\":\"iOS\",\"6\":\"iOS\",\"7\":\"iOS\",\"8\":\"iOS\",\"9\":\"iOS\",\"10\":\"iOS\",\"11\":\"iOS\",\"12\":\"iOS\",\"13\":\"iOS\",\"14\":\"iOS\",\"15\":\"iOS\",\"16\":\"iOS\",\"17\":\"iOS\",\"18\":\"iOS\",\"19\":\"iOS\",\"20\":\"iOS\",\"21\":\"iOS\",\"22\":\"iOS\",\"23\":\"iOS\",\"24\":\"iOS\",\"25\":\"iOS\",\"26\":\"iOS\",\"27\":\"iOS\",\"28\":\"iOS\",\"29\":\"iOS\",\"30\":\"iOS\",\"31\":\"iOS\",\"32\":\"iOS\",\"33\":\"iOS\",\"34\":\"iOS\",\"35\":\"iOS\",\"36\":\"iOS\",\"37\":\"iOS\",\"38\":\"iOS\",\"39\":\"iOS\",\"40\":\"iOS\",\"41\":\"iOS\",\"42\":\"iOS\",\"43\":\"iOS\",\"44\":\"iOS\",\"45\":\"iOS\",\"46\":\"iOS\",\"47\":\"iOS\",\"48\":\"iOS\",\"49\":\"iOS\",\"50\":\"iOS\",\"51\":\"iOS\",\"52\":\"iOS\",\"53\":\"iOS\",\"54\":\"iOS\",\"55\":\"iOS\",\"56\":\"iOS\",\"57\":\"iOS\",\"58\":\"iOS\",\"59\":\"iOS\",\"60\":\"iOS\",\"61\":\"iOS\",\"62\":\"iOS\",\"63\":\"iOS\",\"64\":\"iOS\",\"65\":\"iOS\",\"66\":\"iOS\",\"67\":\"iOS\",\"68\":\"Android\",\"69\":\"iOS\",\"70\":\"iOS\",\"71\":\"iOS\",\"72\":\"iOS\",\"73\":\"iOS\",\"74\":\"iOS\",\"75\":\"iOS\",\"76\":\"iOS\",\"77\":\"iOS\",\"78\":\"iOS\",\"79\":\"iOS\",\"80\":\"iOS\",\"81\":\"iOS\",\"82\":\"iOS\",\"83\":\"iOS\",\"84\":\"iOS\",\"85\":\"iOS\",\"86\":\"iOS\",\"87\":\"iOS\",\"88\":\"iOS\",\"89\":\"iOS\",\"90\":\"iOS\",\"91\":\"iOS\",\"92\":\"iOS\",\"93\":\"iOS\",\"94\":\"iOS\",\"95\":\"iOS\",\"96\":\"iOS\",\"97\":\"iOS\",\"98\":\"iOS\",\"99\":\"iOS\",\"100\":\"iOS\",\"101\":\"iOS\",\"102\":\"iOS\",\"103\":\"iOS\",\"104\":\"iOS\",\"105\":\"iOS\",\"106\":\"Android\",\"107\":\"Android\",\"108\":\"Android\",\"109\":\"Android\",\"110\":\"Android\",\"111\":\"Android\",\"112\":\"Android\",\"113\":\"Android\",\"114\":\"Android\",\"115\":\"Android\",\"116\":\"Android\",\"117\":\"Android\",\"118\":\"Android\",\"119\":\"Android\",\"120\":\"Android\",\"121\":\"Android\",\"122\":\"Android\",\"123\":\"Android\",\"124\":\"Android\",\"125\":\"Android\",\"126\":\"Android\",\"127\":\"Android\",\"128\":\"Android\",\"129\":\"Android\",\"130\":\"Android\",\"131\":\"Android\",\"132\":\"Android\",\"133\":\"Android\",\"134\":\"Android\",\"135\":\"Android\",\"136\":\"Android\",\"137\":\"Android\",\"138\":\"Android\",\"139\":\"Android\",\"140\":\"Android\",\"141\":\"Android\",\"142\":\"Android\",\"143\":\"Android\",\"144\":\"Android\",\"145\":\"Android\",\"146\":\"Android\",\"147\":\"Android\",\"148\":\"Android\",\"149\":\"Android\",\"150\":\"Android\",\"151\":\"Android\",\"152\":\"Android\",\"153\":\"Android\",\"154\":\"Android\",\"155\":\"Android\",\"156\":\"Android\",\"157\":\"Android\",\"158\":\"Android\",\"159\":\"Android\",\"160\":\"Android\",\"161\":\"Android\",\"162\":\"Android\",\"163\":\"Android\",\"164\":\"Android\",\"165\":\"Android\",\"166\":\"Android\",\"167\":\"Android\",\"168\":\"Android\",\"169\":\"Android\",\"170\":\"Android\",\"171\":\"Android\",\"172\":\"Android\",\"173\":\"Android\",\"174\":\"Android\",\"175\":\"Android\",\"176\":\"Android\",\"177\":\"Android\",\"178\":\"Android\",\"179\":\"Android\",\"180\":\"Android\",\"181\":\"Android\",\"182\":\"Android\",\"183\":\"Android\",\"184\":\"Android\",\"185\":\"Android\",\"186\":\"Android\",\"187\":\"Android\",\"188\":\"Android\",\"189\":\"Android\",\"190\":\"Android\",\"191\":\"Android\",\"192\":\"Android\",\"193\":\"Android\",\"194\":\"Android\",\"195\":\"Android\",\"196\":\"Android\",\"197\":\"Android\",\"198\":\"Android\",\"199\":\"Android\",\"200\":\"Android\",\"201\":\"Android\",\"202\":\"Android\",\"203\":\"Android\",\"204\":\"Android\",\"205\":\"Android\",\"206\":\"Android\",\"207\":\"Android\",\"208\":\"Android\",\"209\":\"Android\",\"210\":\"Android\",\"211\":\"Android\",\"212\":\"Android\",\"213\":\"Android\",\"214\":\"Android\",\"215\":\"Android\",\"216\":\"Android\",\"217\":\"Android\",\"218\":\"Android\",\"219\":\"Android\",\"220\":\"Android\",\"221\":\"Android\",\"222\":\"Android\",\"223\":\"Android\",\"224\":\"Android\"},\"App store category\":{\"0\":\"Business\",\"1\":\"Business\",\"2\":\"Business\",\"3\":\"Business\",\"4\":\"Business\",\"5\":\"Cataloge\",\"6\":\"Cataloge\",\"7\":\"Cataloge\",\"8\":\"Cataloge\",\"9\":\"Cataloge\",\"10\":\"Education\",\"11\":\"Education\",\"12\":\"Education\",\"13\":\"Education\",\"14\":\"Education\",\"15\":\"Entertainment\",\"16\":\"Entertainment\",\"17\":\"Entertainment\",\"18\":\"Entertainment\",\"19\":\"Entertainment\",\"20\":\"Finance\",\"21\":\"Finance\",\"22\":\"Finance\",\"23\":\"Finance\",\"24\":\"Finance\",\"25\":\"Food\",\"26\":\"Food\",\"27\":\"Food\",\"28\":\"Food\",\"29\":\"Food\",\"30\":\"Games\",\"31\":\"Games\",\"32\":\"Games\",\"33\":\"Games\",\"34\":\"Games\",\"35\":\"Lifestyle\",\"36\":\"Lifestyle\",\"37\":\"Lifestyle\",\"38\":\"Lifestyle\",\"39\":\"Lifestyle\",\"40\":\"Medical\",\"41\":\"Medical\",\"42\":\"Medical\",\"43\":\"Medical\",\"44\":\"Medical\",\"45\":\"Health\",\"46\":\"Health\",\"47\":\"Health\",\"48\":\"Health\",\"49\":\"Health\",\"50\":\"Navigation\",\"51\":\"Navigation\",\"52\":\"Navigation\",\"53\":\"Navigation\",\"54\":\"Navigation\",\"55\":\"Music\",\"56\":\"Music\",\"57\":\"Music\",\"58\":\"Music\",\"59\":\"Music\",\"60\":\"News\",\"61\":\"News\",\"62\":\"News\",\"63\":\"News\",\"64\":\"News\",\"65\":\"Photo\",\"66\":\"Photo\",\"67\":\"Photo\",\"68\":\"Social\",\"69\":\"Photo\",\"70\":\"Photo\",\"71\":\"Productivity\",\"72\":\"Productivity\",\"73\":\"Productivity\",\"74\":\"Productivity\",\"75\":\"Productivity\",\"76\":\"Reference\",\"77\":\"Reference\",\"78\":\"Reference\",\"79\":\"Reference\",\"80\":\"Reference\",\"81\":\"SocialNetworking\",\"82\":\"SocialNetworking\",\"83\":\"SocialNetworking\",\"84\":\"SocialNetworking\",\"85\":\"SocialNetworking\",\"86\":\"Sports\",\"87\":\"Sports\",\"88\":\"Sports\",\"89\":\"Sports\",\"90\":\"Sports\",\"91\":\"Travel\",\"92\":\"Travel\",\"93\":\"Travel\",\"94\":\"Travel\",\"95\":\"Travel\",\"96\":\"Utility\",\"97\":\"Utility\",\"98\":\"Utility\",\"99\":\"Utility\",\"100\":\"Utility\",\"101\":\"Weather\",\"102\":\"Weather\",\"103\":\"Weather\",\"104\":\"Weather\",\"105\":\"Weather\",\"106\":\"Books\",\"107\":\"Books\",\"108\":\"Books\",\"109\":\"Books\",\"110\":\"Books\",\"111\":\"Business\",\"112\":\"Business\",\"113\":\"Business\",\"114\":\"Business\",\"115\":\"Business\",\"116\":\"Comics\",\"117\":\"Comics\",\"118\":\"Medical\",\"119\":\"Comics\",\"120\":\"Comics\",\"121\":\"Comics\",\"122\":\"Communication\",\"123\":\"Communication\",\"124\":\"Communication\",\"125\":\"Communication\",\"126\":\"Communication\",\"127\":\"Education\",\"128\":\"Education\",\"129\":\"Education\",\"130\":\"Education\",\"131\":\"Education\",\"132\":\"Entertainment\",\"133\":\"Entertainment\",\"134\":\"Entertainment\",\"135\":\"Entertainment\",\"136\":\"Entertainment\",\"137\":\"Family\",\"138\":\"Family\",\"139\":\"Family\",\"140\":\"Family\",\"141\":\"Family\",\"142\":\"Finance\",\"143\":\"Finance\",\"144\":\"Finance\",\"145\":\"Finance\",\"146\":\"Finance\",\"147\":\"Games\",\"148\":\"Games\",\"149\":\"Games\",\"150\":\"Games\",\"151\":\"Games\",\"152\":\"Health\",\"153\":\"Health\",\"154\":\"Health\",\"155\":\"Health\",\"156\":\"Health\",\"157\":\"Lifestyle\",\"158\":\"Lifestyle\",\"159\":\"Lifestyle\",\"160\":\"Lifestyle\",\"161\":\"Lifestyle\",\"162\":\"Media\",\"163\":\"Media\",\"164\":\"Media\",\"165\":\"Media\",\"166\":\"Media\",\"167\":\"Medical\",\"168\":\"Medical\",\"169\":\"Medical\",\"170\":\"Medical\",\"171\":\"Music\",\"172\":\"Music\",\"173\":\"Music\",\"174\":\"Music\",\"175\":\"Music\",\"176\":\"News\",\"177\":\"News\",\"178\":\"News\",\"179\":\"News\",\"180\":\"News\",\"181\":\"Photography\",\"182\":\"Photography \",\"183\":\"Photography \",\"184\":\"Photography \",\"185\":\"Photography \",\"186\":\"Productivity\",\"187\":\"Productivity\",\"188\":\"Productivity\",\"189\":\"Productivity\",\"190\":\"Productivity\",\"191\":\"Shopping\",\"192\":\"Shopping\",\"193\":\"Shopping\",\"194\":\"Shopping\",\"195\":\"Shopping\",\"196\":\"Social\",\"197\":\"Social\",\"198\":\"Social\",\"199\":\"Social\",\"200\":\"Sports\",\"201\":\"Sports\",\"202\":\"Sports\",\"203\":\"Sports\",\"204\":\"Sports\",\"205\":\"Tools\",\"206\":\"Tools\",\"207\":\"Tools\",\"208\":\"Tools\",\"209\":\"Tools\",\"210\":\"Transportation\",\"211\":\"Transportation\",\"212\":\"Transportation\",\"213\":\"Transportation\",\"214\":\"Transportation\",\"215\":\"Travel\",\"216\":\"Travel\",\"217\":\"Travel\",\"218\":\"Travel\",\"219\":\"Travel\",\"220\":\"Widgets\",\"221\":\"Widgets\",\"222\":\"Widgets\",\"223\":\"Widgets\",\"224\":\"Widgets\"},\"Vendor\\'s domicile\":{\"0\":\"Germany\",\"1\":\"outside the EU\",\"2\":\"Germany\",\"3\":\"Germany\",\"4\":\"outside the EU\",\"5\":\"Germany\",\"6\":\"outside the EU\",\"7\":\"outside the EU\",\"8\":\"Germany\",\"9\":\"outside the EU\",\"10\":\"EU (except Germany)\",\"11\":\"Germany\",\"12\":\"outside the EU\",\"13\":\"Germany\",\"14\":\"outside the EU\",\"15\":\"outside the EU\",\"16\":\"outside the EU\",\"17\":\"Germany\",\"18\":\"Germany\",\"19\":\"outside the EU\",\"20\":\"Germany\",\"21\":\"Germany\",\"22\":\"outside the EU\",\"23\":\"EU (except Germany)\",\"24\":\"Germany\",\"25\":\"EU (except Germany)\",\"26\":\"Germany\",\"27\":\"Germany\",\"28\":\"Germany\",\"29\":\"Germany\",\"30\":\"EU (except Germany)\",\"31\":\"EU (except Germany)\",\"32\":\"EU (except Germany)\",\"33\":\"outside the EU\",\"34\":\"outside the EU\",\"35\":\"outside the EU\",\"36\":\"outside the EU\",\"37\":\"EU (except Germany)\",\"38\":\"Germany\",\"39\":\"Germany\",\"40\":\"Germany\",\"41\":\"Germany\",\"42\":\"Germany\",\"43\":\"Germany\",\"44\":\"outside the EU\",\"45\":\"outside the EU\",\"46\":\"EU (except Germany)\",\"47\":\"outside the EU\",\"48\":\"EU (except Germany)\",\"49\":\"Germany\",\"50\":\"EU (except Germany)\",\"51\":\"Germany\",\"52\":\"outside the EU\",\"53\":\"Germany\",\"54\":\"outside the EU\",\"55\":\"outside the EU\",\"56\":\"outside the EU\",\"57\":\"Germany\",\"58\":\"outside the EU\",\"59\":\"outside the EU\",\"60\":\"EU (except Germany)\",\"61\":\"EU (except Germany)\",\"62\":\"outside the EU\",\"63\":\"Germany\",\"64\":\"Germany\",\"65\":\"outside the EU\",\"66\":\"outside the EU\",\"67\":\"outside the EU\",\"68\":\"Germany\",\"69\":\"outside the EU\",\"70\":\"outside the EU\",\"71\":\"Germany\",\"72\":\"outside the EU\",\"73\":\"EU (except Germany)\",\"74\":\"Germany\",\"75\":\"EU (except Germany)\",\"76\":\"Germany\",\"77\":\"outside the EU\",\"78\":\"outside the EU\",\"79\":\"outside the EU\",\"80\":\"Germany\",\"81\":\"outside the EU\",\"82\":\"EU (except Germany)\",\"83\":\"outside the EU\",\"84\":\"outside the EU\",\"85\":\"outside the EU\",\"86\":\"EU (except Germany)\",\"87\":\"outside the EU\",\"88\":\"outside the EU\",\"89\":\"outside the EU\",\"90\":\"outside the EU\",\"91\":\"EU (except Germany)\",\"92\":\"EU (except Germany)\",\"93\":\"EU (except Germany)\",\"94\":\"Germany\",\"95\":\"Germany\",\"96\":\"outside the EU\",\"97\":\"Germany\",\"98\":\"EU (except Germany)\",\"99\":\"EU (except Germany)\",\"100\":\"EU (except Germany)\",\"101\":\"Germany\",\"102\":\"EU (except Germany)\",\"103\":\"outside the EU\",\"104\":\"EU (except Germany)\",\"105\":\"Germany\",\"106\":\"Germany\",\"107\":\"outside the EU\",\"108\":\"Germany\",\"109\":\"Germany\",\"110\":\"Germany\",\"111\":\"EU (except Germany)\",\"112\":\"Germany\",\"113\":\"outside the EU\",\"114\":\"Germany\",\"115\":\"EU (except Germany)\",\"116\":\"outside the EU\",\"117\":\"outside the EU\",\"118\":\"outside the EU\",\"119\":\"outside the EU\",\"120\":\"outside the EU\",\"121\":\"Germany\",\"122\":\"unknown\",\"123\":\"unknown\",\"124\":\"outside the EU\",\"125\":\"outside the EU\",\"126\":\"Germany\",\"127\":\"Germany\",\"128\":\"outside the EU\",\"129\":\"outside the EU\",\"130\":\"Germany\",\"131\":\"EU (except Germany)\",\"132\":\"Germany\",\"133\":\"Germany\",\"134\":\"outside the EU\",\"135\":\"outside the EU\",\"136\":\"Germany\",\"137\":\"EU (except Germany)\",\"138\":\"outside the EU\",\"139\":\"outside the EU\",\"140\":\"outside the EU\",\"141\":\"outside the EU\",\"142\":\"Germany\",\"143\":\"Germany\",\"144\":\"outside the EU\",\"145\":\"EU (except Germany)\",\"146\":\"outside the EU\",\"147\":\"Germany\",\"148\":\"outside the EU\",\"149\":\"outside the EU\",\"150\":\"outside the EU\",\"151\":\"EU (except Germany)\",\"152\":\"EU (except Germany)\",\"153\":\"Germany\",\"154\":\"outside the EU\",\"155\":\"outside the EU\",\"156\":\"outside the EU\",\"157\":\"Germany\",\"158\":\"outside the EU\",\"159\":\"Germany\",\"160\":\"EU (except Germany)\",\"161\":\"outside the EU\",\"162\":\"outside the EU\",\"163\":\"EU (except Germany)\",\"164\":\"outside the EU\",\"165\":\"EU (except Germany)\",\"166\":\"outside the EU\",\"167\":\"Germany\",\"168\":\"unknown\",\"169\":\"outside the EU\",\"170\":\"Germany\",\"171\":\"outside the EU\",\"172\":\"EU (except Germany)\",\"173\":\"EU (except Germany)\",\"174\":\"EU (except Germany)\",\"175\":\"Germany\",\"176\":\"EU (except Germany)\",\"177\":\"Germany\",\"178\":\"Germany\",\"179\":\"Germany\",\"180\":\"outside the EU\",\"181\":\"outside the EU\",\"182\":\"outside the EU\",\"183\":\"outside the EU\",\"184\":\"outside the EU\",\"185\":\"outside the EU\",\"186\":\"outside the EU\",\"187\":\"Germany\",\"188\":\"outside the EU\",\"189\":\"unknown\",\"190\":\"Germany\",\"191\":\"Germany\",\"192\":\"EU (except Germany)\",\"193\":\"Germany\",\"194\":\"Germany\",\"195\":\"unknown\",\"196\":\"EU (except Germany)\",\"197\":\"Germany\",\"198\":\"outside the EU\",\"199\":\"outside the EU\",\"200\":\"unknown\",\"201\":\"outside the EU\",\"202\":\"unknown\",\"203\":\"Germany\",\"204\":\"unknown\",\"205\":\"outside the EU\",\"206\":\"outside the EU\",\"207\":\"EU (except Germany)\",\"208\":\"outside the EU\",\"209\":\"outside the EU\",\"210\":\"Germany\",\"211\":\"EU (except Germany)\",\"212\":\"Germany\",\"213\":\"EU (except Germany)\",\"214\":\"EU (except Germany)\",\"215\":\"outside the EU\",\"216\":\"Germany\",\"217\":\"Germany\",\"218\":\"Germany\",\"219\":\"Germany\",\"220\":\"outside the EU\",\"221\":\"outside the EU\",\"222\":\"Germany\",\"223\":\"outside the EU\",\"224\":\"Germany\"},\"Account registration\":{\"0\":\"vie email\",\"1\":\"vie email\",\"2\":\"vie email\",\"3\":\"vie email\",\"4\":\"vie email\",\"5\":\"vie email\",\"6\":\"vie email\",\"7\":\"vie email\",\"8\":\"vie email\",\"9\":\"vie email\",\"10\":\"vie email\",\"11\":\"vie email\",\"12\":\"vie email\",\"13\":\"vie email\",\"14\":\"vie email\",\"15\":\"vie email\",\"16\":\"option not available\",\"17\":\"vie email\",\"18\":\"vie email\",\"19\":\"via Facebook\",\"20\":\"vie email\",\"21\":\"vie email\",\"22\":\"vie email\",\"23\":\"vie email\",\"24\":\"vie email\",\"25\":\"vie email\",\"26\":\"vie email\",\"27\":\"vie email\",\"28\":\"vie email\",\"29\":\"vie email\",\"30\":\"vie email\",\"31\":\"via Facebook\",\"32\":\"vie email\",\"33\":\"via Facebook\",\"34\":\"via Facebook\",\"35\":\"via Facebook\",\"36\":\"vie email\",\"37\":\"vie email\",\"38\":\"vie email\",\"39\":\"vie email\",\"40\":\"vie email\",\"41\":\"vie email\",\"42\":\"option not available\",\"43\":\"vie email\",\"44\":\"vie email\",\"45\":\"vie email\",\"46\":\"vie email\",\"47\":\"vie email\",\"48\":\"vie email\",\"49\":\"vie email\",\"50\":\"vie email\",\"51\":\"vie email\",\"52\":\"vie email\",\"53\":\"vie email\",\"54\":\"vie email\",\"55\":\"vie email\",\"56\":\"vie email\",\"57\":\"via Facebook\",\"58\":\"vie email\",\"59\":\"vie email\",\"60\":\"vie email\",\"61\":\"vie email\",\"62\":\"vie email\",\"63\":\"vie email\",\"64\":\"vie email\",\"65\":\"vie email\",\"66\":\"vie email\",\"67\":\"via Google\",\"68\":\"vie email\",\"69\":\"vie email\",\"70\":\"vie email\",\"71\":\"vie email\",\"72\":\"vie email\",\"73\":\"vie email\",\"74\":\"vie email\",\"75\":\"vie email\",\"76\":\"vie email\",\"77\":\"via Facebook\",\"78\":\"vie email\",\"79\":\"vie email\",\"80\":\"vie email\",\"81\":\"vie email\",\"82\":\"vie email\",\"83\":\"vie email\",\"84\":\"vie email\",\"85\":\"vie email\",\"86\":\"vie email\",\"87\":\"vie email\",\"88\":\"vie email\",\"89\":\"vie email\",\"90\":\"vie email\",\"91\":\"via Facebook\",\"92\":\"vie email\",\"93\":\"vie email\",\"94\":\"vie email\",\"95\":\"vie email\",\"96\":\"vie email\",\"97\":\"vie email\",\"98\":\"vie email\",\"99\":\"vie email\",\"100\":\"vie email\",\"101\":\"vie email\",\"102\":\"vie email\",\"103\":\"vie email\",\"104\":\"vie email\",\"105\":\"vie email\",\"106\":\"vie email\",\"107\":\"vie email\",\"108\":\"vie email\",\"109\":\"vie email\",\"110\":\"vie email\",\"111\":\"vie email\",\"112\":\"vie email\",\"113\":\"via Google\",\"114\":\"vie email\",\"115\":\"vie email\",\"116\":\"via Google\",\"117\":\"vie email\",\"118\":\"via Google\",\"119\":\"vie email\",\"120\":\"vie email\",\"121\":\"vie email\",\"122\":\"vie email\",\"123\":\"via Google\",\"124\":\"via Google\",\"125\":\"via Google\",\"126\":\"option not available\",\"127\":\"vie email\",\"128\":\"via Google\",\"129\":\"vie email\",\"130\":\"vie email\",\"131\":\"vie email\",\"132\":\"vie email\",\"133\":\"vie email\",\"134\":\"via Google\",\"135\":\"via Facebook\",\"136\":\"option not available\",\"137\":\"via Facebook\",\"138\":\"via Facebook\",\"139\":\"via Google\",\"140\":\"vie email\",\"141\":\"via Facebook\",\"142\":\"via Facebook\",\"143\":\"option not available\",\"144\":\"vie email\",\"145\":\"vie email\",\"146\":\"vie email\",\"147\":\"vie email\",\"148\":\"via Google\",\"149\":\"via Google\",\"150\":\"via Facebook\",\"151\":\"via Facebook\",\"152\":\"via Google\",\"153\":\"vie email\",\"154\":\"vie email\",\"155\":\"vie email\",\"156\":\"vie email\",\"157\":\"vie email\",\"158\":\"via Google\",\"159\":\"vie email\",\"160\":\"vie email\",\"161\":\"via Facebook\",\"162\":\"via Google\",\"163\":\"via Facebook\",\"164\":\"option not available\",\"165\":\"vie email\",\"166\":\"vie email\",\"167\":\"vie email\",\"168\":\"vie email\",\"169\":\"vie email\",\"170\":\"via Facebook\",\"171\":\"via Google\",\"172\":\"vie email\",\"173\":\"vie email\",\"174\":\"via Google\",\"175\":\"vie email\",\"176\":\"vie email\",\"177\":\"via Facebook\",\"178\":\"vie email\",\"179\":\"vie email\",\"180\":\"vie email\",\"181\":\"vie email\",\"182\":\"via Google\",\"183\":\"vie email\",\"184\":\"vie email\",\"185\":\"via Google\",\"186\":\"via Google\",\"187\":\"vie email\",\"188\":\"option not available\",\"189\":\"option not available\",\"190\":\"vie email\",\"191\":\"vie email\",\"192\":\"vie email\",\"193\":\"vie email\",\"194\":\"vie email\",\"195\":\"vie email\",\"196\":\"vie email\",\"197\":\"vie email\",\"198\":\"vie email\",\"199\":\"vie email\",\"200\":\"vie email\",\"201\":\"via Facebook\",\"202\":\"vie email\",\"203\":\"vie email\",\"204\":\"via Google\",\"205\":\"vie email\",\"206\":\"vie email\",\"207\":\"vie email\",\"208\":\"vie email\",\"209\":\"via Google\",\"210\":\"vie email\",\"211\":\"vie email\",\"212\":\"vie email\",\"213\":\"via Facebook\",\"214\":\"vie email\",\"215\":\"vie email\",\"216\":\"vie email\",\"217\":\"vie email\",\"218\":\"vie email\",\"219\":\"vie email\",\"220\":\"via Facebook\",\"221\":\"vie email\",\"222\":\"vie email\",\"223\":\"via Google\",\"224\":\"vie email\"},\"Request language\":{\"0\":\"German\",\"1\":\"English\",\"2\":\"German\",\"3\":\"German\",\"4\":\"German\",\"5\":\"German\",\"6\":\"English\",\"7\":\"English\",\"8\":\"German\",\"9\":\"English\",\"10\":\"German\",\"11\":\"German\",\"12\":\"English\",\"13\":\"German\",\"14\":\"German\",\"15\":\"German\",\"16\":\"German\",\"17\":\"German\",\"18\":\"German\",\"19\":\"German\",\"20\":\"German\",\"21\":\"German\",\"22\":\"German\",\"23\":\"German\",\"24\":\"German\",\"25\":\"English\",\"26\":\"German\",\"27\":\"German\",\"28\":\"German\",\"29\":\"German\",\"30\":\"German\",\"31\":\"English\",\"32\":\"English\",\"33\":\"English\",\"34\":\"English\",\"35\":\"English\",\"36\":\"German\",\"37\":\"German\",\"38\":\"German\",\"39\":\"German\",\"40\":\"German\",\"41\":\"German\",\"42\":\"German\",\"43\":\"German\",\"44\":\"English\",\"45\":\"German\",\"46\":\"German\",\"47\":\"English\",\"48\":\"German\",\"49\":\"German\",\"50\":\"German\",\"51\":\"German\",\"52\":\"English\",\"53\":\"German\",\"54\":\"German\",\"55\":\"English\",\"56\":\"English\",\"57\":\"German\",\"58\":\"English\",\"59\":\"English\",\"60\":\"German\",\"61\":\"German\",\"62\":\"English\",\"63\":\"German\",\"64\":\"German\",\"65\":\"English\",\"66\":\"English\",\"67\":\"English\",\"68\":\"German\",\"69\":\"English\",\"70\":\"German\",\"71\":\"German\",\"72\":\"English\",\"73\":\"German\",\"74\":\"German\",\"75\":\"English\",\"76\":\"German\",\"77\":\"German\",\"78\":\"English\",\"79\":\"German\",\"80\":\"German\",\"81\":\"English\",\"82\":\"German\",\"83\":\"German\",\"84\":\"German\",\"85\":\"German\",\"86\":\"German\",\"87\":\"English\",\"88\":\"English\",\"89\":\"English\",\"90\":\"English\",\"91\":\"German\",\"92\":\"English\",\"93\":\"German\",\"94\":\"German\",\"95\":\"German\",\"96\":\"English\",\"97\":\"German\",\"98\":\"German\",\"99\":\"German\",\"100\":\"German\",\"101\":\"German\",\"102\":\"English\",\"103\":\"English\",\"104\":\"English\",\"105\":\"German\",\"106\":\"German\",\"107\":\"German\",\"108\":\"German\",\"109\":\"German\",\"110\":\"German\",\"111\":\"German\",\"112\":\"German\",\"113\":\"German\",\"114\":\"German\",\"115\":\"German\",\"116\":\"English\",\"117\":\"German\",\"118\":\"English\",\"119\":\"English\",\"120\":\"English\",\"121\":\"German\",\"122\":\"English\",\"123\":\"German\",\"124\":\"German\",\"125\":\"English\",\"126\":\"German\",\"127\":\"German\",\"128\":\"German\",\"129\":\"German\",\"130\":\"German\",\"131\":\"English\",\"132\":\"German\",\"133\":\"German\",\"134\":\"English\",\"135\":\"English\",\"136\":\"German\",\"137\":\"English\",\"138\":\"English\",\"139\":\"German\",\"140\":\"English\",\"141\":\"English\",\"142\":\"German\",\"143\":\"German\",\"144\":\"English\",\"145\":\"English\",\"146\":\"English\",\"147\":\"German\",\"148\":\"English\",\"149\":\"German\",\"150\":\"English\",\"151\":\"English\",\"152\":\"German\",\"153\":\"German\",\"154\":\"English\",\"155\":\"German\",\"156\":\"German\",\"157\":\"German\",\"158\":\"English\",\"159\":\"German\",\"160\":\"English\",\"161\":\"English\",\"162\":\"German\",\"163\":\"German\",\"164\":\"German\",\"165\":\"German\",\"166\":\"English\",\"167\":\"German\",\"168\":\"German\",\"169\":\"English\",\"170\":\"German\",\"171\":\"English\",\"172\":\"German\",\"173\":\"German\",\"174\":\"German\",\"175\":\"German\",\"176\":\"German\",\"177\":\"German\",\"178\":\"German\",\"179\":\"German\",\"180\":\"English\",\"181\":\"German\",\"182\":\"English\",\"183\":\"English\",\"184\":\"English\",\"185\":\"English\",\"186\":\"German\",\"187\":\"German\",\"188\":\"German\",\"189\":\"German\",\"190\":\"German\",\"191\":\"German\",\"192\":\"German\",\"193\":\"German\",\"194\":\"German\",\"195\":\"German\",\"196\":\"German\",\"197\":\"German\",\"198\":\"German\",\"199\":\"English\",\"200\":\"English\",\"201\":\"English\",\"202\":\"English\",\"203\":\"German\",\"204\":\"German\",\"205\":\"English\",\"206\":\"German\",\"207\":\"English\",\"208\":\"English\",\"209\":\"German\",\"210\":\"German\",\"211\":\"English\",\"212\":\"German\",\"213\":\"German\",\"214\":\"English\",\"215\":\"English\",\"216\":\"German\",\"217\":\"German\",\"218\":\"German\",\"219\":\"German\",\"220\":\"English\",\"221\":\"German\",\"222\":\"German\",\"223\":\"German\",\"224\":\"German\"},\"R1: Response duration (in days)\":{\"0\":5.0,\"1\":1.0,\"2\":1.0,\"3\":15.0,\"4\":2.0,\"5\":null,\"6\":1.0,\"7\":1.0,\"8\":5.0,\"9\":1.0,\"10\":1.0,\"11\":2.0,\"12\":1.0,\"13\":1.0,\"14\":null,\"15\":1.0,\"16\":null,\"17\":1.0,\"18\":null,\"19\":null,\"20\":1.0,\"21\":1.0,\"22\":1.0,\"23\":1.0,\"24\":10.0,\"25\":3.0,\"26\":6.0,\"27\":2.0,\"28\":3.0,\"29\":2.0,\"30\":1.0,\"31\":0.0,\"32\":1.0,\"33\":15.0,\"34\":null,\"35\":null,\"36\":12.0,\"37\":1.0,\"38\":9.0,\"39\":1.0,\"40\":1.0,\"41\":1.0,\"42\":1.0,\"43\":1.0,\"44\":2.0,\"45\":null,\"46\":1.0,\"47\":1.0,\"48\":1.0,\"49\":1.0,\"50\":1.0,\"51\":1.0,\"52\":1.0,\"53\":8.0,\"54\":1.0,\"55\":1.0,\"56\":null,\"57\":6.0,\"58\":null,\"59\":1.0,\"60\":6.0,\"61\":1.0,\"62\":null,\"63\":1.0,\"64\":null,\"65\":2.0,\"66\":1.0,\"67\":null,\"68\":1.0,\"69\":1.0,\"70\":2.0,\"71\":1.0,\"72\":1.0,\"73\":null,\"74\":2.0,\"75\":2.0,\"76\":1.0,\"77\":null,\"78\":null,\"79\":null,\"80\":2.0,\"81\":1.0,\"82\":1.0,\"83\":1.0,\"84\":0.0,\"85\":2.0,\"86\":1.0,\"87\":1.0,\"88\":1.0,\"89\":14.0,\"90\":1.0,\"91\":null,\"92\":null,\"93\":1.0,\"94\":5.0,\"95\":1.0,\"96\":1.0,\"97\":null,\"98\":0.0,\"99\":1.0,\"100\":null,\"101\":1.0,\"102\":1.0,\"103\":1.0,\"104\":null,\"105\":1.0,\"106\":2.0,\"107\":2.0,\"108\":9.0,\"109\":1.0,\"110\":null,\"111\":9.0,\"112\":null,\"113\":1.0,\"114\":2.0,\"115\":null,\"116\":null,\"117\":1.0,\"118\":1.0,\"119\":1.0,\"120\":null,\"121\":null,\"122\":1.0,\"123\":1.0,\"124\":3.0,\"125\":0.0,\"126\":null,\"127\":6.0,\"128\":1.0,\"129\":13.0,\"130\":1.0,\"131\":8.0,\"132\":0.0,\"133\":null,\"134\":1.0,\"135\":1.0,\"136\":1.0,\"137\":12.0,\"138\":2.0,\"139\":25.0,\"140\":1.0,\"141\":0.0,\"142\":1.0,\"143\":6.0,\"144\":1.0,\"145\":1.0,\"146\":null,\"147\":5.0,\"148\":1.0,\"149\":1.0,\"150\":1.0,\"151\":null,\"152\":1.0,\"153\":8.0,\"154\":1.0,\"155\":1.0,\"156\":null,\"157\":2.0,\"158\":1.0,\"159\":null,\"160\":null,\"161\":2.0,\"162\":1.0,\"163\":1.0,\"164\":1.0,\"165\":20.0,\"166\":null,\"167\":9.0,\"168\":1.0,\"169\":1.0,\"170\":null,\"171\":null,\"172\":1.0,\"173\":1.0,\"174\":null,\"175\":null,\"176\":0.0,\"177\":null,\"178\":5.0,\"179\":7.0,\"180\":1.0,\"181\":1.0,\"182\":36.0,\"183\":null,\"184\":4.0,\"185\":1.0,\"186\":2.0,\"187\":1.0,\"188\":1.0,\"189\":2.0,\"190\":44.0,\"191\":3.0,\"192\":1.0,\"193\":14.0,\"194\":1.0,\"195\":1.0,\"196\":null,\"197\":27.0,\"198\":0.0,\"199\":null,\"200\":null,\"201\":null,\"202\":1.0,\"203\":15.0,\"204\":1.0,\"205\":null,\"206\":8.0,\"207\":null,\"208\":1.0,\"209\":2.0,\"210\":null,\"211\":1.0,\"212\":41.0,\"213\":2.0,\"214\":1.0,\"215\":1.0,\"216\":1.0,\"217\":1.0,\"218\":19.0,\"219\":1.0,\"220\":null,\"221\":1.0,\"222\":1.0,\"223\":4.0,\"224\":19.0},\"R1: Assigned codes\":{\"0\":\"de data ds1 dt4\",\"1\":\"en nds stor\",\"2\":\"de f2 nd1\",\"3\":\"de data ds1 dt4 uod\",\"4\":\"de unrel\",\"5\":\"NOREPLY\",\"6\":\"en ds1 stor tra\",\"7\":\"en unrel\",\"8\":\"de nds p1\",\"9\":\"en unrel\",\"10\":\"de nds p1 uod\",\"11\":\"de nds stor uod\",\"12\":\"en unrel\",\"13\":\"de p1\",\"14\":\"NOREPLY\",\"15\":\"de ds1\",\"16\":\"NOREPLY\",\"17\":\"de f2 nd1\",\"18\":\"NOREPLY\",\"19\":\"NOREPLY\",\"20\":\"de p5\",\"21\":\"de f2 nd1\",\"22\":\"de p1\",\"23\":\"de nds p1\",\"24\":\"de p5\",\"25\":\"en nds stor\",\"26\":\"de data dt3 nds pw\",\"27\":\"de nds stor\",\"28\":\"de unrel\",\"29\":\"de data ds4 dt8\",\"30\":\"de stor\",\"31\":\"en unrel\",\"32\":\"en unrel\",\"33\":\"en p1\",\"34\":\"NOREPLY\",\"35\":\"NOREPLY\",\"36\":\"de ds1 p1\",\"37\":\"de authIN data dt4\",\"38\":\"de ds1 tra\",\"39\":\"de unrel\",\"40\":\"de unrel\",\"41\":\"de nds stor\",\"42\":\"de nd2\",\"43\":\"de authIN data dt8\",\"44\":\"en ds2 stor tra\",\"45\":\"NOREPLY\",\"46\":\"de unrel\",\"47\":\"en data dt4 nds\",\"48\":\"de nds p1\",\"49\":\"de ds2 stor\",\"50\":\"en unrel\",\"51\":\"de data ds1 dt8 tra\",\"52\":\"en data dt8\",\"53\":\"de ds3 p1 tra\",\"54\":\"en unrel\",\"55\":\"en unrel\",\"56\":\"NOREPLY\",\"57\":\"de nds stor\",\"58\":\"NOREPLY\",\"59\":\"en data ds2 dt8\",\"60\":\"de data dt3\",\"61\":\"de nds p1\",\"62\":\"NOREPLY\",\"63\":\"de ds1 tra\",\"64\":\"NOREPLY\",\"65\":\"en unrel\",\"66\":\"en nds p1\",\"67\":\"NOREPLY\",\"68\":\"de authS data dt2\",\"69\":\"en nds p1\",\"70\":\"en unrel\",\"71\":\"de authIN data dt8\",\"72\":\"en nds p1\",\"73\":\"NOREPLY\",\"74\":\"de data dt4 nds\",\"75\":\"en stor\",\"76\":\"de ds1 stor tra\",\"77\":\"NOREPLY\",\"78\":\"NOREPLY\",\"79\":\"NOREPLY\",\"80\":\"de data ds1 dt4 tra\",\"81\":\"en unrel\",\"82\":\"de nds p1\",\"83\":\"en p1\",\"84\":\"en unrel\",\"85\":\"de data ds1 dt1\",\"86\":\"de p1\",\"87\":\"en unrel\",\"88\":\"en unrel\",\"89\":\"en unrel\",\"90\":\"en unrel\",\"91\":\"NOREPLY\",\"92\":\"NOREPLY\",\"93\":\"en f2 nd1 nds\",\"94\":\"de data dt8 p2\",\"95\":\"de data dt8 nds\",\"96\":\"de nds p1\",\"97\":\"NOREPLY\",\"98\":\"en unrel\",\"99\":\"de data ds2 dt7\",\"100\":\"NOREPLY\",\"101\":\"de unrel\",\"102\":\"en p1\",\"103\":\"en unrel\",\"104\":\"NOREPLY\",\"105\":\"de stor\",\"106\":\"de data ds2 dt8 p2\",\"107\":\"en unrel\",\"108\":\"de nds p1\",\"109\":\"de unrel\",\"110\":\"NOREPLY\",\"111\":\"de data dt8\",\"112\":\"NOREPLY\",\"113\":\"en nd2 nds\",\"114\":\"de data dt8\",\"115\":\"NOREPLY\",\"116\":\"NOREPLY\",\"117\":\"en unrel\",\"118\":\"en ds4 p1 tra\",\"119\":\"en unrel\",\"120\":\"NOREPLY\",\"121\":\"NOREPLY\",\"122\":\"en nd2\",\"123\":\"de unrel\",\"124\":\"en unrel\",\"125\":\"en unrel\",\"126\":\"NOREPLY\",\"127\":\"de nds p1\",\"128\":\"de unrel\",\"129\":\"en nds stor\",\"130\":\"de unrel\",\"131\":\"en ds3 stor tra\",\"132\":\"de unrel\",\"133\":\"NOREPLY\",\"134\":\"en unrel\",\"135\":\"en unrel\",\"136\":\"de p3\",\"137\":\"en stor\",\"138\":\"en p1\",\"139\":\"de unrel\",\"140\":\"en nds p1\",\"141\":\"en unrel\",\"142\":\"de unrel\",\"143\":\"en nd1\",\"144\":\"en nds stor\",\"145\":\"en nds p1\",\"146\":\"NOREPLY\",\"147\":\"de ds1 p1\",\"148\":\"fgn p4\",\"149\":\"en unrel\",\"150\":\"en f2 nd1 nds\",\"151\":\"UNREACHABLE\",\"152\":\"en ds3 f2 nd1 tra\",\"153\":\"de unrel\",\"154\":\"en unrel\",\"155\":\"de data dt4 nds\",\"156\":\"NOREPLY\",\"157\":\"de data ds4 dt8 f1\",\"158\":\"en p1\",\"159\":\"NOREPLY\",\"160\":\"NOREPLY\",\"161\":\"en nds stor\",\"162\":\"en unrel\",\"163\":\"en p1\",\"164\":\"de p4\",\"165\":\"de data dt8 p2\",\"166\":\"NOREPLY\",\"167\":\"de stor\",\"168\":\"de ds1 f2 nd1 tra\",\"169\":\"en nds p1\",\"170\":\"NOREPLY\",\"171\":\"NOREPLY\",\"172\":\"de data dt8 f1 nds uod\",\"173\":\"de nds p1\",\"174\":\"NOREPLY\",\"175\":\"NOREPLY\",\"176\":\"en unrel\",\"177\":\"NOREPLY\",\"178\":\"de f2 nd1\",\"179\":\"de data ds5 dt8 tra\",\"180\":\"en p6\",\"181\":\"en unrel\",\"182\":\"en unrel\",\"183\":\"NOREPLY\",\"184\":\"en nds p1\",\"185\":\"en stor\",\"186\":\"en stor\",\"187\":\"de unrel\",\"188\":\"de p4\",\"189\":\"de nd1 nds\",\"190\":\"de stor\",\"191\":\"de unrel\",\"192\":\"de nds p1\",\"193\":\"de ds1 f2 nd1 tra\",\"194\":\"de ds1 p1\",\"195\":\"de nds p1 uod\",\"196\":\"NOREPLY\",\"197\":\"de p1\",\"198\":\"de unrel\",\"199\":\"NOREPLY\",\"200\":\"NOREPLY\",\"201\":\"NOREPLY\",\"202\":\"en unrel\",\"203\":\"de data dt4 nds uod\",\"204\":\"de data dt8\",\"205\":\"NOREPLY\",\"206\":\"de unrel\",\"207\":\"NOREPLY\",\"208\":\"en unrel\",\"209\":\"de nd2 nds\",\"210\":\"NOREPLY\",\"211\":\"en data dt4 nds\",\"212\":\"de data dt4 nds\",\"213\":\"de unrel\",\"214\":\"en nds p1\",\"215\":\"en f2 nd1\",\"216\":\"de unrel\",\"217\":\"de nds p1\",\"218\":\"de p1\",\"219\":\"de f2 nd1\",\"220\":\"NOREPLY\",\"221\":\"de stor\",\"222\":\"de nds p1\",\"223\":\"en stor\",\"224\":\"de authIN data dt4 pw\"},\"R1: Dummy response status\":{\"0\":null,\"1\":null,\"2\":null,\"3\":null,\"4\":null,\"5\":\"responded\",\"6\":null,\"7\":null,\"8\":null,\"9\":null,\"10\":null,\"11\":null,\"12\":null,\"13\":null,\"14\":\"no reply\",\"15\":null,\"16\":\"no reply\",\"17\":null,\"18\":\"responded\",\"19\":\"no reply\",\"20\":null,\"21\":null,\"22\":null,\"23\":null,\"24\":null,\"25\":null,\"26\":null,\"27\":null,\"28\":null,\"29\":null,\"30\":null,\"31\":null,\"32\":null,\"33\":null,\"34\":\"no reply\",\"35\":\"responded\",\"36\":null,\"37\":null,\"38\":null,\"39\":null,\"40\":null,\"41\":null,\"42\":null,\"43\":null,\"44\":null,\"45\":\"no reply\",\"46\":null,\"47\":null,\"48\":null,\"49\":null,\"50\":null,\"51\":null,\"52\":null,\"53\":null,\"54\":null,\"55\":null,\"56\":\"no reply\",\"57\":null,\"58\":\"no reply\",\"59\":null,\"60\":null,\"61\":null,\"62\":\"no reply\",\"63\":null,\"64\":\"no reply\",\"65\":null,\"66\":null,\"67\":\"no reply\",\"68\":null,\"69\":null,\"70\":null,\"71\":null,\"72\":null,\"73\":\"responded\",\"74\":null,\"75\":null,\"76\":null,\"77\":\"no reply\",\"78\":\"no reply\",\"79\":\"no reply\",\"80\":null,\"81\":null,\"82\":null,\"83\":null,\"84\":null,\"85\":null,\"86\":null,\"87\":null,\"88\":null,\"89\":null,\"90\":null,\"91\":\"no reply\",\"92\":\"responded\",\"93\":null,\"94\":null,\"95\":null,\"96\":null,\"97\":\"responded\",\"98\":null,\"99\":null,\"100\":\"no reply\",\"101\":null,\"102\":null,\"103\":null,\"104\":\"no reply\",\"105\":null,\"106\":null,\"107\":null,\"108\":null,\"109\":null,\"110\":\"no reply\",\"111\":null,\"112\":\"no reply\",\"113\":null,\"114\":null,\"115\":\"responded\",\"116\":\"no reply\",\"117\":null,\"118\":null,\"119\":null,\"120\":\"no reply\",\"121\":\"responded\",\"122\":null,\"123\":null,\"124\":null,\"125\":null,\"126\":\"responded\",\"127\":null,\"128\":null,\"129\":null,\"130\":null,\"131\":null,\"132\":null,\"133\":\"responded\",\"134\":null,\"135\":null,\"136\":null,\"137\":null,\"138\":null,\"139\":null,\"140\":null,\"141\":null,\"142\":null,\"143\":null,\"144\":null,\"145\":null,\"146\":\"no reply\",\"147\":null,\"148\":null,\"149\":null,\"150\":null,\"151\":null,\"152\":null,\"153\":null,\"154\":null,\"155\":null,\"156\":\"no reply\",\"157\":null,\"158\":null,\"159\":\"no reply\",\"160\":\"responded\",\"161\":null,\"162\":null,\"163\":null,\"164\":null,\"165\":null,\"166\":\"no reply\",\"167\":null,\"168\":null,\"169\":null,\"170\":\"responded\",\"171\":\"no reply\",\"172\":null,\"173\":null,\"174\":\"no reply\",\"175\":\"responded\",\"176\":null,\"177\":\"no reply\",\"178\":null,\"179\":null,\"180\":null,\"181\":null,\"182\":null,\"183\":\"no reply\",\"184\":null,\"185\":null,\"186\":null,\"187\":null,\"188\":null,\"189\":null,\"190\":null,\"191\":null,\"192\":null,\"193\":null,\"194\":null,\"195\":null,\"196\":\"no reply\",\"197\":null,\"198\":null,\"199\":\"no reply\",\"200\":\"no reply\",\"201\":\"no reply\",\"202\":null,\"203\":null,\"204\":null,\"205\":\"responded\",\"206\":null,\"207\":\"no reply\",\"208\":null,\"209\":null,\"210\":\"responded\",\"211\":null,\"212\":null,\"213\":null,\"214\":null,\"215\":null,\"216\":null,\"217\":null,\"218\":null,\"219\":null,\"220\":\"no reply\",\"221\":null,\"222\":null,\"223\":null,\"224\":null},\"R1: TLS encryption\":{\"0\":\"yes\",\"1\":\"no\",\"2\":\"yes\",\"3\":\"yes\",\"4\":\"yes\",\"5\":\"yes\",\"6\":\"yes\",\"7\":\"no\",\"8\":\"yes\",\"9\":\"yes\",\"10\":\"yes\",\"11\":\"yes\",\"12\":\"yes\",\"13\":\"yes\",\"14\":null,\"15\":\"yes\",\"16\":null,\"17\":\"yes\",\"18\":\"yes\",\"19\":null,\"20\":\"no\",\"21\":\"yes\",\"22\":\"yes\",\"23\":\"yes\",\"24\":\"yes\",\"25\":\"yes\",\"26\":\"yes\",\"27\":\"yes\",\"28\":\"yes\",\"29\":\"yes\",\"30\":\"no\",\"31\":\"yes\",\"32\":\"no\",\"33\":\"yes\",\"34\":null,\"35\":\"yes\",\"36\":\"yes\",\"37\":\"yes\",\"38\":\"yes\",\"39\":\"yes\",\"40\":\"yes\",\"41\":\"yes\",\"42\":\"yes\",\"43\":\"yes\",\"44\":\"yes\",\"45\":null,\"46\":\"yes\",\"47\":\"yes\",\"48\":\"yes\",\"49\":\"yes\",\"50\":\"yes\",\"51\":\"yes\",\"52\":\"yes\",\"53\":\"yes\",\"54\":\"yes\",\"55\":\"yes\",\"56\":null,\"57\":\"yes\",\"58\":null,\"59\":\"yes\",\"60\":\"yes\",\"61\":\"yes\",\"62\":null,\"63\":\"yes\",\"64\":null,\"65\":\"yes\",\"66\":\"yes\",\"67\":null,\"68\":\"no\",\"69\":\"yes\",\"70\":\"yes\",\"71\":\"yes\",\"72\":\"yes\",\"73\":\"yes\",\"74\":\"no\",\"75\":\"yes\",\"76\":\"yes\",\"77\":null,\"78\":null,\"79\":null,\"80\":\"yes\",\"81\":\"yes\",\"82\":\"yes\",\"83\":\"yes\",\"84\":\"yes\",\"85\":\"yes\",\"86\":\"no\",\"87\":\"no\",\"88\":\"no\",\"89\":\"yes\",\"90\":\"yes\",\"91\":null,\"92\":\"yes\",\"93\":\"yes\",\"94\":\"yes\",\"95\":\"yes\",\"96\":\"yes\",\"97\":\"yes\",\"98\":\"yes\",\"99\":\"yes\",\"100\":null,\"101\":\"yes\",\"102\":\"yes\",\"103\":\"yes\",\"104\":null,\"105\":\"yes\",\"106\":\"yes\",\"107\":\"yes\",\"108\":\"yes\",\"109\":\"yes\",\"110\":null,\"111\":\"yes\",\"112\":null,\"113\":\"yes\",\"114\":\"yes\",\"115\":\"yes\",\"116\":null,\"117\":\"yes\",\"118\":\"yes\",\"119\":\"yes\",\"120\":null,\"121\":\"yes\",\"122\":\"yes\",\"123\":\"yes\",\"124\":\"yes\",\"125\":\"no\",\"126\":\"yes\",\"127\":\"yes\",\"128\":\"yes\",\"129\":\"yes\",\"130\":\"yes\",\"131\":\"yes\",\"132\":\"yes\",\"133\":\"yes\",\"134\":\"yes\",\"135\":\"yes\",\"136\":\"no\",\"137\":\"yes\",\"138\":\"no\",\"139\":\"yes\",\"140\":\"yes\",\"141\":\"yes\",\"142\":\"yes\",\"143\":\"yes\",\"144\":\"no\",\"145\":\"yes\",\"146\":null,\"147\":\"no\",\"148\":\"no\",\"149\":\"yes\",\"150\":\"no\",\"151\":\"yes\",\"152\":\"yes\",\"153\":\"yes\",\"154\":\"yes\",\"155\":\"yes\",\"156\":null,\"157\":\"yes\",\"158\":\"yes\",\"159\":null,\"160\":\"yes\",\"161\":\"yes\",\"162\":\"yes\",\"163\":\"no\",\"164\":\"yes\",\"165\":\"yes\",\"166\":null,\"167\":\"yes\",\"168\":\"yes\",\"169\":\"yes\",\"170\":\"yes\",\"171\":null,\"172\":\"yes\",\"173\":\"yes\",\"174\":null,\"175\":\"yes\",\"176\":\"yes\",\"177\":null,\"178\":\"yes\",\"179\":\"yes\",\"180\":\"yes\",\"181\":\"yes\",\"182\":\"no\",\"183\":null,\"184\":\"yes\",\"185\":\"yes\",\"186\":\"yes\",\"187\":\"no\",\"188\":\"yes\",\"189\":\"yes\",\"190\":\"yes\",\"191\":\"yes\",\"192\":\"yes\",\"193\":\"yes\",\"194\":\"yes\",\"195\":\"yes\",\"196\":null,\"197\":\"yes\",\"198\":\"no\",\"199\":null,\"200\":null,\"201\":null,\"202\":\"yes\",\"203\":\"yes\",\"204\":\"yes\",\"205\":\"yes\",\"206\":\"yes\",\"207\":null,\"208\":\"yes\",\"209\":\"yes\",\"210\":\"yes\",\"211\":\"yes\",\"212\":\"yes\",\"213\":\"yes\",\"214\":\"yes\",\"215\":\"yes\",\"216\":\"no\",\"217\":\"yes\",\"218\":\"no\",\"219\":\"yes\",\"220\":null,\"221\":\"yes\",\"222\":\"yes\",\"223\":\"yes\",\"224\":\"yes\"},\"R2: App still exists\":{\"0\":\"yes\",\"1\":\"yes\",\"2\":\"yes\",\"3\":\"yes\",\"4\":\"yes\",\"5\":\"yes\",\"6\":\"no\",\"7\":\"yes\",\"8\":\"yes\",\"9\":\"yes\",\"10\":\"yes\",\"11\":\"yes\",\"12\":\"yes\",\"13\":\"yes\",\"14\":\"yes\",\"15\":\"yes\",\"16\":\"yes\",\"17\":\"yes\",\"18\":\"yes\",\"19\":\"no\",\"20\":\"yes\",\"21\":\"yes\",\"22\":\"yes\",\"23\":\"yes\",\"24\":\"no\",\"25\":\"yes\",\"26\":\"no\",\"27\":\"yes\",\"28\":\"yes\",\"29\":\"yes\",\"30\":\"yes\",\"31\":\"yes\",\"32\":\"yes\",\"33\":\"yes\",\"34\":\"yes\",\"35\":\"yes\",\"36\":\"yes\",\"37\":\"no\",\"38\":\"yes\",\"39\":\"yes\",\"40\":\"yes\",\"41\":\"yes\",\"42\":\"yes\",\"43\":\"yes\",\"44\":\"yes\",\"45\":\"yes\",\"46\":\"yes\",\"47\":\"yes\",\"48\":\"yes\",\"49\":\"yes\",\"50\":\"yes\",\"51\":\"yes\",\"52\":\"no\",\"53\":\"yes\",\"54\":\"yes\",\"55\":\"yes\",\"56\":\"yes\",\"57\":\"yes\",\"58\":\"yes\",\"59\":\"yes\",\"60\":\"yes\",\"61\":\"yes\",\"62\":\"yes\",\"63\":\"yes\",\"64\":\"yes\",\"65\":\"yes\",\"66\":\"yes\",\"67\":\"yes\",\"68\":\"yes\",\"69\":\"yes\",\"70\":\"yes\",\"71\":\"yes\",\"72\":\"yes\",\"73\":\"yes\",\"74\":\"yes\",\"75\":\"yes\",\"76\":\"yes\",\"77\":\"yes\",\"78\":\"no\",\"79\":\"yes\",\"80\":\"yes\",\"81\":\"yes\",\"82\":\"yes\",\"83\":\"yes\",\"84\":\"yes\",\"85\":\"yes\",\"86\":\"yes\",\"87\":\"yes\",\"88\":\"yes\",\"89\":\"yes\",\"90\":\"yes\",\"91\":\"yes\",\"92\":\"yes\",\"93\":\"yes\",\"94\":\"yes\",\"95\":\"yes\",\"96\":\"yes\",\"97\":\"yes\",\"98\":\"yes\",\"99\":\"yes\",\"100\":\"yes\",\"101\":\"yes\",\"102\":\"yes\",\"103\":\"yes\",\"104\":\"yes\",\"105\":\"yes\",\"106\":\"yes\",\"107\":\"yes\",\"108\":\"yes\",\"109\":\"yes\",\"110\":\"yes\",\"111\":\"yes\",\"112\":\"yes\",\"113\":\"yes\",\"114\":\"yes\",\"115\":\"no\",\"116\":\"yes\",\"117\":\"yes\",\"118\":\"yes\",\"119\":\"yes\",\"120\":\"yes\",\"121\":\"yes\",\"122\":\"yes\",\"123\":\"yes\",\"124\":\"yes\",\"125\":\"yes\",\"126\":\"no\",\"127\":\"yes\",\"128\":\"yes\",\"129\":\"yes\",\"130\":\"yes\",\"131\":\"yes\",\"132\":\"yes\",\"133\":\"yes\",\"134\":\"yes\",\"135\":\"yes\",\"136\":\"yes\",\"137\":\"yes\",\"138\":\"yes\",\"139\":\"yes\",\"140\":\"yes\",\"141\":\"yes\",\"142\":\"yes\",\"143\":\"yes\",\"144\":\"yes\",\"145\":\"yes\",\"146\":\"yes\",\"147\":\"yes\",\"148\":\"yes\",\"149\":\"yes\",\"150\":\"yes\",\"151\":\"yes\",\"152\":\"yes\",\"153\":\"yes\",\"154\":\"yes\",\"155\":\"yes\",\"156\":\"yes\",\"157\":\"yes\",\"158\":\"yes\",\"159\":\"yes\",\"160\":\"yes\",\"161\":\"yes\",\"162\":\"yes\",\"163\":\"yes\",\"164\":\"yes\",\"165\":\"yes\",\"166\":\"yes\",\"167\":\"yes\",\"168\":\"yes\",\"169\":\"yes\",\"170\":\"no\",\"171\":\"yes\",\"172\":\"yes\",\"173\":\"yes\",\"174\":\"yes\",\"175\":\"yes\",\"176\":\"yes\",\"177\":\"yes\",\"178\":\"yes\",\"179\":\"yes\",\"180\":\"yes\",\"181\":\"yes\",\"182\":\"yes\",\"183\":\"yes\",\"184\":\"yes\",\"185\":\"yes\",\"186\":\"yes\",\"187\":\"yes\",\"188\":\"yes\",\"189\":\"yes\",\"190\":\"yes\",\"191\":\"yes\",\"192\":\"yes\",\"193\":\"yes\",\"194\":\"yes\",\"195\":\"yes\",\"196\":\"yes\",\"197\":\"yes\",\"198\":\"yes\",\"199\":\"yes\",\"200\":\"yes\",\"201\":\"yes\",\"202\":\"yes\",\"203\":\"yes\",\"204\":\"yes\",\"205\":\"yes\",\"206\":\"yes\",\"207\":\"yes\",\"208\":\"yes\",\"209\":\"yes\",\"210\":\"yes\",\"211\":\"yes\",\"212\":\"yes\",\"213\":\"yes\",\"214\":\"yes\",\"215\":\"yes\",\"216\":\"yes\",\"217\":\"yes\",\"218\":\"yes\",\"219\":\"yes\",\"220\":\"yes\",\"221\":\"yes\",\"222\":\"yes\",\"223\":\"yes\",\"224\":\"yes\"},\"R2: User account still exists\":{\"0\":\"yes\",\"1\":\"yes\",\"2\":\"yes\",\"3\":\"yes\",\"4\":\"yes\",\"5\":\"yes\",\"6\":\"no\",\"7\":\"yes\",\"8\":\"yes\",\"9\":\"yes\",\"10\":\"yes\",\"11\":\"yes\",\"12\":\"yes\",\"13\":\"yes\",\"14\":\"yes\",\"15\":\"yes\",\"16\":null,\"17\":\"yes\",\"18\":\"yes\",\"19\":\"no\",\"20\":\"yes\",\"21\":\"no\",\"22\":\"yes\",\"23\":\"yes\",\"24\":\"no\",\"25\":\"yes\",\"26\":\"no\",\"27\":\"no\",\"28\":\"yes\",\"29\":\"yes\",\"30\":\"yes\",\"31\":\"yes\",\"32\":\"yes\",\"33\":\"yes\",\"34\":\"yes\",\"35\":\"no\",\"36\":\"yes\",\"37\":\"no\",\"38\":\"yes\",\"39\":\"yes\",\"40\":\"yes\",\"41\":\"no\",\"42\":null,\"43\":\"yes\",\"44\":\"yes\",\"45\":\"yes\",\"46\":\"yes\",\"47\":\"yes\",\"48\":\"yes\",\"49\":\"yes\",\"50\":\"yes\",\"51\":\"yes\",\"52\":\"no\",\"53\":\"yes\",\"54\":\"yes\",\"55\":\"yes\",\"56\":\"yes\",\"57\":\"yes\",\"58\":\"yes\",\"59\":\"yes\",\"60\":\"yes\",\"61\":\"yes\",\"62\":\"yes\",\"63\":\"no\",\"64\":\"yes\",\"65\":\"yes\",\"66\":\"yes\",\"67\":\"yes\",\"68\":\"yes\",\"69\":\"yes\",\"70\":\"yes\",\"71\":\"yes\",\"72\":\"yes\",\"73\":\"yes\",\"74\":\"no\",\"75\":\"yes\",\"76\":\"yes\",\"77\":\"no\",\"78\":\"no\",\"79\":\"yes\",\"80\":\"yes\",\"81\":\"yes\",\"82\":\"yes\",\"83\":\"no\",\"84\":\"yes\",\"85\":\"yes\",\"86\":\"yes\",\"87\":\"yes\",\"88\":\"yes\",\"89\":\"yes\",\"90\":\"yes\",\"91\":\"yes\",\"92\":\"no\",\"93\":\"yes\",\"94\":\"yes\",\"95\":\"yes\",\"96\":\"yes\",\"97\":\"yes\",\"98\":\"no\",\"99\":\"yes\",\"100\":\"yes\",\"101\":\"yes\",\"102\":\"yes\",\"103\":\"yes\",\"104\":\"yes\",\"105\":\"no\",\"106\":\"yes\",\"107\":\"no\",\"108\":\"yes\",\"109\":\"yes\",\"110\":\"yes\",\"111\":\"yes\",\"112\":\"yes\",\"113\":\"no\",\"114\":\"yes\",\"115\":\"no\",\"116\":\"yes\",\"117\":\"no\",\"118\":\"yes\",\"119\":\"yes\",\"120\":\"yes\",\"121\":\"yes\",\"122\":\"no\",\"123\":\"no\",\"124\":\"yes\",\"125\":\"yes\",\"126\":null,\"127\":\"no\",\"128\":\"yes\",\"129\":\"yes\",\"130\":\"yes\",\"131\":\"yes\",\"132\":\"no\",\"133\":\"yes\",\"134\":\"no\",\"135\":\"no\",\"136\":null,\"137\":\"yes\",\"138\":\"no\",\"139\":\"yes\",\"140\":\"yes\",\"141\":\"yes\",\"142\":\"yes\",\"143\":null,\"144\":\"yes\",\"145\":\"yes\",\"146\":\"yes\",\"147\":\"yes\",\"148\":\"yes\",\"149\":\"no\",\"150\":\"no\",\"151\":\"yes\",\"152\":\"no\",\"153\":\"no\",\"154\":\"yes\",\"155\":\"yes\",\"156\":\"yes\",\"157\":\"yes\",\"158\":\"yes\",\"159\":\"yes\",\"160\":\"no\",\"161\":\"no\",\"162\":\"yes\",\"163\":\"yes\",\"164\":null,\"165\":\"yes\",\"166\":\"no\",\"167\":\"yes\",\"168\":\"no\",\"169\":\"yes\",\"170\":\"no\",\"171\":\"yes\",\"172\":\"yes\",\"173\":\"yes\",\"174\":\"yes\",\"175\":\"yes\",\"176\":\"no\",\"177\":\"no\",\"178\":\"yes\",\"179\":\"yes\",\"180\":\"no\",\"181\":\"no\",\"182\":\"yes\",\"183\":\"no\",\"184\":\"yes\",\"185\":\"yes\",\"186\":\"yes\",\"187\":\"yes\",\"188\":null,\"189\":null,\"190\":\"yes\",\"191\":\"yes\",\"192\":\"yes\",\"193\":\"yes\",\"194\":\"yes\",\"195\":\"yes\",\"196\":\"yes\",\"197\":\"yes\",\"198\":\"yes\",\"199\":\"no\",\"200\":\"yes\",\"201\":\"yes\",\"202\":\"yes\",\"203\":\"yes\",\"204\":\"yes\",\"205\":\"yes\",\"206\":\"yes\",\"207\":\"yes\",\"208\":\"no\",\"209\":\"no\",\"210\":\"yes\",\"211\":\"yes\",\"212\":\"yes\",\"213\":\"yes\",\"214\":\"no\",\"215\":\"yes\",\"216\":\"yes\",\"217\":\"yes\",\"218\":\"yes\",\"219\":\"yes\",\"220\":\"no\",\"221\":\"yes\",\"222\":\"yes\",\"223\":\"no\",\"224\":\"yes\"},\"R2: Response duration (in days)\":{\"0\":null,\"1\":1.0,\"2\":1.0,\"3\":2.0,\"4\":1.0,\"5\":7.0,\"6\":1.0,\"7\":1.0,\"8\":1.0,\"9\":1.0,\"10\":1.0,\"11\":2.0,\"12\":9.0,\"13\":2.0,\"14\":5.0,\"15\":1.0,\"16\":9.0,\"17\":1.0,\"18\":null,\"19\":null,\"20\":14.0,\"21\":1.0,\"22\":1.0,\"23\":4.0,\"24\":1.0,\"25\":null,\"26\":null,\"27\":4.0,\"28\":14.0,\"29\":null,\"30\":9.0,\"31\":null,\"32\":7.0,\"33\":8.0,\"34\":null,\"35\":2.0,\"36\":1.0,\"37\":null,\"38\":7.0,\"39\":3.0,\"40\":2.0,\"41\":1.0,\"42\":2.0,\"43\":11.0,\"44\":3.0,\"45\":2.0,\"46\":2.0,\"47\":1.0,\"48\":1.0,\"49\":1.0,\"50\":null,\"51\":1.0,\"52\":6.0,\"53\":14.0,\"54\":7.0,\"55\":1.0,\"56\":null,\"57\":14.0,\"58\":16.0,\"59\":2.0,\"60\":2.0,\"61\":1.0,\"62\":0.0,\"63\":1.0,\"64\":14.0,\"65\":2.0,\"66\":1.0,\"67\":1.0,\"68\":1.0,\"69\":2.0,\"70\":1.0,\"71\":10.0,\"72\":null,\"73\":2.0,\"74\":null,\"75\":null,\"76\":7.0,\"77\":null,\"78\":null,\"79\":null,\"80\":1.0,\"81\":null,\"82\":4.0,\"83\":2.0,\"84\":0.0,\"85\":3.0,\"86\":1.0,\"87\":0.0,\"88\":4.0,\"89\":3.0,\"90\":17.0,\"91\":null,\"92\":1.0,\"93\":2.0,\"94\":9.0,\"95\":9.0,\"96\":1.0,\"97\":2.0,\"98\":2.0,\"99\":1.0,\"100\":1.0,\"101\":1.0,\"102\":1.0,\"103\":1.0,\"104\":1.0,\"105\":10.0,\"106\":8.0,\"107\":1.0,\"108\":14.0,\"109\":1.0,\"110\":null,\"111\":29.0,\"112\":4.0,\"113\":1.0,\"114\":2.0,\"115\":null,\"116\":null,\"117\":1.0,\"118\":1.0,\"119\":1.0,\"120\":null,\"121\":3.0,\"122\":null,\"123\":1.0,\"124\":3.0,\"125\":1.0,\"126\":1.0,\"127\":14.0,\"128\":null,\"129\":1.0,\"130\":7.0,\"131\":7.0,\"132\":1.0,\"133\":14.0,\"134\":1.0,\"135\":null,\"136\":1.0,\"137\":3.0,\"138\":null,\"139\":5.0,\"140\":1.0,\"141\":1.0,\"142\":11.0,\"143\":1.0,\"144\":1.0,\"145\":1.0,\"146\":null,\"147\":1.0,\"148\":1.0,\"149\":1.0,\"150\":1.0,\"151\":16.0,\"152\":1.0,\"153\":2.0,\"154\":null,\"155\":2.0,\"156\":1.0,\"157\":3.0,\"158\":2.0,\"159\":15.0,\"160\":1.0,\"161\":2.0,\"162\":1.0,\"163\":0.0,\"164\":11.0,\"165\":1.0,\"166\":null,\"167\":8.0,\"168\":1.0,\"169\":1.0,\"170\":null,\"171\":5.0,\"172\":1.0,\"173\":3.0,\"174\":null,\"175\":1.0,\"176\":null,\"177\":7.0,\"178\":10.0,\"179\":8.0,\"180\":2.0,\"181\":null,\"182\":10.0,\"183\":1.0,\"184\":3.0,\"185\":1.0,\"186\":null,\"187\":1.0,\"188\":1.0,\"189\":0.0,\"190\":null,\"191\":1.0,\"192\":1.0,\"193\":1.0,\"194\":10.0,\"195\":1.0,\"196\":null,\"197\":null,\"198\":14.0,\"199\":null,\"200\":1.0,\"201\":0.0,\"202\":1.0,\"203\":1.0,\"204\":1.0,\"205\":4.0,\"206\":null,\"207\":2.0,\"208\":1.0,\"209\":1.0,\"210\":14.0,\"211\":7.0,\"212\":1.0,\"213\":4.0,\"214\":1.0,\"215\":null,\"216\":7.0,\"217\":1.0,\"218\":4.0,\"219\":1.0,\"220\":null,\"221\":1.0,\"222\":1.0,\"223\":1.0,\"224\":11.0},\"R2: Assigned codes\":{\"0\":\"NOREPLY\",\"1\":\"en data dt8\",\"2\":\"de data dt8 uod\",\"3\":\"de data dt4 p2 uod\",\"4\":\"en authS bfa data dt2\",\"5\":\"de data dt7\",\"6\":\"en dis nd1\",\"7\":\"en authS bfa data dt1 uod\",\"8\":\"de unrel\",\"9\":\"en f2 nd1\",\"10\":\"en data dt8\",\"11\":\"de dt7 p1 uod\",\"12\":\"en data dt4 uod\",\"13\":\"de data dt1 exp p2\",\"14\":\"de data dt8\",\"15\":\"de data dt10\",\"16\":\"de nd2\",\"17\":\"de f2 nd1\",\"18\":\"NOREPLY\",\"19\":\"NOREPLY\",\"20\":\"de data dt4 nds\",\"21\":\"de nd1\",\"22\":\"de f2 nd1\",\"23\":\"en authS data dt2\",\"24\":\"en dis nd1 nds\",\"25\":\"NOREPLY\",\"26\":\"NOREPLY\",\"27\":\"de nd1\",\"28\":\"de data dt8\",\"29\":\"NOREPLY\",\"30\":\"en f2 nd1\",\"31\":\"NOREPLY\",\"32\":\"en data dt1 uod\",\"33\":\"en f2 nd1\",\"34\":\"NOREPLY\",\"35\":\"en nd1\",\"36\":\"en data dt7\",\"37\":\"UNREACHABLE\",\"38\":\"de data dt8 uod\",\"39\":\"de data dt7 nds uod\",\"40\":\"de data dt7 pw uod\",\"41\":\"de nd2\",\"42\":\"de nd2\",\"43\":\"de data dt8 uod\",\"44\":\"en authS data dt2\",\"45\":\"en f2 nd1\",\"46\":\"en data dt8 f1\",\"47\":\"en data dt4\",\"48\":\"de data dt7\",\"49\":\"de data dt8 uod\",\"50\":\"NOREPLY\",\"51\":\"de data dt8\",\"52\":\"en data dt8\",\"53\":\"de data dt8 uod\",\"54\":\"en f2 nd1\",\"55\":\"en data dt8\",\"56\":\"NOREPLY\",\"57\":\"de f2 nd1\",\"58\":\"en f3\",\"59\":\"en data dt4 uod\",\"60\":\"de data dt7\",\"61\":\"de data dt7 uod\",\"62\":\"en unrel\",\"63\":\"de nd2\",\"64\":\"de data dt8 uod\",\"65\":\"en unrel\",\"66\":\"en data dt7\",\"67\":\"en p1\",\"68\":\"de data dt8 p2 uod\",\"69\":\"en authS data dt3 p2\",\"70\":\"en authIN data dt8\",\"71\":\"de data dt9\",\"72\":\"NOREPLY\",\"73\":\"de data dt1 uod\",\"74\":\"NOREPLY\",\"75\":\"NOREPLY\",\"76\":\"de data dt7 p2\",\"77\":\"NOREPLY\",\"78\":\"NOREPLY\",\"79\":\"NOREPLY\",\"80\":\"de authID data dt10\",\"81\":\"NOREPLY\",\"82\":\"de f2 nd1\",\"83\":\"en nd1\",\"84\":\"en unrel\",\"85\":\"en data dt1\",\"86\":\"en p1\",\"87\":\"en unrel\",\"88\":\"en p3\",\"89\":\"en data dt8\",\"90\":\"en data dt8 uod\",\"91\":\"NOREPLY\",\"92\":\"en data del desp dt8 p2\",\"93\":\"en authID data dt4\",\"94\":\"de data dt8 uod\",\"95\":\"de p1\",\"96\":\"de p1 uod\",\"97\":\"de data dt5 p2\",\"98\":\"en nd1\",\"99\":\"de p7 stor\",\"100\":\"en data dt7 uod\",\"101\":\"de f3\",\"102\":\"en data dt8 uod\",\"103\":\"en data dt7 uod\",\"104\":\"en p1\",\"105\":\"de nd1\",\"106\":\"de data dt10 nds uod\",\"107\":\"en nd1\",\"108\":\"de data dt4 uod\",\"109\":\"de data dt8 uod\",\"110\":\"UNREACHABLE\",\"111\":\"en data dt8 uod\",\"112\":\"en authIN data dt7\",\"113\":\"en nd2\",\"114\":\"de data dt8\",\"115\":\"NOREPLY\",\"116\":\"NOREPLY\",\"117\":\"en nd2\",\"118\":\"en authO data dt3 nds\",\"119\":\"en unrel\",\"120\":\"NOREPLY\",\"121\":\"de data dt1 p2\",\"122\":\"NOREPLY\",\"123\":\"en nd1\",\"124\":\"en data dt1 dt3 p2 uod\",\"125\":\"en f2 nd1\",\"126\":\"de dis nd1\",\"127\":\"de data desp dt8\",\"128\":\"NOREPLY\",\"129\":\"en unrel\",\"130\":\"de data dt8 uod\",\"131\":\"en data dt8 p2\",\"132\":\"de data del desp dt7\",\"133\":\"de data dt1\",\"134\":\"en nd1\",\"135\":\"NOREPLY\",\"136\":\"de nd1\",\"137\":\"en f2 nd1\",\"138\":\"NOREPLY\",\"139\":\"en p6\",\"140\":\"en p1\",\"141\":\"en f2 nd1\",\"142\":\"de data dt8\",\"143\":\"en nd1\",\"144\":\"en data dt1 p2 uod\",\"145\":\"en data dt2\",\"146\":\"NOREPLY\",\"147\":\"de data dt1 dt4 p2 uod\",\"148\":\"fgn p4\",\"149\":\"en nd2\",\"150\":\"en unrel\",\"151\":\"en data dt2\",\"152\":\"en nd1\",\"153\":\"de dis f2 nd1\",\"154\":\"UNREACHABLE\",\"155\":\"de authID data dt4\",\"156\":\"en authS bfa data dt4\",\"157\":\"de data dt8 nds uod\",\"158\":\"en data dt9 p2\",\"159\":\"de data dt4\",\"160\":\"en del nd1\",\"161\":\"en nd2\",\"162\":\"de authID data dt8 uod\",\"163\":\"en unrel\",\"164\":\"en nd2\",\"165\":\"de data dt8\",\"166\":\"NOREPLY\",\"167\":\"de data dt8\",\"168\":\"en nd2\",\"169\":\"en p1\",\"170\":\"NOREPLY\",\"171\":\"en p1 uod\",\"172\":\"en data dt8\",\"173\":\"en f2 nd1\",\"174\":\"NOREPLY\",\"175\":\"de f2 nd1\",\"176\":\"UNREACHABLE\",\"177\":\"de unrel\",\"178\":\"de data dt4\",\"179\":\"de data dt8\",\"180\":\"en nd2\",\"181\":\"NOREPLY\",\"182\":\"en data dt4 pw\",\"183\":\"de nd1\",\"184\":\"en p1\",\"185\":\"en stor uod\",\"186\":\"NOREPLY\",\"187\":\"de data dt9\",\"188\":\"en nd2\",\"189\":\"en nd1\",\"190\":\"NOREPLY\",\"191\":\"de authS data dt4\",\"192\":\"de data dt8\",\"193\":\"de data dt7 dt9\",\"194\":\"de data dt8 uod\",\"195\":\"de data dt8 nds\",\"196\":\"NOREPLY\",\"197\":\"UNREACHABLE\",\"198\":\"en authID data dt4 exp pw\",\"199\":\"UNREACHABLE\",\"200\":\"en f2 nd1\",\"201\":\"en p3\",\"202\":\"en f2 nd1\",\"203\":\"de data dt4 uod\",\"204\":\"de data dt8\",\"205\":\"en f2 nd1\",\"206\":\"NOREPLY\",\"207\":\"de f2 nd1\",\"208\":\"en del nd1\",\"209\":\"de nd2\",\"210\":\"de data dt8 nds\",\"211\":\"de data dt3 nds p2 uod\",\"212\":\"de data dt9 uod\",\"213\":\"de data dt8 uod\",\"214\":\"en dis f2 nd1\",\"215\":\"NOREPLY\",\"216\":\"de f2 nd1\",\"217\":\"de data dt8 uod\",\"218\":\"de data dt7 uod\",\"219\":\"de data dt8 uod\",\"220\":\"NOREPLY\",\"221\":\"de p1\",\"222\":\"de data dt8\",\"223\":\"en nd1\",\"224\":\"en data dt10\"},\"R2: TLS encryption\":{\"0\":null,\"1\":\"yes\",\"2\":\"yes\",\"3\":\"yes\",\"4\":\"yes\",\"5\":\"yes\",\"6\":\"yes\",\"7\":\"yes\",\"8\":\"yes\",\"9\":\"yes\",\"10\":\"yes\",\"11\":\"yes\",\"12\":\"yes\",\"13\":\"yes\",\"14\":\"yes\",\"15\":\"yes\",\"16\":\"yes\",\"17\":\"yes\",\"18\":null,\"19\":null,\"20\":\"no\",\"21\":\"yes\",\"22\":\"yes\",\"23\":\"yes\",\"24\":\"yes\",\"25\":null,\"26\":null,\"27\":\"yes\",\"28\":\"yes\",\"29\":null,\"30\":\"no\",\"31\":null,\"32\":\"yes\",\"33\":\"yes\",\"34\":null,\"35\":\"yes\",\"36\":\"yes\",\"37\":null,\"38\":\"yes\",\"39\":\"yes\",\"40\":\"yes\",\"41\":\"yes\",\"42\":\"yes\",\"43\":\"yes\",\"44\":\"yes\",\"45\":\"yes\",\"46\":\"yes\",\"47\":\"yes\",\"48\":\"yes\",\"49\":\"yes\",\"50\":null,\"51\":\"yes\",\"52\":\"yes\",\"53\":\"yes\",\"54\":\"yes\",\"55\":\"yes\",\"56\":null,\"57\":\"yes\",\"58\":\"yes\",\"59\":\"yes\",\"60\":\"yes\",\"61\":\"yes\",\"62\":\"yes\",\"63\":\"yes\",\"64\":\"yes\",\"65\":\"yes\",\"66\":\"yes\",\"67\":\"yes\",\"68\":\"yes\",\"69\":\"yes\",\"70\":\"yes\",\"71\":\"yes\",\"72\":null,\"73\":\"yes\",\"74\":null,\"75\":null,\"76\":\"yes\",\"77\":null,\"78\":null,\"79\":null,\"80\":\"yes\",\"81\":null,\"82\":\"yes\",\"83\":\"yes\",\"84\":\"yes\",\"85\":\"yes\",\"86\":\"no\",\"87\":\"yes\",\"88\":\"yes\",\"89\":\"yes\",\"90\":\"yes\",\"91\":null,\"92\":\"yes\",\"93\":\"yes\",\"94\":\"yes\",\"95\":\"yes\",\"96\":\"yes\",\"97\":\"yes\",\"98\":\"yes\",\"99\":\"yes\",\"100\":\"yes\",\"101\":\"yes\",\"102\":\"yes\",\"103\":\"yes\",\"104\":\"yes\",\"105\":\"yes\",\"106\":\"yes\",\"107\":\"yes\",\"108\":\"yes\",\"109\":\"yes\",\"110\":null,\"111\":\"yes\",\"112\":\"yes\",\"113\":\"yes\",\"114\":\"yes\",\"115\":null,\"116\":null,\"117\":\"yes\",\"118\":\"yes\",\"119\":\"yes\",\"120\":null,\"121\":\"yes\",\"122\":null,\"123\":\"yes\",\"124\":\"yes\",\"125\":\"yes\",\"126\":\"no\",\"127\":\"yes\",\"128\":null,\"129\":\"yes\",\"130\":\"yes\",\"131\":\"yes\",\"132\":\"yes\",\"133\":\"yes\",\"134\":\"yes\",\"135\":null,\"136\":\"yes\",\"137\":\"yes\",\"138\":null,\"139\":\"yes\",\"140\":\"yes\",\"141\":\"yes\",\"142\":\"yes\",\"143\":\"yes\",\"144\":\"yes\",\"145\":\"yes\",\"146\":null,\"147\":\"yes\",\"148\":\"yes\",\"149\":\"yes\",\"150\":\"no\",\"151\":\"yes\",\"152\":\"yes\",\"153\":\"yes\",\"154\":null,\"155\":\"yes\",\"156\":\"yes\",\"157\":\"yes\",\"158\":\"yes\",\"159\":\"yes\",\"160\":\"yes\",\"161\":\"yes\",\"162\":\"yes\",\"163\":\"no\",\"164\":\"yes\",\"165\":\"yes\",\"166\":null,\"167\":\"yes\",\"168\":\"yes\",\"169\":\"yes\",\"170\":null,\"171\":\"yes\",\"172\":\"yes\",\"173\":\"yes\",\"174\":null,\"175\":\"yes\",\"176\":null,\"177\":\"yes\",\"178\":\"yes\",\"179\":\"yes\",\"180\":\"yes\",\"181\":null,\"182\":\"yes\",\"183\":\"yes\",\"184\":\"yes\",\"185\":\"yes\",\"186\":null,\"187\":\"yes\",\"188\":\"yes\",\"189\":\"yes\",\"190\":null,\"191\":\"yes\",\"192\":\"yes\",\"193\":\"yes\",\"194\":\"yes\",\"195\":\"yes\",\"196\":null,\"197\":null,\"198\":\"yes\",\"199\":null,\"200\":\"yes\",\"201\":\"yes\",\"202\":\"yes\",\"203\":\"yes\",\"204\":\"yes\",\"205\":\"yes\",\"206\":null,\"207\":\"yes\",\"208\":\"yes\",\"209\":\"yes\",\"210\":\"yes\",\"211\":\"yes\",\"212\":\"yes\",\"213\":\"yes\",\"214\":\"yes\",\"215\":null,\"216\":\"yes\",\"217\":\"yes\",\"218\":\"yes\",\"219\":\"yes\",\"220\":null,\"221\":\"yes\",\"222\":\"yes\",\"223\":\"yes\",\"224\":\"yes\"},\"R3: App still exists\":{\"0\":\"yes\",\"1\":\"yes\",\"2\":\"yes\",\"3\":\"yes\",\"4\":\"yes\",\"5\":\"no\",\"6\":\"no\",\"7\":\"yes\",\"8\":\"yes\",\"9\":\"yes\",\"10\":\"yes\",\"11\":\"yes\",\"12\":\"yes\",\"13\":\"yes\",\"14\":\"yes\",\"15\":\"no\",\"16\":\"no\",\"17\":\"yes\",\"18\":\"no\",\"19\":\"no\",\"20\":\"yes\",\"21\":\"yes\",\"22\":\"yes\",\"23\":\"yes\",\"24\":\"no\",\"25\":\"yes\",\"26\":\"no\",\"27\":\"yes\",\"28\":\"yes\",\"29\":\"yes\",\"30\":\"yes\",\"31\":\"yes\",\"32\":\"yes\",\"33\":\"yes\",\"34\":\"yes\",\"35\":\"yes\",\"36\":\"yes\",\"37\":\"no\",\"38\":\"yes\",\"39\":\"yes\",\"40\":\"yes\",\"41\":\"yes\",\"42\":\"yes\",\"43\":\"yes\",\"44\":\"yes\",\"45\":\"yes\",\"46\":\"yes\",\"47\":\"yes\",\"48\":\"yes\",\"49\":\"yes\",\"50\":\"yes\",\"51\":\"yes\",\"52\":\"no\",\"53\":\"yes\",\"54\":\"yes\",\"55\":\"yes\",\"56\":\"yes\",\"57\":\"yes\",\"58\":\"yes\",\"59\":\"yes\",\"60\":\"yes\",\"61\":\"no\",\"62\":\"yes\",\"63\":\"yes\",\"64\":\"yes\",\"65\":\"yes\",\"66\":\"yes\",\"67\":\"yes\",\"68\":\"yes\",\"69\":\"yes\",\"70\":\"yes\",\"71\":\"yes\",\"72\":\"yes\",\"73\":\"yes\",\"74\":\"yes\",\"75\":\"yes\",\"76\":\"yes\",\"77\":\"yes\",\"78\":\"no\",\"79\":\"yes\",\"80\":\"yes\",\"81\":\"yes\",\"82\":\"yes\",\"83\":\"yes\",\"84\":\"yes\",\"85\":\"yes\",\"86\":\"yes\",\"87\":\"yes\",\"88\":\"yes\",\"89\":\"yes\",\"90\":\"yes\",\"91\":\"yes\",\"92\":\"yes\",\"93\":\"yes\",\"94\":\"yes\",\"95\":\"yes\",\"96\":\"yes\",\"97\":\"yes\",\"98\":\"no\",\"99\":\"yes\",\"100\":\"yes\",\"101\":\"yes\",\"102\":\"yes\",\"103\":\"yes\",\"104\":\"yes\",\"105\":\"no\",\"106\":\"yes\",\"107\":\"yes\",\"108\":\"yes\",\"109\":\"yes\",\"110\":\"yes\",\"111\":\"yes\",\"112\":\"yes\",\"113\":\"yes\",\"114\":\"yes\",\"115\":\"no\",\"116\":\"yes\",\"117\":\"yes\",\"118\":\"yes\",\"119\":\"yes\",\"120\":\"yes\",\"121\":\"no\",\"122\":\"yes\",\"123\":\"yes\",\"124\":\"yes\",\"125\":\"yes\",\"126\":\"no\",\"127\":\"yes\",\"128\":\"yes\",\"129\":\"yes\",\"130\":\"yes\",\"131\":\"yes\",\"132\":\"yes\",\"133\":\"yes\",\"134\":\"yes\",\"135\":\"yes\",\"136\":\"yes\",\"137\":\"yes\",\"138\":\"no\",\"139\":\"yes\",\"140\":\"yes\",\"141\":\"yes\",\"142\":\"yes\",\"143\":\"yes\",\"144\":\"yes\",\"145\":\"yes\",\"146\":\"yes\",\"147\":\"yes\",\"148\":\"yes\",\"149\":\"yes\",\"150\":\"yes\",\"151\":\"yes\",\"152\":\"yes\",\"153\":\"yes\",\"154\":\"yes\",\"155\":\"yes\",\"156\":\"yes\",\"157\":\"yes\",\"158\":\"yes\",\"159\":\"yes\",\"160\":\"yes\",\"161\":\"yes\",\"162\":\"yes\",\"163\":\"yes\",\"164\":\"yes\",\"165\":\"yes\",\"166\":\"yes\",\"167\":\"yes\",\"168\":\"yes\",\"169\":\"yes\",\"170\":\"no\",\"171\":\"yes\",\"172\":\"yes\",\"173\":\"yes\",\"174\":\"yes\",\"175\":\"yes\",\"176\":\"no\",\"177\":\"yes\",\"178\":\"yes\",\"179\":\"yes\",\"180\":\"yes\",\"181\":\"yes\",\"182\":\"yes\",\"183\":\"yes\",\"184\":\"yes\",\"185\":\"yes\",\"186\":\"yes\",\"187\":\"yes\",\"188\":\"yes\",\"189\":\"yes\",\"190\":\"yes\",\"191\":\"yes\",\"192\":\"yes\",\"193\":\"yes\",\"194\":\"yes\",\"195\":\"yes\",\"196\":\"yes\",\"197\":\"yes\",\"198\":\"yes\",\"199\":\"yes\",\"200\":\"yes\",\"201\":\"yes\",\"202\":\"yes\",\"203\":\"yes\",\"204\":\"yes\",\"205\":\"yes\",\"206\":\"yes\",\"207\":\"yes\",\"208\":\"yes\",\"209\":\"yes\",\"210\":\"yes\",\"211\":\"yes\",\"212\":\"yes\",\"213\":\"yes\",\"214\":\"no\",\"215\":\"yes\",\"216\":\"yes\",\"217\":\"yes\",\"218\":\"yes\",\"219\":\"yes\",\"220\":\"yes\",\"221\":\"yes\",\"222\":\"yes\",\"223\":\"yes\",\"224\":\"yes\"},\"R3: User account still exists\":{\"0\":\"yes\",\"1\":\"yes\",\"2\":\"yes\",\"3\":\"yes\",\"4\":\"yes\",\"5\":\"no\",\"6\":\"no\",\"7\":\"yes\",\"8\":\"yes\",\"9\":\"yes\",\"10\":\"yes\",\"11\":\"no\",\"12\":\"yes\",\"13\":\"yes\",\"14\":\"yes\",\"15\":\"no\",\"16\":null,\"17\":\"yes\",\"18\":\"no\",\"19\":\"no\",\"20\":\"yes\",\"21\":\"no\",\"22\":\"yes\",\"23\":\"yes\",\"24\":\"no\",\"25\":\"yes\",\"26\":\"no\",\"27\":\"no\",\"28\":\"yes\",\"29\":\"yes\",\"30\":\"yes\",\"31\":\"yes\",\"32\":\"yes\",\"33\":\"yes\",\"34\":\"yes\",\"35\":\"no\",\"36\":\"yes\",\"37\":\"no\",\"38\":\"yes\",\"39\":\"yes\",\"40\":\"yes\",\"41\":\"no\",\"42\":null,\"43\":\"yes\",\"44\":\"yes\",\"45\":\"yes\",\"46\":\"yes\",\"47\":\"yes\",\"48\":\"no\",\"49\":\"yes\",\"50\":\"yes\",\"51\":\"yes\",\"52\":\"no\",\"53\":\"yes\",\"54\":\"yes\",\"55\":\"yes\",\"56\":\"yes\",\"57\":\"no\",\"58\":\"yes\",\"59\":\"yes\",\"60\":\"yes\",\"61\":\"no\",\"62\":\"yes\",\"63\":\"no\",\"64\":\"yes\",\"65\":\"no\",\"66\":\"yes\",\"67\":\"no\",\"68\":\"yes\",\"69\":\"yes\",\"70\":\"yes\",\"71\":\"no\",\"72\":\"yes\",\"73\":\"yes\",\"74\":\"no\",\"75\":\"yes\",\"76\":\"yes\",\"77\":\"no\",\"78\":\"no\",\"79\":\"yes\",\"80\":\"yes\",\"81\":\"yes\",\"82\":\"yes\",\"83\":\"no\",\"84\":\"yes\",\"85\":\"yes\",\"86\":\"yes\",\"87\":\"yes\",\"88\":\"yes\",\"89\":\"yes\",\"90\":\"yes\",\"91\":\"yes\",\"92\":\"no\",\"93\":\"yes\",\"94\":\"yes\",\"95\":\"yes\",\"96\":\"yes\",\"97\":\"yes\",\"98\":\"no\",\"99\":\"yes\",\"100\":\"yes\",\"101\":\"yes\",\"102\":\"yes\",\"103\":\"yes\",\"104\":\"yes\",\"105\":\"no\",\"106\":\"yes\",\"107\":\"no\",\"108\":\"yes\",\"109\":\"yes\",\"110\":\"yes\",\"111\":\"yes\",\"112\":\"yes\",\"113\":\"no\",\"114\":\"yes\",\"115\":\"no\",\"116\":\"yes\",\"117\":\"no\",\"118\":\"yes\",\"119\":\"yes\",\"120\":\"yes\",\"121\":\"no\",\"122\":\"no\",\"123\":\"no\",\"124\":\"yes\",\"125\":\"yes\",\"126\":null,\"127\":\"no\",\"128\":\"yes\",\"129\":\"no\",\"130\":\"yes\",\"131\":\"yes\",\"132\":\"no\",\"133\":\"yes\",\"134\":\"no\",\"135\":\"no\",\"136\":null,\"137\":\"yes\",\"138\":\"no\",\"139\":\"yes\",\"140\":\"yes\",\"141\":\"yes\",\"142\":\"yes\",\"143\":null,\"144\":\"yes\",\"145\":\"yes\",\"146\":\"yes\",\"147\":\"yes\",\"148\":\"yes\",\"149\":\"no\",\"150\":\"no\",\"151\":\"yes\",\"152\":\"no\",\"153\":\"no\",\"154\":\"yes\",\"155\":\"yes\",\"156\":\"yes\",\"157\":\"yes\",\"158\":\"yes\",\"159\":\"yes\",\"160\":\"no\",\"161\":\"no\",\"162\":\"yes\",\"163\":\"yes\",\"164\":null,\"165\":\"yes\",\"166\":\"no\",\"167\":\"yes\",\"168\":\"no\",\"169\":\"yes\",\"170\":\"no\",\"171\":\"yes\",\"172\":\"yes\",\"173\":\"yes\",\"174\":\"yes\",\"175\":\"yes\",\"176\":\"no\",\"177\":\"no\",\"178\":\"yes\",\"179\":\"yes\",\"180\":\"no\",\"181\":\"no\",\"182\":\"yes\",\"183\":\"no\",\"184\":\"yes\",\"185\":\"yes\",\"186\":\"yes\",\"187\":\"yes\",\"188\":null,\"189\":null,\"190\":\"yes\",\"191\":\"yes\",\"192\":\"yes\",\"193\":\"yes\",\"194\":\"yes\",\"195\":\"yes\",\"196\":\"yes\",\"197\":\"yes\",\"198\":\"yes\",\"199\":\"no\",\"200\":\"yes\",\"201\":\"yes\",\"202\":\"yes\",\"203\":\"yes\",\"204\":\"yes\",\"205\":\"yes\",\"206\":\"yes\",\"207\":\"yes\",\"208\":\"no\",\"209\":\"no\",\"210\":\"yes\",\"211\":\"yes\",\"212\":\"yes\",\"213\":\"yes\",\"214\":\"no\",\"215\":\"yes\",\"216\":\"yes\",\"217\":\"yes\",\"218\":\"yes\",\"219\":\"yes\",\"220\":\"no\",\"221\":\"yes\",\"222\":\"yes\",\"223\":\"no\",\"224\":\"yes\"},\"R3: Response duration (in days)\":{\"0\":2.0,\"1\":2.0,\"2\":2.0,\"3\":2.0,\"4\":2.0,\"5\":null,\"6\":null,\"7\":0.0,\"8\":0.0,\"9\":0.0,\"10\":0.0,\"11\":5.0,\"12\":2.0,\"13\":2.0,\"14\":0.0,\"15\":0.0,\"16\":null,\"17\":3.0,\"18\":null,\"19\":null,\"20\":9.0,\"21\":1.0,\"22\":0.0,\"23\":2.0,\"24\":null,\"25\":0.0,\"26\":null,\"27\":5.0,\"28\":0.0,\"29\":null,\"30\":0.0,\"31\":null,\"32\":2.0,\"33\":2.0,\"34\":null,\"35\":null,\"36\":0.0,\"37\":null,\"38\":27.0,\"39\":2.0,\"40\":2.0,\"41\":0.0,\"42\":0.0,\"43\":2.0,\"44\":11.0,\"45\":3.0,\"46\":4.0,\"47\":0.0,\"48\":1.0,\"49\":null,\"50\":0.0,\"51\":null,\"52\":null,\"53\":null,\"54\":0.0,\"55\":3.0,\"56\":null,\"57\":7.0,\"58\":null,\"59\":5.0,\"60\":4.0,\"61\":0.0,\"62\":0.0,\"63\":27.0,\"64\":null,\"65\":null,\"66\":0.0,\"67\":4.0,\"68\":0.0,\"69\":2.0,\"70\":1.0,\"71\":null,\"72\":0.0,\"73\":0.0,\"74\":0.0,\"75\":null,\"76\":36.0,\"77\":null,\"78\":null,\"79\":null,\"80\":9.0,\"81\":4.0,\"82\":null,\"83\":10.0,\"84\":4.0,\"85\":2.0,\"86\":3.0,\"87\":0.0,\"88\":5.0,\"89\":null,\"90\":null,\"91\":null,\"92\":28.0,\"93\":0.0,\"94\":0.0,\"95\":0.0,\"96\":2.0,\"97\":19.0,\"98\":null,\"99\":2.0,\"100\":3.0,\"101\":1.0,\"102\":3.0,\"103\":4.0,\"104\":39.0,\"105\":1.0,\"106\":5.0,\"107\":27.0,\"108\":2.0,\"109\":2.0,\"110\":null,\"111\":0.0,\"112\":2.0,\"113\":null,\"114\":9.0,\"115\":null,\"116\":null,\"117\":0.0,\"118\":3.0,\"119\":2.0,\"120\":null,\"121\":null,\"122\":0.0,\"123\":null,\"124\":0.0,\"125\":0.0,\"126\":34.0,\"127\":5.0,\"128\":null,\"129\":0.0,\"130\":2.0,\"131\":2.0,\"132\":0.0,\"133\":27.0,\"134\":0.0,\"135\":null,\"136\":2.0,\"137\":2.0,\"138\":null,\"139\":null,\"140\":3.0,\"141\":6.0,\"142\":0.0,\"143\":null,\"144\":2.0,\"145\":0.0,\"146\":null,\"147\":3.0,\"148\":0.0,\"149\":1.0,\"150\":0.0,\"151\":3.0,\"152\":0.0,\"153\":8.0,\"154\":4.0,\"155\":0.0,\"156\":0.0,\"157\":0.0,\"158\":10.0,\"159\":1.0,\"160\":1.0,\"161\":2.0,\"162\":null,\"163\":0.0,\"164\":6.0,\"165\":0.0,\"166\":null,\"167\":13.0,\"168\":null,\"169\":6.0,\"170\":null,\"171\":0.0,\"172\":2.0,\"173\":1.0,\"174\":null,\"175\":null,\"176\":9.0,\"177\":7.0,\"178\":0.0,\"179\":9.0,\"180\":1.0,\"181\":null,\"182\":7.0,\"183\":null,\"184\":34.0,\"185\":null,\"186\":5.0,\"187\":2.0,\"188\":0.0,\"189\":6.0,\"190\":3.0,\"191\":0.0,\"192\":0.0,\"193\":16.0,\"194\":2.0,\"195\":3.0,\"196\":2.0,\"197\":null,\"198\":1.0,\"199\":null,\"200\":0.0,\"201\":3.0,\"202\":0.0,\"203\":null,\"204\":0.0,\"205\":2.0,\"206\":0.0,\"207\":3.0,\"208\":3.0,\"209\":1.0,\"210\":0.0,\"211\":null,\"212\":2.0,\"213\":5.0,\"214\":null,\"215\":0.0,\"216\":10.0,\"217\":2.0,\"218\":4.0,\"219\":2.0,\"220\":null,\"221\":1.0,\"222\":2.0,\"223\":5.0,\"224\":2.0},\"R3: Assigned codes\":{\"0\":\"de data ds1 dt7 uod\",\"1\":\"de f2 f3 nd1\",\"2\":\"de data dt8 uod\",\"3\":\"de authS data ds1 dt2 tra\",\"4\":\"en data ds1 dt1 dt5 exp p2 pw tra\",\"5\":\"UNREACHABLE\",\"6\":\"NOREPLY\",\"7\":\"en authS data dt2 uod\",\"8\":\"de nds p1\",\"9\":\"en p1\",\"10\":\"en ds1 p7 stor tra uod\",\"11\":\"de del ds1 f4 nd1\",\"12\":\"en data dt4 pw\",\"13\":\"de data ds1 dt1 exp p2\",\"14\":\"en data dt1 p2\",\"15\":\"de unrel\",\"16\":\"NOREPLY\",\"17\":\"de data ds1 dt4 p2 tra uod\",\"18\":\"UNREACHABLE\",\"19\":\"UNREACHABLE\",\"20\":\"de data dt4 nds\",\"21\":\"en unrel\",\"22\":\"de p1\",\"23\":\"de authS data dt2 uod\",\"24\":\"UNREACHABLE\",\"25\":\"en data dt1 nds\",\"26\":\"NOREPLY\",\"27\":\"de nd1\",\"28\":\"de p7 stor\",\"29\":\"UNREACHABLE\",\"30\":\"de en chgl\",\"31\":\"NOREPLY\",\"32\":\"en f3 p1 p7\",\"33\":\"en f2 f5 nd1\",\"34\":\"NOREPLY\",\"35\":\"NOREPLY\",\"36\":\"de data ds5 dt8 uod\",\"37\":\"UNREACHABLE\",\"38\":\"de data ds3 dt8\",\"39\":\"de data dt8 nds\",\"40\":\"de data dt8 nds pw uod\",\"41\":\"de nd2 nds\",\"42\":\"de nd2\",\"43\":\"de authS data dt4 p2\",\"44\":\"en authS data ds1 dt2 uod\",\"45\":\"en f2 nd1\",\"46\":\"en authS data dt4 stor\",\"47\":\"en unrel\",\"48\":\"de nd1\",\"49\":\"NOREPLY\",\"50\":\"de en chgl data dt3 p2\",\"51\":\"NOREPLY\",\"52\":\"NOREPLY\",\"53\":\"NOREPLY\",\"54\":\"en authS data dt1 p2 uod\",\"55\":\"en data dt6 exp pw\",\"56\":\"NOREPLY\",\"57\":\"de nd2 nds\",\"58\":\"NOREPLY\",\"59\":\"en data dt4 exp\",\"60\":\"de data dt3 nds p2\",\"61\":\"de dis nd1\",\"62\":\"en unrel\",\"63\":\"de nd1\",\"64\":\"NOREPLY\",\"65\":\"NOREPLY\",\"66\":\"en uod\",\"67\":\"en nd1\",\"68\":\"de data ds4 dt8 p2 tra uod\",\"69\":\"en data dt8 nds\",\"70\":\"en data ds4 dt8\",\"71\":\"NOREPLY\",\"72\":\"en p1\",\"73\":\"de data dt1 p2 uod\",\"74\":\"de nd1\",\"75\":\"NOREPLY\",\"76\":\"de data dt8 nds p2\",\"77\":\"NOREPLY\",\"78\":\"NOREPLY\",\"79\":\"NOREPLY\",\"80\":\"en authID data dt4 nds\",\"81\":\"en nds p1 uod\",\"82\":\"NOREPLY\",\"83\":\"en nd1\",\"84\":\"en data dt1 dt4 dt5\",\"85\":\"de unrel\",\"86\":\"en p6\",\"87\":\"en unrel\",\"88\":\"en f2 nd1\",\"89\":\"NOREPLY\",\"90\":\"NOREPLY\",\"91\":\"NOREPLY\",\"92\":\"en nd2 nds\",\"93\":\"en authID data ds1 dt1 dt4 p2 tra\",\"94\":\"de data dt7 nds\",\"95\":\"de p1\",\"96\":\"de data dt8 nds uod\",\"97\":\"en data dt4 p2 uod\",\"98\":\"NOREPLY\",\"99\":\"de data dt4\",\"100\":\"en authS data dt1 dt2 uod\",\"101\":\"de data dt8 nds uod\",\"102\":\"en data dt8 nds uod\",\"103\":\"en data dt5 nds uod\",\"104\":\"en stor uod\",\"105\":\"de dis nd1 nds\",\"106\":\"de data ds3 dt4\",\"107\":\"fgn p4\",\"108\":\"de data dt2 exp pw\",\"109\":\"de data dt1 dt7 nds\",\"110\":\"UNREACHABLE\",\"111\":\"en data dt8 uod\",\"112\":\"en nds p1 uod\",\"113\":\"NOREPLY\",\"114\":\"de data ds5 dt8\",\"115\":\"NOREPLY\",\"116\":\"NOREPLY\",\"117\":\"en f3 p5\",\"118\":\"en authID data ds1 dt3 p2\",\"119\":\"en p4 stor\",\"120\":\"NOREPLY\",\"121\":\"UNREACHABLE\",\"122\":\"en nd2\",\"123\":\"NOREPLY\",\"124\":\"en data dt1 nds p2 uod\",\"125\":\"en f3\",\"126\":\"de f5\",\"127\":\"de unrel\",\"128\":\"NOREPLY\",\"129\":\"en nd1\",\"130\":\"de data ds3 dt8 uod\",\"131\":\"en authS data ds1 dt1 dt3 p2 tra uod\",\"132\":\"de unrel\",\"133\":\"de data ds3 dt6\",\"134\":\"en nd1\",\"135\":\"NOREPLY\",\"136\":\"de nd1\",\"137\":\"en authS data ds2 dt5 p2 tra\",\"138\":\"NOREPLY\",\"139\":\"NOREPLY\",\"140\":\"en data dt8\",\"141\":\"en f2 nd1\",\"142\":\"de data ds5 dt3 exp\",\"143\":\"NOREPLY\",\"144\":\"en authS data dt1 nds uod\",\"145\":\"en p7 stor\",\"146\":\"NOREPLY\",\"147\":\"de data dt1 dt4 dt5 p2\",\"148\":\"fgn p4\",\"149\":\"en p4\",\"150\":\"en f5 p4\",\"151\":\"de authS data dt3 dt5 p2\",\"152\":\"en nd1\",\"153\":\"de dis f2 nd1 nds\",\"154\":\"en authS data dt2 uod\",\"155\":\"en unrel\",\"156\":\"en p4\",\"157\":\"de data dt4\",\"158\":\"en data ds3 dt1 p2 pw\",\"159\":\"de data ds3 dt4 pw\",\"160\":\"en nd1\",\"161\":\"de nd1\",\"162\":\"NOREPLY\",\"163\":\"en unrel\",\"164\":\"de nd2\",\"165\":\"de data ds3 dt8 tra\",\"166\":\"NOREPLY\",\"167\":\"de data ds1 dt4\",\"168\":\"NOREPLY\",\"169\":\"en data dt8 nds uod\",\"170\":\"NOREPLY\",\"171\":\"en p1\",\"172\":\"de authS data dt5\",\"173\":\"de en authS chgl data dt3\",\"174\":\"NOREPLY\",\"175\":\"NOREPLY\",\"176\":\"en dis nd1\",\"177\":\"de p6\",\"178\":\"de data ds2 dt4\",\"179\":\"de data dt8 nds uod\",\"180\":\"en unrel\",\"181\":\"NOREPLY\",\"182\":\"en data ds5 dt4 exp pw\",\"183\":\"NOREPLY\",\"184\":\"en data dt1\",\"185\":\"NOREPLY\",\"186\":\"en unrel\",\"187\":\"de data ds2 dt4 f4\",\"188\":\"de nd2\",\"189\":\"en nd1\",\"190\":\"en unrel\",\"191\":\"de unrel\",\"192\":\"de data dt8\",\"193\":\"de data ds2 dt9\",\"194\":\"de dis f2 nd1 nds\",\"195\":\"de data dt8 nds uod\",\"196\":\"de data dt8 nds uod\",\"197\":\"NOREPLY\",\"198\":\"en unrel\",\"199\":\"UNREACHABLE\",\"200\":\"fgn p4\",\"201\":\"en p6 stor\",\"202\":\"en unrel\",\"203\":\"NOREPLY\",\"204\":\"en f2 nd1\",\"205\":\"en authS data dt2 nds\",\"206\":\"en unrel\",\"207\":\"en authID data dt1\",\"208\":\"en nd1\",\"209\":\"de nd2\",\"210\":\"de data ds3 dt4 pw\",\"211\":\"NOREPLY\",\"212\":\"de data ds5 dt9 f4 uod\",\"213\":\"de data dt8 nds uod\",\"214\":\"NOREPLY\",\"215\":\"en f2 nd1\",\"216\":\"de f2 nd1\",\"217\":\"de data dt8\",\"218\":\"de data dt8 nds uod\",\"219\":\"de data dt8 nds uod\",\"220\":\"NOREPLY\",\"221\":\"de data ds2 dt2 dt4 exp pw\",\"222\":\"de data dt8 nds\",\"223\":\"en nd1\",\"224\":\"de p4 stor\"},\"R3: Reminder response status\":{\"0\":null,\"1\":null,\"2\":null,\"3\":null,\"4\":null,\"5\":null,\"6\":\"no reply\",\"7\":null,\"8\":null,\"9\":null,\"10\":null,\"11\":null,\"12\":null,\"13\":null,\"14\":null,\"15\":null,\"16\":\"no reply\",\"17\":null,\"18\":null,\"19\":null,\"20\":null,\"21\":null,\"22\":null,\"23\":null,\"24\":null,\"25\":null,\"26\":\"no reply\",\"27\":null,\"28\":null,\"29\":null,\"30\":null,\"31\":\"no reply\",\"32\":null,\"33\":null,\"34\":\"no reply\",\"35\":\"no reply\",\"36\":null,\"37\":null,\"38\":null,\"39\":null,\"40\":null,\"41\":null,\"42\":null,\"43\":null,\"44\":null,\"45\":null,\"46\":null,\"47\":null,\"48\":null,\"49\":\"responded\",\"50\":null,\"51\":\"no reply\",\"52\":\"no reply\",\"53\":\"no reply\",\"54\":null,\"55\":null,\"56\":\"responded\",\"57\":null,\"58\":\"no reply\",\"59\":null,\"60\":null,\"61\":null,\"62\":null,\"63\":null,\"64\":\"responded\",\"65\":\"no reply\",\"66\":null,\"67\":null,\"68\":null,\"69\":null,\"70\":null,\"71\":\"no reply\",\"72\":null,\"73\":null,\"74\":null,\"75\":\"no reply\",\"76\":null,\"77\":\"no reply\",\"78\":\"no reply\",\"79\":\"no reply\",\"80\":null,\"81\":null,\"82\":\"responded\",\"83\":null,\"84\":null,\"85\":null,\"86\":null,\"87\":null,\"88\":null,\"89\":\"responded\",\"90\":\"no reply\",\"91\":\"no reply\",\"92\":null,\"93\":null,\"94\":null,\"95\":null,\"96\":null,\"97\":null,\"98\":\"no reply\",\"99\":null,\"100\":null,\"101\":null,\"102\":null,\"103\":null,\"104\":null,\"105\":null,\"106\":null,\"107\":null,\"108\":null,\"109\":null,\"110\":null,\"111\":null,\"112\":null,\"113\":\"responded\",\"114\":null,\"115\":\"no reply\",\"116\":\"no reply\",\"117\":null,\"118\":null,\"119\":null,\"120\":\"no reply\",\"121\":null,\"122\":null,\"123\":\"responded\",\"124\":null,\"125\":null,\"126\":null,\"127\":null,\"128\":\"no reply\",\"129\":null,\"130\":null,\"131\":null,\"132\":null,\"133\":null,\"134\":null,\"135\":\"no reply\",\"136\":null,\"137\":null,\"138\":\"no reply\",\"139\":\"responded\",\"140\":null,\"141\":null,\"142\":null,\"143\":\"responded\",\"144\":null,\"145\":null,\"146\":\"no reply\",\"147\":null,\"148\":null,\"149\":null,\"150\":null,\"151\":null,\"152\":null,\"153\":null,\"154\":null,\"155\":null,\"156\":null,\"157\":null,\"158\":null,\"159\":null,\"160\":null,\"161\":null,\"162\":\"no reply\",\"163\":null,\"164\":null,\"165\":null,\"166\":\"no reply\",\"167\":null,\"168\":\"no reply\",\"169\":null,\"170\":\"no reply\",\"171\":null,\"172\":null,\"173\":null,\"174\":\"responded\",\"175\":\"no reply\",\"176\":null,\"177\":null,\"178\":null,\"179\":null,\"180\":null,\"181\":\"no reply\",\"182\":null,\"183\":\"no reply\",\"184\":null,\"185\":\"no reply\",\"186\":null,\"187\":null,\"188\":null,\"189\":null,\"190\":null,\"191\":null,\"192\":null,\"193\":null,\"194\":null,\"195\":null,\"196\":null,\"197\":\"no reply\",\"198\":null,\"199\":null,\"200\":null,\"201\":null,\"202\":null,\"203\":\"no reply\",\"204\":null,\"205\":null,\"206\":null,\"207\":null,\"208\":null,\"209\":null,\"210\":null,\"211\":\"responded\",\"212\":null,\"213\":null,\"214\":\"responded\",\"215\":null,\"216\":null,\"217\":null,\"218\":null,\"219\":null,\"220\":\"no reply\",\"221\":null,\"222\":null,\"223\":null,\"224\":null},\"R3: Dummy response status\":{\"0\":null,\"1\":null,\"2\":null,\"3\":null,\"4\":null,\"5\":null,\"6\":\"responded\",\"7\":null,\"8\":null,\"9\":null,\"10\":null,\"11\":null,\"12\":null,\"13\":null,\"14\":null,\"15\":null,\"16\":\"no reply\",\"17\":null,\"18\":null,\"19\":null,\"20\":null,\"21\":null,\"22\":null,\"23\":null,\"24\":null,\"25\":null,\"26\":\"no reply\",\"27\":null,\"28\":null,\"29\":null,\"30\":null,\"31\":\"no reply\",\"32\":null,\"33\":null,\"34\":\"no reply\",\"35\":\"no reply\",\"36\":null,\"37\":null,\"38\":null,\"39\":null,\"40\":null,\"41\":null,\"42\":null,\"43\":null,\"44\":null,\"45\":null,\"46\":null,\"47\":null,\"48\":null,\"49\":null,\"50\":null,\"51\":\"responded\",\"52\":\"no reply\",\"53\":\"responded\",\"54\":null,\"55\":null,\"56\":null,\"57\":null,\"58\":\"responded\",\"59\":null,\"60\":null,\"61\":null,\"62\":null,\"63\":null,\"64\":null,\"65\":\"no reply\",\"66\":null,\"67\":null,\"68\":null,\"69\":null,\"70\":null,\"71\":\"responded\",\"72\":null,\"73\":null,\"74\":null,\"75\":\"no reply\",\"76\":null,\"77\":\"no reply\",\"78\":\"no reply\",\"79\":\"no reply\",\"80\":null,\"81\":null,\"82\":null,\"83\":null,\"84\":null,\"85\":null,\"86\":null,\"87\":null,\"88\":null,\"89\":null,\"90\":\"no reply\",\"91\":\"no reply\",\"92\":null,\"93\":null,\"94\":null,\"95\":null,\"96\":null,\"97\":null,\"98\":\"no reply\",\"99\":null,\"100\":null,\"101\":null,\"102\":null,\"103\":null,\"104\":null,\"105\":null,\"106\":null,\"107\":null,\"108\":null,\"109\":null,\"110\":null,\"111\":null,\"112\":null,\"113\":null,\"114\":null,\"115\":\"responded\",\"116\":\"no reply\",\"117\":null,\"118\":null,\"119\":null,\"120\":\"no reply\",\"121\":null,\"122\":null,\"123\":null,\"124\":null,\"125\":null,\"126\":null,\"127\":null,\"128\":\"no reply\",\"129\":null,\"130\":null,\"131\":null,\"132\":null,\"133\":null,\"134\":null,\"135\":\"no reply\",\"136\":null,\"137\":null,\"138\":\"no reply\",\"139\":null,\"140\":null,\"141\":null,\"142\":null,\"143\":null,\"144\":null,\"145\":null,\"146\":\"no reply\",\"147\":null,\"148\":null,\"149\":null,\"150\":null,\"151\":null,\"152\":null,\"153\":null,\"154\":null,\"155\":null,\"156\":null,\"157\":null,\"158\":null,\"159\":null,\"160\":null,\"161\":null,\"162\":\"no reply\",\"163\":null,\"164\":null,\"165\":null,\"166\":\"no reply\",\"167\":null,\"168\":\"responded\",\"169\":null,\"170\":\"no reply\",\"171\":null,\"172\":null,\"173\":null,\"174\":null,\"175\":\"responded\",\"176\":null,\"177\":null,\"178\":null,\"179\":null,\"180\":null,\"181\":\"no reply\",\"182\":null,\"183\":\"no reply\",\"184\":null,\"185\":\"no reply\",\"186\":null,\"187\":null,\"188\":null,\"189\":null,\"190\":null,\"191\":null,\"192\":null,\"193\":null,\"194\":null,\"195\":null,\"196\":null,\"197\":\"no reply\",\"198\":null,\"199\":null,\"200\":null,\"201\":null,\"202\":null,\"203\":\"no reply\",\"204\":null,\"205\":null,\"206\":null,\"207\":null,\"208\":null,\"209\":null,\"210\":null,\"211\":null,\"212\":null,\"213\":null,\"214\":null,\"215\":null,\"216\":null,\"217\":null,\"218\":null,\"219\":null,\"220\":\"no reply\",\"221\":null,\"222\":null,\"223\":null,\"224\":null},\"R3: TLS encryption\":{\"0\":\"yes\",\"1\":\"yes\",\"2\":\"yes\",\"3\":\"yes\",\"4\":\"yes\",\"5\":null,\"6\":\"yes\",\"7\":\"yes\",\"8\":\"yes\",\"9\":\"yes\",\"10\":\"yes\",\"11\":\"yes\",\"12\":\"yes\",\"13\":\"yes\",\"14\":\"yes\",\"15\":\"yes\",\"16\":null,\"17\":\"yes\",\"18\":null,\"19\":null,\"20\":\"yes\",\"21\":\"yes\",\"22\":\"yes\",\"23\":\"yes\",\"24\":null,\"25\":\"yes\",\"26\":null,\"27\":\"yes\",\"28\":\"yes\",\"29\":null,\"30\":\"no\",\"31\":null,\"32\":\"yes\",\"33\":\"yes\",\"34\":null,\"35\":null,\"36\":\"yes\",\"37\":null,\"38\":\"yes\",\"39\":\"yes\",\"40\":\"yes\",\"41\":\"yes\",\"42\":\"yes\",\"43\":\"yes\",\"44\":\"yes\",\"45\":\"yes\",\"46\":\"yes\",\"47\":\"yes\",\"48\":\"yes\",\"49\":null,\"50\":\"yes\",\"51\":\"yes\",\"52\":null,\"53\":\"yes\",\"54\":\"yes\",\"55\":\"yes\",\"56\":null,\"57\":\"yes\",\"58\":\"yes\",\"59\":\"yes\",\"60\":\"yes\",\"61\":\"yes\",\"62\":\"yes\",\"63\":\"yes\",\"64\":null,\"65\":null,\"66\":\"yes\",\"67\":\"yes\",\"68\":\"yes\",\"69\":\"yes\",\"70\":\"yes\",\"71\":\"yes\",\"72\":\"yes\",\"73\":\"yes\",\"74\":\"yes\",\"75\":null,\"76\":\"yes\",\"77\":null,\"78\":null,\"79\":null,\"80\":\"yes\",\"81\":\"yes\",\"82\":null,\"83\":\"yes\",\"84\":\"yes\",\"85\":\"yes\",\"86\":\"no\",\"87\":\"yes\",\"88\":\"yes\",\"89\":null,\"90\":null,\"91\":null,\"92\":\"yes\",\"93\":\"yes\",\"94\":\"yes\",\"95\":\"yes\",\"96\":\"yes\",\"97\":\"yes\",\"98\":null,\"99\":\"yes\",\"100\":\"yes\",\"101\":\"yes\",\"102\":\"yes\",\"103\":\"yes\",\"104\":\"yes\",\"105\":\"yes\",\"106\":\"yes\",\"107\":\"yes\",\"108\":\"yes\",\"109\":\"yes\",\"110\":null,\"111\":\"yes\",\"112\":\"yes\",\"113\":null,\"114\":\"yes\",\"115\":\"yes\",\"116\":null,\"117\":\"yes\",\"118\":\"yes\",\"119\":\"yes\",\"120\":null,\"121\":null,\"122\":\"yes\",\"123\":null,\"124\":\"yes\",\"125\":\"no\",\"126\":\"yes\",\"127\":\"yes\",\"128\":null,\"129\":\"yes\",\"130\":\"yes\",\"131\":\"yes\",\"132\":\"yes\",\"133\":\"yes\",\"134\":\"yes\",\"135\":null,\"136\":\"yes\",\"137\":\"yes\",\"138\":null,\"139\":null,\"140\":\"yes\",\"141\":\"yes\",\"142\":\"yes\",\"143\":null,\"144\":\"yes\",\"145\":\"yes\",\"146\":null,\"147\":\"no\",\"148\":\"yes\",\"149\":\"yes\",\"150\":\"yes\",\"151\":\"yes\",\"152\":\"yes\",\"153\":\"yes\",\"154\":\"yes\",\"155\":\"yes\",\"156\":\"yes\",\"157\":\"yes\",\"158\":\"yes\",\"159\":\"yes\",\"160\":\"yes\",\"161\":\"yes\",\"162\":null,\"163\":\"no\",\"164\":\"yes\",\"165\":\"yes\",\"166\":null,\"167\":\"yes\",\"168\":\"yes\",\"169\":\"yes\",\"170\":null,\"171\":\"yes\",\"172\":\"yes\",\"173\":\"yes\",\"174\":null,\"175\":\"yes\",\"176\":\"yes\",\"177\":\"yes\",\"178\":\"yes\",\"179\":\"yes\",\"180\":\"yes\",\"181\":null,\"182\":\"yes\",\"183\":null,\"184\":\"yes\",\"185\":null,\"186\":\"yes\",\"187\":\"yes\",\"188\":\"yes\",\"189\":\"yes\",\"190\":\"yes\",\"191\":\"yes\",\"192\":\"yes\",\"193\":\"yes\",\"194\":\"yes\",\"195\":\"yes\",\"196\":\"yes\",\"197\":null,\"198\":\"yes\",\"199\":null,\"200\":\"yes\",\"201\":\"yes\",\"202\":\"yes\",\"203\":null,\"204\":\"yes\",\"205\":\"yes\",\"206\":\"yes\",\"207\":\"yes\",\"208\":\"yes\",\"209\":\"yes\",\"210\":\"yes\",\"211\":null,\"212\":\"yes\",\"213\":\"yes\",\"214\":null,\"215\":\"yes\",\"216\":\"yes\",\"217\":\"yes\",\"218\":\"yes\",\"219\":\"yes\",\"220\":null,\"221\":\"yes\",\"222\":\"yes\",\"223\":\"yes\",\"224\":\"yes\"}}'"
      ]
     },
     "execution_count": 5,
     "metadata": {},
     "output_type": "execute_result"
    }
   ],
   "source": [
    "a"
   ]
  },
  {
   "cell_type": "code",
   "execution_count": null,
   "metadata": {},
   "outputs": [],
   "source": [
    "import redu"
   ]
  },
  {
   "cell_type": "code",
   "execution_count": null,
   "metadata": {},
   "outputs": [],
   "source": [
    "redu.repository(\"11303/11457\").datasets().get(\"app vendor SAR data.csv\").describe()"
   ]
  },
  {
   "cell_type": "code",
   "execution_count": null,
   "metadata": {
    "tags": []
   },
   "outputs": [],
   "source": [
    "redu.repository(\"11303/10989.2\").datasets().get(\"Xb.csv\").preview(tail=True)"
   ]
  },
  {
   "cell_type": "code",
   "execution_count": null,
   "metadata": {},
   "outputs": [],
   "source": [
    "redu.repository(\"11303/10989.2\").datasets().get(\"Xb.csv\").preview(random=True)"
   ]
  },
  {
   "cell_type": "code",
   "execution_count": null,
   "metadata": {},
   "outputs": [],
   "source": [
    "redu.repository(\"11303/11457\").download(\"./data/\")"
   ]
  },
  {
   "cell_type": "code",
   "execution_count": null,
   "metadata": {},
   "outputs": [],
   "source": []
  },
  {
   "cell_type": "code",
   "execution_count": null,
   "metadata": {},
   "outputs": [],
   "source": []
  },
  {
   "cell_type": "code",
   "execution_count": null,
   "metadata": {},
   "outputs": [],
   "source": []
  }
 ],
 "metadata": {
  "kernelspec": {
   "display_name": "Python 3",
   "language": "python",
   "name": "python3"
  },
  "language_info": {
   "codemirror_mode": {
    "name": "ipython",
    "version": 3
   },
   "file_extension": ".py",
   "mimetype": "text/x-python",
   "name": "python",
   "nbconvert_exporter": "python",
   "pygments_lexer": "ipython3",
   "version": "3.6.9"
  }
 },
 "nbformat": 4,
 "nbformat_minor": 2
}
