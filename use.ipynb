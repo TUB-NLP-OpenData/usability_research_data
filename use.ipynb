{
 "cells": [
  {
   "cell_type": "code",
   "execution_count": null,
   "metadata": {
    "tags": []
   },
   "outputs": [],
   "source": [
    "import bop\n",
    "bop.search(\"Medizin\", translate_to=\"EN\")"
   ]
  },
  {
   "cell_type": "code",
   "execution_count": null,
   "metadata": {},
   "outputs": [],
   "source": [
    "import bop "
   ]
  },
  {
   "cell_type": "code",
   "execution_count": null,
   "metadata": {},
   "outputs": [],
   "source": [
    "bop.repository(\"11303/10989.2\").datasets()[0].preview()"
   ]
  },
  {
   "cell_type": "code",
   "execution_count": null,
   "metadata": {},
   "outputs": [],
   "source": [
    "bop.repository(\"11303/10989.2\")"
   ]
  },
  {
   "cell_type": "code",
   "execution_count": null,
   "metadata": {
    "tags": []
   },
   "outputs": [],
   "source": [
    "import bop\n",
    "bop.repository(\"11303/10989.2\").datasets()[0].describe()"
   ]
  },
  {
   "cell_type": "code",
   "execution_count": null,
   "metadata": {},
   "outputs": [],
   "source": []
  },
  {
   "cell_type": "code",
   "execution_count": null,
   "metadata": {},
   "outputs": [],
   "source": []
  },
  {
   "cell_type": "code",
   "execution_count": null,
   "metadata": {},
   "outputs": [],
   "source": []
  },
  {
   "cell_type": "code",
   "execution_count": null,
   "metadata": {},
   "outputs": [],
   "source": []
  },
  {
   "cell_type": "code",
   "execution_count": 3,
   "metadata": {},
   "outputs": [
    {
     "data": {
      "text/html": [
       "<div>\n",
       "<style scoped>\n",
       "    .dataframe tbody tr th:only-of-type {\n",
       "        vertical-align: middle;\n",
       "    }\n",
       "\n",
       "    .dataframe tbody tr th {\n",
       "        vertical-align: top;\n",
       "    }\n",
       "\n",
       "    .dataframe thead th {\n",
       "        text-align: right;\n",
       "    }\n",
       "</style>\n",
       "<table border=\"1\" class=\"dataframe\">\n",
       "  <thead>\n",
       "    <tr style=\"text-align: right;\">\n",
       "      <th></th>\n",
       "      <th>id</th>\n",
       "      <th>server</th>\n",
       "      <th>language</th>\n",
       "      <th>title</th>\n",
       "      <th>author</th>\n",
       "      <th>year</th>\n",
       "      <th>files</th>\n",
       "    </tr>\n",
       "  </thead>\n",
       "  <tbody>\n",
       "    <tr>\n",
       "      <th>0</th>\n",
       "      <td>11303/10989.2</td>\n",
       "      <td>depositonce.tu-berlin.de</td>\n",
       "      <td>en</td>\n",
       "      <td>Temperature and Humidity Measurements in Allot...</td>\n",
       "      <td>Rost, Annemarie Tabea</td>\n",
       "      <td>2020</td>\n",
       "      <td>81 CSVs, 1 TXTs,</td>\n",
       "    </tr>\n",
       "    <tr>\n",
       "      <th>1</th>\n",
       "      <td>11303/10065</td>\n",
       "      <td>depositonce.tu-berlin.de</td>\n",
       "      <td>en</td>\n",
       "      <td>Innovations in modified atmosphere and humidit...</td>\n",
       "      <td>Grossi Bovi Karatay, Graziele</td>\n",
       "      <td>2019</td>\n",
       "      <td>1 PDFs,</td>\n",
       "    </tr>\n",
       "    <tr>\n",
       "      <th>4</th>\n",
       "      <td>11303/6035</td>\n",
       "      <td>depositonce.tu-berlin.de</td>\n",
       "      <td>en</td>\n",
       "      <td>Cooling techniques for building-greenhouse int...</td>\n",
       "      <td>ElSoudani, Moamen</td>\n",
       "      <td>2016</td>\n",
       "      <td>1 PDFs,</td>\n",
       "    </tr>\n",
       "    <tr>\n",
       "      <th>2</th>\n",
       "      <td>11303/692</td>\n",
       "      <td>depositonce.tu-berlin.de</td>\n",
       "      <td>en</td>\n",
       "      <td>Environmental Knowledge and Resource Managemen...</td>\n",
       "      <td>Werner, Silvia</td>\n",
       "      <td>2001</td>\n",
       "      <td>1 PDFs,</td>\n",
       "    </tr>\n",
       "    <tr>\n",
       "      <th>3</th>\n",
       "      <td>11303/550</td>\n",
       "      <td>depositonce.tu-berlin.de</td>\n",
       "      <td>en</td>\n",
       "      <td>Traditional agroforestry and ecological, socia...</td>\n",
       "      <td>Stubenvoll, Stefan</td>\n",
       "      <td>2001</td>\n",
       "      <td>1 PDFs,</td>\n",
       "    </tr>\n",
       "  </tbody>\n",
       "</table>\n",
       "</div>"
      ],
      "text/plain": [
       "              id                    server language  \\\n",
       "0  11303/10989.2  depositonce.tu-berlin.de       en   \n",
       "1    11303/10065  depositonce.tu-berlin.de       en   \n",
       "4     11303/6035  depositonce.tu-berlin.de       en   \n",
       "2      11303/692  depositonce.tu-berlin.de       en   \n",
       "3      11303/550  depositonce.tu-berlin.de       en   \n",
       "\n",
       "                                               title  \\\n",
       "0  Temperature and Humidity Measurements in Allot...   \n",
       "1  Innovations in modified atmosphere and humidit...   \n",
       "4  Cooling techniques for building-greenhouse int...   \n",
       "2  Environmental Knowledge and Resource Managemen...   \n",
       "3  Traditional agroforestry and ecological, socia...   \n",
       "\n",
       "                          author  year              files  \n",
       "0          Rost, Annemarie Tabea  2020  81 CSVs, 1 TXTs,   \n",
       "1  Grossi Bovi Karatay, Graziele  2019           1 PDFs,   \n",
       "4              ElSoudani, Moamen  2016           1 PDFs,   \n",
       "2                 Werner, Silvia  2001           1 PDFs,   \n",
       "3             Stubenvoll, Stefan  2001           1 PDFs,   "
      ]
     },
     "execution_count": 3,
     "metadata": {},
     "output_type": "execute_result"
    }
   ],
   "source": [
    "import bop\n",
    "bop.search(\"Temperature  and  Humidity  in  Gardens\")"
   ]
  },
  {
   "cell_type": "code",
   "execution_count": 2,
   "metadata": {},
   "outputs": [
    {
     "data": {
      "text/html": [
       "<div>\n",
       "<style scoped>\n",
       "    .dataframe tbody tr th:only-of-type {\n",
       "        vertical-align: middle;\n",
       "    }\n",
       "\n",
       "    .dataframe tbody tr th {\n",
       "        vertical-align: top;\n",
       "    }\n",
       "\n",
       "    .dataframe thead th {\n",
       "        text-align: right;\n",
       "    }\n",
       "</style>\n",
       "<table border=\"1\" class=\"dataframe\">\n",
       "  <thead>\n",
       "    <tr style=\"text-align: right;\">\n",
       "      <th></th>\n",
       "      <th>id</th>\n",
       "      <th>server</th>\n",
       "      <th>language</th>\n",
       "      <th>title</th>\n",
       "      <th>author</th>\n",
       "      <th>year</th>\n",
       "      <th>files</th>\n",
       "    </tr>\n",
       "  </thead>\n",
       "  <tbody>\n",
       "    <tr>\n",
       "      <th>1</th>\n",
       "      <td>fub188/25741</td>\n",
       "      <td>refubium.fu-berlin.de</td>\n",
       "      <td>ger</td>\n",
       "      <td>Non-invasive detection methods of steroids and...</td>\n",
       "      <td>Ludwig, Carsten Mario</td>\n",
       "      <td>2019</td>\n",
       "      <td>1 PDFs,</td>\n",
       "    </tr>\n",
       "    <tr>\n",
       "      <th>4</th>\n",
       "      <td>fub188/23994</td>\n",
       "      <td>refubium.fu-berlin.de</td>\n",
       "      <td>eng</td>\n",
       "      <td>Philodendron Schott (Araceae): Systematics and...</td>\n",
       "      <td>Canal Gallego, Dubán</td>\n",
       "      <td>2019</td>\n",
       "      <td>1 PDFs,</td>\n",
       "    </tr>\n",
       "    <tr>\n",
       "      <th>2</th>\n",
       "      <td>fub188/25925</td>\n",
       "      <td>refubium.fu-berlin.de</td>\n",
       "      <td>eng</td>\n",
       "      <td>Early stage litter decomposition across biomes</td>\n",
       "      <td>Djukic, Ika</td>\n",
       "      <td>2018</td>\n",
       "      <td>1 PDFs,</td>\n",
       "    </tr>\n",
       "    <tr>\n",
       "      <th>0</th>\n",
       "      <td>fub188/20296</td>\n",
       "      <td>refubium.fu-berlin.de</td>\n",
       "      <td>eng</td>\n",
       "      <td>Plant response to butterfly eggs</td>\n",
       "      <td>Griese, Eddie</td>\n",
       "      <td>2017</td>\n",
       "      <td>1 PDFs,</td>\n",
       "    </tr>\n",
       "    <tr>\n",
       "      <th>3</th>\n",
       "      <td>fub188/7539</td>\n",
       "      <td>refubium.fu-berlin.de</td>\n",
       "      <td>eng</td>\n",
       "      <td>Gas Source Localization and Gas Distribution M...</td>\n",
       "      <td>Neumann, Patrick P.</td>\n",
       "      <td>2013</td>\n",
       "      <td>1 PDFs,</td>\n",
       "    </tr>\n",
       "  </tbody>\n",
       "</table>\n",
       "</div>"
      ],
      "text/plain": [
       "             id                 server language  \\\n",
       "1  fub188/25741  refubium.fu-berlin.de      ger   \n",
       "4  fub188/23994  refubium.fu-berlin.de      eng   \n",
       "2  fub188/25925  refubium.fu-berlin.de      eng   \n",
       "0  fub188/20296  refubium.fu-berlin.de      eng   \n",
       "3   fub188/7539  refubium.fu-berlin.de      eng   \n",
       "\n",
       "                                               title                 author  \\\n",
       "1  Non-invasive detection methods of steroids and...  Ludwig, Carsten Mario   \n",
       "4  Philodendron Schott (Araceae): Systematics and...   Canal Gallego, Dubán   \n",
       "2     Early stage litter decomposition across biomes            Djukic, Ika   \n",
       "0                   Plant response to butterfly eggs          Griese, Eddie   \n",
       "3  Gas Source Localization and Gas Distribution M...    Neumann, Patrick P.   \n",
       "\n",
       "   year     files  \n",
       "1  2019  1 PDFs,   \n",
       "4  2019  1 PDFs,   \n",
       "2  2018  1 PDFs,   \n",
       "0  2017  1 PDFs,   \n",
       "3  2013  1 PDFs,   "
      ]
     },
     "execution_count": 2,
     "metadata": {},
     "output_type": "execute_result"
    }
   ],
   "source": [
    "import bop_refubium\n",
    "bop_refubium.search(\"Temperature  and  Humidity  in  Gardens\")"
   ]
  },
  {
   "cell_type": "code",
   "execution_count": null,
   "metadata": {},
   "outputs": [],
   "source": [
    "import pandas as pd\n",
    "import bop\n",
    "bop.search(\"climate change\")[\"author\"].value_counts()"
   ]
  },
  {
   "cell_type": "code",
   "execution_count": null,
   "metadata": {},
   "outputs": [],
   "source": [
    "import bop\n",
    "authors=[]\n",
    "for author in bop.search(\"climate change\"):\n",
    "    authors.append(author)\n",
    "    \n"
   ]
  },
  {
   "cell_type": "code",
   "execution_count": null,
   "metadata": {},
   "outputs": [],
   "source": []
  },
  {
   "cell_type": "code",
   "execution_count": null,
   "metadata": {},
   "outputs": [],
   "source": []
  },
  {
   "cell_type": "code",
   "execution_count": null,
   "metadata": {},
   "outputs": [],
   "source": []
  },
  {
   "cell_type": "code",
   "execution_count": null,
   "metadata": {},
   "outputs": [],
   "source": []
  },
  {
   "cell_type": "code",
   "execution_count": null,
   "metadata": {},
   "outputs": [],
   "source": []
  },
  {
   "cell_type": "code",
   "execution_count": null,
   "metadata": {},
   "outputs": [],
   "source": []
  },
  {
   "cell_type": "code",
   "execution_count": null,
   "metadata": {},
   "outputs": [],
   "source": []
  },
  {
   "cell_type": "code",
   "execution_count": null,
   "metadata": {},
   "outputs": [],
   "source": []
  },
  {
   "cell_type": "code",
   "execution_count": null,
   "metadata": {},
   "outputs": [],
   "source": []
  },
  {
   "cell_type": "code",
   "execution_count": null,
   "metadata": {},
   "outputs": [],
   "source": []
  },
  {
   "cell_type": "code",
   "execution_count": null,
   "metadata": {},
   "outputs": [],
   "source": []
  },
  {
   "cell_type": "code",
   "execution_count": null,
   "metadata": {},
   "outputs": [],
   "source": []
  },
  {
   "cell_type": "code",
   "execution_count": null,
   "metadata": {
    "tags": []
   },
   "outputs": [],
   "source": []
  },
  {
   "cell_type": "code",
   "execution_count": null,
   "metadata": {},
   "outputs": [],
   "source": []
  },
  {
   "cell_type": "code",
   "execution_count": null,
   "metadata": {},
   "outputs": [],
   "source": []
  },
  {
   "cell_type": "code",
   "execution_count": null,
   "metadata": {},
   "outputs": [],
   "source": []
  },
  {
   "cell_type": "code",
   "execution_count": null,
   "metadata": {},
   "outputs": [],
   "source": []
  },
  {
   "cell_type": "code",
   "execution_count": null,
   "metadata": {},
   "outputs": [],
   "source": []
  }
 ],
 "metadata": {
  "kernelspec": {
   "display_name": "Python 3",
   "language": "python",
   "name": "python3"
  },
  "language_info": {
   "codemirror_mode": {
    "name": "ipython",
    "version": 3
   },
   "file_extension": ".py",
   "mimetype": "text/x-python",
   "name": "python",
   "nbconvert_exporter": "python",
   "pygments_lexer": "ipython3",
   "version": "3.6.9"
  }
 },
 "nbformat": 4,
 "nbformat_minor": 2
}
