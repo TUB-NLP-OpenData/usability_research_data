{
 "cells": [
  {
   "cell_type": "code",
   "execution_count": null,
   "metadata": {
    "tags": []
   },
   "outputs": [],
   "source": [
    "import bop\n",
    "bop.search(\"Medizin\", translate_to=\"EN\")"
   ]
  },
  {
   "cell_type": "code",
   "execution_count": null,
   "metadata": {},
   "outputs": [],
   "source": [
    "import bop"
   ]
  },
  {
   "cell_type": "code",
   "execution_count": null,
   "metadata": {},
   "outputs": [],
   "source": [
    "bop.repository(\"11303/10989.2\").datasets()[0].preview()"
   ]
  },
  {
   "cell_type": "code",
   "execution_count": null,
   "metadata": {},
   "outputs": [],
   "source": [
    "bop.repository(\"11303/10989.2\")"
   ]
  },
  {
   "cell_type": "code",
   "execution_count": null,
   "metadata": {
    "tags": []
   },
   "outputs": [],
   "source": [
    "import bop\n",
    "bop.repository(\"11303/10989.2\").datasets()[0].describe()"
   ]
  },
  {
   "cell_type": "code",
   "execution_count": null,
   "metadata": {},
   "outputs": [],
   "source": [
    "import redu\n",
    "redu.search(\"Temperature  and  Humidity  in  Gardens\")"
   ]
  },
  {
   "cell_type": "code",
   "execution_count": 2,
   "metadata": {},
   "outputs": [
    {
     "name": "stdout",
     "output_type": "stream",
     "text": [
      "Datas Successfully Saved!\n",
      "Datas Successfully Saved!\n",
      "Datas Successfully Saved!\n",
      "Datas Successfully Saved!\n",
      "Datas Successfully Saved!\n",
      "Datas Successfully Saved!\n",
      "Datas Successfully Saved!\n",
      "Datas Successfully Saved!\n",
      "Datas Successfully Saved!\n",
      "Datas Successfully Saved!\n",
      "Datas Successfully Saved!\n",
      "Datas Successfully Saved!\n",
      "Datas Successfully Saved!\n",
      "Datas Successfully Saved!\n",
      "Datas Successfully Saved!\n",
      "Datas Successfully Saved!\n",
      "Datas Successfully Saved!\n",
      "Datas Successfully Saved!\n",
      "Datas Successfully Saved!\n",
      "Datas Successfully Saved!\n",
      "Datas Successfully Saved!\n",
      "Datas Successfully Saved!\n",
      "Datas Successfully Saved!\n",
      "Datas Successfully Saved!\n",
      "Datas Successfully Saved!\n",
      "Datas Successfully Saved!\n",
      "Datas Successfully Saved!\n",
      "Datas Successfully Saved!\n",
      "Datas Successfully Saved!\n",
      "Datas Successfully Saved!\n",
      "Datas Successfully Saved!\n",
      "Datas Successfully Saved!\n",
      "Datas Successfully Saved!\n",
      "Datas Successfully Saved!\n",
      "Datas Successfully Saved!\n",
      "Datas Successfully Saved!\n",
      "Datas Successfully Saved!\n",
      "Datas Successfully Saved!\n",
      "Datas Successfully Saved!\n",
      "Datas Successfully Saved!\n",
      "Datas Successfully Saved!\n",
      "Datas Successfully Saved!\n",
      "Datas Successfully Saved!\n",
      "Datas Successfully Saved!\n",
      "Datas Successfully Saved!\n",
      "Datas Successfully Saved!\n",
      "Datas Successfully Saved!\n",
      "Datas Successfully Saved!\n",
      "Datas Successfully Saved!\n",
      "Datas Successfully Saved!\n",
      "Datas Successfully Saved!\n",
      "Datas Successfully Saved!\n",
      "Datas Successfully Saved!\n",
      "Datas Successfully Saved!\n",
      "Datas Successfully Saved!\n",
      "Datas Successfully Saved!\n",
      "Datas Successfully Saved!\n",
      "Datas Successfully Saved!\n",
      "Datas Successfully Saved!\n",
      "Datas Successfully Saved!\n",
      "Datas Successfully Saved!\n",
      "Datas Successfully Saved!\n",
      "Datas Successfully Saved!\n",
      "Datas Successfully Saved!\n",
      "Datas Successfully Saved!\n",
      "Datas Successfully Saved!\n",
      "Datas Successfully Saved!\n",
      "Datas Successfully Saved!\n",
      "Datas Successfully Saved!\n",
      "Datas Successfully Saved!\n",
      "Datas Successfully Saved!\n",
      "Datas Successfully Saved!\n",
      "Datas Successfully Saved!\n",
      "Datas Successfully Saved!\n",
      "Datas Successfully Saved!\n"
     ]
    },
    {
     "name": "stderr",
     "output_type": "stream",
     "text": [
      "b'Skipping line 4: expected 1 fields, saw 2\\nSkipping line 5: expected 1 fields, saw 3\\nSkipping line 13: expected 1 fields, saw 2\\nSkipping line 14: expected 1 fields, saw 2\\nSkipping line 15: expected 1 fields, saw 2\\nSkipping line 22: expected 1 fields, saw 2\\nSkipping line 23: expected 1 fields, saw 7\\n'\n"
     ]
    },
    {
     "name": "stdout",
     "output_type": "stream",
     "text": [
      "Datas Successfully Saved!\n",
      "Datas Successfully Saved!\n",
      "Datas Successfully Saved!\n",
      "Datas Successfully Saved!\n",
      "Datas Successfully Saved!\n",
      "Datas Successfully Saved!\n",
      "Datas Successfully Saved!\n"
     ]
    }
   ],
   "source": [
    "import bopi\n",
    "bopi.repository(\"11303/10989.2\").download(\"./download\")"
   ]
  },
  {
   "cell_type": "code",
   "execution_count": null,
   "metadata": {},
   "outputs": [],
   "source": []
  },
  {
   "cell_type": "code",
   "execution_count": null,
   "metadata": {},
   "outputs": [],
   "source": [
    "import bop\n",
    "bop.search(\"Temperature  and  Humidity  in  Gardens\")"
   ]
  },
  {
   "cell_type": "code",
   "execution_count": null,
   "metadata": {},
   "outputs": [],
   "source": [
    "import bop\n",
    "bop.search(\"Temperature  and  Humidity  in  Gardens\",repo=\"Refubium\")"
   ]
  },
  {
   "cell_type": "code",
   "execution_count": null,
   "metadata": {},
   "outputs": [],
   "source": [
    "import bop_refubium\n",
    "bop_refubium.search(\"Temperature  and  Humidity  in  Gardens\")"
   ]
  },
  {
   "cell_type": "code",
   "execution_count": null,
   "metadata": {},
   "outputs": [],
   "source": [
    "import pandas as pd\n",
    "import bop\n",
    "bop.search(\"climate change\")[\"author\"].value_counts()"
   ]
  },
  {
   "cell_type": "code",
   "execution_count": null,
   "metadata": {},
   "outputs": [],
   "source": [
    "import bop\n",
    "authors=[]\n",
    "for author in bop.search(\"climate change\"):\n",
    "    authors.append(author)\n",
    "    \n"
   ]
  },
  {
   "cell_type": "code",
   "execution_count": null,
   "metadata": {},
   "outputs": [],
   "source": []
  },
  {
   "cell_type": "code",
   "execution_count": null,
   "metadata": {},
   "outputs": [],
   "source": []
  },
  {
   "cell_type": "code",
   "execution_count": null,
   "metadata": {},
   "outputs": [],
   "source": []
  },
  {
   "cell_type": "code",
   "execution_count": null,
   "metadata": {},
   "outputs": [],
   "source": []
  },
  {
   "cell_type": "code",
   "execution_count": null,
   "metadata": {},
   "outputs": [],
   "source": []
  },
  {
   "cell_type": "code",
   "execution_count": null,
   "metadata": {},
   "outputs": [],
   "source": []
  },
  {
   "cell_type": "code",
   "execution_count": null,
   "metadata": {},
   "outputs": [],
   "source": []
  },
  {
   "cell_type": "code",
   "execution_count": null,
   "metadata": {},
   "outputs": [],
   "source": []
  },
  {
   "cell_type": "code",
   "execution_count": null,
   "metadata": {},
   "outputs": [],
   "source": []
  },
  {
   "cell_type": "code",
   "execution_count": null,
   "metadata": {},
   "outputs": [],
   "source": []
  },
  {
   "cell_type": "code",
   "execution_count": null,
   "metadata": {},
   "outputs": [],
   "source": []
  },
  {
   "cell_type": "code",
   "execution_count": null,
   "metadata": {},
   "outputs": [],
   "source": []
  },
  {
   "cell_type": "code",
   "execution_count": null,
   "metadata": {
    "tags": []
   },
   "outputs": [],
   "source": []
  },
  {
   "cell_type": "code",
   "execution_count": null,
   "metadata": {},
   "outputs": [],
   "source": []
  },
  {
   "cell_type": "code",
   "execution_count": null,
   "metadata": {},
   "outputs": [],
   "source": []
  },
  {
   "cell_type": "code",
   "execution_count": null,
   "metadata": {},
   "outputs": [],
   "source": []
  },
  {
   "cell_type": "code",
   "execution_count": null,
   "metadata": {},
   "outputs": [],
   "source": []
  },
  {
   "cell_type": "code",
   "execution_count": null,
   "metadata": {},
   "outputs": [],
   "source": []
  }
 ],
 "metadata": {
  "kernelspec": {
   "display_name": "Python 3",
   "language": "python",
   "name": "python3"
  },
  "language_info": {
   "codemirror_mode": {
    "name": "ipython",
    "version": 3
   },
   "file_extension": ".py",
   "mimetype": "text/x-python",
   "name": "python",
   "nbconvert_exporter": "python",
   "pygments_lexer": "ipython3",
   "version": "3.7.5"
  }
 },
 "nbformat": 4,
 "nbformat_minor": 2
}
